{
  "nbformat": 4,
  "nbformat_minor": 0,
  "metadata": {
    "colab": {
      "name": "final_code.ipynb의 사본",
      "provenance": [],
      "collapsed_sections": [
        "fsccHjvFqPds",
        "5PF81hiaqXMi",
        "J5Mcm6RJr9uo",
        "t8jhJ6xYtars",
        "QAvBf0wsuoiZ",
        "ma9labF-vPaI",
        "LDssM0UOvo45",
        "K2huy5EjwRGY",
        "HoKw0jfW45a0",
        "zaWA3CNp7S-Q",
        "5YEPo0VV-Ocn",
        "7WPUDJk1-s7a",
        "GePVxTODBHmz",
        "eHLBLBp0nWZG",
        "fWCWXEWjW312",
        "Kskg8cuCXLii",
        "JFL5NZ_pUNwv",
        "SyWKPoQ5Kan5",
        "xoZSK6BK8a2e",
        "eE8ymcyKN3XA",
        "7EzG7ArHUeOn",
        "GHqz343xhr4j",
        "KIE3rz1ZU8Zg",
        "DouhGyQ-R-_S",
        "vqu7scIckdI7",
        "FrMso1f1Wgp0",
        "oEyF7OdFSp9G",
        "SpK-qQkdSs2A",
        "RlGY05F_nbRA",
        "IVVh8FWvnoVi",
        "wocTlEJjZ9PK",
        "0y5q5hkSuDsG",
        "I4PpFUOMuEDX",
        "i6TLxTd3wYGO",
        "WuHQhtuRaaAR",
        "hVCY4jG_yA_-",
        "e8YuJsXIzJfs",
        "j_3QwHgCazqI",
        "fpCWBkcJcGBl",
        "3XZyWZIEceXA",
        "arIbwPEtc0bo",
        "2wse3uL8jDr4",
        "hFMqKr2FL7eU",
        "HsBYVim1jOfs",
        "0m6GMoIhjhSc",
        "p1te1AQdjqU_",
        "aEGGE5gDjxtu",
        "0SQv-3ZBkCUC",
        "8H21J55rkNfq",
        "NhbAn2vMkcfL",
        "ySvsWJx0kj0y",
        "jdbbzyOblImk",
        "yXDGJaRFH9Cf",
        "VamlGoY2H9Cg",
        "WeQhJ7Z3H9Cg",
        "vFTcMBCuH9Ch",
        "OGPj6E7bH9Ch",
        "OeqrzyKzH9Ci",
        "L70CSw1FH9Ci",
        "WPqOqLytH9Cj",
        "AMnjXEOKH9Cj",
        "G9L7wOQJH9Cm",
        "neLyuC2QLjFb"
      ],
      "include_colab_link": true
    },
    "kernelspec": {
      "name": "python3",
      "display_name": "Python 3"
    },
    "language_info": {
      "name": "python"
    }
  },
  "cells": [
    {
      "cell_type": "markdown",
      "metadata": {
        "id": "view-in-github",
        "colab_type": "text"
      },
      "source": [
        "<a href=\"https://colab.research.google.com/github/jiho-kang/NLP_RecSys_Project/blob/main/final_code.ipynb\" target=\"_parent\"><img src=\"https://colab.research.google.com/assets/colab-badge.svg\" alt=\"Open In Colab\"/></a>"
      ]
    },
    {
      "cell_type": "markdown",
      "source": [
        "# 환경 설치"
      ],
      "metadata": {
        "id": "CDjlrNJWBCvw"
      }
    },
    {
      "cell_type": "code",
      "source": [
        "from google.colab import drive\n",
        "import pandas as pd\n",
        "import matplotlib.pyplot as plt\n",
        "import time\n",
        "import numpy as np\n",
        "import re\n",
        "import pickle\n",
        "from sklearn.preprocessing import MinMaxScaler\n",
        "\n",
        "drive.mount('/content/drive')"
      ],
      "metadata": {
        "colab": {
          "base_uri": "https://localhost:8080/"
        },
        "id": "CxnmbBuUBzhn",
        "outputId": "195dd291-78e9-471d-b9cb-2e3d7d41edcd"
      },
      "execution_count": null,
      "outputs": [
        {
          "output_type": "stream",
          "name": "stdout",
          "text": [
            "Mounted at /content/drive\n"
          ]
        }
      ]
    },
    {
      "cell_type": "code",
      "source": [
        "# policy\n",
        "policy = pd.read_excel('/content/drive/MyDrive/웰로/data/policy_metetable(AIB전달용).xlsx')\n",
        "policy = policy.where(pd.notnull(policy), None) # Nan to None\n",
        "\n",
        "# admin\n",
        "admin = pd.read_csv('/content/drive/MyDrive/웰로/data/wello_admin_답지.csv', error_bad_lines=False)\n",
        "admin = admin.where(pd.notnull(admin), None) # Nan to None\n",
        "\n",
        "# user\n",
        "user = pd.read_excel('/content/drive/MyDrive/웰로/data/유저데이터 샘플리스트 셔플(AIB전달용).xlsx')\n",
        "user = user.where(pd.notnull(user), None) # Nan to None"
      ],
      "metadata": {
        "colab": {
          "base_uri": "https://localhost:8080/"
        },
        "id": "oXqMaE44CFIG",
        "outputId": "ab8bb7f7-0c15-484f-ffc4-d66af926d3c7"
      },
      "execution_count": null,
      "outputs": [
        {
          "output_type": "stream",
          "name": "stderr",
          "text": [
            "b'Skipping line 2439: expected 24 fields, saw 25\\n'\n"
          ]
        }
      ]
    },
    {
      "cell_type": "code",
      "source": [
        "policy.columns"
      ],
      "metadata": {
        "colab": {
          "base_uri": "https://localhost:8080/"
        },
        "id": "3ChPop1PCJA7",
        "outputId": "1c73bdbf-5da7-4995-a049-a15d75c01bde"
      },
      "execution_count": null,
      "outputs": [
        {
          "output_type": "execute_result",
          "data": {
            "text/plain": [
              "Index(['정책ID', '정책서비스ID', '서비스명', '소관기관', '소관기관유형', '소관기관.1', '문의처전화번호',\n",
              "       '소관기관유형.1', '온라인신청사이트URL', '생애주기', '신청절차', '선정기준', '지원유형', '서비스목적',\n",
              "       '지원내용', '지원대상', '신청기한_시작', '신청기한_끝', '상세조회URL', '태그-신청절차', '태그-자녀',\n",
              "       '태그-수집유형', '태그-가구원', '태그-성별', '태그-학력', '태그-직장', '태그-결혼', '태그-지원유형',\n",
              "       '태그-지역(시도)', '태그-관심상황특성', '태그-자녀상세', '태그-직장상세', '태그-지원유형상세',\n",
              "       '태그-지역(시군구)', '태그-대상특성상세', '태그-대상특성', '태그-대상연령시작', '태그-대상연령끝',\n",
              "       '태그-중위소득시작', '태그-중위소득끝'],\n",
              "      dtype='object')"
            ]
          },
          "metadata": {},
          "execution_count": 3
        }
      ]
    },
    {
      "cell_type": "code",
      "source": [
        "admin.columns"
      ],
      "metadata": {
        "colab": {
          "base_uri": "https://localhost:8080/"
        },
        "id": "AdI3x1a5CKpd",
        "outputId": "f4118712-d84d-40fd-ce67-c062b8d6cf61"
      },
      "execution_count": null,
      "outputs": [
        {
          "output_type": "execute_result",
          "data": {
            "text/plain": [
              "Index(['정책ID', '정책서비스ID', '서비스명', '신청절차', '자녀', '수집유형', '가구원', '성별', '학력',\n",
              "       '직장', '결혼', '지원유형', '지역(시도)', '관심상황특성', '자녀상세', '직장상세', '지원유형상세',\n",
              "       '지역(시군구)', '대상특성상세', '대상특성', '대상연령시작', '대상연령끝', '중위소득기준-시작',\n",
              "       '중위소득기준-종료'],\n",
              "      dtype='object')"
            ]
          },
          "metadata": {},
          "execution_count": 4
        }
      ]
    },
    {
      "cell_type": "code",
      "source": [
        "정책ID, 정책서비스ID, 서비스명, 소관기관, 소관기관유형, 소관기관.1, 문의처전화번호,\n",
        "       소관기관유형.1, 온라인신청사이트URL, 생애주기, 신청절차, 선정기준, 지원유형, 서비스목적,\n",
        "       지원내용, 지원대상, 신청기한_시작, 신청기한_끝, 상세조회URL"
      ],
      "metadata": {
        "id": "sDNVzixr35Ur"
      },
      "execution_count": null,
      "outputs": []
    },
    {
      "cell_type": "markdown",
      "source": [
        "# 태깅 모델"
      ],
      "metadata": {
        "id": "XErBowJ28rE6"
      }
    },
    {
      "cell_type": "markdown",
      "source": [
        "## user 태깅"
      ],
      "metadata": {
        "id": "2Vv0Og3t8txU"
      }
    },
    {
      "cell_type": "markdown",
      "source": [
        "### feature에서 unique한 카테고리와 빈도 가져오는 함수"
      ],
      "metadata": {
        "id": "o08fIE1HixAM"
      }
    },
    {
      "cell_type": "code",
      "source": [
        "def get_category(df, columns):\n",
        "  data = df[columns]\n",
        "  category = {}\n",
        "  multi = False\n",
        "  for word in data:\n",
        "    lst = []\n",
        "    if word == None:\n",
        "      word = 'None'\n",
        "    \n",
        "    if ',' in word:\n",
        "      lst = [x.strip() for x in word.split(',')]\n",
        "    else:\n",
        "      lst.append(word)\n",
        "    for i in lst:\n",
        "      if i in category:\n",
        "        category[i] += 1\n",
        "      else:\n",
        "        category[i] = 1\n",
        "    if ',' in word:\n",
        "      multi = True\n",
        "\n",
        "  category = list(sorted(category.items(), key=lambda item: item[1], reverse=True))\n",
        "  if multi == True:\n",
        "    category.append('중복 있음')\n",
        "  else:\n",
        "    category.append('중복 없음')\n",
        "  return category"
      ],
      "metadata": {
        "id": "Hj02vklZiv36"
      },
      "execution_count": null,
      "outputs": []
    },
    {
      "cell_type": "markdown",
      "source": [
        "### mb_sex => 성별"
      ],
      "metadata": {
        "id": "dDoBnJsjrZdZ"
      }
    },
    {
      "cell_type": "code",
      "source": [
        "user.mb_sex.value_counts()"
      ],
      "metadata": {
        "colab": {
          "base_uri": "https://localhost:8080/"
        },
        "id": "dhtHfocpra9P",
        "outputId": "fca6a1ad-2031-4d2f-ad9b-2c7193137db0"
      },
      "execution_count": null,
      "outputs": [
        {
          "output_type": "execute_result",
          "data": {
            "text/plain": [
              "M    12465\n",
              "F     7545\n",
              "Name: mb_sex, dtype: int64"
            ]
          },
          "metadata": {},
          "execution_count": 8
        }
      ]
    },
    {
      "cell_type": "code",
      "source": [
        "def mb_sex_tagging(text):\n",
        "  if text == 'M':\n",
        "    return '남성'\n",
        "  elif text == 'F':\n",
        "    return '여성'\n",
        "  else:\n",
        "    return '무관'\n",
        "\n",
        "user['성별'] = user.mb_sex.apply(mb_sex_tagging)\n",
        "# user.drop(columns = 'mb_sex', inplace=True)\n",
        "user.성별.value_counts()"
      ],
      "metadata": {
        "colab": {
          "base_uri": "https://localhost:8080/"
        },
        "id": "XySKUBVRrt-Y",
        "outputId": "4b4f0004-63b8-4f52-eea5-60aceff3e2a1"
      },
      "execution_count": null,
      "outputs": [
        {
          "output_type": "execute_result",
          "data": {
            "text/plain": [
              "남성    12465\n",
              "여성     7545\n",
              "Name: 성별, dtype: int64"
            ]
          },
          "metadata": {},
          "execution_count": 9
        }
      ]
    },
    {
      "cell_type": "markdown",
      "source": [
        "### mb_birth => 나이"
      ],
      "metadata": {
        "id": "kKJ-fTdH2hbn"
      }
    },
    {
      "cell_type": "code",
      "source": [
        "user.mb_birth.isnull().sum()"
      ],
      "metadata": {
        "colab": {
          "base_uri": "https://localhost:8080/"
        },
        "id": "X2KiLA_qhbLd",
        "outputId": "a635a654-b636-41a3-d427-eac76b62c19d"
      },
      "execution_count": null,
      "outputs": [
        {
          "output_type": "execute_result",
          "data": {
            "text/plain": [
              "0"
            ]
          },
          "metadata": {},
          "execution_count": 10
        }
      ]
    },
    {
      "cell_type": "code",
      "source": [
        "user['나이'] = user['mb_birth'].apply(lambda x: 2021 - int(str(x)[:4]))\n",
        "user.나이"
      ],
      "metadata": {
        "colab": {
          "base_uri": "https://localhost:8080/"
        },
        "id": "kyY8J8SE2le-",
        "outputId": "938c5d77-766a-4e18-80e7-6557b58a22ca"
      },
      "execution_count": null,
      "outputs": [
        {
          "output_type": "execute_result",
          "data": {
            "text/plain": [
              "0        121\n",
              "1        121\n",
              "2        116\n",
              "3        102\n",
              "4        101\n",
              "        ... \n",
              "20005     14\n",
              "20006     14\n",
              "20007     14\n",
              "20008     14\n",
              "20009     14\n",
              "Name: 나이, Length: 20010, dtype: int64"
            ]
          },
          "metadata": {},
          "execution_count": 11
        }
      ]
    },
    {
      "cell_type": "markdown",
      "source": [
        "### mb_1, mb_2 => 시도, 시군구\n",
        "거주 지역과 관심 지역을 합치기"
      ],
      "metadata": {
        "id": "fsccHjvFqPds"
      }
    },
    {
      "cell_type": "code",
      "source": [
        "user.head(2)"
      ],
      "metadata": {
        "colab": {
          "base_uri": "https://localhost:8080/"
        },
        "id": "boXhv2hxdOQi",
        "outputId": "32792e8d-201a-46db-b315-8a980f7574cf"
      },
      "execution_count": null,
      "outputs": [
        {
          "output_type": "execute_result",
          "data": {
            "text/html": [
              "\n",
              "  <div id=\"df-5cbed587-759c-441f-afab-91f5e5035e77\">\n",
              "    <div class=\"colab-df-container\">\n",
              "      <div>\n",
              "<style scoped>\n",
              "    .dataframe tbody tr th:only-of-type {\n",
              "        vertical-align: middle;\n",
              "    }\n",
              "\n",
              "    .dataframe tbody tr th {\n",
              "        vertical-align: top;\n",
              "    }\n",
              "\n",
              "    .dataframe thead th {\n",
              "        text-align: right;\n",
              "    }\n",
              "</style>\n",
              "<table border=\"1\" class=\"dataframe\">\n",
              "  <thead>\n",
              "    <tr style=\"text-align: right;\">\n",
              "      <th></th>\n",
              "      <th>num</th>\n",
              "      <th>mb_sex</th>\n",
              "      <th>mb_birth</th>\n",
              "      <th>mb_1</th>\n",
              "      <th>mb_2</th>\n",
              "      <th>mb_3</th>\n",
              "      <th>mb_4</th>\n",
              "      <th>mb_5</th>\n",
              "      <th>mb_6</th>\n",
              "      <th>mb_7</th>\n",
              "      <th>mb_8</th>\n",
              "      <th>mb_9</th>\n",
              "      <th>mb_10</th>\n",
              "      <th>mb_11</th>\n",
              "      <th>mb_12</th>\n",
              "      <th>mb_13</th>\n",
              "      <th>mb_14</th>\n",
              "      <th>mb_15</th>\n",
              "      <th>성별</th>\n",
              "      <th>나이</th>\n",
              "    </tr>\n",
              "  </thead>\n",
              "  <tbody>\n",
              "    <tr>\n",
              "      <th>0</th>\n",
              "      <td>11726</td>\n",
              "      <td>M</td>\n",
              "      <td>19000101</td>\n",
              "      <td>충북/청주시</td>\n",
              "      <td>충북/청주시</td>\n",
              "      <td>기타</td>\n",
              "      <td>기타</td>\n",
              "      <td>None</td>\n",
              "      <td>None</td>\n",
              "      <td>None</td>\n",
              "      <td>None</td>\n",
              "      <td>None</td>\n",
              "      <td>None</td>\n",
              "      <td>None</td>\n",
              "      <td>None</td>\n",
              "      <td>None</td>\n",
              "      <td>None</td>\n",
              "      <td>None</td>\n",
              "      <td>남성</td>\n",
              "      <td>121</td>\n",
              "    </tr>\n",
              "    <tr>\n",
              "      <th>1</th>\n",
              "      <td>21745</td>\n",
              "      <td>M</td>\n",
              "      <td>19000122</td>\n",
              "      <td>경기/고양시</td>\n",
              "      <td>경기/고양시</td>\n",
              "      <td>대학(원) 졸업</td>\n",
              "      <td>근로자</td>\n",
              "      <td>세대주</td>\n",
              "      <td>미혼</td>\n",
              "      <td>없다</td>\n",
              "      <td>no</td>\n",
              "      <td>no</td>\n",
              "      <td>해당없음</td>\n",
              "      <td>해당없음</td>\n",
              "      <td>중위소득 100% 이상</td>\n",
              "      <td>no</td>\n",
              "      <td>no</td>\n",
              "      <td>취업 지원,근로자 지원,문화생활 지원,주택-부동산 지원</td>\n",
              "      <td>남성</td>\n",
              "      <td>121</td>\n",
              "    </tr>\n",
              "  </tbody>\n",
              "</table>\n",
              "</div>\n",
              "      <button class=\"colab-df-convert\" onclick=\"convertToInteractive('df-5cbed587-759c-441f-afab-91f5e5035e77')\"\n",
              "              title=\"Convert this dataframe to an interactive table.\"\n",
              "              style=\"display:none;\">\n",
              "        \n",
              "  <svg xmlns=\"http://www.w3.org/2000/svg\" height=\"24px\"viewBox=\"0 0 24 24\"\n",
              "       width=\"24px\">\n",
              "    <path d=\"M0 0h24v24H0V0z\" fill=\"none\"/>\n",
              "    <path d=\"M18.56 5.44l.94 2.06.94-2.06 2.06-.94-2.06-.94-.94-2.06-.94 2.06-2.06.94zm-11 1L8.5 8.5l.94-2.06 2.06-.94-2.06-.94L8.5 2.5l-.94 2.06-2.06.94zm10 10l.94 2.06.94-2.06 2.06-.94-2.06-.94-.94-2.06-.94 2.06-2.06.94z\"/><path d=\"M17.41 7.96l-1.37-1.37c-.4-.4-.92-.59-1.43-.59-.52 0-1.04.2-1.43.59L10.3 9.45l-7.72 7.72c-.78.78-.78 2.05 0 2.83L4 21.41c.39.39.9.59 1.41.59.51 0 1.02-.2 1.41-.59l7.78-7.78 2.81-2.81c.8-.78.8-2.07 0-2.86zM5.41 20L4 18.59l7.72-7.72 1.47 1.35L5.41 20z\"/>\n",
              "  </svg>\n",
              "      </button>\n",
              "      \n",
              "  <style>\n",
              "    .colab-df-container {\n",
              "      display:flex;\n",
              "      flex-wrap:wrap;\n",
              "      gap: 12px;\n",
              "    }\n",
              "\n",
              "    .colab-df-convert {\n",
              "      background-color: #E8F0FE;\n",
              "      border: none;\n",
              "      border-radius: 50%;\n",
              "      cursor: pointer;\n",
              "      display: none;\n",
              "      fill: #1967D2;\n",
              "      height: 32px;\n",
              "      padding: 0 0 0 0;\n",
              "      width: 32px;\n",
              "    }\n",
              "\n",
              "    .colab-df-convert:hover {\n",
              "      background-color: #E2EBFA;\n",
              "      box-shadow: 0px 1px 2px rgba(60, 64, 67, 0.3), 0px 1px 3px 1px rgba(60, 64, 67, 0.15);\n",
              "      fill: #174EA6;\n",
              "    }\n",
              "\n",
              "    [theme=dark] .colab-df-convert {\n",
              "      background-color: #3B4455;\n",
              "      fill: #D2E3FC;\n",
              "    }\n",
              "\n",
              "    [theme=dark] .colab-df-convert:hover {\n",
              "      background-color: #434B5C;\n",
              "      box-shadow: 0px 1px 3px 1px rgba(0, 0, 0, 0.15);\n",
              "      filter: drop-shadow(0px 1px 2px rgba(0, 0, 0, 0.3));\n",
              "      fill: #FFFFFF;\n",
              "    }\n",
              "  </style>\n",
              "\n",
              "      <script>\n",
              "        const buttonEl =\n",
              "          document.querySelector('#df-5cbed587-759c-441f-afab-91f5e5035e77 button.colab-df-convert');\n",
              "        buttonEl.style.display =\n",
              "          google.colab.kernel.accessAllowed ? 'block' : 'none';\n",
              "\n",
              "        async function convertToInteractive(key) {\n",
              "          const element = document.querySelector('#df-5cbed587-759c-441f-afab-91f5e5035e77');\n",
              "          const dataTable =\n",
              "            await google.colab.kernel.invokeFunction('convertToInteractive',\n",
              "                                                     [key], {});\n",
              "          if (!dataTable) return;\n",
              "\n",
              "          const docLinkHtml = 'Like what you see? Visit the ' +\n",
              "            '<a target=\"_blank\" href=https://colab.research.google.com/notebooks/data_table.ipynb>data table notebook</a>'\n",
              "            + ' to learn more about interactive tables.';\n",
              "          element.innerHTML = '';\n",
              "          dataTable['output_type'] = 'display_data';\n",
              "          await google.colab.output.renderOutput(dataTable, element);\n",
              "          const docLink = document.createElement('div');\n",
              "          docLink.innerHTML = docLinkHtml;\n",
              "          element.appendChild(docLink);\n",
              "        }\n",
              "      </script>\n",
              "    </div>\n",
              "  </div>\n",
              "  "
            ],
            "text/plain": [
              "     num mb_sex  mb_birth  ...                           mb_15  성별   나이\n",
              "0  11726      M  19000101  ...                            None  남성  121\n",
              "1  21745      M  19000122  ...  취업 지원,근로자 지원,문화생활 지원,주택-부동산 지원  남성  121\n",
              "\n",
              "[2 rows x 20 columns]"
            ]
          },
          "metadata": {},
          "execution_count": 12
        }
      ]
    },
    {
      "cell_type": "code",
      "source": [
        "# split  기준으로 나누기\n",
        "living = user['mb_1']\n",
        "living1 = []\n",
        "living2 = []\n",
        "\n",
        "want = user['mb_2']\n",
        "want1 = []\n",
        "want2 = []\n",
        "\n",
        "for i in range(len(user)):\n",
        "  living1.append(living[i].split('/')[0])\n",
        "  living2.append(living[i].split('/')[1])\n",
        "\n",
        "  want1.append(want[i].split('/')[0])\n",
        "  want2.append(want[i].split('/')[1])\n",
        "\n",
        "user['거주_시도'] = living1\n",
        "user['거주_시군구'] = living2\n",
        "\n",
        "user['관심_시도'] = want1\n",
        "user['관심_시군구'] = want2"
      ],
      "metadata": {
        "id": "Hf6Qsg86gLXZ"
      },
      "execution_count": null,
      "outputs": []
    },
    {
      "cell_type": "code",
      "source": [
        "user.거주_시도.unique()"
      ],
      "metadata": {
        "colab": {
          "base_uri": "https://localhost:8080/"
        },
        "id": "osOT3ik7pIzL",
        "outputId": "24b9b4c6-10b1-4a65-970d-83b2caa7d2e4"
      },
      "execution_count": null,
      "outputs": [
        {
          "output_type": "execute_result",
          "data": {
            "text/plain": [
              "array(['충북', '경기', '경남', '대전', '제주', '광주', '서울', '경북', '인천', '충남', '전남',\n",
              "       '부산', '전북', '대구', '강원', '울산', '세종', ''], dtype=object)"
            ]
          },
          "metadata": {},
          "execution_count": 14
        }
      ]
    },
    {
      "cell_type": "code",
      "source": [
        "user.관심_시도.unique()"
      ],
      "metadata": {
        "colab": {
          "base_uri": "https://localhost:8080/"
        },
        "id": "n8vtxX-6suro",
        "outputId": "09d5e7bc-ffe2-4638-da8a-c9ff425c3bdc"
      },
      "execution_count": null,
      "outputs": [
        {
          "output_type": "execute_result",
          "data": {
            "text/plain": [
              "array(['충북', '경기', '경남', '대전', '제주', '광주', '충남', '경북', '전남', '서울', '인천',\n",
              "       '부산', '전북', '대구', '강원', '울산', '세종', ''], dtype=object)"
            ]
          },
          "metadata": {},
          "execution_count": 15
        }
      ]
    },
    {
      "cell_type": "code",
      "source": [
        "# 시도명 fullname으로 변경\n",
        "ori = ['충북', '경기', '경남', '대전', '제주', '광주', '서울', '경북', '인천', '충남', '전남',\n",
        "       '부산', '전북', '대구', '강원', '울산', '세종', '']\n",
        "change = ['충청북도', '경기도', '경상남도', '대전광역시', '제주특별자치도', '광주광역시', '서울특별시', '경상북도', '인천광역시',\n",
        "          '충청남도', '전라남도', '부산광역시', '전라북도', '대구광역시', '강원도', '울산광역시', '세종특별자치시', '전국']\n",
        "\n",
        "for i, j in zip(ori, change):\n",
        "  user['거주_시도'] = user['거주_시도'].replace(i,j)\n",
        "  user['관심_시도'] = user['관심_시도'].replace(i,j)\n"
      ],
      "metadata": {
        "id": "oblO4AGPsL1u"
      },
      "execution_count": null,
      "outputs": []
    },
    {
      "cell_type": "code",
      "source": [
        "user.거주_시도.unique()"
      ],
      "metadata": {
        "colab": {
          "base_uri": "https://localhost:8080/"
        },
        "id": "PivWdkPDpKEM",
        "outputId": "2acb1fa6-0d77-4ff1-9597-6c8f8c976f62"
      },
      "execution_count": null,
      "outputs": [
        {
          "output_type": "execute_result",
          "data": {
            "text/plain": [
              "array(['충청북도', '경기도', '경상남도', '대전광역시', '제주특별자치도', '광주광역시', '서울특별시',\n",
              "       '경상북도', '인천광역시', '충청남도', '전라남도', '부산광역시', '전라북도', '대구광역시', '강원도',\n",
              "       '울산광역시', '세종특별자치시', '전국'], dtype=object)"
            ]
          },
          "metadata": {},
          "execution_count": 17
        }
      ]
    },
    {
      "cell_type": "code",
      "source": [
        "user.관심_시도.unique()"
      ],
      "metadata": {
        "colab": {
          "base_uri": "https://localhost:8080/"
        },
        "id": "CLjIkSsZtCTF",
        "outputId": "7ec8594c-3a70-4364-fee5-f05f26758346"
      },
      "execution_count": null,
      "outputs": [
        {
          "output_type": "execute_result",
          "data": {
            "text/plain": [
              "array(['충청북도', '경기도', '경상남도', '대전광역시', '제주특별자치도', '광주광역시', '충청남도', '경상북도',\n",
              "       '전라남도', '서울특별시', '인천광역시', '부산광역시', '전라북도', '대구광역시', '강원도', '울산광역시',\n",
              "       '세종특별자치시', '전국'], dtype=object)"
            ]
          },
          "metadata": {},
          "execution_count": 18
        }
      ]
    },
    {
      "cell_type": "code",
      "source": [
        "user.거주_시군구.unique()"
      ],
      "metadata": {
        "colab": {
          "base_uri": "https://localhost:8080/"
        },
        "id": "iCH3C-y4tDZP",
        "outputId": "a8fcf598-b298-437b-8acd-0ce6517119fb"
      },
      "execution_count": null,
      "outputs": [
        {
          "output_type": "execute_result",
          "data": {
            "text/plain": [
              "array(['청주시', '고양시', '양산시', '여주시', '유성구', '제주시', '서구', '마포구', '평택시',\n",
              "       '창원시', '경주시', '연천군', '송파구', '중구', '군포시', '밀양시', '금천구', '동작구',\n",
              "       '고성군', '동대문구', '관악구', '부평구', '아산시', '영주시', '시흥시', '광산구', '수원시',\n",
              "       '음성군', '용인시', '여수시', '해운대구', '포천군', '광주시', '용산구', '고창군', '의정부시',\n",
              "       '양평군', '구미시', '달서구', '수영구', '영등포구', '서초구', '계양구', '남양주시', '광진구',\n",
              "       '목포시', '천안시', '포항시', '전주시', '금정구', '서대문구', '단양군', '남구', '동래구',\n",
              "       '영암군', '포천시', '칠곡군', '구로구', '상주시', '강서구', '성남시', '연수구', '이천시',\n",
              "       '수성구', '부산진구', '삼척시', '노원구', '의왕시', '파주시', '강남구', '화성시', '동구',\n",
              "       '진주시', '거제시', '진해시', '남동구', '화천군', '북구', '서귀포시', '김포시', '김해시',\n",
              "       '동두천시', '안양시', '논산시', '강동구', '신안군', '성북구', '은평구', '도봉구', '달성구',\n",
              "       '강북구', '고흥군', '거창군', '세종시 전체', '', '원주시', '오산시', '부천시', '충주시',\n",
              "       '중랑구', '군산시', '춘천시', '서산시', '안동시', '안산시', '양천구', '영덕군', '양주시',\n",
              "       '울주군', '성동구', '안성시', '종로구', '해남군', '무안군', '경산시', '연제구', '문경시',\n",
              "       '진도군', '기장군', '광양시', '인제군', '영월군', '공주시', '속초시', '순천시', '보령시',\n",
              "       '사하구', '광명시', '담양군', '남원시', '강릉시', '정읍시', '고령군', '함안군', '하남시',\n",
              "       '나주시', '익산시', '증평군', '김천시', '진천군', '홍천군', '제천시', '마산시 합포구', '장성군',\n",
              "       '창녕군', '청송군', '강화군', '태백시', '양구군', '가평군', '예천군', '금산군', '보성군',\n",
              "       '무주군', '사상구', '구리시', '부여군', '산청군', '구례군', '군위군', '태안군', '남해군',\n",
              "       '영광군', '대덕구', '통영시', '순창군', '당진시', '부안군', '서천군', '완도군', '동해시',\n",
              "       '청원군', '임실군', '홍성군', '함양군', '예산군', '횡성군', '화순군', '곡성군', '마산시 회원구',\n",
              "       '영천시', '울진군', '사천시', '양양군', '완주군', '장수군', '평창군', '영도구', '영동군',\n",
              "       '김제시', '계롱시', '과천시', '봉화군', '성주군', '강진군', '철원군', '괴산군', '청양군',\n",
              "       '여주군', '진안군', '함평군', '의령군', '청도군', '의성군', '하동군', '보은군', '정선군',\n",
              "       '옥천군', '옹진군', '영양군', '장흥군', '울릉군', '합천군'], dtype=object)"
            ]
          },
          "metadata": {},
          "execution_count": 19
        }
      ]
    },
    {
      "cell_type": "code",
      "source": [
        "user.관심_시군구.unique()"
      ],
      "metadata": {
        "colab": {
          "base_uri": "https://localhost:8080/"
        },
        "id": "gMdY-2p_tHK5",
        "outputId": "7f08d9b1-7e86-4f59-bfaa-186218e29e31"
      },
      "execution_count": null,
      "outputs": [
        {
          "output_type": "execute_result",
          "data": {
            "text/plain": [
              "array(['청주시', '고양시', '양산시', '여주시', '유성구', '제주시', '서구', '아산시', '평택시',\n",
              "       '창원시', '경주시', '구리시', '순천시', '중구', '군포시', '밀양시', '서초구', '금천구',\n",
              "       '관악구', '고성군', '동대문구', '부평구', '영주시', '시흥시', '광산구', '수원시', '음성군',\n",
              "       '용인시', '여수시', '해운대구', '포천군', '광주시', '용산구', '고창군', '의정부시', '양평군',\n",
              "       '구미시', '달서구', '수영구', '구로구', '영등포구', '광명시', '계양구', '남양주시', '광진구',\n",
              "       '목포시', '마포구', '천안시', '포항시', '완주군', '금정구', '전주시', '단양군', '남구',\n",
              "       '송파구', '동래구', '영암군', '안성시', '포천시', '칠곡군', '상주시', '강서구', '성남시',\n",
              "       '이천시', '수성구', '부산진구', '삼척시', '노원구', '의왕시', '파주시', '강남구', '동구',\n",
              "       '진주시', '거제시', '남동구', '서대문구', '화천군', '북구', '서귀포시', '김포시', '안산시',\n",
              "       '김해시', '연수구', '동두천시', '안양시', '강동구', '화성시', '신안군', '울주군', '은평구',\n",
              "       '도봉구', '달성구', '강북구', '고흥군', '거창군', '세종시 전체', '', '원주시', '오산시',\n",
              "       '충주시', '중랑구', '성북구', '군산시', '춘천시', '서산시', '안동시', '부천시', '양천구',\n",
              "       '동작구', '영덕군', '성동구', '양주시', '해남군', '무안군', '경산시', '연제구', '문경시',\n",
              "       '진도군', '사상구', '기장군', '광양시', '인제군', '영월군', '공주시', '속초시', '보령시',\n",
              "       '사하구', '담양군', '남원시', '정읍시', '고령군', '함안군', '하남시', '나주시', '익산시',\n",
              "       '종로구', '강릉시', '진해시', '통영시', '증평군', '청양군', '김천시', '진천군', '홍천군',\n",
              "       '제천시', '마산시 합포구', '장성군', '창녕군', '강화군', '태백시', '양구군', '가평군', '예천군',\n",
              "       '금산군', '보성군', '무주군', '연천군', '논산시', '산청군', '구례군', '태안군', '남해군',\n",
              "       '부여군', '영광군', '대덕구', '순창군', '당진시', '부안군', '서천군', '완도군', '동해시',\n",
              "       '청원군', '임실군', '홍성군', '함양군', '예산군', '횡성군', '화순군', '영천시', '여주군',\n",
              "       '울진군', '마산시 회원구', '정선군', '사천시', '양양군', '장수군', '과천시', '영도구', '영동군',\n",
              "       '김제시', '봉화군', '장흥군', '성주군', '강진군', '군위군', '괴산군', '보은군', '진안군',\n",
              "       '함평군', '철원군', '청도군', '계롱시', '의성군', '하동군', '평창군', '옥천군', '옹진군',\n",
              "       '의령군', '청송군', '곡성군', '영양군', '울릉군', '합천군'], dtype=object)"
            ]
          },
          "metadata": {},
          "execution_count": 20
        }
      ]
    },
    {
      "cell_type": "code",
      "source": [
        "area1 = []\n",
        "area2 = []\n",
        "for i in range(len(user)):\n",
        "  x = user['거주_시도'].iloc[i]\n",
        "  y = user['관심_시도'].iloc[i]\n",
        "  a = user['거주_시군구'].iloc[i]\n",
        "  b = user['관심_시군구'].iloc[i]\n",
        "  \n",
        "  if x == y:\n",
        "    area1.append(x)\n",
        "  else:\n",
        "    area1.append(x+','+y)\n",
        "  \n",
        "  if a == b:\n",
        "    area2.append(a)\n",
        "  else:\n",
        "    area2.append(a+','+b)"
      ],
      "metadata": {
        "id": "uLMYq0Gmwiss"
      },
      "execution_count": null,
      "outputs": []
    },
    {
      "cell_type": "code",
      "source": [
        "user['시도'] = area1\n",
        "user['시군구'] = area2"
      ],
      "metadata": {
        "id": "Deyjxq0zwR8z"
      },
      "execution_count": null,
      "outputs": []
    },
    {
      "cell_type": "code",
      "source": [
        "for i in range(len(user)):\n",
        "  if user['시군구'].iloc[i] == '':\n",
        "    user['시군구'].iloc[i] = '전체'"
      ],
      "metadata": {
        "colab": {
          "base_uri": "https://localhost:8080/"
        },
        "id": "61cChyFpHnGN",
        "outputId": "1ec9b9ec-ec02-474e-a7c7-3bf05fe30c18"
      },
      "execution_count": null,
      "outputs": [
        {
          "output_type": "stream",
          "name": "stderr",
          "text": [
            "/usr/local/lib/python3.7/dist-packages/pandas/core/indexing.py:670: SettingWithCopyWarning: \n",
            "A value is trying to be set on a copy of a slice from a DataFrame\n",
            "\n",
            "See the caveats in the documentation: https://pandas.pydata.org/pandas-docs/stable/user_guide/indexing.html#returning-a-view-versus-a-copy\n",
            "  iloc._setitem_with_indexer(indexer, value)\n"
          ]
        }
      ]
    },
    {
      "cell_type": "markdown",
      "source": [
        "### mb_3 => 학력"
      ],
      "metadata": {
        "id": "5PF81hiaqXMi"
      }
    },
    {
      "cell_type": "code",
      "source": [
        "user.mb_3.value_counts()"
      ],
      "metadata": {
        "colab": {
          "base_uri": "https://localhost:8080/"
        },
        "id": "UaALt5E8qWkG",
        "outputId": "9e3735d1-f0ae-4d2a-f75b-949622e998c2"
      },
      "execution_count": null,
      "outputs": [
        {
          "output_type": "execute_result",
          "data": {
            "text/plain": [
              "고등학교 졸업     6526\n",
              "기타          5455\n",
              "대학(원) 졸업    3606\n",
              "대학(원) 재학    2932\n",
              "대학(원) 휴학    1005\n",
              "Name: mb_3, dtype: int64"
            ]
          },
          "metadata": {},
          "execution_count": 24
        }
      ]
    },
    {
      "cell_type": "code",
      "source": [
        "def mb_3_tagging(text):\n",
        "  if text == '고등학교 졸업':\n",
        "    return '고등학교졸업'\n",
        "  elif text == '대학(원) 졸업':\n",
        "    return '대학(원)졸업'\n",
        "  elif text == '대학(원) 재학':\n",
        "    return '대학(원)재학'\n",
        "  elif text == '대학(원) 휴학':\n",
        "    return '대학(원)휴학'\n",
        "  else:\n",
        "    return '무관'\n",
        "\n",
        "user['학력'] = user.mb_3.apply(mb_3_tagging)\n",
        "# user.drop(columns = 'mb_3', inplace=True)\n",
        "user.학력.value_counts()"
      ],
      "metadata": {
        "colab": {
          "base_uri": "https://localhost:8080/"
        },
        "id": "-BUJHcGdqv6k",
        "outputId": "74726287-0dac-4f30-e81f-46dcac3bf5e5"
      },
      "execution_count": null,
      "outputs": [
        {
          "output_type": "execute_result",
          "data": {
            "text/plain": [
              "고등학교졸업     6526\n",
              "무관         5941\n",
              "대학(원)졸업    3606\n",
              "대학(원)재학    2932\n",
              "대학(원)휴학    1005\n",
              "Name: 학력, dtype: int64"
            ]
          },
          "metadata": {},
          "execution_count": 25
        }
      ]
    },
    {
      "cell_type": "code",
      "source": [
        "user.학력.isnull().sum()"
      ],
      "metadata": {
        "colab": {
          "base_uri": "https://localhost:8080/"
        },
        "id": "wYiBybeoH2jV",
        "outputId": "b290f241-83bd-460d-f48b-9a5db4cc7978"
      },
      "execution_count": null,
      "outputs": [
        {
          "output_type": "execute_result",
          "data": {
            "text/plain": [
              "0"
            ]
          },
          "metadata": {},
          "execution_count": 26
        }
      ]
    },
    {
      "cell_type": "markdown",
      "source": [
        "### mb_4 => 직장\n",
        "\n",
        "- mb_4의 분포도\n",
        "\n",
        "> 기타: 6796\n",
        ">\n",
        "> 근로자: 5287\n",
        ">\n",
        "> 대학(원)생: 4103\n",
        ">\n",
        "> 구직자: 3779\n",
        ">\n",
        "> 프리랜서: 1051\n",
        ">\n",
        "> 예비창업자: 491\n",
        ">\n",
        "> 기업인/소상공인: 441"
      ],
      "metadata": {
        "id": "J5Mcm6RJr9uo"
      }
    },
    {
      "cell_type": "code",
      "source": [
        "user.mb_4.value_counts()"
      ],
      "metadata": {
        "colab": {
          "base_uri": "https://localhost:8080/"
        },
        "id": "34TDbL1tw1A0",
        "outputId": "d277da88-30ad-4c57-97cd-bee0bacfc799"
      },
      "execution_count": null,
      "outputs": [
        {
          "output_type": "execute_result",
          "data": {
            "text/plain": [
              "기타                                   6021\n",
              "근로자                                  4133\n",
              "대학(원)생                               3008\n",
              "구직자                                  2569\n",
              "프리랜서                                  541\n",
              "                                     ... \n",
              "대학(원)생,구직자,기업인/소상공인,기타                  1\n",
              "구직자,근로자,예비창업자,기업인/소상공인,기타               1\n",
              "구직자,기업인/소상공인,기타                         1\n",
              "근로자,예비창업자,기업인/소상공인,기타                   1\n",
              "대학(원)생,근로자,예비창업자,프리랜서,기업인/소상공인,기타       1\n",
              "Name: mb_4, Length: 98, dtype: int64"
            ]
          },
          "metadata": {},
          "execution_count": 27
        }
      ]
    },
    {
      "cell_type": "code",
      "source": [
        "user.mb_4.isnull().sum()"
      ],
      "metadata": {
        "colab": {
          "base_uri": "https://localhost:8080/"
        },
        "id": "zMGbWzdokCR2",
        "outputId": "a2a0dad2-c878-42c1-dccc-68cf07be3cd8"
      },
      "execution_count": null,
      "outputs": [
        {
          "output_type": "execute_result",
          "data": {
            "text/plain": [
              "1043"
            ]
          },
          "metadata": {},
          "execution_count": 28
        }
      ]
    },
    {
      "cell_type": "code",
      "source": [
        "get_category(user, 'mb_4')"
      ],
      "metadata": {
        "colab": {
          "base_uri": "https://localhost:8080/"
        },
        "id": "Lv0WUre9jEli",
        "outputId": "4d6281df-e0b3-49f3-9431-555f2432f7dd"
      },
      "execution_count": null,
      "outputs": [
        {
          "output_type": "execute_result",
          "data": {
            "text/plain": [
              "[('기타', 6796),\n",
              " ('근로자', 5287),\n",
              " ('대학(원)생', 4103),\n",
              " ('구직자', 3779),\n",
              " ('프리랜서', 1051),\n",
              " ('None', 1043),\n",
              " ('예비창업자', 491),\n",
              " ('기업인/소상공인', 441),\n",
              " '중복 있음']"
            ]
          },
          "metadata": {},
          "execution_count": 29
        }
      ]
    },
    {
      "cell_type": "code",
      "source": [
        "def mb_4_tagging(text):\n",
        "  if text == None:\n",
        "    return '무관'\n",
        "  else:\n",
        "    text = text.replace('기타', '무관').replace('근로자', '근로자/직장인').replace('대학(원)생', '대학/대학원생').replace('구직자', '구직자/실업자').replace('프리랜서', '프리랜서').replace('예비창업자', '예비창업자').replace('기업인/소상공인', '소상공인,중소기업')\n",
        "    return text\n",
        "\n",
        "user['직장'] = user.mb_4.apply(mb_4_tagging)\n",
        "\n",
        "get_category(user, '직장')"
      ],
      "metadata": {
        "colab": {
          "base_uri": "https://localhost:8080/"
        },
        "id": "dgXDivrzr-pg",
        "outputId": "d541e96a-ec97-4150-b2d4-dda1273b750f"
      },
      "execution_count": null,
      "outputs": [
        {
          "output_type": "execute_result",
          "data": {
            "text/plain": [
              "[('무관', 7839),\n",
              " ('근로자/직장인', 5287),\n",
              " ('대학/대학원생', 4103),\n",
              " ('구직자/실업자', 3779),\n",
              " ('프리랜서', 1051),\n",
              " ('예비창업자', 491),\n",
              " ('소상공인', 441),\n",
              " ('중소기업', 441),\n",
              " '중복 있음']"
            ]
          },
          "metadata": {},
          "execution_count": 30
        }
      ]
    },
    {
      "cell_type": "markdown",
      "source": [
        "### mb_5 => 가구원 유형\n",
        "- mb_5 분포도\n",
        "\n",
        "> 세대원:    0.684258\n",
        ">\n",
        "> 세대주:    0.240130\n",
        ">\n",
        "> None:    0.075612\n",
        "\n"
      ],
      "metadata": {
        "id": "t8jhJ6xYtars"
      }
    },
    {
      "cell_type": "code",
      "source": [
        "user.mb_5.value_counts()"
      ],
      "metadata": {
        "colab": {
          "base_uri": "https://localhost:8080/"
        },
        "id": "OtjdTh_0thfq",
        "outputId": "5acf9a1e-5189-4e60-b152-baa681fcf844"
      },
      "execution_count": null,
      "outputs": [
        {
          "output_type": "execute_result",
          "data": {
            "text/plain": [
              "세대원    13692\n",
              "세대주     4805\n",
              "Name: mb_5, dtype: int64"
            ]
          },
          "metadata": {},
          "execution_count": 31
        }
      ]
    },
    {
      "cell_type": "code",
      "source": [
        "def mb_5_tagging(text):\n",
        "  if text ==  None:\n",
        "    return '무관'\n",
        "  else:\n",
        "    text = text.replace('세대원', '무주택 세대원,주택 세대원').replace('세대주', '무주택 세대주,주택 세대주')\n",
        "    return text\n",
        "\n",
        "user['가구원'] = user.mb_5.apply(mb_5_tagging)\n",
        "# user.drop(columns = 'mb_5', inplace=True)\n",
        "user.가구원.value_counts()"
      ],
      "metadata": {
        "colab": {
          "base_uri": "https://localhost:8080/"
        },
        "id": "JcDYiCJCtwFN",
        "outputId": "35d0f6c1-e373-4e35-8046-e4979aa5a3e8"
      },
      "execution_count": null,
      "outputs": [
        {
          "output_type": "execute_result",
          "data": {
            "text/plain": [
              "무주택 세대원,주택 세대원    13692\n",
              "무주택 세대주,주택 세대주     4805\n",
              "무관                 1513\n",
              "Name: 가구원, dtype: int64"
            ]
          },
          "metadata": {},
          "execution_count": 32
        }
      ]
    },
    {
      "cell_type": "markdown",
      "source": [
        "### mb_6 => 결혼\n",
        "- mb_6 분포도\n",
        "> 미혼:     0.854523\n",
        ">\n",
        "> None:    0.077961\n",
        ">\n",
        "> 기혼:     0.067516"
      ],
      "metadata": {
        "id": "QAvBf0wsuoiZ"
      }
    },
    {
      "cell_type": "code",
      "source": [
        "user.mb_6.value_counts()"
      ],
      "metadata": {
        "colab": {
          "base_uri": "https://localhost:8080/"
        },
        "id": "ZeZ8cx843t_T",
        "outputId": "6d885f68-ffc0-4ed1-8680-5a66f6b6d86e"
      },
      "execution_count": null,
      "outputs": [
        {
          "output_type": "execute_result",
          "data": {
            "text/plain": [
              "미혼    17099\n",
              "기혼     1351\n",
              "Name: mb_6, dtype: int64"
            ]
          },
          "metadata": {},
          "execution_count": 33
        }
      ]
    },
    {
      "cell_type": "code",
      "source": [
        "def mb_6_tagging(text):\n",
        "  if text == None:\n",
        "    return '미혼,기혼'\n",
        "  else:\n",
        "    text = text.replace('미혼', '미혼').replace('기혼', '기혼')\n",
        "    return text\n",
        "  \n",
        "\n",
        "user['결혼'] = user.mb_6.apply(mb_6_tagging)\n",
        "# user.drop(columns = 'mb_6', inplace=True)\n",
        "user.결혼.value_counts()"
      ],
      "metadata": {
        "colab": {
          "base_uri": "https://localhost:8080/"
        },
        "id": "7384HUlIu2Mz",
        "outputId": "82a02be9-b0c5-47b5-8046-03ad2d7bd59e"
      },
      "execution_count": null,
      "outputs": [
        {
          "output_type": "execute_result",
          "data": {
            "text/plain": [
              "미혼       17099\n",
              "미혼,기혼     1560\n",
              "기혼        1351\n",
              "Name: 결혼, dtype: int64"
            ]
          },
          "metadata": {},
          "execution_count": 34
        }
      ]
    },
    {
      "cell_type": "markdown",
      "source": [
        "### mb_7 => 자녀\n",
        "- mb_7 분포도\n",
        "> 없다:     17198\n",
        ">\n",
        "> None:     1698\n",
        ">\n",
        "> 있다:      1114"
      ],
      "metadata": {
        "id": "ma9labF-vPaI"
      }
    },
    {
      "cell_type": "code",
      "source": [
        "user.mb_7.value_counts()"
      ],
      "metadata": {
        "colab": {
          "base_uri": "https://localhost:8080/"
        },
        "id": "BnjZul4g4D-q",
        "outputId": "bca6a2eb-1b6d-4ecd-f999-e25a4aad4f85"
      },
      "execution_count": null,
      "outputs": [
        {
          "output_type": "execute_result",
          "data": {
            "text/plain": [
              "없다    17198\n",
              "있다     1114\n",
              "Name: mb_7, dtype: int64"
            ]
          },
          "metadata": {},
          "execution_count": 35
        }
      ]
    },
    {
      "cell_type": "code",
      "source": [
        "def mb_7_tagging(text):\n",
        "  if text == None:\n",
        "    return '있음,없음'\n",
        "  else:\n",
        "    text = text.replace('없다', '없음').replace('있다', '있음')\n",
        "    return text\n",
        "\n",
        "user['자녀'] = user.mb_7.apply(mb_7_tagging)\n",
        "# user.drop(columns = 'mb_7', inplace=True)\n",
        "user.자녀.value_counts()"
      ],
      "metadata": {
        "colab": {
          "base_uri": "https://localhost:8080/"
        },
        "outputId": "0bc074f4-0056-4192-8dba-1d893453b637",
        "id": "5L6f3JlgvPaJ"
      },
      "execution_count": null,
      "outputs": [
        {
          "output_type": "execute_result",
          "data": {
            "text/plain": [
              "없음       17198\n",
              "있음,없음     1698\n",
              "있음        1114\n",
              "Name: 자녀, dtype: int64"
            ]
          },
          "metadata": {},
          "execution_count": 36
        }
      ]
    },
    {
      "cell_type": "markdown",
      "source": [
        "### mb_8 => 자녀 수\n",
        "- mb_8 분포도\n",
        "> 1명:       0.484657\n",
        ">\n",
        "> 2명:       0.389892\n",
        ">\n",
        "> 3명 이상:    0.125451\n",
        "\n",
        "admin에는 없는 feature 이므로 column 만 변경"
      ],
      "metadata": {
        "id": "LDssM0UOvo45"
      }
    },
    {
      "cell_type": "code",
      "source": [
        "user.rename(columns={'mb_8':'자녀수'}, inplace=True)"
      ],
      "metadata": {
        "id": "XddTckJ_vo46"
      },
      "execution_count": null,
      "outputs": []
    },
    {
      "cell_type": "markdown",
      "source": [
        "### mb_9 => 자녀상세\n",
        "- mb_9 분포도상세\n",
        "> no: 17198\n",
        ">\n",
        "> 고등학생: 103\n",
        " >\n",
        " > 성인: 159\n",
        " >\n",
        " > 영아: 478\n",
        " >\n",
        " > 유아: 322\n",
        " >\n",
        " > 중학생: 100\n",
        " >\n",
        " > 초등학생: 296"
      ],
      "metadata": {
        "id": "K2huy5EjwRGY"
      }
    },
    {
      "cell_type": "code",
      "source": [
        "get_category(user, 'mb_9')"
      ],
      "metadata": {
        "colab": {
          "base_uri": "https://localhost:8080/"
        },
        "id": "Ekrob4qVC6pv",
        "outputId": "53db3006-5a6f-45e8-ee48-7535e058ce6a"
      },
      "execution_count": null,
      "outputs": [
        {
          "output_type": "execute_result",
          "data": {
            "text/plain": [
              "[('no', 17198),\n",
              " ('None', 1708),\n",
              " ('영아', 478),\n",
              " ('유아', 322),\n",
              " ('초등학생', 296),\n",
              " ('성인', 159),\n",
              " ('고등학생', 103),\n",
              " ('중학생', 100),\n",
              " '중복 있음']"
            ]
          },
          "metadata": {},
          "execution_count": 38
        }
      ]
    },
    {
      "cell_type": "code",
      "source": [
        "def mb_9_tagging(text):\n",
        "  if (text == None) or (text=='no'):\n",
        "    return '해당사항없음'\n",
        "  else:\n",
        "    text = text.replace('고등학생', '초중고학생').replace('영유아','잠깐기다려').replace('성인','성인').replace('유아','영유아').replace('영아', '영유아').replace('중학생', '초중고학생').replace('초등학생', '초중고학생').replace('잠깐기다려', '영유아')\n",
        "    return text\n",
        "\n",
        "user['자녀상세'] = user.mb_9.apply(mb_9_tagging)\n",
        "get_category(user, '자녀상세')"
      ],
      "metadata": {
        "colab": {
          "base_uri": "https://localhost:8080/"
        },
        "outputId": "128e39d7-78a2-4f52-d965-631034ed1db9",
        "id": "Z7Ef1-PWwRGZ"
      },
      "execution_count": null,
      "outputs": [
        {
          "output_type": "execute_result",
          "data": {
            "text/plain": [
              "[('해당사항없음', 18906), ('영유아', 800), ('초중고학생', 499), ('성인', 159), '중복 있음']"
            ]
          },
          "metadata": {},
          "execution_count": 39
        }
      ]
    },
    {
      "cell_type": "code",
      "source": [
        "get_category(user,'자녀상세')"
      ],
      "metadata": {
        "colab": {
          "base_uri": "https://localhost:8080/"
        },
        "id": "DH-V2UsFCC5F",
        "outputId": "d407681f-3ee7-4d6f-f232-f25ff4b70f40"
      },
      "execution_count": null,
      "outputs": [
        {
          "output_type": "execute_result",
          "data": {
            "text/plain": [
              "[('해당사항없음', 18906), ('영유아', 800), ('초중고학생', 499), ('성인', 159), '중복 있음']"
            ]
          },
          "metadata": {},
          "execution_count": 40
        }
      ]
    },
    {
      "cell_type": "markdown",
      "source": [
        "### mb_10 (특수상황) => 대상특성\n",
        "> 구호구제대상자: 11\n",
        ">\n",
        "> 농축수산인: 100 => A12-02\n",
        " >\n",
        " > 다문화 가정: 241 => A12-09\n",
        " >\n",
        " > 다자녀 가정: 1654 => A12-13\n",
        " >\n",
        " > 독거노인: 12 => A12-14\n",
        " >\n",
        " > 보훈대상 및 가족: 119 => A12-07\n",
        " >\n",
        " > 북한이탈주민: 13 => A12-10\n",
        " >\n",
        " > 소년소녀가장: 125\n",
        " >\n",
        " > 입양 가정: 28 => A12-15\n",
        " >\n",
        " > 장애인: 282 => A12-01\n",
        " >\n",
        " > 저소득층: 2604\n",
        " >\n",
        " > 한부모/조손 가정: 2242 => A12-11\n",
        " >\n",
        " > 해당없음: 11691 => A12-00\n",
        " >\n",
        " > 환자: 135 => A12-03\n",
        " >\n",
        " >"
      ],
      "metadata": {
        "id": "HoKw0jfW45a0"
      }
    },
    {
      "cell_type": "code",
      "source": [
        "get_category(user, 'mb_10')"
      ],
      "metadata": {
        "colab": {
          "base_uri": "https://localhost:8080/"
        },
        "id": "vvxV5_Ih5I-U",
        "outputId": "8221e7d5-4a7d-4859-95e6-bea59beef413"
      },
      "execution_count": null,
      "outputs": [
        {
          "output_type": "execute_result",
          "data": {
            "text/plain": [
              "[('해당없음', 11691),\n",
              " ('저소득층', 2604),\n",
              " ('None', 2386),\n",
              " ('한부모/조손 가정', 2242),\n",
              " ('다자녀 가정', 1654),\n",
              " ('장애인', 282),\n",
              " ('다문화 가정', 241),\n",
              " ('환자', 135),\n",
              " ('소년소녀가장', 125),\n",
              " ('보훈대상 및 가족', 119),\n",
              " ('농축수산인', 100),\n",
              " ('입양 가정', 28),\n",
              " ('북한이탈주민', 13),\n",
              " ('독거노인', 12),\n",
              " ('구호구제대상자', 11),\n",
              " '중복 있음']"
            ]
          },
          "metadata": {},
          "execution_count": 41
        }
      ]
    },
    {
      "cell_type": "code",
      "source": [
        "def mb_10_tagging(text):\n",
        "  if text == None:\n",
        "    return '해당사항없음'\n",
        "  elif text == '해당없음':\n",
        "    return '해당사항없음'\n",
        "  else:\n",
        "    text = text.replace('농축수산인',' 농축수산인').replace('다문화 가정', '다문화가족').replace('다자녀 가정','다자녀가정').replace('독거노인', '독거노인').replace('보훈대상 및 가족', '국가유공자').replace('북한이탈주민', '북한이탈주민').replace('입양 가정', '구호구제대상자').replace('장애인', '장애인').replace('한부모/조손 가정', '한부모가정/조손가정').replace('해당없음', '해당사항없음').replace('환자', '질병/부상/질환자')\n",
        "    return text\n",
        "\n",
        "user['mb_10+대상특성'] = user.mb_10.apply(mb_10_tagging)\n",
        "# user.drop(columns = 'mb_10', inplace=True)\n",
        "get_category(user, 'mb_10+대상특성')"
      ],
      "metadata": {
        "colab": {
          "base_uri": "https://localhost:8080/"
        },
        "id": "1UT12cyO5ajv",
        "outputId": "d5ffe73c-8dc6-4c28-a387-ca0931b75da1"
      },
      "execution_count": null,
      "outputs": [
        {
          "output_type": "execute_result",
          "data": {
            "text/plain": [
              "[('해당사항없음', 14077),\n",
              " ('저소득층', 2604),\n",
              " ('한부모가정/조손가정', 2242),\n",
              " ('다자녀가정', 1654),\n",
              " ('장애인', 282),\n",
              " ('다문화가족', 241),\n",
              " ('질병/부상/질환자', 135),\n",
              " ('소년소녀가장', 125),\n",
              " ('국가유공자', 119),\n",
              " (' 농축수산인', 54),\n",
              " ('농축수산인', 46),\n",
              " ('구호구제대상자', 39),\n",
              " ('북한이탈주민', 13),\n",
              " ('독거노인', 12),\n",
              " '중복 있음']"
            ]
          },
          "metadata": {},
          "execution_count": 42
        }
      ]
    },
    {
      "cell_type": "markdown",
      "source": [
        "### mb_11 => 관심상황특성\n",
        "- 분포도\n",
        ">결혼예정: 735 => A13-01\n",
        ">\n",
        ">구직예정: 3221\n",
        ">\n",
        ">은퇴예정: 128 => A13-02\n",
        ">\n",
        ">임신예정: 225\n",
        ">\n",
        ">입대예정: 1525 => A13-00\n",
        ">\n",
        ">제대예정: 517\n",
        ">\n",
        ">출생예정: 177\n",
        ">\n",
        ">해당없음: 11527"
      ],
      "metadata": {
        "id": "zaWA3CNp7S-Q"
      }
    },
    {
      "cell_type": "code",
      "source": [
        "get_category(user, 'mb_11')"
      ],
      "metadata": {
        "colab": {
          "base_uri": "https://localhost:8080/"
        },
        "id": "ke-lIUm07bnM",
        "outputId": "dff6a3f3-6aa5-4724-d9cb-3c168a454481"
      },
      "execution_count": null,
      "outputs": [
        {
          "output_type": "execute_result",
          "data": {
            "text/plain": [
              "[('해당없음', 11527),\n",
              " ('구직 예정', 3221),\n",
              " ('None', 2740),\n",
              " ('입대 예정', 1525),\n",
              " ('결혼 예정', 735),\n",
              " ('제대 예정', 517),\n",
              " ('임신 예정', 225),\n",
              " ('출생 예정', 177),\n",
              " ('은퇴 예정', 128),\n",
              " '중복 있음']"
            ]
          },
          "metadata": {},
          "execution_count": 43
        }
      ]
    },
    {
      "cell_type": "code",
      "source": [
        "def mb_11_tagging(text):\n",
        "  if text == '해당없음':\n",
        "    return None\n",
        "  elif text == None:\n",
        "    return None\n",
        "  else:\n",
        "    text = text.replace('결혼 예정','결혼예정').replace('은퇴 예정', '은퇴예정').replace('입대 예정', '입대예정')\n",
        "    return text\n",
        "\n",
        "user['mb_11+관심상황특성'] = user.mb_11.apply(mb_11_tagging)\n",
        "# user.drop(columns = 'mb_11', inplace=True)\n",
        "get_category(user, 'mb_11+관심상황특성')"
      ],
      "metadata": {
        "colab": {
          "base_uri": "https://localhost:8080/"
        },
        "id": "A-v-CIOx7qXC",
        "outputId": "a7804bac-d7c6-4150-a562-3c2d5180eb8b"
      },
      "execution_count": null,
      "outputs": [
        {
          "output_type": "execute_result",
          "data": {
            "text/plain": [
              "[('None', 14267),\n",
              " ('구직 예정', 3221),\n",
              " ('입대예정', 1525),\n",
              " ('결혼예정', 735),\n",
              " ('제대 예정', 517),\n",
              " ('임신 예정', 225),\n",
              " ('출생 예정', 177),\n",
              " ('은퇴예정', 128),\n",
              " '중복 있음']"
            ]
          },
          "metadata": {},
          "execution_count": 44
        }
      ]
    },
    {
      "cell_type": "markdown",
      "source": [
        "### mb_13 => 상세한 장애 목록인데, admin과 연결 불가. 대상특성상세와 연결 불가. 냅두기"
      ],
      "metadata": {
        "id": "5YEPo0VV-Ocn"
      }
    },
    {
      "cell_type": "code",
      "source": [
        "get_category(user, 'mb_13')"
      ],
      "metadata": {
        "colab": {
          "base_uri": "https://localhost:8080/"
        },
        "id": "A3HxRCDMA8gC",
        "outputId": "d87dd6b8-5802-472d-a889-6c701c2ff0a9"
      },
      "execution_count": null,
      "outputs": [
        {
          "output_type": "execute_result",
          "data": {
            "text/plain": [
              "[('no', 17827),\n",
              " ('None', 1915),\n",
              " ('한부모/조손 가정', 81),\n",
              " ('지체', 61),\n",
              " ('청각', 34),\n",
              " ('뇌병변', 31),\n",
              " ('정신', 26),\n",
              " ('언어', 19),\n",
              " ('해당없음', 16),\n",
              " ('시각', 16),\n",
              " ('자폐성', 13),\n",
              " ('신장', 4),\n",
              " ('간', 3),\n",
              " ('호흡기', 2),\n",
              " ('심장', 2),\n",
              " ('간질', 2),\n",
              " ('장루', 2),\n",
              " '중복 있음']"
            ]
          },
          "metadata": {},
          "execution_count": 45
        }
      ]
    },
    {
      "cell_type": "markdown",
      "source": [
        "### mb_14 => 보훈대상 상세인데, admin과 연결 불가. 냅두기"
      ],
      "metadata": {
        "id": "7WPUDJk1-s7a"
      }
    },
    {
      "cell_type": "code",
      "source": [
        "get_category(user, 'mb_14')"
      ],
      "metadata": {
        "colab": {
          "base_uri": "https://localhost:8080/"
        },
        "id": "QG9c0ddGAz8f",
        "outputId": "5053b964-36ee-4067-da8a-36cc4475164c"
      },
      "execution_count": null,
      "outputs": [
        {
          "output_type": "execute_result",
          "data": {
            "text/plain": [
              "[('no', 17988),\n",
              " ('None', 1911),\n",
              " ('국가유공자', 61),\n",
              " ('보훈보상대상자', 27),\n",
              " ('해당없음', 21),\n",
              " ('참전유공자', 8),\n",
              " ('고엽제 후유(의)증', 3),\n",
              " ('제대군인', 3),\n",
              " ('특수임무유공자', 3),\n",
              " ('5.18 민주유공자', 2),\n",
              " ('독립유공자', 1),\n",
              " '중복 있음']"
            ]
          },
          "metadata": {},
          "execution_count": 46
        }
      ]
    },
    {
      "cell_type": "markdown",
      "source": [
        "### mb_15: 관심정책. 관심상황특성과 연결 짓기?\n",
        ">개인금융지원: 6652\n",
        ">\n",
        ">교육지원(만8~19세): 4746\n",
        ">\n",
        ">근로자 지원: 7297\n",
        ">\n",
        ">기업금융지원: 2064\n",
        ">\n",
        ">문화생활 지원: 6521\n",
        ">\n",
        ">보육지원(만0~7세): 782\n",
        ">\n",
        ">성인교육지원: 4557\n",
        ">\n",
        ">의료 지원: 4308\n",
        ">\n",
        ">주택-부동산 지원: 5141\n",
        ">\n",
        ">창업 지원: 3214\n",
        ">\n",
        ">취업 지원: 722"
      ],
      "metadata": {
        "id": "GePVxTODBHmz"
      }
    },
    {
      "cell_type": "code",
      "source": [
        "get_category(user, 'mb_15')"
      ],
      "metadata": {
        "colab": {
          "base_uri": "https://localhost:8080/"
        },
        "id": "JwcqZfWwlsQe",
        "outputId": "69f56b67-685c-4ffb-9fea-56621ee4d3ea"
      },
      "execution_count": null,
      "outputs": [
        {
          "output_type": "execute_result",
          "data": {
            "text/plain": [
              "[('근로자 지원', 7297),\n",
              " ('취업 지원', 7221),\n",
              " ('개인금융지원', 6652),\n",
              " ('문화생활 지원', 6521),\n",
              " ('주택-부동산 지원', 5141),\n",
              " ('교육지원(만8~19세)', 4746),\n",
              " ('성인교육지원', 4557),\n",
              " ('의료 지원', 4308),\n",
              " ('None', 3870),\n",
              " ('창업 지원', 3214),\n",
              " ('기업금융지원', 2064),\n",
              " ('보육지원(만0~7세)', 782),\n",
              " '중복 있음']"
            ]
          },
          "metadata": {},
          "execution_count": 47
        }
      ]
    },
    {
      "cell_type": "code",
      "source": [
        "로자 지원\n",
        "취업 지원\n",
        "개인금융지원\n",
        "문화생활 지원\n",
        "주택-부동산 지원\n",
        "교육지원(만8~19세)\n",
        "성인교육지원\n",
        "의료 지원\n",
        "창업 지원\n",
        "기업금융지원\n",
        "보육지원(만0~7세)"
      ],
      "metadata": {
        "id": "pQQsEXRCYcqz"
      },
      "execution_count": null,
      "outputs": []
    },
    {
      "cell_type": "markdown",
      "source": [
        "### user_final 로 저장"
      ],
      "metadata": {
        "id": "eHLBLBp0nWZG"
      }
    },
    {
      "cell_type": "code",
      "source": [
        "user.columns"
      ],
      "metadata": {
        "colab": {
          "base_uri": "https://localhost:8080/"
        },
        "id": "vD7dQDyO_0G4",
        "outputId": "e5db98bc-f687-43c8-b489-557a99a505fd"
      },
      "execution_count": null,
      "outputs": [
        {
          "output_type": "execute_result",
          "data": {
            "text/plain": [
              "Index(['num', 'mb_sex', 'mb_birth', 'mb_1', 'mb_2', 'mb_3', 'mb_4', 'mb_5',\n",
              "       'mb_6', 'mb_7', '자녀수', 'mb_9', 'mb_10', 'mb_11', 'mb_12', 'mb_13',\n",
              "       'mb_14', 'mb_15', '성별', '나이', '거주_시도', '거주_시군구', '관심_시도', '관심_시군구',\n",
              "       '시도', '시군구', '학력', '직장', '가구원', '결혼', '자녀', '자녀상세', 'mb_10+대상특성',\n",
              "       'mb_11+관심상황특성'],\n",
              "      dtype='object')"
            ]
          },
          "metadata": {},
          "execution_count": 48
        }
      ]
    },
    {
      "cell_type": "code",
      "source": [
        "user = user[['num', '성별', '나이', '시도', '시군구', '학력', '직장', '가구원', '결혼', '자녀', '자녀상세', '자녀수', 'mb_10', 'mb_10+대상특성', 'mb_11', 'mb_11+관심상황특성', 'mb_12', 'mb_13', 'mb_14', 'mb_15']]"
      ],
      "metadata": {
        "id": "3irMIjPU_l1F"
      },
      "execution_count": null,
      "outputs": []
    },
    {
      "cell_type": "code",
      "source": [
        "user_final0117 = open('/content/drive/MyDrive/웰로/data/user_final0117.pkl', 'wb')\n",
        "pickle.dump(user,user_final0117)"
      ],
      "metadata": {
        "id": "_n9RKEyhC0s8"
      },
      "execution_count": null,
      "outputs": []
    },
    {
      "cell_type": "markdown",
      "source": [
        "## policy 태깅"
      ],
      "metadata": {
        "id": "CbGmc30F8u02"
      }
    },
    {
      "cell_type": "markdown",
      "source": [
        "### 대상연령시작, 대상연령끝\n",
        "from 생애주기, 지원대상"
      ],
      "metadata": {
        "id": "KcLvI8EAhbvt"
      }
    },
    {
      "cell_type": "code",
      "source": [
        "# policy + admin 중 대상연령에 필요한 feature\n",
        "policy_admin_age = pd.merge(left=policy, right=admin, how='inner', on='정책ID')\n",
        "policy_admin_age = policy_admin_age[['정책ID', '서비스명_x', '소관기관', '소관기관유형.1', '생애주기', '선정기준', '서비스목적', '지원내용', '지원대상', '대상연령시작', '대상연령끝']]"
      ],
      "metadata": {
        "id": "XtgfJdZyVUBw"
      },
      "execution_count": null,
      "outputs": []
    },
    {
      "cell_type": "code",
      "source": [
        "# 생애주기 feature의 카테고리\n",
        "birth_lst = list()\n",
        "for sentences in policy_admin_age[policy_admin_age['생애주기'].notnull()]['생애주기'].unique():\n",
        "    lst = sentences.split('||')\n",
        "    for i in lst:\n",
        "      if i not in birth_lst:\n",
        "        birth_lst.append(i)\n",
        "\n",
        "birth_lst"
      ],
      "metadata": {
        "colab": {
          "base_uri": "https://localhost:8080/"
        },
        "id": "ybflcEKZKf5T",
        "outputId": "e9215941-eb86-482e-e927-be23db2f8157"
      },
      "execution_count": null,
      "outputs": [
        {
          "output_type": "execute_result",
          "data": {
            "text/plain": [
              "['영·유아', '아동·청소년', '청년', '중장년', '노년기']"
            ]
          },
          "metadata": {},
          "execution_count": 153
        }
      ]
    },
    {
      "cell_type": "markdown",
      "source": [
        "#### 필터링 사용자 함수"
      ],
      "metadata": {
        "id": "fWCWXEWjW312"
      }
    },
    {
      "cell_type": "code",
      "source": [
        "# 생애주기 feature 필터링 코드\n",
        "def age_default(start_life, end_life):\n",
        "  if start_life == birth_lst[0] :\n",
        "    min = 0\n",
        "  elif start_life == birth_lst[1] :\n",
        "    min = 6\n",
        "  elif start_life == birth_lst[2] :\n",
        "    min = 19\n",
        "  elif start_life == birth_lst[3] :\n",
        "    min = 34\n",
        "  elif start_life == birth_lst[4] :\n",
        "    min = 65\n",
        "  \n",
        "  if end_life == birth_lst[0] :\n",
        "    max = 6\n",
        "  elif end_life == birth_lst[1] :\n",
        "    max = 19\n",
        "  elif end_life == birth_lst[2] :\n",
        "    max = 34\n",
        "  elif end_life == birth_lst[3] :\n",
        "    max = 70\n",
        "  elif end_life == birth_lst[4] :\n",
        "    max = 120\n",
        "  return min, max\n",
        "\n",
        "\n",
        "# 지원대상 feature 필터링 코드\n",
        "def age_sel(text, i):\n",
        "  if str(text) == 'nan':\n",
        "    return -1., -1.\n",
        "  min_lst = []\n",
        "  max_lst = []\n",
        "\n",
        "  regex1 = '[0-9]{1,2} ?세 ?이상|[0-9]{1,2} ?세 ?이하|[0-9]{1,2} ?세 ?초과|[0-9]{1,2} ?세 ?미만'\n",
        "  regex2 = '[0-9]{1,2} ?개월 ?이상|[0-9]{1,2} ?개월 ?이하|[0-9]{1,2} ?개월 ?초과|[0-9]{1,2} ?개월 ?미만'\n",
        "  regex5 = '[0-9]{1,2} ?대 ?이상|[0-9]{1,2} ?대 ?이하|[0-9]{1,2} ?대 ?초과|[0-9]{1,2} ?대 ?미만'\n",
        "  regex3 = '[0-9]{1,2}세? ?~ ?만? ?[0-9]{1,2}세' # 3~5세 | 6세~만19세\n",
        "  regex4 = '[0-9]{1,2}개월? ?~ ?만? ?[0-9]{1,2}개월'\n",
        "\n",
        "  r = re.compile(f'{regex1}|{regex2}|{regex3}|{regex4}|{regex5}')\n",
        "  m = r.findall(text)\n",
        "\n",
        "  if len(m) == 0:\n",
        "    return -1, -1\n",
        "  else:\n",
        "    for i, sel in enumerate(m):\n",
        "      if '~' in sel:\n",
        "        a, b = map(lambda x: int(re.search('[0-9]+', x).group()), sel.split('~'))\n",
        "        min_lst.append(a)\n",
        "        max_lst.append(b)\n",
        "        break\n",
        "      elif ('이상' in sel) or ('초과' in sel):\n",
        "        if '세' in sel:\n",
        "          min_lst.append(int(re.search('[0-9]+', sel).group()))\n",
        "        else:\n",
        "          age = int(re.search('[0-9]+', sel).group()) / 12\n",
        "          min_lst.append(round(age))\n",
        "        continue\n",
        "      else:\n",
        "        if '세' in sel:\n",
        "          max_lst.append(int(re.search('[0-9]+', sel).group()))\n",
        "        else:\n",
        "          age = int(re.search('[0-9]+', sel).group()) / 12\n",
        "          max_lst.append(round(age))\n",
        "        continue\n",
        "      \n",
        "  try:\n",
        "    minimum = min(min_lst)\n",
        "  except:\n",
        "    minimum = 0\n",
        "  \n",
        "  try:\n",
        "    maximum = max(max_lst)\n",
        "  except:\n",
        "    maximum = 0\n",
        "\n",
        "  return minimum, maximum"
      ],
      "metadata": {
        "id": "ixA5ZoABWu-D"
      },
      "execution_count": null,
      "outputs": []
    },
    {
      "cell_type": "markdown",
      "source": [
        "#### 필터링 코드"
      ],
      "metadata": {
        "id": "Kskg8cuCXLii"
      }
    },
    {
      "cell_type": "code",
      "source": [
        "%%time\n",
        "\n",
        "policy_solv_start_age2 = np.array([])\n",
        "policy_solv_end_age2 = np.array([])\n",
        "\n",
        "for i in range(len(policy_admin_age)):\n",
        "  \n",
        "  # 지원대상 filtering\n",
        "  a, b = age_sel(policy_admin_age.지원대상.iloc[i] , i)\n",
        "  if a > 0:\n",
        "    minimum = a\n",
        "  if b > 0:\n",
        "    maximum = b\n",
        "\n",
        "  # 생애주기 filtering\n",
        "  # if a < 1 or b < 1:\n",
        "  life_ages = policy_admin_age.생애주기.iloc[i]\n",
        "  try:\n",
        "    if '||' in life_ages:\n",
        "      start_life = life_ages.split('||')[0]\n",
        "      end_life = life_ages.split('||')[-1]\n",
        "    else:\n",
        "      start_life = end_life = life_ages \n",
        "    c, d = age_default(start_life, end_life)\n",
        "  except:\n",
        "    c = 0\n",
        "    d = 120\n",
        "\n",
        "  if ((a == -1.) and (b == -1.)) or ((a == 0) and (b == 0)):\n",
        "    minimum = c\n",
        "    maximum = d \n",
        "  elif (a == 0) and (b >0):\n",
        "    minimum = c\n",
        "  elif (a > 0 ) and (b == 0):\n",
        "    maximum = d\n",
        "  \n",
        "  # 확인\n",
        "  if minimum >= maximum :\n",
        "    minimum = c\n",
        "    maximum = d\n",
        "\n",
        "  policy_solv_start_age2 = np.append(policy_solv_start_age2, [minimum])\n",
        "  policy_solv_end_age2 = np.append(policy_solv_end_age2, [maximum])\n",
        "  "
      ],
      "metadata": {
        "colab": {
          "base_uri": "https://localhost:8080/"
        },
        "id": "qUSHD76QjhaE",
        "outputId": "b3312adb-53ae-4e7a-c4a5-323d5a54eea9"
      },
      "execution_count": null,
      "outputs": [
        {
          "output_type": "stream",
          "name": "stdout",
          "text": [
            "CPU times: user 22.9 s, sys: 683 ms, total: 23.6 s\n",
            "Wall time: 23.6 s\n"
          ]
        }
      ]
    },
    {
      "cell_type": "code",
      "source": [
        "policy_admin_age['대상연령_시작'] = policy_solv_start_age2\n",
        "policy_admin_age['대상연령_끝'] = policy_solv_end_age2"
      ],
      "metadata": {
        "id": "KD5p6OEIJT0E"
      },
      "execution_count": null,
      "outputs": []
    },
    {
      "cell_type": "code",
      "source": [
        "policy_admin_age[['서비스명_x','생애주기','지원대상', '대상연령_시작', '대상연령_끝']].iloc[1000:2000]"
      ],
      "metadata": {
        "colab": {
          "base_uri": "https://localhost:8080/"
        },
        "id": "k8rjkMjeayui",
        "outputId": "0d2cba1b-b579-4ff6-9aa4-0fa4089db89c"
      },
      "execution_count": null,
      "outputs": [
        {
          "output_type": "execute_result",
          "data": {
            "text/html": [
              "\n",
              "  <div id=\"df-41e0f35b-47ea-4fe7-99c3-886ee51d2316\">\n",
              "    <div class=\"colab-df-container\">\n",
              "      <div>\n",
              "<style scoped>\n",
              "    .dataframe tbody tr th:only-of-type {\n",
              "        vertical-align: middle;\n",
              "    }\n",
              "\n",
              "    .dataframe tbody tr th {\n",
              "        vertical-align: top;\n",
              "    }\n",
              "\n",
              "    .dataframe thead th {\n",
              "        text-align: right;\n",
              "    }\n",
              "</style>\n",
              "<table border=\"1\" class=\"dataframe\">\n",
              "  <thead>\n",
              "    <tr style=\"text-align: right;\">\n",
              "      <th></th>\n",
              "      <th>서비스명_x</th>\n",
              "      <th>생애주기</th>\n",
              "      <th>지원대상</th>\n",
              "      <th>대상연령_시작</th>\n",
              "      <th>대상연령_끝</th>\n",
              "    </tr>\n",
              "  </thead>\n",
              "  <tbody>\n",
              "    <tr>\n",
              "      <th>1000</th>\n",
              "      <td>북한이탈주민 상담 지원</td>\n",
              "      <td>None</td>\n",
              "      <td>○ 상담을 원하는 북한이탈주민</td>\n",
              "      <td>0.0</td>\n",
              "      <td>120.0</td>\n",
              "    </tr>\n",
              "    <tr>\n",
              "      <th>1001</th>\n",
              "      <td>북한이탈주민 자립자활 지원</td>\n",
              "      <td>None</td>\n",
              "      <td>○ 북한이탈주민</td>\n",
              "      <td>0.0</td>\n",
              "      <td>120.0</td>\n",
              "    </tr>\n",
              "    <tr>\n",
              "      <th>1002</th>\n",
              "      <td>북한이탈주민 주택 알선 지원</td>\n",
              "      <td>None</td>\n",
              "      <td>○ 북한이탈주민으로 보호 \"또는 비보호\" 결정된 자</td>\n",
              "      <td>0.0</td>\n",
              "      <td>120.0</td>\n",
              "    </tr>\n",
              "    <tr>\n",
              "      <th>1003</th>\n",
              "      <td>무주택 전후 납북피해자 주거 지원</td>\n",
              "      <td>None</td>\n",
              "      <td>○ 무주택 전후 납북피해자\\n -한국토지주택공사 등에서 납북피해자 대상 주택 배정물...</td>\n",
              "      <td>0.0</td>\n",
              "      <td>120.0</td>\n",
              "    </tr>\n",
              "    <tr>\n",
              "      <th>1004</th>\n",
              "      <td>교육복지우선지원</td>\n",
              "      <td>None</td>\n",
              "      <td>○ 수급자 학생, 교육감이 정하는 차상위 계층 학생, 한 부모 가족 보호 대상 학생...</td>\n",
              "      <td>0.0</td>\n",
              "      <td>120.0</td>\n",
              "    </tr>\n",
              "    <tr>\n",
              "      <th>...</th>\n",
              "      <td>...</td>\n",
              "      <td>...</td>\n",
              "      <td>...</td>\n",
              "      <td>...</td>\n",
              "      <td>...</td>\n",
              "    </tr>\n",
              "    <tr>\n",
              "      <th>1995</th>\n",
              "      <td>농정시책 교육 지원</td>\n",
              "      <td>청년||중장년||노년기</td>\n",
              "      <td>희망농업인\\n\\n농축수산인</td>\n",
              "      <td>19.0</td>\n",
              "      <td>120.0</td>\n",
              "    </tr>\n",
              "    <tr>\n",
              "      <th>1996</th>\n",
              "      <td>영농기술혁신 교육 지원</td>\n",
              "      <td>청년||중장년||노년기</td>\n",
              "      <td>희망농업인\\n\\n농축수산인</td>\n",
              "      <td>19.0</td>\n",
              "      <td>120.0</td>\n",
              "    </tr>\n",
              "    <tr>\n",
              "      <th>1997</th>\n",
              "      <td>정신건강 증진센터 운영(아동·청소년 정신 보건 사업 및 자살예방사업 포함)</td>\n",
              "      <td>아동·청소년||청년||중장년||노년기</td>\n",
              "      <td>○ 정신건강복지센터 이용대상 : 중증정신질환자를 포함한 해당 지역 주민  및 군인\\...</td>\n",
              "      <td>6.0</td>\n",
              "      <td>18.0</td>\n",
              "    </tr>\n",
              "    <tr>\n",
              "      <th>1998</th>\n",
              "      <td>원격 치매 클리닉 운영 지원</td>\n",
              "      <td>노년기</td>\n",
              "      <td>도내 의료취약지역(9개 군) 치매 안심 센터 등록환자  \\n※ 의료취약지역: 정신건...</td>\n",
              "      <td>65.0</td>\n",
              "      <td>120.0</td>\n",
              "    </tr>\n",
              "    <tr>\n",
              "      <th>1999</th>\n",
              "      <td>정규직 일자리 보조금 지원</td>\n",
              "      <td>아동·청소년||청년||중장년</td>\n",
              "      <td>○ 시장·군수가 공모하는 정규직 일자리 보조금 지원사업에 참여하여 지원대상으로 선정...</td>\n",
              "      <td>6.0</td>\n",
              "      <td>70.0</td>\n",
              "    </tr>\n",
              "  </tbody>\n",
              "</table>\n",
              "<p>1000 rows × 5 columns</p>\n",
              "</div>\n",
              "      <button class=\"colab-df-convert\" onclick=\"convertToInteractive('df-41e0f35b-47ea-4fe7-99c3-886ee51d2316')\"\n",
              "              title=\"Convert this dataframe to an interactive table.\"\n",
              "              style=\"display:none;\">\n",
              "        \n",
              "  <svg xmlns=\"http://www.w3.org/2000/svg\" height=\"24px\"viewBox=\"0 0 24 24\"\n",
              "       width=\"24px\">\n",
              "    <path d=\"M0 0h24v24H0V0z\" fill=\"none\"/>\n",
              "    <path d=\"M18.56 5.44l.94 2.06.94-2.06 2.06-.94-2.06-.94-.94-2.06-.94 2.06-2.06.94zm-11 1L8.5 8.5l.94-2.06 2.06-.94-2.06-.94L8.5 2.5l-.94 2.06-2.06.94zm10 10l.94 2.06.94-2.06 2.06-.94-2.06-.94-.94-2.06-.94 2.06-2.06.94z\"/><path d=\"M17.41 7.96l-1.37-1.37c-.4-.4-.92-.59-1.43-.59-.52 0-1.04.2-1.43.59L10.3 9.45l-7.72 7.72c-.78.78-.78 2.05 0 2.83L4 21.41c.39.39.9.59 1.41.59.51 0 1.02-.2 1.41-.59l7.78-7.78 2.81-2.81c.8-.78.8-2.07 0-2.86zM5.41 20L4 18.59l7.72-7.72 1.47 1.35L5.41 20z\"/>\n",
              "  </svg>\n",
              "      </button>\n",
              "      \n",
              "  <style>\n",
              "    .colab-df-container {\n",
              "      display:flex;\n",
              "      flex-wrap:wrap;\n",
              "      gap: 12px;\n",
              "    }\n",
              "\n",
              "    .colab-df-convert {\n",
              "      background-color: #E8F0FE;\n",
              "      border: none;\n",
              "      border-radius: 50%;\n",
              "      cursor: pointer;\n",
              "      display: none;\n",
              "      fill: #1967D2;\n",
              "      height: 32px;\n",
              "      padding: 0 0 0 0;\n",
              "      width: 32px;\n",
              "    }\n",
              "\n",
              "    .colab-df-convert:hover {\n",
              "      background-color: #E2EBFA;\n",
              "      box-shadow: 0px 1px 2px rgba(60, 64, 67, 0.3), 0px 1px 3px 1px rgba(60, 64, 67, 0.15);\n",
              "      fill: #174EA6;\n",
              "    }\n",
              "\n",
              "    [theme=dark] .colab-df-convert {\n",
              "      background-color: #3B4455;\n",
              "      fill: #D2E3FC;\n",
              "    }\n",
              "\n",
              "    [theme=dark] .colab-df-convert:hover {\n",
              "      background-color: #434B5C;\n",
              "      box-shadow: 0px 1px 3px 1px rgba(0, 0, 0, 0.15);\n",
              "      filter: drop-shadow(0px 1px 2px rgba(0, 0, 0, 0.3));\n",
              "      fill: #FFFFFF;\n",
              "    }\n",
              "  </style>\n",
              "\n",
              "      <script>\n",
              "        const buttonEl =\n",
              "          document.querySelector('#df-41e0f35b-47ea-4fe7-99c3-886ee51d2316 button.colab-df-convert');\n",
              "        buttonEl.style.display =\n",
              "          google.colab.kernel.accessAllowed ? 'block' : 'none';\n",
              "\n",
              "        async function convertToInteractive(key) {\n",
              "          const element = document.querySelector('#df-41e0f35b-47ea-4fe7-99c3-886ee51d2316');\n",
              "          const dataTable =\n",
              "            await google.colab.kernel.invokeFunction('convertToInteractive',\n",
              "                                                     [key], {});\n",
              "          if (!dataTable) return;\n",
              "\n",
              "          const docLinkHtml = 'Like what you see? Visit the ' +\n",
              "            '<a target=\"_blank\" href=https://colab.research.google.com/notebooks/data_table.ipynb>data table notebook</a>'\n",
              "            + ' to learn more about interactive tables.';\n",
              "          element.innerHTML = '';\n",
              "          dataTable['output_type'] = 'display_data';\n",
              "          await google.colab.output.renderOutput(dataTable, element);\n",
              "          const docLink = document.createElement('div');\n",
              "          docLink.innerHTML = docLinkHtml;\n",
              "          element.appendChild(docLink);\n",
              "        }\n",
              "      </script>\n",
              "    </div>\n",
              "  </div>\n",
              "  "
            ],
            "text/plain": [
              "                                         서비스명_x  ... 대상연령_끝\n",
              "1000                               북한이탈주민 상담 지원  ...  120.0\n",
              "1001                             북한이탈주민 자립자활 지원  ...  120.0\n",
              "1002                            북한이탈주민 주택 알선 지원  ...  120.0\n",
              "1003                         무주택 전후 납북피해자 주거 지원  ...  120.0\n",
              "1004                                   교육복지우선지원  ...  120.0\n",
              "...                                         ...  ...    ...\n",
              "1995                                 농정시책 교육 지원  ...  120.0\n",
              "1996                               영농기술혁신 교육 지원  ...  120.0\n",
              "1997  정신건강 증진센터 운영(아동·청소년 정신 보건 사업 및 자살예방사업 포함)  ...   18.0\n",
              "1998                            원격 치매 클리닉 운영 지원  ...  120.0\n",
              "1999                             정규직 일자리 보조금 지원  ...   70.0\n",
              "\n",
              "[1000 rows x 5 columns]"
            ]
          },
          "metadata": {},
          "execution_count": 56
        }
      ]
    },
    {
      "cell_type": "markdown",
      "source": [
        "#### 대상연령 맞춘 비율"
      ],
      "metadata": {
        "id": "JFL5NZ_pUNwv"
      }
    },
    {
      "cell_type": "code",
      "source": [
        "policy_admin_age['대상연령_시작'] = policy_admin_age['대상연령_시작'].astype(int)\n",
        "policy_admin_age['대상연령_끝'] = policy_admin_age['대상연령_끝'].astype(int)\n",
        "policy_admin_age.대상연령_끝 = policy_admin_age.대상연령_끝.replace(120, 99)"
      ],
      "metadata": {
        "id": "h7ZcUD1xUPn7"
      },
      "execution_count": null,
      "outputs": []
    },
    {
      "cell_type": "code",
      "source": [
        "# 대상연령시작 맞춘 비율\n",
        "print(len(policy_admin_age[policy_admin_age.대상연령시작 == policy_admin_age['대상연령_시작']]) / len(policy_admin_age) * 100)\n",
        "\n",
        "# 대상연령끝 맞춘 비율\n",
        "print(len(policy_admin_age[policy_admin_age.대상연령끝 == policy_admin_age['대상연령_끝']]) / len(policy_admin_age) * 100)"
      ],
      "metadata": {
        "colab": {
          "base_uri": "https://localhost:8080/"
        },
        "id": "_12ENrodTjDf",
        "outputId": "d397749e-9561-4566-c8b5-9865c099ead7"
      },
      "execution_count": null,
      "outputs": [
        {
          "output_type": "stream",
          "name": "stdout",
          "text": [
            "54.18484279999096\n",
            "70.6179508622833\n"
          ]
        }
      ]
    },
    {
      "cell_type": "markdown",
      "source": [
        "#### 필터링 pickle dump"
      ],
      "metadata": {
        "id": "SyWKPoQ5Kan5"
      }
    },
    {
      "cell_type": "code",
      "source": [
        "policy_admin_age.columns"
      ],
      "metadata": {
        "colab": {
          "base_uri": "https://localhost:8080/"
        },
        "id": "-98_554Mqeu2",
        "outputId": "acfe6a8f-c3c8-4cd5-b9ab-49faca93cc3d"
      },
      "execution_count": null,
      "outputs": [
        {
          "output_type": "execute_result",
          "data": {
            "text/plain": [
              "Index(['정책ID', '서비스명_x', '소관기관', '소관기관유형.1', '생애주기', '선정기준', '서비스목적', '지원내용',\n",
              "       '지원대상', '대상연령시작', '대상연령끝', '대상연령_시작', '대상연령_끝'],\n",
              "      dtype='object')"
            ]
          },
          "metadata": {},
          "execution_count": 59
        }
      ]
    },
    {
      "cell_type": "code",
      "source": [
        "len(policy), len(policy_admin_age)"
      ],
      "metadata": {
        "colab": {
          "base_uri": "https://localhost:8080/"
        },
        "id": "zCpWZdrdY3sQ",
        "outputId": "84682d91-f6ed-4b91-c7aa-169862c911b6"
      },
      "execution_count": null,
      "outputs": [
        {
          "output_type": "execute_result",
          "data": {
            "text/plain": [
              "(88486, 88486)"
            ]
          },
          "metadata": {},
          "execution_count": 60
        }
      ]
    },
    {
      "cell_type": "code",
      "source": [
        "policy_age_done = open('/content/drive/MyDrive/웰로/data/policy_age_done_2.pkl', 'wb')\n",
        "pickle.dump(policy_admin_age,policy_age_done)"
      ],
      "metadata": {
        "id": "c6eENfVk7uK8"
      },
      "execution_count": null,
      "outputs": []
    },
    {
      "cell_type": "markdown",
      "source": [
        "### 지역(시도), 지역(시군구)"
      ],
      "metadata": {
        "id": "xoZSK6BK8a2e"
      }
    },
    {
      "cell_type": "code",
      "source": [
        "policy.columns"
      ],
      "metadata": {
        "colab": {
          "base_uri": "https://localhost:8080/"
        },
        "id": "G9qOoW_UK6-l",
        "outputId": "e7a0f471-f6b8-470a-95ba-86d59d74e0ef"
      },
      "execution_count": null,
      "outputs": [
        {
          "output_type": "execute_result",
          "data": {
            "text/plain": [
              "Index(['정책ID', '정책서비스ID', '서비스명', '소관기관', '소관기관유형', '소관기관.1', '문의처전화번호',\n",
              "       '소관기관유형.1', '온라인신청사이트URL', '생애주기', '신청절차', '선정기준', '지원유형', '서비스목적',\n",
              "       '지원내용', '지원대상', '신청기한_시작', '신청기한_끝', '상세조회URL', '태그-신청절차', '태그-자녀',\n",
              "       '태그-수집유형', '태그-가구원', '태그-성별', '태그-학력', '태그-직장', '태그-결혼', '태그-지원유형',\n",
              "       '태그-지역(시도)', '태그-관심상황특성', '태그-자녀상세', '태그-직장상세', '태그-지원유형상세',\n",
              "       '태그-지역(시군구)', '태그-대상특성상세', '태그-대상특성', '태그-대상연령시작', '태그-대상연령끝',\n",
              "       '태그-중위소득시작', '태그-중위소득끝'],\n",
              "      dtype='object')"
            ]
          },
          "metadata": {},
          "execution_count": 62
        }
      ]
    },
    {
      "cell_type": "code",
      "source": [
        "admin.columns"
      ],
      "metadata": {
        "colab": {
          "base_uri": "https://localhost:8080/"
        },
        "id": "RKanW_x9WES4",
        "outputId": "b7df1647-6436-495e-8cd1-1b8389932a97"
      },
      "execution_count": null,
      "outputs": [
        {
          "output_type": "execute_result",
          "data": {
            "text/plain": [
              "Index(['정책ID', '정책서비스ID', '서비스명', '신청절차', '자녀', '수집유형', '가구원', '성별', '학력',\n",
              "       '직장', '결혼', '지원유형', '지역(시도)', '관심상황특성', '자녀상세', '직장상세', '지원유형상세',\n",
              "       '지역(시군구)', '대상특성상세', '대상특성', '대상연령시작', '대상연령끝', '중위소득기준-시작',\n",
              "       '중위소득기준-종료'],\n",
              "      dtype='object')"
            ]
          },
          "metadata": {},
          "execution_count": 63
        }
      ]
    },
    {
      "cell_type": "code",
      "source": [
        "# policy + admin 중 대상연령에 필요한 feature\n",
        "policy_admin_loca = pd.merge(left=policy, right=admin, how='inner', on='정책ID')\n",
        "policy_admin_loca = policy_admin_loca[['정책ID', '서비스명_x', '소관기관', '소관기관유형.1', '지원내용', '지원대상', '지역(시도)', '지역(시군구)']]\n",
        "len(policy_admin_loca), len(policy)"
      ],
      "metadata": {
        "id": "yKollhg0ZfBb",
        "colab": {
          "base_uri": "https://localhost:8080/"
        },
        "outputId": "f21aae38-71b3-4e0e-ad89-c655f170f4f5"
      },
      "execution_count": null,
      "outputs": [
        {
          "output_type": "execute_result",
          "data": {
            "text/plain": [
              "(88486, 88486)"
            ]
          },
          "metadata": {},
          "execution_count": 64
        }
      ]
    },
    {
      "cell_type": "markdown",
      "source": [
        "#### city dict"
      ],
      "metadata": {
        "id": "eE8ymcyKN3XA"
      }
    },
    {
      "cell_type": "code",
      "source": [
        "loca_dict = {'전국':[],\n",
        "             '서울특별시': ['전체', '종로구', '중구', '용산구', '성동구', '광진구', '동대문구', '중랑구', '성북구', '강북구', '도봉구', '노원구', '은평구', '서대문구', '마포구', '양천구', '강서구', '구로구', '금천구', '영등포구', '동작구', '관악구', '서초구', '강남구', '송파구', '강동구'],\n",
        "             '부산광역시': ['전체', '중구', '서구', '동구', '영도구', '부산진구', '동래구', '남구', '북구', '해운대구', '사하구', '금정구', '강서구', '연제구', '수영구', '사상구', '기장군'],\n",
        "             '대구광역시': ['전체', '중구', '동구', '서구', '남구', '북구', '수성구', '달서구', '달성군'],\n",
        "             '인천광역시': ['전체', '중구', '동구', '미추홀구', '연수구', '남동구', '부평구', '계양구', '서구', '강화군', '옹진군'],\n",
        "             '광주광역시': ['전체', '동구', '서구', '남구', '북구', '광산구'],\n",
        "             '대전광역시': ['전체', '동구', '중구', '서구', '유성구', '대덕구'],\n",
        "             '울산광역시': ['전체', '중구', '남구', '동구', '북구', '울주군'],\n",
        "             '세종특별자치시': ['세종시 전체'],\n",
        "             '경기도': ['전체', '수원시', '성남시', '고양시', '용인시', '부천시', '안산시', '안양시', '남양주시', '화성시', '평택시', '의정부시', '시흥시', '파주시', '광명시', '김포시', '군포시', '광주시', '이천시', '양주시', '오산시', '구리시', '안성시', '포천시', '의왕시', '하남시', '여주시', '양평군', '동두천시', '과천시', '가평군', '연천군'],\n",
        "             '강원도': ['전체', '춘천시', '원주시', '강릉시', '동해시', '태백시', '속초시', '삼척시', '홍천군', '횡성군', '영월군', '평창군', '정선군', '철원군', '화천군', '양구군', '인제군', '고성군', '양양군'],\n",
        "             '충청북도': ['전체', '청주시', '충주시', '제천시', '보은군', '옥천군', '영동군', '진천군', '괴산군', '음성군', '단양군', '증평군'],\n",
        "             '충청남도': ['전체', '천안시', '공주시', '보령시', '아산시', '서산시', '논산시', '계룡시', '당진시', '금산군', '부여군', '서천군', '청양군', '홍성군', '예산군', '태안군'],\n",
        "             '전라북도': ['전체', '전주시', '군산시', '익산시', '정읍시', '남원시', '김제시', '완주군', '진안군', '무주군', '장수군', '임실군', '순창군', '고창군', '부안군'],\n",
        "             '전라남도': ['전체', '목포시', '여수시', '순천시', '나주시', '광양시', '담양군', '곡성군', '구례군', '고흥군', '보성군', '화순군', '장흥군', '강진군', '해남군', '영암군', '무안군', '함평군', '영광군', '장성군', '완도군', '진도군', '신안군'],\n",
        "             '경상북도': ['전체', '포항시', '경주시', '김천시', '안동시', '구미시', '영주시', '영천시', '상주시', '문경시', '경산시', '군위군', '의성군', '청송군', '영양군', '영덕군', '청도군', '고령군', '성주군', '칠곡군', '예천군', '봉화군', '울진군', '울릉군'],\n",
        "             '경상남도': ['전체', '창원시', '진주시', '통영시', '사천시', '김해시', '밀양시', '거제시', '양산시', '의령군', '함안군', '창녕군', '고성군', '남해군', '하동군', '산청군', '함양군', '거창군', '합천군'],\n",
        "             '제주특별자치도': ['제주시', '서귀포시']\n",
        "             }"
      ],
      "metadata": {
        "id": "JLrVQj8bhQIC"
      },
      "execution_count": null,
      "outputs": []
    },
    {
      "cell_type": "code",
      "source": [
        "loca_short_dict = {'전국':[],\n",
        "             '서울': ['전체', '종로', '중구', '용산', '성동구', '광진구', '동대문', '중랑구', '성북구', '강북구', '도봉', '노원', '은평', '서대문', '마포', '양천', '강서구', '구로구', '금천구', '영등포', '동작구', '관악구', '서초', '강남', '송파', '강동구'],\n",
        "             '부산': ['전체', '중구', '서구', '동구', '영도구', '부산진구', '동래구', '남구', '북구', '해운대구', '사하구', '금정구', '강서구', '연제구', '수영구', '사상구', '기장'],\n",
        "             '대구': ['전체', '중구', '동구', '서구', '남구', '북구', '수성구', '달서구', '달성'],\n",
        "             '인천': ['전체', '중구', '동구', '미추홀구', '연수구', '남동구', '부평구', '계양구', '서구', '강화', '옹진'],\n",
        "             '광주': ['전체', '동구', '서구', '남구', '북구', '광산구'],\n",
        "             '대전': ['전체', '동구', '중구', '서구', '유성구', '대덕구'],\n",
        "             '울산': ['전체', '중구', '남구', '동구', '북구', '울주'],\n",
        "             '세종': ['전체'],\n",
        "             '경기': ['전체', '수원', '성남', '고양', '용인', '부천', '안산', '안양', '남양주', '화성', '평택', '의정부', '시흥', '파주', '광명', '김포', '군포', '광주', '이천', '양주', '오산', '구리', '안성', '포천', '의왕', '하남', '여주', '양평', '동두천', '과천', '가평', '연천'],\n",
        "             '강원': ['전체', '춘천', '원주', '강릉', '동해', '태백', '속초', '삼척', '홍천', '횡성', '영월', '평창', '정선', '철원', '화천', '양구', '인제', '고성', '양양'],\n",
        "             '충청북': ['전체', '청주', '충주', '제천', '보은', '옥천', '영동', '진천', '괴산', '음성', '단양', '증평'],\n",
        "             '충청남': ['전체', '천안', '공주', '보령', '아산', '서산', '논산', '계룡', '당진', '금산', '부여', '서천', '청양', '홍성', '예산', '태안'],\n",
        "             '전라북': ['전체', '전주', '군산', '익산', '정읍', '남원', '김제', '완주', '진안', '무주', '장수', '임실', '순창', '고창', '부안'],\n",
        "             '전라남': ['전체', '목포', '여수', '순천', '나주', '광양', '담양', '곡성', '구례', '고흥', '보성', '화순', '장흥', '강진', '해남', '영암', '무안', '함평', '영광', '장성', '완도', '진도', '신안'],\n",
        "             '경상북': ['전체', '포항', '경주', '김천', '안동', '구미', '영주', '영천', '상주', '문경', '경산', '군위', '의성', '청송', '영양', '영덕', '청도', '고령', '성주', '칠곡', '예천', '봉화', '울진', '울릉'],\n",
        "             '경상남': ['전체', '창원', '진주', '통영', '사천', '김해', '밀양', '거제', '양산', '의령', '함안', '창녕', '고성', '남해', '하동', '산청', '함양', '거창', '합천'],\n",
        "             '제주': ['제주', '서귀포']\n",
        "             }"
      ],
      "metadata": {
        "id": "S1rp1LgtvAVd"
      },
      "execution_count": null,
      "outputs": []
    },
    {
      "cell_type": "code",
      "source": [
        "loca_tag_dict = {'A01-00': [],\n",
        "             'A01-01': ['A01-01-00', 'A01-01-01', 'A01-01-02', 'A01-01-03', 'A01-01-04', 'A01-01-05', 'A01-01-06', 'A01-01-07', 'A01-01-08', 'A01-01-09', 'A01-01-10', 'A01-01-11', 'A01-01-12', 'A01-01-13', 'A01-01-14', 'A01-01-15', 'A01-01-16', 'A01-01-17', 'A01-01-18', 'A01-01-19', 'A01-01-20', 'A01-01-21', 'A01-01-22', 'A01-01-23', 'A01-01-24', 'A01-01-25'],\n",
        "             'A01-02': ['A01-02-00', 'A01-02-01', 'A01-02-02', 'A01-02-03', 'A01-02-04', 'A01-02-05', 'A01-02-06', 'A01-02-07', 'A01-02-08', 'A01-02-09', 'A01-02-10', 'A01-02-11', 'A01-02-12', 'A01-02-13', 'A01-02-14', 'A01-02-15', 'A01-02-16'],\n",
        "             'A01-03': ['A01-03-00', 'A01-03-01', 'A01-03-02', 'A01-03-03', 'A01-03-04', 'A01-03-05', 'A01-03-06', 'A01-03-07', 'A01-03-08'],\n",
        "             'A01-04': ['A01-04-00', 'A01-04-01', 'A01-04-02', 'A01-04-03', 'A01-04-04', 'A01-04-05', 'A01-04-06', 'A01-04-07', 'A01-04-08', 'A01-04-09', 'A01-04-10'],\n",
        "             'A01-05': ['A01-05-00', 'A01-05-01', 'A01-05-02', 'A01-05-03', 'A01-05-04', 'A01-05-05'],\n",
        "             'A01-06': ['A01-06-00', 'A01-06-01', 'A01-06-02', 'A01-06-03', 'A01-06-04', 'A01-06-05'],\n",
        "             'A01-07': ['A01-07-00', 'A01-07-01', 'A01-07-02', 'A01-07-03', 'A01-07-04', 'A01-07-05'],\n",
        "             'A01-08': ['A01-08-00'],\n",
        "             'A01-09': ['A01-09-00', 'A01-09-01', 'A01-09-02', 'A01-09-03', 'A01-09-04', 'A01-09-05', 'A01-09-06', 'A01-09-07', 'A01-09-08', 'A01-09-09', 'A01-09-10', 'A01-09-11', 'A01-09-12', 'A01-09-13', 'A01-09-14', 'A01-09-15', 'A01-09-16', 'A01-09-17', 'A01-09-18', 'A01-09-19', 'A01-09-20', 'A01-09-21', 'A01-09-22', 'A01-09-23', 'A01-09-24', 'A01-09-25', 'A01-09-26', 'A01-09-27', 'A01-09-28', 'A01-09-29', 'A01-09-30', 'A01-09-31'],\n",
        "             'A01-10': ['A01-10-00', 'A01-10-01', 'A01-10-02', 'A01-10-03', 'A01-10-04', 'A01-10-05', 'A01-10-06', 'A01-10-07', 'A01-10-08', 'A01-10-09', 'A01-10-10', 'A01-10-11', 'A01-10-12', 'A01-10-13', 'A01-10-14', 'A01-10-15', 'A01-10-16', 'A01-10-17', 'A01-10-18'],\n",
        "             'A01-11': ['A01-11-00', 'A01-11-01', 'A01-11-02', 'A01-11-03', 'A01-11-04', 'A01-11-05', 'A01-11-06', 'A01-11-07', 'A01-11-08', 'A01-11-09', 'A01-11-10', 'A01-11-11'],\n",
        "             'A01-12': ['A01-12-00', 'A01-12-01', 'A01-12-02', 'A01-12-03', 'A01-12-04', 'A01-12-05', 'A01-12-06', 'A01-12-07', 'A01-12-08', 'A01-12-09', 'A01-12-10', 'A01-12-11', 'A01-12-12', 'A01-12-13', 'A01-12-14', 'A01-12-15'],\n",
        "             'A01-13': ['A01-13-00', 'A01-13-01', 'A01-13-02', 'A01-13-03', 'A01-13-04', 'A01-13-05', 'A01-13-06', 'A01-13-07', 'A01-13-08', 'A01-13-09', 'A01-13-10', 'A01-13-11', 'A01-13-12', 'A01-13-13', 'A01-13-14'],\n",
        "             'A01-14': ['A01-14-00', 'A01-14-01', 'A01-14-02', 'A01-14-03', 'A01-14-04', 'A01-14-05', 'A01-14-06', 'A01-14-07', 'A01-14-08', 'A01-14-09', 'A01-14-10', 'A01-14-11', 'A01-14-12', 'A01-14-13', 'A01-14-14', 'A01-14-15', 'A01-14-16', 'A01-14-17', 'A01-14-18', 'A01-14-19', 'A01-14-20', 'A01-14-21', 'A01-14-22'],\n",
        "             'A01-15': ['A01-15-00', 'A01-15-01', 'A01-15-02', 'A01-15-03', 'A01-15-04', 'A01-15-05', 'A01-15-06', 'A01-15-07', 'A01-15-08', 'A01-15-09', 'A01-15-10', 'A01-15-11', 'A01-15-12', 'A01-15-13', 'A01-15-14', 'A01-15-15', 'A01-15-16', 'A01-15-17', 'A01-15-18', 'A01-15-19', 'A01-15-20', 'A01-15-21', 'A01-15-22', 'A01-15-23'],\n",
        "             'A01-16': ['A01-16-00', 'A01-16-01', 'A01-16-02', 'A01-16-03', 'A01-16-04', 'A01-16-05', 'A01-16-06', 'A01-16-07', 'A01-16-08', 'A01-16-09', 'A01-16-10', 'A01-16-11', 'A01-16-12', 'A01-16-13', 'A01-16-14', 'A01-16-15', 'A01-16-16', 'A01-16-17', 'A01-16-18'],\n",
        "             'A01-17': ['A01-17-00', 'A01-17-01']\n",
        "             }"
      ],
      "metadata": {
        "id": "0VbFs52Yn2qj"
      },
      "execution_count": null,
      "outputs": []
    },
    {
      "cell_type": "markdown",
      "source": [
        "#### 필터링 코드\n",
        "- 1차 필터링: 소관기관 유형이 시군구 or 광역시도일 경우\n",
        "\n",
        "- 2차 필터링: 소관기관에 지역명이 있는 경우"
      ],
      "metadata": {
        "id": "Alfs0OCRN6KK"
      }
    },
    {
      "cell_type": "code",
      "source": [
        "%%time\n",
        "\n",
        "city_lst = []\n",
        "area_lst = []\n",
        "\n",
        "city_list = list(loca_dict.keys())\n",
        "city_short_dict_list = list(loca_short_dict.keys())\n",
        "\n",
        "for i in range(len(policy_admin_loca)):\n",
        "  # ciyt, area를  None으로 초기화\n",
        "  city, area = None, None\n",
        "\n",
        "  # 소관기관유형이 시군구 or  광역시도라면 채울 수 있음.\n",
        "  if policy_admin_loca['소관기관유형.1'].iloc[i] == '시군구':\n",
        "    city, area = policy_admin_loca.소관기관.iloc[i].split()\n",
        "  elif policy_admin_loca['소관기관유형.1'].iloc[i] == '광역시도':\n",
        "    city = policy_admin_loca.소관기관.iloc[i]\n",
        "    area = loca_dict[city][0]\n",
        "  \n",
        "\n",
        "  # 소관기관유형이 시군구 or  광역시가 아닐 경우, 소관기관에 이름이 들어있으면 채울 수 있음.\n",
        "  if city == None:\n",
        "    text = policy_admin_loca.소관기관.iloc[i]\n",
        "    text_city = ''\n",
        "    text_area = ''\n",
        "    c = False\n",
        "    #city 한 번 싹 돌기\n",
        "    for c_idx, city in enumerate(city_short_dict_list):\n",
        "      city_real = city_list[c_idx] # 진짜 city 이름\n",
        "\n",
        "      if c == True:\n",
        "        break\n",
        "\n",
        "      if city in text:\n",
        "        text_city += f'{city_real},'\n",
        "        c = True\n",
        "\n",
        "      # area 한 번 싹 돌기\n",
        "      for a_idx, area in enumerate(loca_short_dict[city]):\n",
        "        if area in text:\n",
        "          area_real = loca_dict[city_real][a_idx]\n",
        "          text_area += f'{area_real},'\n",
        "          # area 기준 city 삽입\n",
        "          if city_real not in text_city:\n",
        "            text_city += f'{city_real},'\n",
        "    \n",
        "    if len(text_city) == 0 and len(text_area) == 0:\n",
        "      city = '전국'\n",
        "      area = None\n",
        "    elif text_city.count(',') == 1 and text_city.count(',') == 0:\n",
        "      city = text_city[:-1]\n",
        "      area = loca_dict[city][0]\n",
        "    elif len(text_city) == 0 and text_area.count(',') == 1:\n",
        "      city = None\n",
        "      area = text_area[:-1]\n",
        "    else:\n",
        "      city = text_city[:-1]\n",
        "      area = text_area[:-1]\n",
        "\n",
        "  city_lst.append(city)\n",
        "  area_lst.append(area)"
      ],
      "metadata": {
        "colab": {
          "base_uri": "https://localhost:8080/"
        },
        "id": "BWvmY2IMyGmL",
        "outputId": "ed08dbd7-c4a0-4622-922b-9cf56abc06a1"
      },
      "execution_count": null,
      "outputs": [
        {
          "output_type": "stream",
          "name": "stdout",
          "text": [
            "CPU times: user 2.69 s, sys: 12.4 ms, total: 2.7 s\n",
            "Wall time: 2.71 s\n"
          ]
        }
      ]
    },
    {
      "cell_type": "code",
      "source": [
        "len(city_lst), len(area_lst), len(policy_admin_loca), len(admin)"
      ],
      "metadata": {
        "colab": {
          "base_uri": "https://localhost:8080/"
        },
        "id": "k4c2HvRgRuFy",
        "outputId": "e300deaa-cc17-4c9f-b21d-8b223247dc98"
      },
      "execution_count": null,
      "outputs": [
        {
          "output_type": "execute_result",
          "data": {
            "text/plain": [
              "(88486, 88486, 88486, 93027)"
            ]
          },
          "metadata": {},
          "execution_count": 69
        }
      ]
    },
    {
      "cell_type": "code",
      "source": [
        "policy_admin_loca['필터링_시도'] = city_lst\n",
        "policy_admin_loca['필터링_시군구'] = area_lst"
      ],
      "metadata": {
        "id": "zARpmKiJtjCy"
      },
      "execution_count": null,
      "outputs": []
    },
    {
      "cell_type": "code",
      "source": [
        "# 시도 정확히 맞춘 비율\n",
        "print(len(policy_admin_loca[policy_admin_loca['지역(시도)'] == policy_admin_loca['필터링_시도']]) / len(policy_admin_loca) * 100)\n",
        "\n",
        "# 시군구 정확히 맞춘 비율\n",
        "print(len(policy_admin_loca[policy_admin_loca['지역(시군구)'] == policy_admin_loca['필터링_시군구']]) / len(policy_admin_loca) * 100)"
      ],
      "metadata": {
        "colab": {
          "base_uri": "https://localhost:8080/"
        },
        "id": "6dHySmz0REUV",
        "outputId": "87b43747-1c68-43b7-f250-c8e864ddb01c"
      },
      "execution_count": null,
      "outputs": [
        {
          "output_type": "stream",
          "name": "stdout",
          "text": [
            "99.6236692810162\n",
            "83.42788689736228\n"
          ]
        }
      ]
    },
    {
      "cell_type": "markdown",
      "source": [
        "#### 지역 맞춘 비율"
      ],
      "metadata": {
        "id": "7EzG7ArHUeOn"
      }
    },
    {
      "cell_type": "code",
      "source": [
        "# 지역(시도)\n",
        "print(len(policy_admin_loca[policy_admin_loca['지역(시도)'] == policy_admin_loca['필터링_시도']]) / len(policy_admin_loca) * 100)\n",
        "\n",
        "# 지역(시군구)\n",
        "print(len(policy_admin_loca[policy_admin_loca['지역(시군구)'] == policy_admin_loca['필터링_시군구']]) / len(policy_admin_loca) * 100)"
      ],
      "metadata": {
        "colab": {
          "base_uri": "https://localhost:8080/"
        },
        "id": "LBT4W34OUhgM",
        "outputId": "1fbf75a8-d909-42c0-be30-03eb350dd0c8"
      },
      "execution_count": null,
      "outputs": [
        {
          "output_type": "stream",
          "name": "stdout",
          "text": [
            "99.6236692810162\n",
            "83.42788689736228\n"
          ]
        }
      ]
    },
    {
      "cell_type": "markdown",
      "source": [
        "#### 필터링 pickle dump"
      ],
      "metadata": {
        "id": "GHqz343xhr4j"
      }
    },
    {
      "cell_type": "code",
      "source": [
        "policy_loca_done = open('/content/drive/MyDrive/웰로/data/policy_loca_done_2.pkl', 'wb')\n",
        "pickle.dump(policy_admin_loca,policy_loca_done)"
      ],
      "metadata": {
        "id": "-7QDY70kVEFb"
      },
      "execution_count": null,
      "outputs": []
    },
    {
      "cell_type": "markdown",
      "source": [
        "### 대상특성"
      ],
      "metadata": {
        "id": "YhAhBvGcVnAr"
      }
    },
    {
      "cell_type": "code",
      "source": [
        "# policy + admin 중 대상연령에 필요한 feature\n",
        "policy_admin_cha = pd.merge(left=policy, right=admin, how='inner', on='정책ID')\n",
        "policy_admin_cha = policy_admin_cha[['정책ID', '서비스명_x', '선정기준', '서비스목적', '지원내용', '지원대상', '대상특성', '대상특성상세']]"
      ],
      "metadata": {
        "id": "ba-II0w4T-NL"
      },
      "execution_count": null,
      "outputs": []
    },
    {
      "cell_type": "code",
      "source": [
        "policy_admin_cha = policy_admin_cha.sort_values('대상특성')\n",
        "policy_admin_cha.fillna('', inplace=True)\n",
        "policy_admin_cha['text'] = '◈서비스명_x◈' + policy_admin_cha['서비스명_x'] + '◈선정기준◈' + policy_admin_cha['선정기준'] + '◈서비스목적◈' + policy_admin_cha['서비스목적'] + '◈지원내용◈' + policy_admin_cha['지원내용'] + '◈지원대상◈' +policy_admin_cha['지원대상']\n",
        "policy_admin_cha.head()"
      ],
      "metadata": {
        "colab": {
          "base_uri": "https://localhost:8080/",
          "height": 1000
        },
        "id": "5J58iCw7T3Uw",
        "outputId": "827d27a6-64c8-4d99-92ff-f7aa7b228b29"
      },
      "execution_count": null,
      "outputs": [
        {
          "output_type": "execute_result",
          "data": {
            "text/html": [
              "\n",
              "  <div id=\"df-da21ef5e-8678-426e-811c-7ada87094943\">\n",
              "    <div class=\"colab-df-container\">\n",
              "      <div>\n",
              "<style scoped>\n",
              "    .dataframe tbody tr th:only-of-type {\n",
              "        vertical-align: middle;\n",
              "    }\n",
              "\n",
              "    .dataframe tbody tr th {\n",
              "        vertical-align: top;\n",
              "    }\n",
              "\n",
              "    .dataframe thead th {\n",
              "        text-align: right;\n",
              "    }\n",
              "</style>\n",
              "<table border=\"1\" class=\"dataframe\">\n",
              "  <thead>\n",
              "    <tr style=\"text-align: right;\">\n",
              "      <th></th>\n",
              "      <th>정책ID</th>\n",
              "      <th>서비스명_x</th>\n",
              "      <th>선정기준</th>\n",
              "      <th>서비스목적</th>\n",
              "      <th>지원내용</th>\n",
              "      <th>지원대상</th>\n",
              "      <th>대상특성</th>\n",
              "      <th>대상특성상세</th>\n",
              "      <th>text</th>\n",
              "    </tr>\n",
              "  </thead>\n",
              "  <tbody>\n",
              "    <tr>\n",
              "      <th>11043</th>\n",
              "      <td>11042</td>\n",
              "      <td>저소득층 자산형성 지원(희망, 내일키움통장 사업)</td>\n",
              "      <td>○희망키움통장Ⅰ \\n   ① 일하는 생계·의료 수급가구\\n   ② 가구 전체의 총 ...</td>\n",
              "      <td>○ 희망키움통장Ⅰ: 일하는 생계·의료수급가구의 탈수급 지원\\n○ 희망키움통장Ⅱ: 일...</td>\n",
              "      <td>○ 희망키움통장 Ⅰ: 본인 저축액 월 10만원, 정부 지원금 월 평균 44만원(3년...</td>\n",
              "      <td>○ 희망키움통장 Ⅰ: 총 근로(사업)소득이 기준 중위소득 40%의 60%~기준 중위...</td>\n",
              "      <td>1인가구</td>\n",
              "      <td></td>\n",
              "      <td>◈서비스명_x◈저소득층 자산형성 지원(희망, 내일키움통장 사업)◈선정기준◈○희망키움...</td>\n",
              "    </tr>\n",
              "    <tr>\n",
              "      <th>58727</th>\n",
              "      <td>58728</td>\n",
              "      <td>여성 안심 택배함 설치 운영</td>\n",
              "      <td></td>\n",
              "      <td>혼자 있는 여성이 집에서 물건 받기를 원치 않거나, 맞벌이 가정처럼 집에서 택배를 ...</td>\n",
              "      <td>1호점 : 무선로 190(선원동) 여천동 주민센터 실내주차장 안심 택배함\\n여수시 ...</td>\n",
              "      <td>시민(1인 가구 와 맞벌이 가구 등 모든 가구)\\n\\n여성||일반</td>\n",
              "      <td>1인가구</td>\n",
              "      <td></td>\n",
              "      <td>◈서비스명_x◈여성 안심 택배함 설치 운영◈선정기준◈◈서비스목적◈혼자 있는 여성이 ...</td>\n",
              "    </tr>\n",
              "    <tr>\n",
              "      <th>69948</th>\n",
              "      <td>69949</td>\n",
              "      <td>저소득층 자산형성 지원(희망, 내일키움통장 사업)</td>\n",
              "      <td>○희망키움통장Ⅰ \\n   ① 일하는 생계·의료 수급가구\\n   ② 가구 전체의 총 ...</td>\n",
              "      <td>○ 희망키움통장Ⅰ: 일하는 생계·의료수급가구의 탈수급 지원\\n○ 희망키움통장Ⅱ: 일...</td>\n",
              "      <td>○ 희망키움통장 Ⅰ: 본인 저축액 월 10만원, 정부 지원금 월 평균 33만원(3년...</td>\n",
              "      <td>○ 희망키움통장 Ⅰ: 총 근로(사업)소득이 기준 중위소득 40%의 60%~기준 중위...</td>\n",
              "      <td>1인가구</td>\n",
              "      <td></td>\n",
              "      <td>◈서비스명_x◈저소득층 자산형성 지원(희망, 내일키움통장 사업)◈선정기준◈○희망키움...</td>\n",
              "    </tr>\n",
              "    <tr>\n",
              "      <th>29502</th>\n",
              "      <td>29501</td>\n",
              "      <td>저소득층 자산형성 지원(희망, 내일키움통장 사업)</td>\n",
              "      <td>○희망키움통장Ⅰ \\n   ① 일하는 생계·의료 수급가구\\n   ② 가구 전체의 총 ...</td>\n",
              "      <td>○ 희망키움통장Ⅰ: 일하는 생계·의료수급가구의 탈수급 지원\\n○ 희망키움통장Ⅱ: 일...</td>\n",
              "      <td>○ 희망키움통장 Ⅰ: 본인 저축액 월 10만원, 정부 지원금 월 평균 33만원(3년...</td>\n",
              "      <td>○ 희망키움통장 Ⅰ: 총 근로(사업)소득이 기준 중위소득 40%의 60%~기준 중위...</td>\n",
              "      <td>1인가구</td>\n",
              "      <td></td>\n",
              "      <td>◈서비스명_x◈저소득층 자산형성 지원(희망, 내일키움통장 사업)◈선정기준◈○희망키움...</td>\n",
              "    </tr>\n",
              "    <tr>\n",
              "      <th>72567</th>\n",
              "      <td>72568</td>\n",
              "      <td>저소득층 자산형성 지원(희망, 내일키움통장 사업)</td>\n",
              "      <td>○희망키움통장Ⅰ \\n   ① 일하는 생계·의료 수급가구\\n   ② 가구 전체의 총 ...</td>\n",
              "      <td>○ 희망키움통장Ⅰ: 일하는 생계·의료수급가구의 탈수급 지원\\n○ 희망키움통장Ⅱ: 일...</td>\n",
              "      <td>○ 희망키움통장 Ⅰ: 본인 저축액 월 10만원, 정부 지원금 월 평균 36만원(3년...</td>\n",
              "      <td>○ 희망키움통장 Ⅰ: 총 근로(사업)소득이 기준 중위소득 40%의 60%~기준 중위...</td>\n",
              "      <td>1인가구</td>\n",
              "      <td></td>\n",
              "      <td>◈서비스명_x◈저소득층 자산형성 지원(희망, 내일키움통장 사업)◈선정기준◈○희망키움...</td>\n",
              "    </tr>\n",
              "  </tbody>\n",
              "</table>\n",
              "</div>\n",
              "      <button class=\"colab-df-convert\" onclick=\"convertToInteractive('df-da21ef5e-8678-426e-811c-7ada87094943')\"\n",
              "              title=\"Convert this dataframe to an interactive table.\"\n",
              "              style=\"display:none;\">\n",
              "        \n",
              "  <svg xmlns=\"http://www.w3.org/2000/svg\" height=\"24px\"viewBox=\"0 0 24 24\"\n",
              "       width=\"24px\">\n",
              "    <path d=\"M0 0h24v24H0V0z\" fill=\"none\"/>\n",
              "    <path d=\"M18.56 5.44l.94 2.06.94-2.06 2.06-.94-2.06-.94-.94-2.06-.94 2.06-2.06.94zm-11 1L8.5 8.5l.94-2.06 2.06-.94-2.06-.94L8.5 2.5l-.94 2.06-2.06.94zm10 10l.94 2.06.94-2.06 2.06-.94-2.06-.94-.94-2.06-.94 2.06-2.06.94z\"/><path d=\"M17.41 7.96l-1.37-1.37c-.4-.4-.92-.59-1.43-.59-.52 0-1.04.2-1.43.59L10.3 9.45l-7.72 7.72c-.78.78-.78 2.05 0 2.83L4 21.41c.39.39.9.59 1.41.59.51 0 1.02-.2 1.41-.59l7.78-7.78 2.81-2.81c.8-.78.8-2.07 0-2.86zM5.41 20L4 18.59l7.72-7.72 1.47 1.35L5.41 20z\"/>\n",
              "  </svg>\n",
              "      </button>\n",
              "      \n",
              "  <style>\n",
              "    .colab-df-container {\n",
              "      display:flex;\n",
              "      flex-wrap:wrap;\n",
              "      gap: 12px;\n",
              "    }\n",
              "\n",
              "    .colab-df-convert {\n",
              "      background-color: #E8F0FE;\n",
              "      border: none;\n",
              "      border-radius: 50%;\n",
              "      cursor: pointer;\n",
              "      display: none;\n",
              "      fill: #1967D2;\n",
              "      height: 32px;\n",
              "      padding: 0 0 0 0;\n",
              "      width: 32px;\n",
              "    }\n",
              "\n",
              "    .colab-df-convert:hover {\n",
              "      background-color: #E2EBFA;\n",
              "      box-shadow: 0px 1px 2px rgba(60, 64, 67, 0.3), 0px 1px 3px 1px rgba(60, 64, 67, 0.15);\n",
              "      fill: #174EA6;\n",
              "    }\n",
              "\n",
              "    [theme=dark] .colab-df-convert {\n",
              "      background-color: #3B4455;\n",
              "      fill: #D2E3FC;\n",
              "    }\n",
              "\n",
              "    [theme=dark] .colab-df-convert:hover {\n",
              "      background-color: #434B5C;\n",
              "      box-shadow: 0px 1px 3px 1px rgba(0, 0, 0, 0.15);\n",
              "      filter: drop-shadow(0px 1px 2px rgba(0, 0, 0, 0.3));\n",
              "      fill: #FFFFFF;\n",
              "    }\n",
              "  </style>\n",
              "\n",
              "      <script>\n",
              "        const buttonEl =\n",
              "          document.querySelector('#df-da21ef5e-8678-426e-811c-7ada87094943 button.colab-df-convert');\n",
              "        buttonEl.style.display =\n",
              "          google.colab.kernel.accessAllowed ? 'block' : 'none';\n",
              "\n",
              "        async function convertToInteractive(key) {\n",
              "          const element = document.querySelector('#df-da21ef5e-8678-426e-811c-7ada87094943');\n",
              "          const dataTable =\n",
              "            await google.colab.kernel.invokeFunction('convertToInteractive',\n",
              "                                                     [key], {});\n",
              "          if (!dataTable) return;\n",
              "\n",
              "          const docLinkHtml = 'Like what you see? Visit the ' +\n",
              "            '<a target=\"_blank\" href=https://colab.research.google.com/notebooks/data_table.ipynb>data table notebook</a>'\n",
              "            + ' to learn more about interactive tables.';\n",
              "          element.innerHTML = '';\n",
              "          dataTable['output_type'] = 'display_data';\n",
              "          await google.colab.output.renderOutput(dataTable, element);\n",
              "          const docLink = document.createElement('div');\n",
              "          docLink.innerHTML = docLinkHtml;\n",
              "          element.appendChild(docLink);\n",
              "        }\n",
              "      </script>\n",
              "    </div>\n",
              "  </div>\n",
              "  "
            ],
            "text/plain": [
              "        정책ID  ...                                               text\n",
              "11043  11042  ...  ◈서비스명_x◈저소득층 자산형성 지원(희망, 내일키움통장 사업)◈선정기준◈○희망키움...\n",
              "58727  58728  ...  ◈서비스명_x◈여성 안심 택배함 설치 운영◈선정기준◈◈서비스목적◈혼자 있는 여성이 ...\n",
              "69948  69949  ...  ◈서비스명_x◈저소득층 자산형성 지원(희망, 내일키움통장 사업)◈선정기준◈○희망키움...\n",
              "29502  29501  ...  ◈서비스명_x◈저소득층 자산형성 지원(희망, 내일키움통장 사업)◈선정기준◈○희망키움...\n",
              "72567  72568  ...  ◈서비스명_x◈저소득층 자산형성 지원(희망, 내일키움통장 사업)◈선정기준◈○희망키움...\n",
              "\n",
              "[5 rows x 9 columns]"
            ]
          },
          "metadata": {},
          "execution_count": 9
        }
      ]
    },
    {
      "cell_type": "code",
      "source": [
        "print(policy_admin_cha[policy_admin_cha['text'].str.contains('영유아')]['text'].iloc[1])"
      ],
      "metadata": {
        "colab": {
          "base_uri": "https://localhost:8080/"
        },
        "id": "Ks9O6PtZKuqd",
        "outputId": "18ef7739-ecc1-4017-a35d-a7c8fc244951"
      },
      "execution_count": null,
      "outputs": [
        {
          "output_type": "stream",
          "name": "stdout",
          "text": [
            "◈서비스명_x◈의료급여수급자 만 6세 미만 영유아 건강검진 지원◈선정기준◈만 6세 미만 영유아(의료급여수급권자)◈서비스목적◈영유아의 건강증진을 도모하고 건강한 미래 인적자본으로 성장하도록 지원 및 영유아 연령에 적합한 건강검진 프로그램을 도입하여 영유아의 성장/발달 사항을 추적 관리하고 보호자에게 적절한 교육 프로그램을 제공하기 위함◈지원내용◈○ 영유아 건강검진 서비스\n",
            " - 주요 선별 목표질환: 성장 이상, 발달 이상, 비만, 안전사고, 영아 급사 증후군, 청각이상, 시각 이상, 치아우식증 등\n",
            " - 영유아 건강검진 항목 : 각 월령에 특화된 문진(시각·청각 문진 포함)과 진찰, 신체계측(신장·체중·두위)이 공통 실시, 9종의 건강교육과 발달평가 및 상담(4개월 제외)으로 구성\n",
            " - 검진 주기: 4개월, 9개월, 18개월, 30개월, 42개월, 54개월, 66개월\n",
            "\n",
            "\n",
            "\n",
            "건강·의료·사망>의료지원>저소득층||결혼·육아·교육>보육/교육지원>건강검진/예방접종◈지원대상◈만 6세 미만 영유아(의료급여수급권자)\n",
            "\n",
            "저소득층\n"
          ]
        }
      ]
    },
    {
      "cell_type": "code",
      "source": [
        "policy_admin_cha.info()"
      ],
      "metadata": {
        "colab": {
          "base_uri": "https://localhost:8080/"
        },
        "id": "NPveyLvDWgRk",
        "outputId": "a445ac2b-6db8-4639-e02e-ac13ae35461f"
      },
      "execution_count": null,
      "outputs": [
        {
          "output_type": "stream",
          "name": "stdout",
          "text": [
            "<class 'pandas.core.frame.DataFrame'>\n",
            "Int64Index: 88486 entries, 11043 to 88295\n",
            "Data columns (total 9 columns):\n",
            " #   Column  Non-Null Count  Dtype \n",
            "---  ------  --------------  ----- \n",
            " 0   정책ID    88486 non-null  int64 \n",
            " 1   서비스명_x  88486 non-null  object\n",
            " 2   선정기준    88486 non-null  object\n",
            " 3   서비스목적   88486 non-null  object\n",
            " 4   지원내용    88486 non-null  object\n",
            " 5   지원대상    88486 non-null  object\n",
            " 6   대상특성    88486 non-null  object\n",
            " 7   대상특성상세  88486 non-null  object\n",
            " 8   text    88486 non-null  object\n",
            "dtypes: int64(1), object(8)\n",
            "memory usage: 6.8+ MB\n"
          ]
        }
      ]
    },
    {
      "cell_type": "markdown",
      "source": [
        "#### 필터링 코드"
      ],
      "metadata": {
        "id": "vk9cxESM2BEx"
      }
    },
    {
      "cell_type": "code",
      "source": [
        "%%time\n",
        "# 대상특성 만들어보자\n",
        "tar_cha = []\n",
        "tar_cha_detail = []\n",
        "for i in range(len(policy_admin_cha)):\n",
        "    cha = []\n",
        "    detail = []\n",
        "    text = policy_admin_cha.text.iloc[i]\n",
        "\n",
        "    # 장애인\n",
        "    if text.count('장애') >= 3:\n",
        "        cha.append('장애인')\n",
        "        # 하위태그\n",
        "        if text.count('심한|중증') >= 1:\n",
        "          detail.append('심한 장애')\n",
        "        elif text.count('심하지|경증') >= 1:\n",
        "          detail.append('심하지 않은 장애')\n",
        "\n",
        "    # 농축수산인\n",
        "    cha_words = ['농업', '농축', '어업' '원예', '축산', '임업']\n",
        "    if sum(text.count(x) for x in cha_words) >= 2: \n",
        "        cha.append('농축수산인')\n",
        "        # 하위태그 - 경관농업인\n",
        "        if ('농업' in text) & ('경관' in text) & ('경관' in text) & (text.count('축산') < 2): # 빼야함 --------------\n",
        "            detail.append('경관농업인')\n",
        "        # 하위태그 - 경종농업인\n",
        "        if ('농업' in text) & (sum(text.count(x) for x in ['경종', '농업인', '농산물', '재배', '귀농', '영농']) >= 4) & (text.count('축산') < 2):\n",
        "            detail.append('경관농업인')\n",
        "        # 하위태그 - 과수농업인\n",
        "        if ('농업' in text) & (sum(text.count(x) for x in ['과수', '과일', '유기농']) >= 2) & (text.count('축산') < 2):\n",
        "            detail.append('과수농업인')\n",
        "        # 하위태그 - 원예·특용농업인\n",
        "        if (sum(text.count(x) for x in ['화훼', '원예', '특용', '작물']) >= 3) & (text.count('축산') < 2):\n",
        "            detail.append('원예·특용농업인')\n",
        "        # 하위태그 - 농지소유자\n",
        "        if sum(text.count(x) for x in ['토지', '토양', '농지', '소유']) >= 4:\n",
        "            detail.append('농지소유자')\n",
        "\n",
        "        # 하위태그 - 연근해-구획어업인\n",
        "        if (('어업' in text) or ('수산' in text)) & (sum(text.count(x) for x in ['연근해', '구획', '어선']) >= 1):\n",
        "            detail.append('연근해-구획어업인')\n",
        "        # 하위태그 - 양식업인\n",
        "        if (('어업' in text) or ('수산' in text)) & ('양식' in text):\n",
        "            detail.append('양식업인')\n",
        "        # 하위태그 - 어선소유자\n",
        "        if ('어업' in text) & (sum(text.count(x) for x in ['어선', '소유', '선박']) >= 2):\n",
        "            detail.append('어선소유자')\n",
        "        \n",
        "        # 하위태그 - 축산업인\n",
        "        if ('축산' in text) & (sum(text.count(x) for x in ['가축', '분뇨', '퇴비']) >= 1):\n",
        "            detail.append('축산업인')\n",
        "        \n",
        "        # 하위태그 - 임업인\n",
        "        if (('임업' in text) or ('산림' in text)) & (sum(text.count(x) for x in ['임업', '산림', '숲']) >= 2):\n",
        "            detail.append('임업인')\n",
        "\n",
        "\n",
        "        # 하위태그 - 기타농업인, 기타어업인\n",
        "        if len(detail) == 0:\n",
        "            if '농업' in text:\n",
        "                detail.append('기타농업인')\n",
        "            if '어업' in text:\n",
        "                detail.append('기타어업인')\n",
        "            # else:\n",
        "            #     detail.append(None)\n",
        "\n",
        "    # 질병/부상/질환자\n",
        "    cha_words = ['환자', '입원', '질병', '부상']\n",
        "    if sum(text.count(x) for x in cha_words) >= 3:\n",
        "        cha.append('질병/부상/질환자')\n",
        "        # 하위태그 - 중증·난치·희귀질환자\n",
        "        if sum(text.count(x) for x in ['중증', '격리', '난치', '희귀', '암']) >= 2:\n",
        "            detail.append('중증·난치·희귀질환자')\n",
        "        # 하위태그 - 요양, 치매환자\n",
        "        if (sum(text.count(x) for x in ['치매', '요양']) >= 2) & (text.count('군인') < 2):\n",
        "            detail.append('요양, 치매환자')\n",
        "\n",
        "    # 난임\n",
        "    if text.count('난임') >= 2:\n",
        "        cha.append('난임')\n",
        "\n",
        "    # 임신부\n",
        "    if sum(text.count(x) for x in ['임신', '임산부', '출산']) >= 3:\n",
        "        cha.append('임신부')\n",
        "\n",
        "    # 출산후\n",
        "    if sum(text.count(x) for x in ['출산', '산모', '영유아', '영아', '태아', '신생아', '모유', '분만']) >= 3:\n",
        "        cha.append('출산후')\n",
        "\n",
        "    # 국가유공자\n",
        "    if sum(text.count(x) for x in ['유공자' '독립', '보훈', '순국선열', '애국지사']) >= 3:\n",
        "        cha.append('국가유공자')\n",
        "\n",
        "    # 제대군인\n",
        "    if text.count('제대') >= 2:\n",
        "        cha.append('제대군인')\n",
        "\n",
        "    # 다문화가족\n",
        "    if text.count('다문화') >= 3:\n",
        "        cha.append('다문화가족')\n",
        "\n",
        "    # 북한이탈주민\n",
        "    if text.count('북한이탈') >= 2:\n",
        "        cha.append('북한이탈주민')\n",
        "\n",
        "    # 한부모가정/조손가정\n",
        "    if sum(text.count(x) for x in ['한부모', '조손']) >= 4:\n",
        "        cha.append('한부모가정/조손가정')\n",
        "\n",
        "    # 1인가구\n",
        "    if sum(text.count(x) for x in ['1인가구', '1인 가구']) >= 2:\n",
        "        cha.append('1인가구')\n",
        "\n",
        "    # 다자녀가정\n",
        "    if text.count('다자녀') >= 2:\n",
        "        cha.append('다자녀가정')\n",
        "\n",
        "    # 독거노인\n",
        "    if ('독거노인' in text) & (text.count('노인') >= 3):\n",
        "        cha.append('독거노인')\n",
        "\n",
        "    # 입양가정\n",
        "    if text.count('입양가정') >= 2:\n",
        "        cha.append('입양가정')\n",
        "\n",
        "    # 외국인/재외국인\n",
        "    if text.count('외국인') >= 3:\n",
        "        cha.append('외국인/재외국인')\n",
        "\n",
        "    # 한센인\n",
        "    if text.count('한센인') >= 3:\n",
        "        cha.append('한센인')\n",
        "    \n",
        "    # 이산가족\n",
        "    if '이산가족' in text:\n",
        "        cha.append('이산가족')\n",
        "\n",
        "    # 기관/시설\n",
        "    if sum(text.count(x) for x in ['기괸', '시설']) >= 4:\n",
        "        cha.append('기관/시설')\n",
        "\n",
        "\n",
        "    # 해당사항없음\n",
        "    if (len(cha) == 0) & (len(detail) == 0) :\n",
        "        cha.append('해당사항없음')\n",
        "    \n",
        "    # 해당데이터 대상특성, 대상특성상세 입력\n",
        "    tar_cha.append(', '.join(cha))\n",
        "    tar_cha_detail.append(', '.join(detail))"
      ],
      "metadata": {
        "colab": {
          "base_uri": "https://localhost:8080/"
        },
        "id": "oTVAvQWn033p",
        "outputId": "1cd0bac3-52b8-49f1-9406-b73ebe6e3ba6"
      },
      "execution_count": null,
      "outputs": [
        {
          "output_type": "stream",
          "name": "stdout",
          "text": [
            "CPU times: user 4.99 s, sys: 30.2 ms, total: 5.02 s\n",
            "Wall time: 5.02 s\n"
          ]
        }
      ]
    },
    {
      "cell_type": "code",
      "source": [
        "policy_admin_cha['필터링_대상특성'] = tar_cha\n",
        "policy_admin_cha['필터링_대상특성상세'] = tar_cha_detail"
      ],
      "metadata": {
        "id": "wo45xmFdOgcd"
      },
      "execution_count": null,
      "outputs": []
    },
    {
      "cell_type": "markdown",
      "source": [
        "#### 대상특성 맞춘 비율"
      ],
      "metadata": {
        "id": "KIE3rz1ZU8Zg"
      }
    },
    {
      "cell_type": "code",
      "source": [
        "for i in range(len(policy_admin_cha)):\n",
        "  if policy_admin_cha.대상특성.iloc[i] == '':\n",
        "    policy_admin_cha.대상특성.iloc[i] = '해당사항없음'\n",
        "  \n",
        "  if policy_admin_cha.필터링_대상특성.iloc[i] == '':\n",
        "    policy_admin_cha.필터링_대상특성.iloc[i] = '해당사항없음'"
      ],
      "metadata": {
        "colab": {
          "base_uri": "https://localhost:8080/"
        },
        "id": "TaBJLywfYGn5",
        "outputId": "2c46aff9-72b8-41a8-f484-af49cef07671"
      },
      "execution_count": null,
      "outputs": [
        {
          "output_type": "stream",
          "name": "stderr",
          "text": [
            "/usr/local/lib/python3.7/dist-packages/pandas/core/indexing.py:670: SettingWithCopyWarning: \n",
            "A value is trying to be set on a copy of a slice from a DataFrame\n",
            "\n",
            "See the caveats in the documentation: https://pandas.pydata.org/pandas-docs/stable/user_guide/indexing.html#returning-a-view-versus-a-copy\n",
            "  iloc._setitem_with_indexer(indexer, value)\n"
          ]
        }
      ]
    },
    {
      "cell_type": "code",
      "source": [
        "# 대상특성 맞춘 비율\n",
        "print(len(policy_admin_cha[policy_admin_cha.대상특성 == policy_admin_cha.필터링_대상특성]) / len(policy_admin_cha) * 100)\n",
        "\n",
        "# 대상특성상세 맞춘 비율\n",
        "print(len(policy_admin_cha[policy_admin_cha.대상특성상세 == policy_admin_cha.필터링_대상특성상세]) / len(policy_admin_cha) * 100)"
      ],
      "metadata": {
        "colab": {
          "base_uri": "https://localhost:8080/"
        },
        "id": "xKeoXv2hP_BV",
        "outputId": "0735ed45-aa57-440f-f2b9-3d25a845abcf"
      },
      "execution_count": null,
      "outputs": [
        {
          "output_type": "stream",
          "name": "stdout",
          "text": [
            "42.874579029450985\n",
            "68.45602694211513\n"
          ]
        }
      ]
    },
    {
      "cell_type": "markdown",
      "source": [
        "#### 필터링 pickle dump"
      ],
      "metadata": {
        "id": "DouhGyQ-R-_S"
      }
    },
    {
      "cell_type": "code",
      "source": [
        "policy_target_done2 = open('/content/drive/MyDrive/웰로/data/policy_target_done2.pkl', 'wb')\n",
        "pickle.dump(policy_admin_cha,policy_target_done2)"
      ],
      "metadata": {
        "id": "df7sDfaUPhIo"
      },
      "execution_count": null,
      "outputs": []
    },
    {
      "cell_type": "code",
      "source": [
        "a = pd.read_pickle('/content/drive/MyDrive/웰로/data/policy_target_done2.pkl')\n",
        "a.columns"
      ],
      "metadata": {
        "colab": {
          "base_uri": "https://localhost:8080/"
        },
        "id": "riTuydQI20-k",
        "outputId": "73937450-3758-4e69-a0be-d733be71b04b"
      },
      "execution_count": null,
      "outputs": [
        {
          "output_type": "execute_result",
          "data": {
            "text/plain": [
              "Index(['정책ID', '서비스명_x', '선정기준', '서비스목적', '지원내용', '지원대상', '대상특성', '대상특성상세',\n",
              "       'text', '필터링_대상특성', '필터링_대상특성상세'],\n",
              "      dtype='object')"
            ]
          },
          "metadata": {},
          "execution_count": 6
        }
      ]
    },
    {
      "cell_type": "code",
      "source": [
        "a[a['필터링_대상특성'].str.contains('농축수산인')].iloc[:3]"
      ],
      "metadata": {
        "colab": {
          "base_uri": "https://localhost:8080/",
          "height": 552
        },
        "id": "gM-sWB5j3XKv",
        "outputId": "dc0ae197-bbbc-4c42-f234-7ccfc4df97ef"
      },
      "execution_count": null,
      "outputs": [
        {
          "output_type": "execute_result",
          "data": {
            "text/html": [
              "\n",
              "  <div id=\"df-c8d8188f-195a-46ed-a29c-344cf46ed912\">\n",
              "    <div class=\"colab-df-container\">\n",
              "      <div>\n",
              "<style scoped>\n",
              "    .dataframe tbody tr th:only-of-type {\n",
              "        vertical-align: middle;\n",
              "    }\n",
              "\n",
              "    .dataframe tbody tr th {\n",
              "        vertical-align: top;\n",
              "    }\n",
              "\n",
              "    .dataframe thead th {\n",
              "        text-align: right;\n",
              "    }\n",
              "</style>\n",
              "<table border=\"1\" class=\"dataframe\">\n",
              "  <thead>\n",
              "    <tr style=\"text-align: right;\">\n",
              "      <th></th>\n",
              "      <th>정책ID</th>\n",
              "      <th>서비스명_x</th>\n",
              "      <th>선정기준</th>\n",
              "      <th>서비스목적</th>\n",
              "      <th>지원내용</th>\n",
              "      <th>지원대상</th>\n",
              "      <th>대상특성</th>\n",
              "      <th>대상특성상세</th>\n",
              "      <th>text</th>\n",
              "      <th>필터링_대상특성</th>\n",
              "      <th>필터링_대상특성상세</th>\n",
              "    </tr>\n",
              "  </thead>\n",
              "  <tbody>\n",
              "    <tr>\n",
              "      <th>15462</th>\n",
              "      <td>15461</td>\n",
              "      <td>농업재해대책</td>\n",
              "      <td>○ 지원 대상 : 농업인, 농업(생산)시설\\n\\n○ 연령 기준 : 없음\\n\\n○ 기...</td>\n",
              "      <td>농업 생산에 대한 재해를 예방하고, 그 사후대책을 마련함으로써 농업의 생산력 향상화...</td>\n",
              "      <td>○ 보조 : 35~100% 지원\\n\\n○ 융자 : 30~70%(농작물 대파대 30%...</td>\n",
              "      <td>○ 자연재해로 인해 농작물, 가축, 농업시설물 등에 피해가 발생한 농업인\\n - 지...</td>\n",
              "      <td>1인가구</td>\n",
              "      <td>기타농업인</td>\n",
              "      <td>◈서비스명_x◈농업재해대책◈선정기준◈○ 지원 대상 : 농업인, 농업(생산)시설\\n\\...</td>\n",
              "      <td>농축수산인, 기관/시설</td>\n",
              "      <td>축산업인</td>\n",
              "    </tr>\n",
              "    <tr>\n",
              "      <th>20004</th>\n",
              "      <td>20003</td>\n",
              "      <td>딸기하우스 시설현대화 지원</td>\n",
              "      <td>○ 시설딸기 재배 농업인 및 농업법인</td>\n",
              "      <td>○ 시설딸기 생산농가의 고령화 등 부족한 노동력 해결 및 생산성 향상을 위해 딸기 ...</td>\n",
              "      <td>고설재배시설, 수막가온시설, 전조시설, 자동개폐시설, 환기기설 등 딸기하우스 시설현...</td>\n",
              "      <td>○ 시설딸기 재배 농업인 및 농업법인\\n\\n농축수산인||일반</td>\n",
              "      <td>국가유공자</td>\n",
              "      <td>과수농업인</td>\n",
              "      <td>◈서비스명_x◈딸기하우스 시설현대화 지원◈선정기준◈○ 시설딸기 재배 농업인 및 농업...</td>\n",
              "      <td>농축수산인, 기관/시설</td>\n",
              "      <td>경관농업인</td>\n",
              "    </tr>\n",
              "    <tr>\n",
              "      <th>22684</th>\n",
              "      <td>22683</td>\n",
              "      <td>소규모 농산물유통시설 설치 지원</td>\n",
              "      <td>농림축산식품 분야 재정사업관리 기본규정 제91조(별표10) 농업법인의 지원요건에 부...</td>\n",
              "      <td>지역별 품목특성을 고려한 중소규모 농산물유통시설 설치를 지원함으로써\\n산지유통기능의...</td>\n",
              "      <td>건축물류 : 집하장, 출하장, 선별장, 포장장, 저온저장고, 예냉고 등\\n기계장비류...</td>\n",
              "      <td>농협, 영농조합법인 등\\n\\n기업인||중소기업/소상공인||농축수산인</td>\n",
              "      <td>국가유공자</td>\n",
              "      <td></td>\n",
              "      <td>◈서비스명_x◈소규모 농산물유통시설 설치 지원◈선정기준◈농림축산식품 분야 재정사업관...</td>\n",
              "      <td>농축수산인</td>\n",
              "      <td>기타농업인</td>\n",
              "    </tr>\n",
              "  </tbody>\n",
              "</table>\n",
              "</div>\n",
              "      <button class=\"colab-df-convert\" onclick=\"convertToInteractive('df-c8d8188f-195a-46ed-a29c-344cf46ed912')\"\n",
              "              title=\"Convert this dataframe to an interactive table.\"\n",
              "              style=\"display:none;\">\n",
              "        \n",
              "  <svg xmlns=\"http://www.w3.org/2000/svg\" height=\"24px\"viewBox=\"0 0 24 24\"\n",
              "       width=\"24px\">\n",
              "    <path d=\"M0 0h24v24H0V0z\" fill=\"none\"/>\n",
              "    <path d=\"M18.56 5.44l.94 2.06.94-2.06 2.06-.94-2.06-.94-.94-2.06-.94 2.06-2.06.94zm-11 1L8.5 8.5l.94-2.06 2.06-.94-2.06-.94L8.5 2.5l-.94 2.06-2.06.94zm10 10l.94 2.06.94-2.06 2.06-.94-2.06-.94-.94-2.06-.94 2.06-2.06.94z\"/><path d=\"M17.41 7.96l-1.37-1.37c-.4-.4-.92-.59-1.43-.59-.52 0-1.04.2-1.43.59L10.3 9.45l-7.72 7.72c-.78.78-.78 2.05 0 2.83L4 21.41c.39.39.9.59 1.41.59.51 0 1.02-.2 1.41-.59l7.78-7.78 2.81-2.81c.8-.78.8-2.07 0-2.86zM5.41 20L4 18.59l7.72-7.72 1.47 1.35L5.41 20z\"/>\n",
              "  </svg>\n",
              "      </button>\n",
              "      \n",
              "  <style>\n",
              "    .colab-df-container {\n",
              "      display:flex;\n",
              "      flex-wrap:wrap;\n",
              "      gap: 12px;\n",
              "    }\n",
              "\n",
              "    .colab-df-convert {\n",
              "      background-color: #E8F0FE;\n",
              "      border: none;\n",
              "      border-radius: 50%;\n",
              "      cursor: pointer;\n",
              "      display: none;\n",
              "      fill: #1967D2;\n",
              "      height: 32px;\n",
              "      padding: 0 0 0 0;\n",
              "      width: 32px;\n",
              "    }\n",
              "\n",
              "    .colab-df-convert:hover {\n",
              "      background-color: #E2EBFA;\n",
              "      box-shadow: 0px 1px 2px rgba(60, 64, 67, 0.3), 0px 1px 3px 1px rgba(60, 64, 67, 0.15);\n",
              "      fill: #174EA6;\n",
              "    }\n",
              "\n",
              "    [theme=dark] .colab-df-convert {\n",
              "      background-color: #3B4455;\n",
              "      fill: #D2E3FC;\n",
              "    }\n",
              "\n",
              "    [theme=dark] .colab-df-convert:hover {\n",
              "      background-color: #434B5C;\n",
              "      box-shadow: 0px 1px 3px 1px rgba(0, 0, 0, 0.15);\n",
              "      filter: drop-shadow(0px 1px 2px rgba(0, 0, 0, 0.3));\n",
              "      fill: #FFFFFF;\n",
              "    }\n",
              "  </style>\n",
              "\n",
              "      <script>\n",
              "        const buttonEl =\n",
              "          document.querySelector('#df-c8d8188f-195a-46ed-a29c-344cf46ed912 button.colab-df-convert');\n",
              "        buttonEl.style.display =\n",
              "          google.colab.kernel.accessAllowed ? 'block' : 'none';\n",
              "\n",
              "        async function convertToInteractive(key) {\n",
              "          const element = document.querySelector('#df-c8d8188f-195a-46ed-a29c-344cf46ed912');\n",
              "          const dataTable =\n",
              "            await google.colab.kernel.invokeFunction('convertToInteractive',\n",
              "                                                     [key], {});\n",
              "          if (!dataTable) return;\n",
              "\n",
              "          const docLinkHtml = 'Like what you see? Visit the ' +\n",
              "            '<a target=\"_blank\" href=https://colab.research.google.com/notebooks/data_table.ipynb>data table notebook</a>'\n",
              "            + ' to learn more about interactive tables.';\n",
              "          element.innerHTML = '';\n",
              "          dataTable['output_type'] = 'display_data';\n",
              "          await google.colab.output.renderOutput(dataTable, element);\n",
              "          const docLink = document.createElement('div');\n",
              "          docLink.innerHTML = docLinkHtml;\n",
              "          element.appendChild(docLink);\n",
              "        }\n",
              "      </script>\n",
              "    </div>\n",
              "  </div>\n",
              "  "
            ],
            "text/plain": [
              "        정책ID             서비스명_x  ...      필터링_대상특성 필터링_대상특성상세\n",
              "15462  15461             농업재해대책  ...  농축수산인, 기관/시설       축산업인\n",
              "20004  20003     딸기하우스 시설현대화 지원  ...  농축수산인, 기관/시설      경관농업인\n",
              "22684  22683  소규모 농산물유통시설 설치 지원  ...         농축수산인      기타농업인\n",
              "\n",
              "[3 rows x 11 columns]"
            ]
          },
          "metadata": {},
          "execution_count": 10
        }
      ]
    },
    {
      "cell_type": "code",
      "source": [
        "for i in range(3):\n",
        "  data = a[a['필터링_대상특성'].str.contains('농축수산인')].iloc[i]\n",
        "  print('=======================')\n",
        "  for name in a.columns:\n",
        "    print(f'◈{name}◈')\n",
        "    print(data[name])\n",
        "    print()\n",
        "  print()"
      ],
      "metadata": {
        "colab": {
          "base_uri": "https://localhost:8080/"
        },
        "id": "YO2VE3yO283W",
        "outputId": "1fbbb54d-1571-4512-d9ca-2862e02f7d7b"
      },
      "execution_count": null,
      "outputs": [
        {
          "output_type": "stream",
          "name": "stdout",
          "text": [
            "=======================\n",
            "◈정책ID◈\n",
            "15461\n",
            "\n",
            "◈서비스명_x◈\n",
            "농업재해대책\n",
            "\n",
            "◈선정기준◈\n",
            "○ 지원 대상 : 농업인, 농업(생산)시설\n",
            "\n",
            "○ 연령 기준 : 없음\n",
            "\n",
            "○ 기타 기준 : 자연재해로 피해를 입은 농업인 및 농업시설\n",
            "\n",
            "◈서비스목적◈\n",
            "농업 생산에 대한 재해를 예방하고, 그 사후대책을 마련함으로써 농업의 생산력 향상화 경영 안정을 도모\n",
            "\n",
            "◈지원내용◈\n",
            "○ 보조 : 35~100% 지원\n",
            "\n",
            "○ 융자 : 30~70%(농작물 대파대 30%, 가축입식 30%, 농경지 복구 30%, 비닐하우스 등 농림시설 55%) \n",
            "\n",
            "○ 자부담 : 10~30% (농작물 대파대 20%, 가축입식 20%, 농경지 복구 10%, 비닐하우스 등 농림시설 10%)\n",
            "\n",
            "○  재해농가 농축산경영자금이자감면 및 상환연기 : 1년 (농가단위 피해율 30%~50% 미만)\n",
            "                                                                   2년( 농가단위 피해율 50% 이상)\n",
            "\n",
            "\n",
            "\n",
            "창업·경영>기업운영지원>운영지원||창업·경영>업종별민원>농업/축산업/어업\n",
            "\n",
            "◈지원대상◈\n",
            "○ 자연재해로 인해 농작물, 가축, 농업시설물 등에 피해가 발생한 농업인\n",
            " - 지원 대상 : 농업인, 농업시설\n",
            " - 연령 기준 : 없음\n",
            " - 기타 기준\n",
            " - 자연재해로 피해를 입은 농업인 및 농업시설\n",
            "\n",
            "농축수산인\n",
            "\n",
            "◈대상특성◈\n",
            "1인가구\n",
            "\n",
            "◈대상특성상세◈\n",
            "기타농업인\n",
            "\n",
            "◈text◈\n",
            "◈서비스명_x◈농업재해대책◈선정기준◈○ 지원 대상 : 농업인, 농업(생산)시설\n",
            "\n",
            "○ 연령 기준 : 없음\n",
            "\n",
            "○ 기타 기준 : 자연재해로 피해를 입은 농업인 및 농업시설◈서비스목적◈농업 생산에 대한 재해를 예방하고, 그 사후대책을 마련함으로써 농업의 생산력 향상화 경영 안정을 도모◈지원내용◈○ 보조 : 35~100% 지원\n",
            "\n",
            "○ 융자 : 30~70%(농작물 대파대 30%, 가축입식 30%, 농경지 복구 30%, 비닐하우스 등 농림시설 55%) \n",
            "\n",
            "○ 자부담 : 10~30% (농작물 대파대 20%, 가축입식 20%, 농경지 복구 10%, 비닐하우스 등 농림시설 10%)\n",
            "\n",
            "○  재해농가 농축산경영자금이자감면 및 상환연기 : 1년 (농가단위 피해율 30%~50% 미만)\n",
            "                                                                   2년( 농가단위 피해율 50% 이상)\n",
            "\n",
            "\n",
            "\n",
            "창업·경영>기업운영지원>운영지원||창업·경영>업종별민원>농업/축산업/어업◈지원대상◈○ 자연재해로 인해 농작물, 가축, 농업시설물 등에 피해가 발생한 농업인\n",
            " - 지원 대상 : 농업인, 농업시설\n",
            " - 연령 기준 : 없음\n",
            " - 기타 기준\n",
            " - 자연재해로 피해를 입은 농업인 및 농업시설\n",
            "\n",
            "농축수산인\n",
            "\n",
            "◈필터링_대상특성◈\n",
            "농축수산인, 기관/시설\n",
            "\n",
            "◈필터링_대상특성상세◈\n",
            "축산업인\n",
            "\n",
            "\n",
            "=======================\n",
            "◈정책ID◈\n",
            "20003\n",
            "\n",
            "◈서비스명_x◈\n",
            "딸기하우스 시설현대화 지원\n",
            "\n",
            "◈선정기준◈\n",
            "○ 시설딸기 재배 농업인 및 농업법인\n",
            "\n",
            "◈서비스목적◈\n",
            "○ 시설딸기 생산농가의 고령화 등 부족한 노동력 해결 및 생산성 향상을 위해 딸기 시설 현대화 지원\n",
            "○ 딸기하우스 시설현대화로 딸기 품질향상 및 생산성 증대\n",
            "\n",
            "◈지원내용◈\n",
            "고설재배시설, 수막가온시설, 전조시설, 자동개폐시설, 환기기설 등 딸기하우스 시설현대화 지원\n",
            "\n",
            "\n",
            "\n",
            "환경·재난>자연환경>생태\n",
            "\n",
            "◈지원대상◈\n",
            "○ 시설딸기 재배 농업인 및 농업법인\n",
            "\n",
            "농축수산인||일반\n",
            "\n",
            "◈대상특성◈\n",
            "국가유공자\n",
            "\n",
            "◈대상특성상세◈\n",
            "과수농업인\n",
            "\n",
            "◈text◈\n",
            "◈서비스명_x◈딸기하우스 시설현대화 지원◈선정기준◈○ 시설딸기 재배 농업인 및 농업법인◈서비스목적◈○ 시설딸기 생산농가의 고령화 등 부족한 노동력 해결 및 생산성 향상을 위해 딸기 시설 현대화 지원\n",
            "○ 딸기하우스 시설현대화로 딸기 품질향상 및 생산성 증대◈지원내용◈고설재배시설, 수막가온시설, 전조시설, 자동개폐시설, 환기기설 등 딸기하우스 시설현대화 지원\n",
            "\n",
            "\n",
            "\n",
            "환경·재난>자연환경>생태◈지원대상◈○ 시설딸기 재배 농업인 및 농업법인\n",
            "\n",
            "농축수산인||일반\n",
            "\n",
            "◈필터링_대상특성◈\n",
            "농축수산인, 기관/시설\n",
            "\n",
            "◈필터링_대상특성상세◈\n",
            "경관농업인\n",
            "\n",
            "\n",
            "=======================\n",
            "◈정책ID◈\n",
            "22683\n",
            "\n",
            "◈서비스명_x◈\n",
            "소규모 농산물유통시설 설치 지원\n",
            "\n",
            "◈선정기준◈\n",
            "농림축산식품 분야 재정사업관리 기본규정 제91조(별표10) 농업법인의 지원요건에 부합 \n",
            "사업 전년도 7. 31일 기준 운영실적이 1년 이상 단체(운영실적 제출)\n",
            "농협, 법인 명의 사업부지가 확보된 사업대상자에 한하여 신청(등기부등본상 명의가 사업신청자 앞으로 되어있지 않거나, \n",
            "근저당 및 지상권 설정이 되어 있는 경우는 선정 제외)\n",
            "\n",
            "◈서비스목적◈\n",
            "지역별 품목특성을 고려한 중소규모 농산물유통시설 설치를 지원함으로써\n",
            "산지유통기능의 효율성을 높이고 농가소득 증대를 도모함\n",
            "\n",
            "◈지원내용◈\n",
            "건축물류 : 집하장, 출하장, 선별장, 포장장, 저온저장고, 예냉고 등\n",
            "기계장비류 : 선별기, 포장기, 제함기, 벤딩기, 결속기, 봉함기, 컨베이어, 테이핑기 등\n",
            "\n",
            "\n",
            "\n",
            "창업·경영>기업운영지원>설비/시설 운영\n",
            "\n",
            "◈지원대상◈\n",
            "농협, 영농조합법인 등\n",
            "\n",
            "기업인||중소기업/소상공인||농축수산인\n",
            "\n",
            "◈대상특성◈\n",
            "국가유공자\n",
            "\n",
            "◈대상특성상세◈\n",
            "\n",
            "\n",
            "◈text◈\n",
            "◈서비스명_x◈소규모 농산물유통시설 설치 지원◈선정기준◈농림축산식품 분야 재정사업관리 기본규정 제91조(별표10) 농업법인의 지원요건에 부합 \n",
            "사업 전년도 7. 31일 기준 운영실적이 1년 이상 단체(운영실적 제출)\n",
            "농협, 법인 명의 사업부지가 확보된 사업대상자에 한하여 신청(등기부등본상 명의가 사업신청자 앞으로 되어있지 않거나, \n",
            "근저당 및 지상권 설정이 되어 있는 경우는 선정 제외)◈서비스목적◈지역별 품목특성을 고려한 중소규모 농산물유통시설 설치를 지원함으로써\n",
            "산지유통기능의 효율성을 높이고 농가소득 증대를 도모함◈지원내용◈건축물류 : 집하장, 출하장, 선별장, 포장장, 저온저장고, 예냉고 등\n",
            "기계장비류 : 선별기, 포장기, 제함기, 벤딩기, 결속기, 봉함기, 컨베이어, 테이핑기 등\n",
            "\n",
            "\n",
            "\n",
            "창업·경영>기업운영지원>설비/시설 운영◈지원대상◈농협, 영농조합법인 등\n",
            "\n",
            "기업인||중소기업/소상공인||농축수산인\n",
            "\n",
            "◈필터링_대상특성◈\n",
            "농축수산인\n",
            "\n",
            "◈필터링_대상특성상세◈\n",
            "기타농업인\n",
            "\n",
            "\n"
          ]
        }
      ]
    },
    {
      "cell_type": "markdown",
      "source": [
        "### 관심상황특성"
      ],
      "metadata": {
        "id": "NMclzROFUSYj"
      }
    },
    {
      "cell_type": "code",
      "source": [
        "# policy + admin 중 대상연령에 필요한 feature\n",
        "policy_admin_situation = pd.merge(left=policy, right=admin, how='inner', on='정책ID')\n",
        "policy_admin_situation = policy_admin_situation[['정책ID', '서비스명_x', '소관기관', '선정기준', '서비스목적', '지원내용', '지원대상', '관심상황특성']]\n",
        "\n",
        "policy_admin_situation['text_A13'] = '◈서비스명_x◈' + policy_admin_situation['서비스명_x'] + '◈소관기관◈' + policy_admin_situation['소관기관'] +'◈선정기준◈' + policy_admin_situation['선정기준'] + '◈서비스목적◈' + policy_admin_situation['서비스목적'] + '◈지원내용◈' + policy_admin_situation['지원내용'] + '◈지원대상◈' +policy_admin_situation['지원대상']\n",
        "policy_admin_situation.head()"
      ],
      "metadata": {
        "colab": {
          "base_uri": "https://localhost:8080/",
          "height": 649
        },
        "id": "dME3i_TUjzq2",
        "outputId": "a018a8b6-0e4a-4c31-ad31-f96e37d88d2d"
      },
      "execution_count": null,
      "outputs": [
        {
          "output_type": "execute_result",
          "data": {
            "text/html": [
              "\n",
              "  <div id=\"df-6f16e449-06d4-407f-b3d5-a240f72d95e6\">\n",
              "    <div class=\"colab-df-container\">\n",
              "      <div>\n",
              "<style scoped>\n",
              "    .dataframe tbody tr th:only-of-type {\n",
              "        vertical-align: middle;\n",
              "    }\n",
              "\n",
              "    .dataframe tbody tr th {\n",
              "        vertical-align: top;\n",
              "    }\n",
              "\n",
              "    .dataframe thead th {\n",
              "        text-align: right;\n",
              "    }\n",
              "</style>\n",
              "<table border=\"1\" class=\"dataframe\">\n",
              "  <thead>\n",
              "    <tr style=\"text-align: right;\">\n",
              "      <th></th>\n",
              "      <th>정책ID</th>\n",
              "      <th>서비스명_x</th>\n",
              "      <th>소관기관</th>\n",
              "      <th>선정기준</th>\n",
              "      <th>서비스목적</th>\n",
              "      <th>지원내용</th>\n",
              "      <th>지원대상</th>\n",
              "      <th>관심상황특성</th>\n",
              "      <th>text_A13</th>\n",
              "    </tr>\n",
              "  </thead>\n",
              "  <tbody>\n",
              "    <tr>\n",
              "      <th>0</th>\n",
              "      <td>1</td>\n",
              "      <td>만 3~5세 유치원 유아 학비 지원(3~5세 누리과정 운영)</td>\n",
              "      <td>교육부</td>\n",
              "      <td>1) 지원대상 : 어린이집을 이용하는 만 3~5세 아동\\n2) 신청인 : 아동의 보...</td>\n",
              "      <td>누리과정이란 만 3~5세를 대상으로 하는 어린이집 표준보육과정과 유치원 교육과정을 ...</td>\n",
              "      <td>만 3~5세 누리과정 운영에 필요한 비용 지원 \\n - 보육료, 담당교사 처우 개선...</td>\n",
              "      <td>지원대상 : 어린이집을 이용하는 만 3~5세 아동\\n- 취학유예 : 만 6세아 초등...</td>\n",
              "      <td>None</td>\n",
              "      <td>◈서비스명_x◈만 3~5세 유치원 유아 학비 지원(3~5세 누리과정 운영)◈소관기관...</td>\n",
              "    </tr>\n",
              "    <tr>\n",
              "      <th>1</th>\n",
              "      <td>2</td>\n",
              "      <td>근로·자녀장려금</td>\n",
              "      <td>국세청</td>\n",
              "      <td>○ 근로소득, 종교인소득 또는 종교인소득이 있고 아래 요건을 모두 충족하는 자\\n\\...</td>\n",
              "      <td>○ 근로자녀장려세제\\n - 저소득계층의 빈곤 탈출을 지원하고 사회안전망을 확충하기 ...</td>\n",
              "      <td>○ 전년도 연간 부부합산 총 급여액 등(사업소득과 근로소득의 합계)에 따라\\n - ...</td>\n",
              "      <td>○ 전년도에 정해진 범위의 근로소득, 사업소득 또는 종교인소득이 있고 근로장려금과 ...</td>\n",
              "      <td>None</td>\n",
              "      <td>◈서비스명_x◈근로·자녀장려금◈소관기관◈국세청◈선정기준◈○ 근로소득, 종교인소득 또...</td>\n",
              "    </tr>\n",
              "    <tr>\n",
              "      <th>2</th>\n",
              "      <td>3</td>\n",
              "      <td>월세 자금보증</td>\n",
              "      <td>금융위원회</td>\n",
              "      <td>○ (주택도시기금 주거안정 월세대출 대상자 요건) 무주택 세대주(세대원 전원 포함)...</td>\n",
              "      <td>저소득층 등에게 월세자금보증을 하여 저소득층의 주거 안정성 제고</td>\n",
              "      <td>○ 주택도시기금 주거안정 월세대출 요건을 충족하는 대상자에 대해 월세자금보증 지원\\...</td>\n",
              "      <td>○ 보증금 1억 원 이하 및 월세금 60만 원 이하인 월세 계약을 체결한 주택도시 ...</td>\n",
              "      <td>None</td>\n",
              "      <td>◈서비스명_x◈월세 자금보증◈소관기관◈금융위원회◈선정기준◈○ (주택도시기금 주거안정...</td>\n",
              "    </tr>\n",
              "    <tr>\n",
              "      <th>3</th>\n",
              "      <td>4</td>\n",
              "      <td>‘힘내라 대한민국’특별운영자금 (산업은행)</td>\n",
              "      <td>금융위원회</td>\n",
              "      <td>○ 산업은행 심사기준 충족 업체</td>\n",
              "      <td>코로나19로 피해를 입은 중소ㆍ중견기업 지원 프로그램</td>\n",
              "      <td>○ 자금용도 : 운영자금\\n\\n○ 한도 : 기존 대출한도 外 일정범위내 특별한도 부...</td>\n",
              "      <td>○ 지원대상 : 코로나19 등 질병, 자연재해 등 국가 재난 발생으로 피해를 입은 ...</td>\n",
              "      <td>None</td>\n",
              "      <td>◈서비스명_x◈‘힘내라 대한민국’특별운영자금 (산업은행)◈소관기관◈금융위원회◈선정기...</td>\n",
              "    </tr>\n",
              "    <tr>\n",
              "      <th>4</th>\n",
              "      <td>5</td>\n",
              "      <td>친환경 에너지 절감 장비 보급</td>\n",
              "      <td>해양수산부</td>\n",
              "      <td>○ 기관ㆍ장비ㆍ설비사업의 사업자 선정은 다음의 순위로 하되, 동일 순위자의 세부 우...</td>\n",
              "      <td>연근해 어업인을 대상으로 노후기관ㆍ장비ㆍ설비 대체 보급으로 안정적 조업기반 조성</td>\n",
              "      <td>○  유류비 절감을 위한 유류절감장치 설치\\n○  저효율(육상기관 포함)기관 및 사...</td>\n",
              "      <td>○ 어선 노후기관, 장비를 교체하고자 하는 연근해 어업인</td>\n",
              "      <td>None</td>\n",
              "      <td>◈서비스명_x◈친환경 에너지 절감 장비 보급◈소관기관◈해양수산부◈선정기준◈○ 기관ㆍ...</td>\n",
              "    </tr>\n",
              "  </tbody>\n",
              "</table>\n",
              "</div>\n",
              "      <button class=\"colab-df-convert\" onclick=\"convertToInteractive('df-6f16e449-06d4-407f-b3d5-a240f72d95e6')\"\n",
              "              title=\"Convert this dataframe to an interactive table.\"\n",
              "              style=\"display:none;\">\n",
              "        \n",
              "  <svg xmlns=\"http://www.w3.org/2000/svg\" height=\"24px\"viewBox=\"0 0 24 24\"\n",
              "       width=\"24px\">\n",
              "    <path d=\"M0 0h24v24H0V0z\" fill=\"none\"/>\n",
              "    <path d=\"M18.56 5.44l.94 2.06.94-2.06 2.06-.94-2.06-.94-.94-2.06-.94 2.06-2.06.94zm-11 1L8.5 8.5l.94-2.06 2.06-.94-2.06-.94L8.5 2.5l-.94 2.06-2.06.94zm10 10l.94 2.06.94-2.06 2.06-.94-2.06-.94-.94-2.06-.94 2.06-2.06.94z\"/><path d=\"M17.41 7.96l-1.37-1.37c-.4-.4-.92-.59-1.43-.59-.52 0-1.04.2-1.43.59L10.3 9.45l-7.72 7.72c-.78.78-.78 2.05 0 2.83L4 21.41c.39.39.9.59 1.41.59.51 0 1.02-.2 1.41-.59l7.78-7.78 2.81-2.81c.8-.78.8-2.07 0-2.86zM5.41 20L4 18.59l7.72-7.72 1.47 1.35L5.41 20z\"/>\n",
              "  </svg>\n",
              "      </button>\n",
              "      \n",
              "  <style>\n",
              "    .colab-df-container {\n",
              "      display:flex;\n",
              "      flex-wrap:wrap;\n",
              "      gap: 12px;\n",
              "    }\n",
              "\n",
              "    .colab-df-convert {\n",
              "      background-color: #E8F0FE;\n",
              "      border: none;\n",
              "      border-radius: 50%;\n",
              "      cursor: pointer;\n",
              "      display: none;\n",
              "      fill: #1967D2;\n",
              "      height: 32px;\n",
              "      padding: 0 0 0 0;\n",
              "      width: 32px;\n",
              "    }\n",
              "\n",
              "    .colab-df-convert:hover {\n",
              "      background-color: #E2EBFA;\n",
              "      box-shadow: 0px 1px 2px rgba(60, 64, 67, 0.3), 0px 1px 3px 1px rgba(60, 64, 67, 0.15);\n",
              "      fill: #174EA6;\n",
              "    }\n",
              "\n",
              "    [theme=dark] .colab-df-convert {\n",
              "      background-color: #3B4455;\n",
              "      fill: #D2E3FC;\n",
              "    }\n",
              "\n",
              "    [theme=dark] .colab-df-convert:hover {\n",
              "      background-color: #434B5C;\n",
              "      box-shadow: 0px 1px 3px 1px rgba(0, 0, 0, 0.15);\n",
              "      filter: drop-shadow(0px 1px 2px rgba(0, 0, 0, 0.3));\n",
              "      fill: #FFFFFF;\n",
              "    }\n",
              "  </style>\n",
              "\n",
              "      <script>\n",
              "        const buttonEl =\n",
              "          document.querySelector('#df-6f16e449-06d4-407f-b3d5-a240f72d95e6 button.colab-df-convert');\n",
              "        buttonEl.style.display =\n",
              "          google.colab.kernel.accessAllowed ? 'block' : 'none';\n",
              "\n",
              "        async function convertToInteractive(key) {\n",
              "          const element = document.querySelector('#df-6f16e449-06d4-407f-b3d5-a240f72d95e6');\n",
              "          const dataTable =\n",
              "            await google.colab.kernel.invokeFunction('convertToInteractive',\n",
              "                                                     [key], {});\n",
              "          if (!dataTable) return;\n",
              "\n",
              "          const docLinkHtml = 'Like what you see? Visit the ' +\n",
              "            '<a target=\"_blank\" href=https://colab.research.google.com/notebooks/data_table.ipynb>data table notebook</a>'\n",
              "            + ' to learn more about interactive tables.';\n",
              "          element.innerHTML = '';\n",
              "          dataTable['output_type'] = 'display_data';\n",
              "          await google.colab.output.renderOutput(dataTable, element);\n",
              "          const docLink = document.createElement('div');\n",
              "          docLink.innerHTML = docLinkHtml;\n",
              "          element.appendChild(docLink);\n",
              "        }\n",
              "      </script>\n",
              "    </div>\n",
              "  </div>\n",
              "  "
            ],
            "text/plain": [
              "   정책ID  ...                                           text_A13\n",
              "0     1  ...  ◈서비스명_x◈만 3~5세 유치원 유아 학비 지원(3~5세 누리과정 운영)◈소관기관...\n",
              "1     2  ...  ◈서비스명_x◈근로·자녀장려금◈소관기관◈국세청◈선정기준◈○ 근로소득, 종교인소득 또...\n",
              "2     3  ...  ◈서비스명_x◈월세 자금보증◈소관기관◈금융위원회◈선정기준◈○ (주택도시기금 주거안정...\n",
              "3     4  ...  ◈서비스명_x◈‘힘내라 대한민국’특별운영자금 (산업은행)◈소관기관◈금융위원회◈선정기...\n",
              "4     5  ...  ◈서비스명_x◈친환경 에너지 절감 장비 보급◈소관기관◈해양수산부◈선정기준◈○ 기관ㆍ...\n",
              "\n",
              "[5 rows x 9 columns]"
            ]
          },
          "metadata": {},
          "execution_count": 157
        }
      ]
    },
    {
      "cell_type": "code",
      "source": [
        "policy_admin_situation.info()"
      ],
      "metadata": {
        "colab": {
          "base_uri": "https://localhost:8080/"
        },
        "id": "khegphMQkMhT",
        "outputId": "9a6264dc-1519-4436-d212-28090ba4dfd5"
      },
      "execution_count": null,
      "outputs": [
        {
          "output_type": "stream",
          "name": "stdout",
          "text": [
            "<class 'pandas.core.frame.DataFrame'>\n",
            "Int64Index: 88486 entries, 0 to 88485\n",
            "Data columns (total 9 columns):\n",
            " #   Column    Non-Null Count  Dtype \n",
            "---  ------    --------------  ----- \n",
            " 0   정책ID      88486 non-null  int64 \n",
            " 1   서비스명_x    88486 non-null  object\n",
            " 2   소관기관      88486 non-null  object\n",
            " 3   선정기준      51860 non-null  object\n",
            " 4   서비스목적     88486 non-null  object\n",
            " 5   지원내용      88486 non-null  object\n",
            " 6   지원대상      88486 non-null  object\n",
            " 7   관심상황특성    18697 non-null  object\n",
            " 8   text_A13  51860 non-null  object\n",
            "dtypes: int64(1), object(8)\n",
            "memory usage: 6.8+ MB\n"
          ]
        }
      ]
    },
    {
      "cell_type": "code",
      "source": [
        "# 개인금융지원, 개인교육지원이 가장 많음\n",
        "policy_admin_situation[policy_admin_situation.관심상황특성.notnull()].관심상황특성.value_counts()"
      ],
      "metadata": {
        "colab": {
          "base_uri": "https://localhost:8080/"
        },
        "id": "dG0D39isVff8",
        "outputId": "edd383f5-ee02-4c65-e1e0-b90ac79a7859"
      },
      "execution_count": null,
      "outputs": [
        {
          "output_type": "execute_result",
          "data": {
            "text/plain": [
              "개인금융지원                    6878\n",
              "개인교육지원                    3716\n",
              "기업금융지원                    3512\n",
              "기업교육지원                    1958\n",
              "개인금융지원, 개인교육지원            1056\n",
              "결혼예정                       738\n",
              "개인금융지원, 기업금융지원             226\n",
              "기업교육지원, 기업금융지원             154\n",
              "개인교육지원, 개인금융지원              76\n",
              "개인교육지원, 기업금융지원              70\n",
              "은퇴예정                        68\n",
              "개인금융지원, 결혼예정                56\n",
              "결혼예정, 개인금융지원                36\n",
              "개인금융지원, null                27\n",
              "개인교육지원, 기업교육지원              20\n",
              "입대예정                        12\n",
              "개인금융지원, 은퇴예정                10\n",
              "기업교육지원, 개인교육지원               9\n",
              "결혼예정, 개인교육지원                 9\n",
              "기업교육지원, 개인교육지원, 기업금융지원       8\n",
              "개인금융지원, 기업교육지원               7\n",
              "기업교육지원, 기업금융지원, 개인교육지원       6\n",
              "기업금융지원, 개인금융지원               6\n",
              "결혼예정, 기업금융지원                 5\n",
              "기업금융지원, 개인교육지원               5\n",
              "입대예정, 결혼예정                   3\n",
              "기업교육지원, 개인금융지원               3\n",
              "개인교육지원, 결혼예정                 3\n",
              "개인금융지원, 개인교육지원, 기업금융지원       3\n",
              "개인금융지원, 기업금융지원, 개인교육지원       2\n",
              "은퇴예정, 개인금융지원                 2\n",
              "결혼예정, 기업교육지원                 2\n",
              "결혼예정, 기업금융지원, 개인금융지원         1\n",
              "개인교육지원, 개인금융지원, 결혼예정         1\n",
              "개인교육지원, 은퇴예정                 1\n",
              "결혼예정, 개인금융지원, 개인교육지원         1\n",
              "입대예정, 개인교육지원                 1\n",
              "null, 개인교육지원                 1\n",
              "개인금융지원, 기업교육지원, 기업금융지원       1\n",
              "개인금융지원, 개인교육지원, 은퇴예정         1\n",
              "개인금융지원, 입대예정                 1\n",
              "은퇴예정, 기업교육지원                 1\n",
              "개인금융지원, 기업교육지원, 개인교육지원       1\n",
              "Name: 관심상황특성, dtype: int64"
            ]
          },
          "metadata": {},
          "execution_count": 84
        }
      ]
    },
    {
      "cell_type": "markdown",
      "source": [
        "#### 필터링 코드"
      ],
      "metadata": {
        "id": "RyjUhMLFH640"
      }
    },
    {
      "cell_type": "code",
      "source": [
        "policy_admin_situation.fillna('', inplace=True)"
      ],
      "metadata": {
        "id": "ynXUd-ofIm1d"
      },
      "execution_count": null,
      "outputs": []
    },
    {
      "cell_type": "code",
      "source": [
        "policy_admin_situation.info()"
      ],
      "metadata": {
        "colab": {
          "base_uri": "https://localhost:8080/"
        },
        "id": "BN5YXw6uIr47",
        "outputId": "472471d2-0fc1-490a-926c-02d87edef449"
      },
      "execution_count": null,
      "outputs": [
        {
          "output_type": "stream",
          "name": "stdout",
          "text": [
            "<class 'pandas.core.frame.DataFrame'>\n",
            "Int64Index: 88486 entries, 0 to 88485\n",
            "Data columns (total 9 columns):\n",
            " #   Column    Non-Null Count  Dtype \n",
            "---  ------    --------------  ----- \n",
            " 0   정책ID      88486 non-null  int64 \n",
            " 1   서비스명_x    88486 non-null  object\n",
            " 2   소관기관      88486 non-null  object\n",
            " 3   선정기준      88486 non-null  object\n",
            " 4   서비스목적     88486 non-null  object\n",
            " 5   지원내용      88486 non-null  object\n",
            " 6   지원대상      88486 non-null  object\n",
            " 7   관심상황특성    88486 non-null  object\n",
            " 8   text_A13  88486 non-null  object\n",
            "dtypes: int64(1), object(8)\n",
            "memory usage: 6.8+ MB\n"
          ]
        }
      ]
    },
    {
      "cell_type": "code",
      "source": [
        "%%time\n",
        "\n",
        "situation_tag = []\n",
        "for i in range(len(policy_admin_situation)):\n",
        "    tag = []\n",
        "    text = policy_admin_situation.text_A13.iloc[i]\n",
        "\n",
        "    if len(text) > 0:\n",
        "\n",
        "      # 개인금융지원\n",
        "      if (sum(text.count(x) for x in ['금융지원', '자금지원', '생활지원', '금융 지원', '자금 지원', '생활 지원']) >= 1) & (sum(text.count(x) for x in ['자원', '연금', '금리', '금융']) >= 8):\n",
        "          tag.append('개인금융지원')\n",
        "\n",
        "      # 개인교육지원\n",
        "      if ('교육' in text) & (sum(text.count(x) for x in ['지원', '교육']) >= 10):\n",
        "          tag.append('개인교육지원')\n",
        "\n",
        "      # 기업금융지원\n",
        "      if sum(text.count(x) for x in ['경영', '창업', '영세', '장영업', '소상공인', '사업', '기업']) >= 6:\n",
        "          tag.append('기업금융지원')\n",
        "\n",
        "      # 기업교육지원\n",
        "      if ('교육' in text) & (sum(text.count(x) for x in ['경영', '창업', '영세', '장영업', '소상공인', '사업', '기업']) >= 9):\n",
        "          tag.append('기업교육지원')\n",
        "\n",
        "      # 입대예정\n",
        "      if '군입대' in text:\n",
        "          tag.append('입대예정')\n",
        "\n",
        "      # 결혼예정\n",
        "      if (sum(text.count(x) for x in ['결혼 예정', '결혼예정', '혼인 예정', '혼인예정']) >= 1) or (('결혼' in text) & (sum(text.count(x) for x in ['결혼', '혼인', '예정', '출산']) >= 10)):\n",
        "          tag.append('결혼예정')\n",
        "\n",
        "      # 은퇴 예정\n",
        "      if '은퇴' in text:\n",
        "          tag.append('은퇴예정')\n",
        "      \n",
        "      # 폭력/범죄/중독지원\n",
        "      if sum(text.count(x) for x in ['폭력', '범죄', '중독']) >= 3:\n",
        "          tag.append('폭력/범죄/중독지원')\n",
        "\n",
        "      # 자동차/교통지원\n",
        "      if (sum(text.count(x) for x in ['자동차', '교통', '차량']) >= 3) & ('주택' not in text):\n",
        "          tag.append('자동차/교통지원')\n",
        "    \n",
        "    situation_tag.append(', '.join(tag))"
      ],
      "metadata": {
        "colab": {
          "base_uri": "https://localhost:8080/"
        },
        "id": "yZPksRsKH9Eg",
        "outputId": "0faee75b-b625-4aa4-b96b-24274f7bba0d"
      },
      "execution_count": null,
      "outputs": [
        {
          "output_type": "stream",
          "name": "stdout",
          "text": [
            "CPU times: user 3.14 s, sys: 9.43 ms, total: 3.15 s\n",
            "Wall time: 3.16 s\n"
          ]
        }
      ]
    },
    {
      "cell_type": "code",
      "source": [
        "len(situation_tag)"
      ],
      "metadata": {
        "colab": {
          "base_uri": "https://localhost:8080/"
        },
        "id": "KbZ1t3ONIzlQ",
        "outputId": "809de2ed-b31f-467d-cf33-44f6d658e89e"
      },
      "execution_count": null,
      "outputs": [
        {
          "output_type": "execute_result",
          "data": {
            "text/plain": [
              "88486"
            ]
          },
          "metadata": {},
          "execution_count": 88
        }
      ]
    },
    {
      "cell_type": "code",
      "source": [
        "policy_admin_situation['필터링_관심상황특성'] = situation_tag"
      ],
      "metadata": {
        "id": "5-gNuqS7I1aB"
      },
      "execution_count": null,
      "outputs": []
    },
    {
      "cell_type": "markdown",
      "source": [
        "#### 관심상황특성 맞춘 비율"
      ],
      "metadata": {
        "id": "e7o71DkCUtTp"
      }
    },
    {
      "cell_type": "code",
      "source": [
        "for i in range(len(policy_admin_situation)):\n",
        "  if policy_admin_situation.관심상황특성.iloc[i] == 'null':\n",
        "    policy_admin_situation.관심상황특성.iloc[i] = ''"
      ],
      "metadata": {
        "id": "cbayGWSRbX8W"
      },
      "execution_count": null,
      "outputs": []
    },
    {
      "cell_type": "code",
      "source": [
        "# 관심상황특성\n",
        "print(len(policy_admin_situation[policy_admin_situation['관심상황특성'] == policy_admin_situation['필터링_관심상황특성']]) / len(policy_admin_situation) * 100)"
      ],
      "metadata": {
        "colab": {
          "base_uri": "https://localhost:8080/"
        },
        "id": "paog-jIfUwEO",
        "outputId": "c4a37938-9f8e-4b83-ac73-c22b8cddf7c6"
      },
      "execution_count": null,
      "outputs": [
        {
          "output_type": "stream",
          "name": "stdout",
          "text": [
            "65.68157674660398\n"
          ]
        }
      ]
    },
    {
      "cell_type": "markdown",
      "source": [
        "#### 필터링 pickle dump"
      ],
      "metadata": {
        "id": "vqu7scIckdI7"
      }
    },
    {
      "cell_type": "code",
      "source": [
        "policy_situation_done2 = open('/content/drive/MyDrive/웰로/data/policy_situation_done2.pkl', 'wb')\n",
        "pickle.dump(policy_admin_situation,policy_situation_done2)"
      ],
      "metadata": {
        "id": "DYTJSlBTJPKj"
      },
      "execution_count": null,
      "outputs": []
    },
    {
      "cell_type": "markdown",
      "source": [
        "### 중위소득"
      ],
      "metadata": {
        "id": "FrMso1f1Wgp0"
      }
    },
    {
      "cell_type": "code",
      "source": [
        "admin.columns"
      ],
      "metadata": {
        "colab": {
          "base_uri": "https://localhost:8080/"
        },
        "id": "1j5gnNxbbwZ8",
        "outputId": "9fb2ee59-dad4-44b1-8645-5e9ec3227095"
      },
      "execution_count": null,
      "outputs": [
        {
          "output_type": "execute_result",
          "data": {
            "text/plain": [
              "Index(['정책ID', '정책서비스ID', '서비스명', '신청절차', '자녀', '수집유형', '가구원', '성별', '학력',\n",
              "       '직장', '결혼', '지원유형', '지역(시도)', '관심상황특성', '자녀상세', '직장상세', '지원유형상세',\n",
              "       '지역(시군구)', '대상특성상세', '대상특성', '대상연령시작', '대상연령끝', '중위소득기준-시작',\n",
              "       '중위소득기준-종료'],\n",
              "      dtype='object')"
            ]
          },
          "metadata": {},
          "execution_count": 93
        }
      ]
    },
    {
      "cell_type": "code",
      "source": [
        "# policy + admin 중 중위소득에 필요한 feature\n",
        "policy_admin_money = pd.merge(left=policy, right=admin, how='inner', on='정책ID')\n",
        "policy_admin_money = policy_admin_money[['정책ID', '지원대상', '선정기준', '중위소득기준-시작', '중위소득기준-종료']]\n",
        "policy_admin_money.fillna('', inplace=True)"
      ],
      "metadata": {
        "id": "iNs6oX3ZghKI"
      },
      "execution_count": null,
      "outputs": []
    },
    {
      "cell_type": "markdown",
      "source": [
        "#### 필터링 코드"
      ],
      "metadata": {
        "id": "oEyF7OdFSp9G"
      }
    },
    {
      "cell_type": "code",
      "source": [
        "def string_to_money(string):\n",
        "  nums = re.findall('[0-9][0-9]+', string)\n",
        "  if len(nums) == 0:\n",
        "    return None\n",
        "  else:\n",
        "    if '분의' in string:\n",
        "      if len(nums) >= 3:\n",
        "        try:\n",
        "          nums = re.findall('[0-9][0-9]+', string.split('%')[0])\n",
        "          num = (round((int(nums[0])/int(nums[1])*(int(nums[2])/100)) * 100) // 10) * 10\n",
        "        except:\n",
        "          try:\n",
        "            num = (round(int(nums[0])/int(nums[1])*100) // 10) * 10\n",
        "          except:\n",
        "            num = 0\n",
        "      elif len(nums) == 2:\n",
        "        num = (round(int(nums[0])/int(nums[1])*100) // 10) * 10\n",
        "      else:\n",
        "        num = 0\n",
        "      \n",
        "      if '이하' in string or '미만' in string:\n",
        "        range_lst = list(range(0,num+10,10))\n",
        "      elif '이상' in string or '초과' in string:\n",
        "        range_lst = list(range(num, 210, 10))\n",
        "      else:\n",
        "        range_lst = [num]\n",
        "    \n",
        "\n",
        "    elif (('이상' in string) or ('초과' in string)) and (('이하' in string) or ('미만' in string)):\n",
        "      if len(nums) == 2:\n",
        "        a = (int(nums[0])//10) * 10\n",
        "        b = (int(nums[1])//10) * 10\n",
        "        if a <= b:\n",
        "          range_lst = list(range(a, b+10, 10))\n",
        "        else:\n",
        "          return None\n",
        "      else:\n",
        "        return None\n",
        "\n",
        "    elif ('이상' in string) or ('초과' in string):\n",
        "      a = (int(nums[0])//10) * 10\n",
        "      range_lst = list(range(a, 210, 10))\n",
        "\n",
        "    elif ('이하' in string) or ('미만' in string):\n",
        "      b = (int(nums[0])//10) * 10\n",
        "      range_lst = list(range(0, b+10, 10))\n",
        "    else:\n",
        "      return None\n",
        "  return \",\".join(map(str, range_lst))\n",
        "  \n",
        "money_lst = []\n",
        "\n",
        "for i in range(len(policy_admin_money)):\n",
        "  text = policy_admin_money.지원대상.iloc[i] + '\\n' + policy_admin_money.선정기준.iloc[i]\n",
        "  money = []\n",
        "  if len(text) != 0:\n",
        "    if '중위' in text:\n",
        "      tokens = text.split('\\n')\n",
        "      for sentence in tokens:\n",
        "        if '중위' in sentence:\n",
        "          strings = sentence.split('중위')\n",
        "          for string in strings[1:]:\n",
        "            money_range = string_to_money(string)\n",
        "            money.append(money_range)\n",
        "        if '기초생활수급자' in sentence:\n",
        "          if ('기초생활수급자를 제외' in sentence) or ('기초생활수급자가 아닌' in sentence):\n",
        "            pass\n",
        "          else:\n",
        "            money.append('기초생활수급자')\n",
        "  else:\n",
        "    money = None\n",
        "\n",
        "  if money == None:\n",
        "    money_lst.append(None)\n",
        "  else:\n",
        "    money = list(set(money))\n",
        "    final = ','.join(item for item in money if item)\n",
        "    money_lst.append(final)"
      ],
      "metadata": {
        "id": "lNz_lmW-ONkz"
      },
      "execution_count": null,
      "outputs": []
    },
    {
      "cell_type": "code",
      "source": [
        "len(money_lst), len(policy_admin_money)"
      ],
      "metadata": {
        "colab": {
          "base_uri": "https://localhost:8080/"
        },
        "id": "iuuaFvyng1n9",
        "outputId": "573e00b9-39a6-4775-b237-6263f30adec0"
      },
      "execution_count": null,
      "outputs": [
        {
          "output_type": "execute_result",
          "data": {
            "text/plain": [
              "(88486, 88486)"
            ]
          },
          "metadata": {},
          "execution_count": 96
        }
      ]
    },
    {
      "cell_type": "code",
      "source": [
        "policy_admin_money['중위소득'] = money_lst"
      ],
      "metadata": {
        "id": "uqDAeuS3gZPh"
      },
      "execution_count": null,
      "outputs": []
    },
    {
      "cell_type": "markdown",
      "source": [
        "필터링 후 정리"
      ],
      "metadata": {
        "id": "VdAuCIedcFJ5"
      }
    },
    {
      "cell_type": "code",
      "source": [
        "money_new = []\n",
        "money_lst = policy_admin_money['중위소득']\n",
        "for i in range(len(policy_admin_money)):\n",
        "  money = money_lst[i]\n",
        "  if (money == '') or (money == None):\n",
        "    money_new.append(None)\n",
        "  else:\n",
        "    money = money.split(',')\n",
        "    ans = []\n",
        "    if '기초생활수급자' in money:\n",
        "      money.remove('기초생활수급자')\n",
        "      ans =  sorted([int(x) for x in set(money) if int(x) <= 200])\n",
        "      ans = [str(x) for x in ans]\n",
        "      ans.append('기초생활수급자')\n",
        "    else:\n",
        "      ans =  sorted([int(x) for x in set(money) if int(x) <= 200])\n",
        "      ans = [str(x) for x in ans]\n",
        "    \n",
        "    if len(ans) == 0:\n",
        "      money_new.append(None)\n",
        "    else:\n",
        "      money_new.append(','.join(ans))"
      ],
      "metadata": {
        "id": "RO7NTvkkcGRs"
      },
      "execution_count": null,
      "outputs": []
    },
    {
      "cell_type": "code",
      "source": [
        "policy_admin_money['중위소득'] = money_new\n",
        "policy_admin_money.중위소득.value_counts()"
      ],
      "metadata": {
        "colab": {
          "base_uri": "https://localhost:8080/"
        },
        "id": "PqBMWnT1cKKk",
        "outputId": "56baf381-c5b2-42fd-9722-df2a756fb49f"
      },
      "execution_count": null,
      "outputs": [
        {
          "output_type": "execute_result",
          "data": {
            "text/plain": [
              "0,10,20,30,40                                                                       1627\n",
              "0,10,20,30,40,50                                                                    1626\n",
              "0,10,20,30,40,50,60,70,80,90,100,110,120,130,140,150,160,170,180,190,200            1311\n",
              "0,10,20,30,40,50,60,70,80,90,100,110,120,130,140,150,160,170,180                     895\n",
              "0,10,20,30,40,50,60,70,80,90,100,110,120                                             817\n",
              "0,10,20,30,40,50,60                                                                  772\n",
              "0,10,20,30,40,50,60,70,80                                                            659\n",
              "0,10,20,30,40,50,60,70                                                               629\n",
              "0,10,20,30,40,50,60,70,80,90,100                                                     432\n",
              "0,10,20,30,40,50,60,70,80,90,100,110,120,130,140                                     186\n",
              "0,10,20,30,40,50,60,70,80,90,100,110,120,130,140,150                                 174\n",
              "50,60,70,80,90,100                                                                   133\n",
              "0,10,20,30,40,50,60,70,80,90,100,110,120,기초생활수급자                                     129\n",
              "0,10,20,30,40,50,60,70,80,90,100,110,120,130,140,150,160                              64\n",
              "0,10,20,30,40,50,60,70,80,90,100,110,120,130                                          37\n",
              "기초생활수급자                                                                               31\n",
              "40,50,60,70,80,90,100,110,120,130,140,150,160,170,180,190,200                         29\n",
              "0,10,20,30                                                                            26\n",
              "0,10,20,30,40,50,60,70,80,90                                                          19\n",
              "0,10,20,30,40,50,60,기초생활수급자                                                           18\n",
              "0,10,20,30,40,50,기초생활수급자                                                              18\n",
              "60,70,80,90,100,110,120,130,140,150,160,170,180,190,200                               15\n",
              "0,10,20,30,40,50,60,70,80,기초생활수급자                                                     13\n",
              "50,60,70,80,90,100,110,120,130,140,150,160,170,180,190,200                            12\n",
              "0,10,20,30,40,50,60,70,기초생활수급자                                                        10\n",
              "0,10,20,30,40,50,60,70,80,90,100,110,120,130,140,150,160,170,180,기초생활수급자               9\n",
              "0,10,20,30,40,50,60,70,80,90,100,110,120,130,140,150,160,170,180,190,200,기초생활수급자       9\n",
              "0,10,20,30,40,기초생활수급자                                                                  7\n",
              "0,10,20,30,40,50,60,70,80,90,100,110,120,130,140,150,기초생활수급자                           5\n",
              "0,10,20                                                                                5\n",
              "0,10,20,30,40,50,60,70,80,90,100,기초생활수급자                                               5\n",
              "0,10,20,30,40,50,60,70,80,90,100,110,120,130,140,150,160,170                           5\n",
              "80,90,100,110,120,130,140,150,160,170,180,190,200                                      4\n",
              "50                                                                                     4\n",
              "20,30,40,50,60,70,80,90,100,110,120,130,140,150,160,170,180,190,200                    3\n",
              "70,80,90,100,110,120,130,140,150,160,170,180,190,200                                   3\n",
              "0,10,20,30,40,50,60,70,80,90,100,110,120,130,140,150,160,기초생활수급자                       2\n",
              "40,50,60                                                                               2\n",
              "180,190,200                                                                            2\n",
              "150,160,170,180,190,200                                                                2\n",
              "0,10,20,30,40,50,60,70,80,90,100,110                                                   2\n",
              "40,50                                                                                  2\n",
              "0,10,20,30,40,50,60,70,80,90,100,110,120,130,140,150,160,170,기초생활수급자                   1\n",
              "0,10,20,30,40,50,60,70,80,90,100,110,120,140,150,160,170,180,190,200                   1\n",
              "150                                                                                    1\n",
              "90,100,110,120,130,140,150,160,170,180,190,200                                         1\n",
              "200                                                                                    1\n",
              "140,150,160,170,180,190,200                                                            1\n",
              "120,130,140,150                                                                        1\n",
              "120,130,140,150,160,170,180,190,200                                                    1\n",
              "0,10,20,30,40,50,60,70,80,90,100,110,120,130,140,기초생활수급자                               1\n",
              "Name: 중위소득, dtype: int64"
            ]
          },
          "metadata": {},
          "execution_count": 99
        }
      ]
    },
    {
      "cell_type": "markdown",
      "source": [
        "#### 필터링 pickle dump"
      ],
      "metadata": {
        "id": "SpK-qQkdSs2A"
      }
    },
    {
      "cell_type": "code",
      "source": [
        "policy_money_done = open('/content/drive/MyDrive/웰로/data/policy_money_done.pkl', 'wb')\n",
        "pickle.dump(policy_admin_money,policy_money_done)"
      ],
      "metadata": {
        "id": "0Z4_6AG8XWt1"
      },
      "execution_count": null,
      "outputs": []
    },
    {
      "cell_type": "markdown",
      "source": [
        "### 태깅 합치기 from pickle only jiho\n"
      ],
      "metadata": {
        "id": "z1Qrf9WsWjRx"
      }
    },
    {
      "cell_type": "code",
      "source": [
        "# 대상연령시작, 대상연령 끝\n",
        "age_done = pd.read_pickle('/content/drive/MyDrive/웰로/data/policy_age_done_2.pkl')\n",
        "age_done = age_done[['정책ID', '대상연령_시작', '대상연령_끝']]\n",
        "\n",
        "# 지역(시도), 지역(시군구)\n",
        "loca_done = pd.read_pickle('/content/drive/MyDrive/웰로/data/policy_loca_done_2.pkl')\n",
        "loca_done = loca_done[['정책ID', '필터링_시도', '필터링_시군구']]\n",
        "\n",
        "# 대상특성, 대상특성상세\n",
        "target_done = pd.read_pickle('/content/drive/MyDrive/웰로/data/policy_target_done2.pkl')\n",
        "target_done = target_done[['정책ID', '필터링_대상특성', '필터링_대상특성상세']]\n",
        "\n",
        "# 관심상황특성\n",
        "situation_done = pd.read_pickle('/content/drive/MyDrive/웰로/data/policy_situation_done2.pkl')\n",
        "situation_done = situation_done[['정책ID', '필터링_관심상황특성']]\n",
        "\n",
        "# 중위소득\n",
        "money_done = pd.read_pickle('/content/drive/MyDrive/웰로/data/policy_money_done.pkl')\n",
        "money_done = money_done[['정책ID', '중위소득']]\n",
        "\n",
        "# merge\n",
        "my = policy.copy()\n",
        "for plus in [age_done, loca_done, money_done, situation_done, target_done]:\n",
        "  my = pd.merge(my, plus, how='inner', on='정책ID')"
      ],
      "metadata": {
        "id": "TI2I6E1kWoqn"
      },
      "execution_count": null,
      "outputs": []
    },
    {
      "cell_type": "code",
      "source": [
        "my.columns"
      ],
      "metadata": {
        "colab": {
          "base_uri": "https://localhost:8080/"
        },
        "id": "HTxJIZh0fNeU",
        "outputId": "600db42b-f711-4dd2-a09d-ad9fa0697d24"
      },
      "execution_count": null,
      "outputs": [
        {
          "output_type": "execute_result",
          "data": {
            "text/plain": [
              "Index(['정책ID', '정책서비스ID', '서비스명', '소관기관', '소관기관유형', '소관기관.1', '문의처전화번호',\n",
              "       '소관기관유형.1', '온라인신청사이트URL', '생애주기', '신청절차', '선정기준', '지원유형', '서비스목적',\n",
              "       '지원내용', '지원대상', '신청기한_시작', '신청기한_끝', '상세조회URL', '태그-신청절차', '태그-자녀',\n",
              "       '태그-수집유형', '태그-가구원', '태그-성별', '태그-학력', '태그-직장', '태그-결혼', '태그-지원유형',\n",
              "       '태그-지역(시도)', '태그-관심상황특성', '태그-자녀상세', '태그-직장상세', '태그-지원유형상세',\n",
              "       '태그-지역(시군구)', '태그-대상특성상세', '태그-대상특성', '태그-대상연령시작', '태그-대상연령끝',\n",
              "       '태그-중위소득시작', '태그-중위소득끝', '대상연령_시작', '대상연령_끝', '필터링_시도', '필터링_시군구',\n",
              "       '중위소득', '필터링_관심상황특성', '필터링_대상특성', '필터링_대상특성상세'],\n",
              "      dtype='object')"
            ]
          },
          "metadata": {},
          "execution_count": 102
        }
      ]
    },
    {
      "cell_type": "code",
      "source": [
        "my = my[['정책ID', '정책서비스ID', '서비스명', '소관기관', '소관기관유형.1' , '생애주기', '신청절차', '선정기준', '지원유형', '서비스목적', '지원내용' ,'지원대상', '대상연령_시작', '대상연령_끝', '필터링_시도', '필터링_시군구', '중위소득',\n",
        "       '필터링_관심상황특성', '필터링_대상특성', '필터링_대상특성상세' ]]\n",
        "my.rename(columns={'대상연령_시작':'필터링_대상연령시작', '대상연령_끝':'필터링_대상연령_끝', '중위소득':'필터링_중위소득'}, inplace=True)\n",
        "my.columns"
      ],
      "metadata": {
        "colab": {
          "base_uri": "https://localhost:8080/"
        },
        "id": "IeajPBmzeyD6",
        "outputId": "31bcfdd8-52db-4d34-ff8a-00f3ea370f70"
      },
      "execution_count": null,
      "outputs": [
        {
          "output_type": "stream",
          "name": "stderr",
          "text": [
            "/usr/local/lib/python3.7/dist-packages/pandas/core/frame.py:4308: SettingWithCopyWarning: \n",
            "A value is trying to be set on a copy of a slice from a DataFrame\n",
            "\n",
            "See the caveats in the documentation: https://pandas.pydata.org/pandas-docs/stable/user_guide/indexing.html#returning-a-view-versus-a-copy\n",
            "  errors=errors,\n"
          ]
        },
        {
          "output_type": "execute_result",
          "data": {
            "text/plain": [
              "Index(['정책ID', '정책서비스ID', '서비스명', '소관기관', '소관기관유형.1', '생애주기', '신청절차', '선정기준',\n",
              "       '지원유형', '서비스목적', '지원내용', '지원대상', '필터링_대상연령시작', '필터링_대상연령_끝', '필터링_시도',\n",
              "       '필터링_시군구', '필터링_중위소득', '필터링_관심상황특성', '필터링_대상특성', '필터링_대상특성상세'],\n",
              "      dtype='object')"
            ]
          },
          "metadata": {},
          "execution_count": 103
        }
      ]
    },
    {
      "cell_type": "code",
      "source": [
        "my_done = open('/content/drive/MyDrive/웰로/data/jiho_done.pkl', 'wb')\n",
        "pickle.dump(my,my_done)"
      ],
      "metadata": {
        "id": "Tc2oyoFoght3"
      },
      "execution_count": null,
      "outputs": []
    },
    {
      "cell_type": "markdown",
      "source": [
        "### namjun start"
      ],
      "metadata": {
        "id": "rPWOAlIJCD4J"
      }
    },
    {
      "cell_type": "code",
      "source": [
        "policy.fillna('', inplace=True)"
      ],
      "metadata": {
        "id": "HZcMwviJCIqx"
      },
      "execution_count": null,
      "outputs": []
    },
    {
      "cell_type": "markdown",
      "source": [
        "### 소관기관유형"
      ],
      "metadata": {
        "id": "RlGY05F_nbRA"
      }
    },
    {
      "cell_type": "markdown",
      "source": [
        "#### 필터링 코드"
      ],
      "metadata": {
        "id": "IVVh8FWvnoVi"
      }
    },
    {
      "cell_type": "code",
      "source": [
        "def organization_authority(df):\n",
        "  text = df['소관기관유형']\n",
        "  if'중앙행정기관' in text:\n",
        "    return '중앙행정기관'\n",
        "  elif'공공기관' in text:\n",
        "    return '공공기관 등'\n",
        "  elif'교육청' in text:\n",
        "    return '교육청'\n",
        "  elif'광역시도' in text:\n",
        "    return '광역시도'\n",
        "  elif'시군구' in text:\n",
        "    return '시군구'\n",
        "  elif'민간기관' in text:\n",
        "    return '민간기관'\n",
        "\n",
        "org = []\n",
        "for i in range(len(policy)):\n",
        "  org.append(organization_authority(policy.iloc[i])[1])"
      ],
      "metadata": {
        "id": "nV6YFXPHnziX"
      },
      "execution_count": null,
      "outputs": []
    },
    {
      "cell_type": "code",
      "source": [
        "policy_admin_org = pd.merge(left=policy, right=admin, how='inner', on='정책ID')\n",
        "policy_admin_org = policy_admin_org[['정책ID', '소관기관유형']]"
      ],
      "metadata": {
        "id": "q8L8QA5nNWhy"
      },
      "execution_count": null,
      "outputs": []
    },
    {
      "cell_type": "code",
      "source": [
        "policy_admin_org['필터링_소관기관유형'] = org"
      ],
      "metadata": {
        "id": "nESkkvk_NbT6"
      },
      "execution_count": null,
      "outputs": []
    },
    {
      "cell_type": "markdown",
      "source": [
        "#### 필터링 pickle dump"
      ],
      "metadata": {
        "id": "wocTlEJjZ9PK"
      }
    },
    {
      "cell_type": "code",
      "source": [
        "with open('/content/drive/MyDrive/웰로/data/policy_org.pkl', 'wb') as f:\n",
        "    pickle.dump(policy_admin_org, f, pickle.HIGHEST_PROTOCOL)"
      ],
      "metadata": {
        "id": "5i5awd3rZWf5"
      },
      "execution_count": null,
      "outputs": []
    },
    {
      "cell_type": "markdown",
      "source": [
        "### 지원유형 & 지원유형 상세"
      ],
      "metadata": {
        "id": "0y5q5hkSuDsG"
      }
    },
    {
      "cell_type": "markdown",
      "source": [
        "#### 필터링 코드"
      ],
      "metadata": {
        "id": "I4PpFUOMuEDX"
      }
    },
    {
      "cell_type": "code",
      "source": [
        "# 지원유형 & 지원유형상세 태그 추출\n",
        "def support_type(df):\n",
        "  \n",
        "  a = df['지원유형'].replace('\\n', '||').replace('\\n\\n', '||').split('||')\n",
        "  tags, tag_d = [], []\n",
        "  for i in a:\n",
        "    if ('현금'in i) or ('융자' in i) or ('감면' in i) or ('대납' in i):                    \n",
        "      tags.append('현금')\n",
        "      if '장학금' in i:\n",
        "        tag_d.append('현금(장학금)')     \n",
        "      elif '융자' in i:\n",
        "        tag_d.append('현금(융자)')\n",
        "      elif ('감면' in i) or ('대납' in i):\n",
        "        tag_d.append('현금(감면)')\n",
        "      elif '보험' in i:\n",
        "        tag_d.append('현금(보험)')\n",
        "      else:                           #전체\n",
        "        tag_d.append('현금(전체)')\n",
        "    if ('현물' in i) or ('대여' in i ):\n",
        "      tags.append('현물')\n",
        "    if ('이용권'in i) or ('시설이용' in i):\n",
        "      tags.append('이용권')\n",
        "    if ('서비스' in i) and (i != '서비스이용권'):\n",
        "      tags.append('서비스')\n",
        "      if '주택임대' in i:           \n",
        "        tag_d.append('서비스(주택임대)')\n",
        "      elif '일자리' in i:\n",
        "        tag_d.append('서비스(일자리)')\n",
        "      elif '의료' in i:\n",
        "        tag_d.append('서비스(의료)')\n",
        "      elif '돌봄' in i:\n",
        "        tag_d.append('서비스(돌봄)')\n",
        "      else:                           #전체\n",
        "        tag_d.append('서비스(전체)') \n",
        "    if '의료'in i:\n",
        "      tags.append('의료지원')\n",
        "    if (('상담'in i) or ('법률' in i)) and ('기타' not in i): \n",
        "      tags.append('상담/법률지원')\n",
        "    if ('문화'in i) or ('여가' in i): \n",
        "      tags.append('문화/여가지원')\n",
        "    if '민원'in i:\n",
        "      tags.append('민원')\n",
        "    if ('봉사'in i): \n",
        "      tags.append('봉사/기부')\n",
        "    if ('기타'in i) or ('정보' in i):\n",
        "      tags.append('기타')\n",
        "      if ('교육' in i):\n",
        "        tag_d.append('기타(교육)')\n",
        "      elif ('상담' in i) or ('정보'):\n",
        "        tag_d.append('기타(상담)')\n",
        "      else:\n",
        "        tag_d.append('기타(전체)')     \n",
        "  tags = list(set(tags))\n",
        "  if len(tags) == 0:\n",
        "    tags = '기타'\n",
        "  tag_d = list(set(tag_d))\n",
        "  if len(tag_d) == 0:\n",
        "    tag_d = '해당사항없음'\n",
        "  return tags, tag_d\n",
        "\n",
        "sup, sup_detailed = [], []\n",
        "for i in range(len(policy)):\n",
        "  sup.append(support_type(policy.iloc[i])[0])\n",
        "  sup_detailed.append(support_type(policy.iloc[i])[1])"
      ],
      "metadata": {
        "id": "FrKJm1HEsygB"
      },
      "execution_count": null,
      "outputs": []
    },
    {
      "cell_type": "markdown",
      "source": [
        "#### 지원유형 & 지원유형상세 맞춘 비율"
      ],
      "metadata": {
        "id": "i6TLxTd3wYGO"
      }
    },
    {
      "cell_type": "code",
      "source": [
        "policy_admin_support = pd.merge(left=policy, right=admin, how='inner', on='정책ID')\n",
        "policy_admin_support = policy_admin_support[['정책ID', '지원유형_y','지원유형상세','지원대상']]"
      ],
      "metadata": {
        "id": "4_jxsJdLwdRY"
      },
      "execution_count": null,
      "outputs": []
    },
    {
      "cell_type": "code",
      "source": [
        "policy_admin_support['필터링_지원유형'] = sup\n",
        "policy_admin_support['필터링_지원유형상세'] = sup_detailed"
      ],
      "metadata": {
        "id": "MNHY2zvfwkvx"
      },
      "execution_count": null,
      "outputs": []
    },
    {
      "cell_type": "code",
      "source": [
        "policy_admin_support['필터링_지원유형'] = policy_admin_support['필터링_지원유형'].map(lambda x: ','.join(x) if (type(x) == list) else (x if x == '해당사항없음' else x))\n",
        "policy_admin_support['필터링_지원유형상세']= policy_admin_support['필터링_지원유형상세'].map(lambda x: ','.join(x) if (type(x) == list) else (x if x == '해당사항없음' else x))"
      ],
      "metadata": {
        "id": "cX81l3kd0gRx"
      },
      "execution_count": null,
      "outputs": []
    },
    {
      "cell_type": "code",
      "source": [
        "#지원유형\n",
        "print(len(policy_admin_support[policy_admin_support['지원유형_y'] == policy_admin_support['필터링_지원유형']]) / len(policy_admin_support) * 100)\n",
        "#지원유형상세\n",
        "print(len(policy_admin_support[policy_admin_support['지원유형상세'] == policy_admin_support['필터링_지원유형상세']]) / len(policy_admin_support) * 100)"
      ],
      "metadata": {
        "colab": {
          "base_uri": "https://localhost:8080/"
        },
        "outputId": "89eee925-210c-47a7-c7bd-63df75889496",
        "id": "UyeOeqE6wYGP"
      },
      "execution_count": null,
      "outputs": [
        {
          "output_type": "stream",
          "name": "stdout",
          "text": [
            "14.173993626110345\n",
            "0.0\n"
          ]
        }
      ]
    },
    {
      "cell_type": "markdown",
      "source": [
        "#### 필터링 pickle dump"
      ],
      "metadata": {
        "id": "WuHQhtuRaaAR"
      }
    },
    {
      "cell_type": "code",
      "source": [
        "with open('/content/drive/MyDrive/웰로/data/policy_support.pkl', 'wb') as f:\n",
        "    pickle.dump(policy_admin_support, f, pickle.HIGHEST_PROTOCOL)"
      ],
      "metadata": {
        "id": "Jsrtx-opaaAR"
      },
      "execution_count": null,
      "outputs": []
    },
    {
      "cell_type": "markdown",
      "source": [
        "### 신청절차"
      ],
      "metadata": {
        "id": "hVCY4jG_yA_-"
      }
    },
    {
      "cell_type": "markdown",
      "source": [
        "#### 필터링 코드"
      ],
      "metadata": {
        "id": "yFT6owqbynj0"
      }
    },
    {
      "cell_type": "code",
      "source": [
        "# 신청절차 태그 추출\n",
        "\n",
        "def application_methods(df):\n",
        "  tokens = re.sub(r'[^가-힣]', ' ', df['신청절차'])  # 문장을 나눔\n",
        "  tokens = tokens.split(' ')\n",
        "  tok = []        \n",
        "  for i in tokens:   \n",
        "    if sum(i.count(x) for x in ['방문', '우편', '서면', '팩스', '은행', '영업접', '사무소', '내방']) >= 1 :\n",
        "      tok.append('오프라인')\n",
        "    elif sum(i.count(x) for x in ['모바일', 'ARS', '전화', '민원24', '온라인', '이메일', '인터넷', '홈택스', '홈페이지', '앱']) >= 1 :\n",
        "      tok.append('온라인')\n",
        "  if (('오프라인' in tok) and ('온라인' in tok)) or len(tok) == 0: # 아무 내용이 없을 경우, 복합으로 설정 > 추후 변경 필요시 이 부분 설정변경\n",
        "    a = '무관'\n",
        "  else:\n",
        "    a = tok[0]\n",
        "  return a\n",
        "\n",
        "onoff = []\n",
        "for i in range(len(policy)):\n",
        "  onoff.append(application_methods(policy.iloc[i]))\n",
        " "
      ],
      "metadata": {
        "id": "-otKztHqyAwD"
      },
      "execution_count": null,
      "outputs": []
    },
    {
      "cell_type": "markdown",
      "source": [
        "#### 신청절차 맞춘 비율"
      ],
      "metadata": {
        "id": "e8YuJsXIzJfs"
      }
    },
    {
      "cell_type": "code",
      "source": [
        "policy_admin_app = pd.merge(left=policy, right=admin, how='inner', on='정책ID')\n",
        "policy_admin_app = policy_admin_app[['정책ID', '신청절차_y']]"
      ],
      "metadata": {
        "id": "ClYkdnhmzJft"
      },
      "execution_count": null,
      "outputs": []
    },
    {
      "cell_type": "code",
      "source": [
        "policy_admin_app['필터링_신청절차'] = onoff"
      ],
      "metadata": {
        "id": "74RpfjADzJft",
        "colab": {
          "base_uri": "https://localhost:8080/"
        },
        "outputId": "099067fd-512a-486f-d73c-0e6f1e9a6b5d"
      },
      "execution_count": null,
      "outputs": [
        {
          "output_type": "stream",
          "name": "stderr",
          "text": [
            "/usr/local/lib/python3.7/dist-packages/ipykernel_launcher.py:1: SettingWithCopyWarning: \n",
            "A value is trying to be set on a copy of a slice from a DataFrame.\n",
            "Try using .loc[row_indexer,col_indexer] = value instead\n",
            "\n",
            "See the caveats in the documentation: https://pandas.pydata.org/pandas-docs/stable/user_guide/indexing.html#returning-a-view-versus-a-copy\n",
            "  \"\"\"Entry point for launching an IPython kernel.\n"
          ]
        }
      ]
    },
    {
      "cell_type": "code",
      "source": [
        "#신청절차\n",
        "print(len(policy_admin_app[policy_admin_app['신청절차_y'] == policy_admin_app['필터링_신청절차']]) / len(policy_admin_app) * 100)"
      ],
      "metadata": {
        "colab": {
          "base_uri": "https://localhost:8080/"
        },
        "outputId": "a6f355f1-af1f-4b81-fd04-36cc2ed1816f",
        "id": "cmZ4U5jizJfu"
      },
      "execution_count": null,
      "outputs": [
        {
          "output_type": "stream",
          "name": "stdout",
          "text": [
            "32.56899396514703\n"
          ]
        }
      ]
    },
    {
      "cell_type": "markdown",
      "source": [
        "#### 필터링 pickle dump"
      ],
      "metadata": {
        "id": "j_3QwHgCazqI"
      }
    },
    {
      "cell_type": "code",
      "source": [
        "with open('/content/drive/MyDrive/웰로/data/policy_apply.pkl', 'wb') as f:\n",
        "    pickle.dump(policy_admin_app, f, pickle.HIGHEST_PROTOCOL)"
      ],
      "metadata": {
        "id": "eipaQJe3azqI"
      },
      "execution_count": null,
      "outputs": []
    },
    {
      "cell_type": "markdown",
      "source": [
        "### 성별"
      ],
      "metadata": {
        "id": "56qar6j535Bu"
      }
    },
    {
      "cell_type": "markdown",
      "source": [
        "#### 필터링 코드"
      ],
      "metadata": {
        "id": "fDkY-Shk4e7Q"
      }
    },
    {
      "cell_type": "code",
      "source": [
        "# 성별 태그 추출\n",
        "def gender(df):\n",
        "  tok = []      \n",
        "  tokens = re.sub(r'[^가-힣]', ' ', df['서비스명']+df['선정기준']+df['지원대상'])\n",
        "  tokens = tokens.split(' ')\n",
        "  for i in tokens:   # 토큰의 조건 별 태그 추출\n",
        "    if (sum(i.count(x) for x in ['남성', '남자']) >= 2) or sum(i.count(x) for x in ['의경', '군인', '입대', '장병', '전립선']) >= 1 :\n",
        "      tok.append('남성')\n",
        "    elif (sum(i.count(x) for x in ['출산', '임산부', '임신']) >= 1) or (sum(i.count(x) for x in ['여성', '여자']) >= 2) :\n",
        "      tok.append('여성')\n",
        "  if len(set(tok)) == 1:  \n",
        "    a = tok[0] \n",
        "  else:\n",
        "    a = '무관'\n",
        "  return a\n",
        "\n",
        "\n",
        "gen = []\n",
        "for i in range(len(policy)):\n",
        "  gen.append(gender(policy.iloc[i]))"
      ],
      "metadata": {
        "id": "zYSFCeRF342T"
      },
      "execution_count": null,
      "outputs": []
    },
    {
      "cell_type": "markdown",
      "source": [
        "#### 성별 맞춘비율"
      ],
      "metadata": {
        "id": "pa04oN9b4oWg"
      }
    },
    {
      "cell_type": "code",
      "source": [
        "policy_admin_gen = pd.merge(left=policy, right=admin, how='inner', on='정책ID')\n",
        "policy_admin_gen = policy_admin_gen[['정책ID', '성별']]"
      ],
      "metadata": {
        "id": "UBctqiMg4sJi"
      },
      "execution_count": null,
      "outputs": []
    },
    {
      "cell_type": "code",
      "source": [
        "policy_admin_gen['필터링_성별'] = gen"
      ],
      "metadata": {
        "id": "RXrzCJkm4sJi"
      },
      "execution_count": null,
      "outputs": []
    },
    {
      "cell_type": "code",
      "source": [
        "#성별\n",
        "print(len(policy_admin_gen[policy_admin_gen['성별'] == policy_admin_gen['필터링_성별']]) / len(policy_admin_gen) * 100)"
      ],
      "metadata": {
        "colab": {
          "base_uri": "https://localhost:8080/"
        },
        "outputId": "5591b1b4-1b65-40d9-a2e1-fc85ea22af85",
        "id": "iuPCMp674sJi"
      },
      "execution_count": null,
      "outputs": [
        {
          "output_type": "stream",
          "name": "stdout",
          "text": [
            "76.01654499016793\n"
          ]
        }
      ]
    },
    {
      "cell_type": "markdown",
      "source": [
        "#### 필터링 pickle dump"
      ],
      "metadata": {
        "id": "fpCWBkcJcGBl"
      }
    },
    {
      "cell_type": "code",
      "source": [
        "with open('/content/drive/MyDrive/웰로/data/policy_gender.pkl', 'wb') as f:\n",
        "    pickle.dump(policy_admin_gen, f, pickle.HIGHEST_PROTOCOL)"
      ],
      "metadata": {
        "id": "vAZ29cYKcGBl"
      },
      "execution_count": null,
      "outputs": []
    },
    {
      "cell_type": "markdown",
      "source": [
        "### 결혼"
      ],
      "metadata": {
        "id": "LkQZAHEP5JhN"
      }
    },
    {
      "cell_type": "markdown",
      "source": [
        "#### 필터링 코드"
      ],
      "metadata": {
        "id": "-BWmnIpu5Mzw"
      }
    },
    {
      "cell_type": "code",
      "source": [
        "#결혼 태그 추출\n",
        "def marriage(df):\n",
        "  \n",
        "  tok = []\n",
        "  tokens = df['서비스명'] + df['선정기준'] + df['지원대상']\n",
        "  tokens = re.sub(r'[^가-힣]', ' ', tokens)\n",
        "  tokens = tokens.split(' ')\n",
        "  for i in tokens:\n",
        "    if '미혼'in i:\n",
        "      tok.append('미혼')\n",
        "    if sum(i.count(x) for x in ['기혼', '가정', '아동', '다문화', '가족', '자녀']) >= 3 :\n",
        "      tok.append('기혼')\n",
        "    if '이혼' in i:\n",
        "      tok.append('이혼')\n",
        "    if '재혼' in i:\n",
        "      tok.append('재혼')\n",
        "  if len(tok)==0:\n",
        "    a = '무관'\n",
        "  else:\n",
        "    a = list(set(tok))\n",
        "  return a\n",
        "\n",
        "marri = []\n",
        "for i in range(len(policy)):\n",
        "  marri.append(marriage(policy.iloc[i]))"
      ],
      "metadata": {
        "id": "TCWpW1NO5PdK"
      },
      "execution_count": null,
      "outputs": []
    },
    {
      "cell_type": "markdown",
      "source": [
        "#### 결혼 맞춘비율"
      ],
      "metadata": {
        "id": "RxrCKWfi5cJP"
      }
    },
    {
      "cell_type": "code",
      "source": [
        "policy_admin_marri = pd.merge(left=policy, right=admin, how='inner', on='정책ID')\n",
        "policy_admin_marri = policy_admin_marri[['정책ID', '결혼']]"
      ],
      "metadata": {
        "id": "3jx9t7Gv5cJP"
      },
      "execution_count": null,
      "outputs": []
    },
    {
      "cell_type": "code",
      "source": [
        "policy_admin_marri['필터링_결혼'] = marri"
      ],
      "metadata": {
        "id": "krrn1kON5cJQ",
        "colab": {
          "base_uri": "https://localhost:8080/"
        },
        "outputId": "b08a1c02-1efb-407b-ec19-ac9dcfee4d53"
      },
      "execution_count": null,
      "outputs": [
        {
          "output_type": "stream",
          "name": "stderr",
          "text": [
            "/usr/local/lib/python3.7/dist-packages/ipykernel_launcher.py:1: SettingWithCopyWarning: \n",
            "A value is trying to be set on a copy of a slice from a DataFrame.\n",
            "Try using .loc[row_indexer,col_indexer] = value instead\n",
            "\n",
            "See the caveats in the documentation: https://pandas.pydata.org/pandas-docs/stable/user_guide/indexing.html#returning-a-view-versus-a-copy\n",
            "  \"\"\"Entry point for launching an IPython kernel.\n"
          ]
        }
      ]
    },
    {
      "cell_type": "code",
      "source": [
        "policy_admin_marri['필터링_결혼'] = policy_admin_marri['필터링_결혼'].map(lambda x: ','.join(x) if (type(x) == list) else (str(x) if ((type(x) == list) and (len(x) == 1)) else ( x if x == '무관' else x)))"
      ],
      "metadata": {
        "id": "6RCmfPCU8-l7"
      },
      "execution_count": null,
      "outputs": []
    },
    {
      "cell_type": "code",
      "source": [
        "#결혼\n",
        "print(len(policy_admin_marri[policy_admin_marri['결혼'] == policy_admin_marri['필터링_결혼']]) / len(policy_admin_marri) * 100)"
      ],
      "metadata": {
        "colab": {
          "base_uri": "https://localhost:8080/"
        },
        "outputId": "eeb7121c-2e22-4135-e893-9bc01304f6e4",
        "id": "Dlf0cAi65cJQ"
      },
      "execution_count": null,
      "outputs": [
        {
          "output_type": "stream",
          "name": "stdout",
          "text": [
            "63.84286779829578\n"
          ]
        }
      ]
    },
    {
      "cell_type": "markdown",
      "source": [
        "#### 필터링 pickle dump"
      ],
      "metadata": {
        "id": "YEpfvDKRcR5w"
      }
    },
    {
      "cell_type": "code",
      "source": [
        "with open('/content/drive/MyDrive/웰로/data/policy_marriage.pkl', 'wb') as f:\n",
        "    pickle.dump(policy_admin_marri, f, pickle.HIGHEST_PROTOCOL)"
      ],
      "metadata": {
        "id": "zu5CpQ1gcR5x"
      },
      "execution_count": null,
      "outputs": []
    },
    {
      "cell_type": "markdown",
      "source": [
        "### 학력"
      ],
      "metadata": {
        "id": "2jWoKRDz5_9z"
      }
    },
    {
      "cell_type": "markdown",
      "source": [
        "#### 필터링 코드"
      ],
      "metadata": {
        "id": "zpxqMiua5_9z"
      }
    },
    {
      "cell_type": "code",
      "source": [
        "\n",
        "# 학력 태그 추출\n",
        "def education(df):\n",
        "  tokens= re.sub(r'[^가-힣]', ' ', df['서비스명'] + df['지원대상']+df['선정기준'])  # 문장을 모두 붙인다\n",
        "  tokens = tokens.split(' ')\n",
        "  tok= []\n",
        "  tag = []\n",
        "  for i in tokens: # i: 고등학교\n",
        "    if sum(i.count(x) for x in ['고졸', '고등학교','고교생']) >= 1 :\n",
        "      tok.append('고등학교졸업')\n",
        "    if ('대학' in i) :\n",
        "      tag.append(i)\n",
        "    if ('휴학' in i): \n",
        "      tok.append('대학(원)휴학')\n",
        "    if (('대학' in tag) & (('재학' in i)or ('학년' in i))) or ('대학생' in tag): \n",
        "      tok.append('대학(원)재학')\n",
        "    if (('대학' in tag) & ('졸업' in i)) : \n",
        "      tok.append('대학(원)졸업')\n",
        "  if len(tok)==0:\n",
        "    a = '무관'\n",
        "  else:\n",
        "    a = list(set(tok))\n",
        "  return a\n",
        "\n",
        "edu = []\n",
        "for i in range(len(policy)):\n",
        "  edu.append(education(policy.iloc[i]))"
      ],
      "metadata": {
        "id": "GmcCxbqC5_90"
      },
      "execution_count": null,
      "outputs": []
    },
    {
      "cell_type": "markdown",
      "source": [
        "#### 학력 맞춘비율"
      ],
      "metadata": {
        "id": "yprYm3go6H8J"
      }
    },
    {
      "cell_type": "code",
      "source": [
        "policy_admin_edu = pd.merge(left=policy, right=admin, how='inner', on='정책ID')\n",
        "policy_admin_edu = policy_admin_edu[['정책ID', '학력']]"
      ],
      "metadata": {
        "id": "22yg03aT6H8K"
      },
      "execution_count": null,
      "outputs": []
    },
    {
      "cell_type": "code",
      "source": [
        "policy_admin_edu['필터링_학력'] = edu"
      ],
      "metadata": {
        "id": "oeQcozw06H8K"
      },
      "execution_count": null,
      "outputs": []
    },
    {
      "cell_type": "code",
      "source": [
        "policy_admin_edu['필터링_학력'] = policy_admin_edu['필터링_학력'].map(lambda x: ','.join(x) if (type(x) == list) else (str(x) if ((type(x) == list) and (len(x) == 1)) else ( x if x == '무관' else x)))"
      ],
      "metadata": {
        "id": "BcwteCQ7-gqm"
      },
      "execution_count": null,
      "outputs": []
    },
    {
      "cell_type": "code",
      "source": [
        "# 학력\n",
        "print(len(policy_admin_edu[policy_admin_edu['학력'] == policy_admin_edu['필터링_학력']]) / len(policy_admin_edu) * 100)"
      ],
      "metadata": {
        "colab": {
          "base_uri": "https://localhost:8080/"
        },
        "outputId": "7a983598-d18f-4178-86a0-7c714d66f50e",
        "id": "36KFGyi_6H8K"
      },
      "execution_count": null,
      "outputs": [
        {
          "output_type": "stream",
          "name": "stdout",
          "text": [
            "65.56291390728477\n"
          ]
        }
      ]
    },
    {
      "cell_type": "markdown",
      "source": [
        "#### 필터링 pickle dump"
      ],
      "metadata": {
        "id": "3XZyWZIEceXA"
      }
    },
    {
      "cell_type": "code",
      "source": [
        "with open('/content/drive/MyDrive/웰로/data/policy_edu.pkl', 'wb') as f:\n",
        "    pickle.dump(policy_admin_edu, f, pickle.HIGHEST_PROTOCOL)"
      ],
      "metadata": {
        "id": "dZEmveWKceXA"
      },
      "execution_count": null,
      "outputs": []
    },
    {
      "cell_type": "markdown",
      "source": [
        "### 가구원"
      ],
      "metadata": {
        "id": "KkKE77fa6c1z"
      }
    },
    {
      "cell_type": "markdown",
      "source": [
        "#### 필터링 코드"
      ],
      "metadata": {
        "id": "69LO_hdR6c10"
      }
    },
    {
      "cell_type": "code",
      "source": [
        "\n",
        "# 가구원 태그 추출\n",
        "def house_position(df):\n",
        "\n",
        "  tokens_1 = re.sub(r'[^가-힣]', '', df['서비스명']+df['지원대상']+df['선정기준'])  # 문장을 모두 붙인다\n",
        "  tok, tag, tag1, house = [], [], [], [] \n",
        "  if ('무주택세대주' in tokens_1) or ('무주택자' in tokens_1):\n",
        "    tok.append('무주택 세대주')\n",
        "  if ('무주택세대원' in tokens_1) or (('무주택자' in tokens_1 ) and ('세대원' in tokens_1)):\n",
        "    tok.append('무주택 세대원')\n",
        "  if ('주택소유' in  tokens_1)  or ('자가소유' in tokens_1) or ('자가를소유' in tokens_1) or ('주택을소유' in tokens_1):\n",
        "    tok.append('주택 세대주')\n",
        "    tag1.append('주택소유')\n",
        "  tokens_2 = re.sub(r'[^가-힣]', ' ', df['지원대상']+df['선정기준'])  # 문장을 나눔\n",
        "  tokens_2 = tokens_2.split(' ')\n",
        "\n",
        "  for i in tokens_2:\n",
        "    if ('무주택' in i): \n",
        "      tag.append(i)\n",
        "    if (('임차인' in i ) or ('세대주' in i)) and ('무주택' in tag):\n",
        "      tok.append('무주택 세대주')\n",
        "    if (('세대원' in i) and ('무주택' in tag)) or (('구성원' in i) and ('무주택' in tag)):\n",
        "      tok.append('무주택 세대원')\n",
        "    if ('세대주' in i) and ('주택소유' in tag1): \n",
        "      tok.append('주택 세대주')\n",
        "    if (('세대원' in i) and ('주택소유' in tag1)) or (('구성원' in i) and ('주택소유' in tag1)): \n",
        "      tok.append('주택 세대원')\n",
        "  if len(tag) >= 1 and len(tok) == 0:\n",
        "    tok.append('무주택 세대주')\n",
        "\n",
        "  if len(tok) == 0:\n",
        "    a = '무관'\n",
        "  else:\n",
        "    a = list(set(tok))\n",
        "  return a\n",
        "\n",
        "house = []\n",
        "for i in range(len(policy)):\n",
        "  house.append(house_position(policy.iloc[i]))\n"
      ],
      "metadata": {
        "id": "YqpPMscu6c11"
      },
      "execution_count": null,
      "outputs": []
    },
    {
      "cell_type": "markdown",
      "source": [
        "#### 가구원 맞춘비율"
      ],
      "metadata": {
        "id": "3Erkxbyb6c12"
      }
    },
    {
      "cell_type": "code",
      "source": [
        "policy_admin_house = pd.merge(left=policy, right=admin, how='inner', on='정책ID')\n",
        "policy_admin_house = policy_admin_house[['정책ID', '가구원']]"
      ],
      "metadata": {
        "id": "KAijqfQq6c12"
      },
      "execution_count": null,
      "outputs": []
    },
    {
      "cell_type": "code",
      "source": [
        "policy_admin_house['필터링_가구원'] = house"
      ],
      "metadata": {
        "id": "eBXyAI996c13",
        "colab": {
          "base_uri": "https://localhost:8080/"
        },
        "outputId": "62515dc7-a5af-4c78-c95e-3e2719b81a03"
      },
      "execution_count": null,
      "outputs": [
        {
          "output_type": "stream",
          "name": "stderr",
          "text": [
            "/usr/local/lib/python3.7/dist-packages/ipykernel_launcher.py:1: SettingWithCopyWarning: \n",
            "A value is trying to be set on a copy of a slice from a DataFrame.\n",
            "Try using .loc[row_indexer,col_indexer] = value instead\n",
            "\n",
            "See the caveats in the documentation: https://pandas.pydata.org/pandas-docs/stable/user_guide/indexing.html#returning-a-view-versus-a-copy\n",
            "  \"\"\"Entry point for launching an IPython kernel.\n"
          ]
        }
      ]
    },
    {
      "cell_type": "code",
      "source": [
        "policy_admin_house['필터링_가구원'] = policy_admin_house['필터링_가구원'].map(lambda x: ','.join(x) if (type(x) == list) else (str(x) if ((type(x) == list) and (len(x) == 1)) else ( x if x == '무관' else x)))"
      ],
      "metadata": {
        "id": "42_rD60h_BRv",
        "colab": {
          "base_uri": "https://localhost:8080/"
        },
        "outputId": "35fede98-26b5-4100-85f5-84e2a68efb40"
      },
      "execution_count": null,
      "outputs": [
        {
          "output_type": "stream",
          "name": "stderr",
          "text": [
            "/usr/local/lib/python3.7/dist-packages/ipykernel_launcher.py:1: SettingWithCopyWarning: \n",
            "A value is trying to be set on a copy of a slice from a DataFrame.\n",
            "Try using .loc[row_indexer,col_indexer] = value instead\n",
            "\n",
            "See the caveats in the documentation: https://pandas.pydata.org/pandas-docs/stable/user_guide/indexing.html#returning-a-view-versus-a-copy\n",
            "  \"\"\"Entry point for launching an IPython kernel.\n"
          ]
        }
      ]
    },
    {
      "cell_type": "code",
      "source": [
        "# 가구원\n",
        "print(len(policy_admin_house[policy_admin_house['가구원'] == policy_admin_house['필터링_가구원']]) / len(policy_admin_house) * 100)"
      ],
      "metadata": {
        "colab": {
          "base_uri": "https://localhost:8080/"
        },
        "outputId": "9f164233-5680-44d6-c379-9139eea5bb2e",
        "id": "5F_ILI7s6c13"
      },
      "execution_count": null,
      "outputs": [
        {
          "output_type": "stream",
          "name": "stdout",
          "text": [
            "81.5970888050087\n"
          ]
        }
      ]
    },
    {
      "cell_type": "markdown",
      "source": [
        "#### 필터링 pickle dump"
      ],
      "metadata": {
        "id": "arIbwPEtc0bo"
      }
    },
    {
      "cell_type": "code",
      "source": [
        "with open('/content/drive/MyDrive/웰로/data/policy_house.pkl', 'wb') as f:\n",
        "    pickle.dump(policy_admin_house, f, pickle.HIGHEST_PROTOCOL)"
      ],
      "metadata": {
        "id": "xUqGUQeUc0bo"
      },
      "execution_count": null,
      "outputs": []
    },
    {
      "cell_type": "markdown",
      "source": [
        "### 자녀 및 자녀상세"
      ],
      "metadata": {
        "id": "Y_Kz86ft8E-0"
      }
    },
    {
      "cell_type": "markdown",
      "source": [
        "#### 필터링 코드"
      ],
      "metadata": {
        "id": "AG7daeN_78UA"
      }
    },
    {
      "cell_type": "code",
      "source": [
        "import re\n",
        "# 자녀 및 자녀상세\n",
        "\n",
        "def child(df):\n",
        "  tok , age= [], []\n",
        "  tokens = re.sub(r'[^가-힣]', ' ', df['서비스명']+df['지원대상']+df['선정기준'])\n",
        "  tokens = tokens.split(' ')\n",
        "  for i in tokens:\n",
        "    if ('자녀' in i) or ('아동'in i): # 청소년의 경우 무관인 경우가 종종있는데, \n",
        "      tok.append('A07-01')       # 청소년도 함께 필터링 한 뒤, 리스트에 들어있으면 해당 안하도록 하는 방법 검토\n",
        "  if len(tok) ==0:\n",
        "    tok.append('A07-00')\n",
        "\n",
        "  else:             \n",
        "    for i in tokens:             # 자녀상세 시작\n",
        "      if ('영아' in i) or ('유아' in i) or ('영유아' in i):\n",
        "        tok.append('A07-01-00')\n",
        "      if ('유치원' in i):\n",
        "        tok.append('A07-01-01')\n",
        "      if ('아동기' in i) or ('어린이' in i) or ('어린이집' in i) :\n",
        "        tok.append('A07-01-02')\n",
        "      if ('초중고' in i) or ('중고등' in i) or ('초등학생' in i) or ('중학생' in i) or ('고등학생' in i) or ('중학' in i):\n",
        "        tok.append('A07-01-03')\n",
        "      if ('고등학교' in i) or ('초등학교' in i) or ('중학교' in i):\n",
        "        tok.append('태그')\n",
        "      if ('재학' in i or '자녀' in i or '아동' in i or '학생') and (tok[:-2] == '태그'):\n",
        "        tok.append('A07-01-03')\n",
        "      if ('대학생' in i) or ('대학교'in i):\n",
        "        tok.append('대학교')\n",
        "      if ('재학' in i or '자녀' in i) and (tok[-1] == '대학교'):  \n",
        "        tok.append('A07-01-04')\n",
        "  \n",
        "    ## 나이정보를 바탕으로 선별\n",
        "\n",
        "    regex1 = '[0-9]{1,2} ?세 ?이상|[0-9]{1,2} ?세 ?이하|[0-9]{1,2} ?세 ?초과|[0-9]{1,2} ?세 ?미만'\n",
        "    regex2 = '[0-9]{1,2} ?개월 ?이상|[0-9]{1,2} ?개월 ?이하|[0-9]{1,2} ?개월 ?초과|[0-9]{1,2} ?개월 ?미만'\n",
        "    regex5 = '[0-9]{1,2} ?대 ?이상|[0-9]{1,2} ?대 ?이하|[0-9]{1,2} ?대 ?초과|[0-9]{1,2} ?대 ?미만'\n",
        "    regex3 = '[0-9]{1,2}세? ?~ ?만? ?[0-9]{1,2}세' # 3~5세 | 6세~만19세\n",
        "    regex4 = '[0-9]{1,2}개월? ?~ ?만? ?[0-9]{1,2}개월'   \n",
        "    '''\n",
        "    0~3세 영유아\n",
        "    3~5세 유치원\n",
        "    6~8세 어린이집\n",
        "    8~12세 어린이    (초)\n",
        "    13~18세 고등학생 (중고)\n",
        "    18세~ 성인\n",
        "    '''\n",
        "    child_1 = range(0,3)  # 영유아\n",
        "    child_2 = range(3,6)  # 유치원\n",
        "    child_3 = range(6,9)  # 어린이집\n",
        "    child_4 = range(9,19) # 초중고생\n",
        "    child_5 = range(19, 200)  # 성인\n",
        "\n",
        "    tag_dict = {child_1: 'A07-01-00',\n",
        "    child_2: 'A07-01-01',\n",
        "    child_3: 'A07-01-02',\n",
        "    child_4: 'A07-01-03',\n",
        "    child_5: 'A07-01-04'} \n",
        "    child_tags = [ child_1, child_2, child_3, child_4, child_5]\n",
        "    r = re.compile(f'{regex1}|{regex2}|{regex3}|{regex4}|{regex5}')\n",
        "\n",
        "    tokens = df['지원대상']+df['선정기준']\n",
        "    tokens = r.findall(tokens)\n",
        "    for i in tokens:\n",
        "\n",
        "      if '~' in i :\n",
        "        a = i.split('~')\n",
        "        b = list(range(int(re.search('[0-9]+', a[0]).group()), int(re.search('[0-9]+', a[1]).group())+1))\n",
        "        age.append(b)\n",
        "      else:\n",
        "        if '세' in i:\n",
        "          k = re.findall('[0-9]+', i)\n",
        "          if len(k) == 1:\n",
        "            if ('이상' in i) or ('초과' in i):    # ex: 18세 이상 / 34세 초과\n",
        "              age.append(list(range(int(k[0]), 20+1)))   \n",
        "            else:                                 # ex: 18세 이하 / 18세 미만\n",
        "              age.append(list(range(0, int(k[0])+1)))   \n",
        "          elif len(k) == 2:   # ex: 8세 이상(초과) 18세 이하(미만)\n",
        "            age.append(list(range(int(re.search('[0-9]+', a[0]).group()), int(re.search('[0-9]+', a[1]).group())+1)))  \n",
        "          elif len(k) == 3:   # 3개는 출력으로 확인\n",
        "            print(i)\n",
        "        elif '개월' in i:\n",
        "          k = re.findall('[0-9]+', i)\n",
        "          if len(k) == 1:\n",
        "            if ('이상' in i) or ('초과' in i):              # 18개월 이상 / 18개월 초과\n",
        "              age.append(list(range(int(int(k[0])/12), 20+1)))\n",
        "            else:                                           # 18개월 이하 / 18개월 미만\n",
        "              age.append(list(range(0, int(int(k[0])/12)+1))) \n",
        "          elif len(k) == 2:                                      # 18개월 이상(초과) 36개월 이하(미만)\n",
        "            age.append(list(range(int(re.search('[0-9]+', a[0]).group()), int(re.search('[0-9]+', a[1]).group())+1)))  \n",
        "          elif len(k) == 3:   # 3개는 출력으로 확인\n",
        "            print(i)\n",
        "  \n",
        "  if len(age) != 0:                                        # 나이 관련 정보가 있는경우\n",
        "    for i in age: \n",
        "      if len(i) > 1:                                       # 나이가 1개 이상일 경우\n",
        "        b =  min(i)                     \n",
        "        c =  max(i)                     \n",
        "        j = 0\n",
        "        for ids in range(len(child_tags)):\n",
        "          if b in child_tags[ids]:\n",
        "            tok.append(tag_dict[child_tags[ids]])          # 첫번째 나이가 포함된 태그 추출\n",
        "            j-=ids\n",
        "          elif c in child_tags[ids]:\n",
        "            while j >= 0:\n",
        "              tok.append(tag_dict[child_tags[ids]])        # 두번째 나이가 포함된 태그 추출\n",
        "              j -= 1\n",
        "            j += 1\n",
        "      else:                                                # 나이가 1개일 경우\n",
        "        for ids in range(len(child_tags)):\n",
        "          if i in child_tags[ids]:\n",
        "            tok.append(tag_dict[child_tags[ids]])          # 해당 나이가 해당하는 zone의 태그를 추출\n",
        "  a = list(set(tok))\n",
        "  b = [ i for i in a if len(i) == 6]  # 자녀\n",
        "  c = [ i for i in a if len(i) == 9]  # 자녀상세\n",
        "  if len(c) == 0:\n",
        "    c = '없음'\n",
        "  tag_dict2 = {'A07-01-00': '영유아',\n",
        "  'A07-01-01': '유치원',\n",
        "  'A07-01-02': '어린이집',\n",
        "  'A07-01-03': '초중고 학생',\n",
        "  'A07-01-04': '성인',\n",
        "  'A07-00' : '없음',\n",
        "  'A07-01' : '있음'} \n",
        "  d = []\n",
        "  for i in b:\n",
        "    b.append(tag_dict2[i])\n",
        "    b.remove(i)\n",
        "  if '없음' in c:\n",
        "    d.append('없음')\n",
        "  else:\n",
        "    for i in c:\n",
        "      d.append(tag_dict2[i])\n",
        "  return b, d\n",
        "\n",
        "\n",
        "chi, chi_detailed = [], []\n",
        "for i in range(len(policy)):\n",
        "  chi.append(child(policy.iloc[i])[0])\n",
        "  chi_detailed.append(child(policy.iloc[i])[1])\n"
      ],
      "metadata": {
        "id": "Pdl5iZUc78UA"
      },
      "execution_count": null,
      "outputs": []
    },
    {
      "cell_type": "markdown",
      "source": [
        "#### 자녀 및 자녀상세 맞춘비율"
      ],
      "metadata": {
        "id": "WsXk7BO778UA"
      }
    },
    {
      "cell_type": "code",
      "source": [
        "policy_admin_chi = pd.merge(left=policy, right=admin, how='inner', on='정책ID')\n",
        "policy_admin_chi = policy_admin_chi[['정책ID', '자녀','자녀상세']]"
      ],
      "metadata": {
        "id": "hBVsXXKZ78UA"
      },
      "execution_count": null,
      "outputs": []
    },
    {
      "cell_type": "code",
      "source": [
        "policy_admin_chi['필터링_자녀'] = chi\n",
        "policy_admin_chi['필터링_자녀상세'] = chi_detailed"
      ],
      "metadata": {
        "id": "9ZYW-djQ78UB",
        "colab": {
          "base_uri": "https://localhost:8080/"
        },
        "outputId": "eb310843-7553-4ac0-fb73-3f121c7982de"
      },
      "execution_count": null,
      "outputs": [
        {
          "output_type": "stream",
          "name": "stderr",
          "text": [
            "/usr/local/lib/python3.7/dist-packages/ipykernel_launcher.py:1: SettingWithCopyWarning: \n",
            "A value is trying to be set on a copy of a slice from a DataFrame.\n",
            "Try using .loc[row_indexer,col_indexer] = value instead\n",
            "\n",
            "See the caveats in the documentation: https://pandas.pydata.org/pandas-docs/stable/user_guide/indexing.html#returning-a-view-versus-a-copy\n",
            "  \"\"\"Entry point for launching an IPython kernel.\n",
            "/usr/local/lib/python3.7/dist-packages/ipykernel_launcher.py:2: SettingWithCopyWarning: \n",
            "A value is trying to be set on a copy of a slice from a DataFrame.\n",
            "Try using .loc[row_indexer,col_indexer] = value instead\n",
            "\n",
            "See the caveats in the documentation: https://pandas.pydata.org/pandas-docs/stable/user_guide/indexing.html#returning-a-view-versus-a-copy\n",
            "  \n"
          ]
        }
      ]
    },
    {
      "cell_type": "code",
      "source": [
        "policy_admin_chi.fillna('없음', inplace=True)"
      ],
      "metadata": {
        "colab": {
          "base_uri": "https://localhost:8080/"
        },
        "id": "z3a2_OgbES8d",
        "outputId": "d64ae560-9bf5-466b-e293-69e578bc4be0"
      },
      "execution_count": null,
      "outputs": [
        {
          "output_type": "stream",
          "name": "stderr",
          "text": [
            "/usr/local/lib/python3.7/dist-packages/pandas/core/frame.py:4327: SettingWithCopyWarning: \n",
            "A value is trying to be set on a copy of a slice from a DataFrame\n",
            "\n",
            "See the caveats in the documentation: https://pandas.pydata.org/pandas-docs/stable/user_guide/indexing.html#returning-a-view-versus-a-copy\n",
            "  downcast=downcast,\n"
          ]
        }
      ]
    },
    {
      "cell_type": "code",
      "source": [
        "policy_admin_chi['필터링_자녀'] = policy_admin_chi['필터링_자녀'].map(lambda x: ','.join(x) if (type(x) == list) else (str(x) if ((type(x) == list) and (len(x) == 1)) else ( x if x == '해당사항없음' else x)))\n",
        "policy_admin_chi['필터링_자녀상세'] = policy_admin_chi['필터링_자녀상세'].map(lambda x: ','.join(x) if (type(x) == list) else (str(x) if ((type(x) == list) and (len(x) == 1)) else ( x if x == '해당사항없음' else x)))"
      ],
      "metadata": {
        "id": "8DTBngYoA7iF"
      },
      "execution_count": null,
      "outputs": []
    },
    {
      "cell_type": "code",
      "source": [
        "# 자녀\n",
        "print(len(policy_admin_chi[policy_admin_chi['자녀'] == policy_admin_chi['필터링_자녀']]) / len(policy_admin_chi) * 100)\n",
        "# 자녀 상세\n",
        "print(len(policy_admin_chi[policy_admin_chi['자녀상세'] == policy_admin_chi['필터링_자녀상세']]) / len(policy_admin_chi) * 100)"
      ],
      "metadata": {
        "colab": {
          "base_uri": "https://localhost:8080/"
        },
        "id": "yD12RXu4EW_R",
        "outputId": "09cff3c3-4016-48e4-9aaf-2aeede796ba8"
      },
      "execution_count": null,
      "outputs": [
        {
          "output_type": "stream",
          "name": "stdout",
          "text": [
            "80.21494925750966\n",
            "82.0141039260448\n"
          ]
        }
      ]
    },
    {
      "cell_type": "markdown",
      "source": [
        "많은 수의 중복 및 none값이 존재하여 다소 정확도가 떨어짐\n",
        "\n",
        "---"
      ],
      "metadata": {
        "id": "XRXb_7s_EFX2"
      }
    },
    {
      "cell_type": "markdown",
      "source": [
        "#### 필터링 pickle dump"
      ],
      "metadata": {
        "id": "8gERCVNpc_Yc"
      }
    },
    {
      "cell_type": "code",
      "source": [
        "with open('/content/drive/MyDrive/웰로/data/policy_child.pkl', 'wb') as f:\n",
        "    pickle.dump(policy_admin_chi, f, pickle.HIGHEST_PROTOCOL)"
      ],
      "metadata": {
        "id": "kPVLT7p_c_Yc"
      },
      "execution_count": null,
      "outputs": []
    },
    {
      "cell_type": "markdown",
      "source": [
        "### 직장 및 직장상세"
      ],
      "metadata": {
        "id": "A9L7Ls8DDBsu"
      }
    },
    {
      "cell_type": "markdown",
      "source": [
        "#### 필터링 코드"
      ],
      "metadata": {
        "id": "H3PDlVUDDBsv"
      }
    },
    {
      "cell_type": "code",
      "source": [
        "policy_admin_work = pd.merge(policy, admin, how='inner', on='정책ID').fillna('')\n",
        "policy_admin_work = policy_admin_work[['정책ID', '서비스명_x', '서비스목적', '지원대상','선정기준', '지원내용', '직장', '직장상세']]\n",
        "policy_admin_work['text'] = policy_admin_work['서비스명_x'] + policy_admin_work['지원대상'] + policy_admin_work['선정기준'] + policy_admin_work['서비스목적'] + policy_admin_work['지원내용']"
      ],
      "metadata": {
        "id": "UvU2q_jlHGkV"
      },
      "execution_count": null,
      "outputs": []
    },
    {
      "cell_type": "code",
      "source": [
        "import re\n",
        "work = []\n",
        "work_detail = []\n",
        "\n",
        "for i in range(len(policy_admin_work)):\n",
        "  a = []\n",
        "  b = []\n",
        "  text = policy_admin_work.text.iloc[i]\n",
        "  if '대학' in text:\n",
        "    a.append('대학/대학원생')\n",
        "    if '대학원' in text:\n",
        "      b.append('대학생,대학원생')\n",
        "    else:\n",
        "      b.append('대학생')\n",
        "\n",
        "  if sum(text.count(x) for x in ['구직', '실업', '일자리', '취업']) >= 2:\n",
        "    a.append('구직자/실업자')\n",
        "    if sum(text.count(x) for x in ['건설', '채굴']) >= 1:\n",
        "      b.append('건설/채굴직')\n",
        "    if sum(text.count(x) for x in ['경영',' 사무', '금융', '보험']) >= 1:\n",
        "      b.append('경영/사무/금융/보험직')\n",
        "    if sum(text.count(x) for x in ['교육', '법률', '사회복지', '경찰', '소방', '군인직', '공무원직']) >= 1:\n",
        "      b.append('교육/법률/사회복지/경찰/소방/군인직/공무원직')\n",
        "    if sum(text.count(x) for x in ['농림', '어업', '농업', '임업', '어업', '작물', '가축', '영림', '종축', '양잠']) >= 1:\n",
        "      b.append('농림어업직')\n",
        "    if sum(text.count(x) for x in ['미용', '여행', '숙박', '음식', '경비', '돌봄', '청소직']) >= 2:\n",
        "      b.append('미용/여행/숙박/음식/경비/돌봄/청소직')\n",
        "    if sum(text.count(x) for x in ['보건', '의료']) >= 1:\n",
        "      b.append('보건/의료직')\n",
        "    if sum(text.count(x) for x in ['설비', '정비', '생산직']) >= 1:\n",
        "      b.append('설비/정비/생산직')\n",
        "    if sum(text.count(x) for x in ['연구', '공학', '기술']) >= 2:\n",
        "      b.append('연구/공학기술직')\n",
        "    if sum(text.count(x) for x in ['영업', '판매', '운전' ,'운송']) >= 1:\n",
        "      b.append('영업/판매/운전/운송직')\n",
        "    if sum(text.count(x) for x in ['예술', '디자인', '방송', '스포츠']) >= 1:\n",
        "      b.append('예술/디자인/방송/스포츠직')\n",
        "  \n",
        "  if (text.count('창업') >= 2) | (sum(text.count(x) for x in ['창업', '사업', '경영']) >= 3):\n",
        "    a.append('예비창업가')\n",
        "    if sum(text.count(x) for x in ['농업', '축산', '어업']) >= 2:\n",
        "      b.append('농업/축산업/어업')\n",
        "    if sum(text.count(x) for x in ['공공', '행정', '국방', '방위']) >= 2:\n",
        "      b.append('공공/행정/국방/방위산업')\n",
        "    if sum(text.count(x) for x in ['보건', '사회복지']) >= 1:\n",
        "      b.append('보건업/사회복지사업')\n",
        "\n",
        "  if text.count('소상공인') >= 2:\n",
        "    a.append('소상공인')\n",
        "  \n",
        "  if ('중소기업' in text) | (sum(text.count(x) for x in ['사업', '기업', '법인', '경영'])  >= 4):\n",
        "    a.append('중소기업')\n",
        "  \n",
        "  if '프리랜서' in text:\n",
        "    a.append('프리랜서')\n",
        "  \n",
        "  if len(a) == 0:\n",
        "    ans = '무관'\n",
        "  else:\n",
        "    ans = ','.join(a)\n",
        "  \n",
        "  if len(b) == 0:\n",
        "    ans2 = None\n",
        "  else:\n",
        "    ans2 = ','.join(b)\n",
        "  \n",
        "  work.append(ans)\n",
        "  work_detail.append(ans2)"
      ],
      "metadata": {
        "id": "S4f2OSLIG1gs"
      },
      "execution_count": null,
      "outputs": []
    },
    {
      "cell_type": "code",
      "source": [
        "import re\n",
        "# 직장 및 직장상세\n",
        "\n",
        "def occupation(df):\n",
        "  tok, tok_detailed, univ, seeker, worker, pre_owner, s_owner, m_owner  = [], [], [], [], [], [], [], []\n",
        "  tokens = df['서비스명'] + df['지원대상'] + df['선정기준']\n",
        "  tokens = re.sub(r'[^가-힣]', ' ', tokens)\n",
        "  tokens = tokens.split(' ')\n",
        "\n",
        "  def occ_one(i, tok_detailed):\n",
        "    if ('건설업' in i) or ('채굴' in i):  \n",
        "      tok_detailed.append('건설/채굴직') \n",
        "    if sum(i.count(x) for x in ['사무자동화','보험업','금융업','경영업','관리업','운영업','운영직']) >= 1 :\n",
        "      tok_detailed.append('경영/사무/금융/보험직') \n",
        "    if sum(i.count(x) for x in ['교육','법률','사회복지','경찰','소방','군인직','공무원직']) >= 1 :\n",
        "      tok_detailed.append('교육/법률/사회복지/경찰/소방/군인직/공무원직')\n",
        "    if sum(i.count(x) for x in ['농림','축산','어업']) >= 1 :\n",
        "      tok_detailed.append('농림어업직')\n",
        "    if sum(i.count(x) for x in ['여행업','호텔업','숙박업','음식업','음시점','미용','음식숙박업','청소원','청소업','돌봄교실','노인복지','복지교육원']) >= 1 :\n",
        "      tok_detailed.append('미용/여행/숙박/음식/경비/돌봄/청소직')\n",
        "    if sum(i.count(x) for x in ['의사','간호사','약사','치료사','방사선사']) >= 1 :\n",
        "      tok_detailed.append('보건/의료직')\n",
        "    if sum(i.count(x) for x in ['설비업', '설비직','정비업', '정비직','생산', '생산업', '생산직']) >= 1 :\n",
        "      tok_detailed.append('설비/정비/생산직')\n",
        "    if sum(i.count(x) for x in ['환경산업','연구소','연구개발','연구자','기술직','과학자','과학기술']) >= 1 :\n",
        "      tok_detailed.append('연구/공학기술직')\n",
        "    if sum(i.count(x) for x in ['운전업','운전직','운송','운수','수송','화물','영업직','영업업무','판매원','판매직','판매업']) >= 1 :\n",
        "      tok_detailed.append('영업/판매/운전/운송직')\n",
        "    if sum(i.count(x) for x in ['예술','디자인','패션','방송','통신','체육회','선수','체육인','스포츠']) >= 1 :\n",
        "      tok_detailed.append('예술/디자인/방송/스포츠직')\n",
        "\n",
        "  def occ_two(i, tok_detailed):\n",
        "    if sum(i.count(x) for x in ['농업','농축','축산','어업']) >= 1 :\n",
        "      tok_detailed.append('농업/축산업/어업') \n",
        "    if sum(i.count(x) for x in ['공공','비영리','행정','행정업무']) >= 1 :\n",
        "      tok_detailed.append('공공/행정/국방/방위산업')\n",
        "    if sum(i.count(x) for x in ['보건업','정신보건','보건사업','사회복지','복지사업']) >= 1 :\n",
        "      tok_detailed.append('보건업/사회복지사업')\n",
        "    if sum(i.count(x) for x in ['광업','임업']) >= 1 :\n",
        "      tok_detailed.append('광업/임업')\n",
        "    if ('교육사업' in i):\n",
        "      tok_detailed.append('교육 서비스업')\n",
        "    if ('서비스업' in i): # 요식업, 숙박업 등 기타 서비스업은 세분화 돼있으므로 서비스업 키워드만 진행\n",
        "      tok_detailed.append('서비스업')\n",
        "    if sum(i.count(x) for x in ['전문','과학','기술']) >= 1 :\n",
        "      tok_detailed.append('전문업/과학업/기술업') \n",
        "    if ('제조' in i):\n",
        "      tok_detailed.append('제조업')\n",
        "    if sum(i.count(x) for x in ['협회','단체','조직','연합']) >= 1 :\n",
        "      tok_detailed.append('협회/단체/기타서비스업')\n",
        "    if sum(i.count(x) for x in ['정보제공','출판','방송']) >= 1 :\n",
        "      tok_detailed.append('출판업/방송업/정보서비스업')\n",
        "    if sum(i.count(x) for x in ['시설관리','택지개발','지역개발','도시개발']) >= 1 :\n",
        "      tok_detailed.append('사업시설관리업/지역개발사업')\n",
        "    if '건설업' in i:\n",
        "      tok_detailed.append('건설업')\n",
        "    if sum(i.count(x) for x in ['전기업','전기사업','가스사업','가스업','수도사업','하수도']) >= 1 :\n",
        "      tok_detailed.append('전기업/가스업/수도사업')\n",
        "    if sum(i.count(x) for x in ['예술', '여가','스포츠','체육시설','체육관','레저']) >= 1 :\n",
        "      tok_detailed.append('예술/스포츠/여가사업')\n",
        "    if sum(i.count(x) for x in ['도매','소매']) >= 1 :\n",
        "      tok_detailed.append('도매업/소매업')\n",
        "    if sum(i.count(x) for x in ['숙박','호텔','음식점','음식업','음식숙박업']) >= 1 :\n",
        "      tok_detailed.append('숙박업/음식점업')\n",
        "    if sum(i.count(x) for x in ['운수','운송','화물','여객']) >= 1 :\n",
        "      tok_detailed.append('운수업')\n",
        "    if sum(i.count(x) for x in ['부동산업','임대업','임대사업','건물주']) >= 1 :\n",
        "      tok_detailed.append('부동산업/임대업')\n",
        "    if sum(i.count(x) for x in ['금융업','보험업','보험사업','금융사업']) >= 1 :\n",
        "      tok_detailed.append('금융업/보험업')\n",
        "    if sum(i.count(x) for x in ['폐기물','환경산업']) >= 1 : #하수 폐기물이 없으므로 폐기물 처리시설로 치환해 진행\n",
        "      tok_detailed.append('하수폐기물처리업/환경복원업')\n",
        "\n",
        "  for i in tokens: \n",
        "    if '대학' in i:\n",
        "      univ.append(i) # 대학/대학원생\n",
        "      tok.append('대학/대학원생')\n",
        "    if sum(i.count(x) for x in ['구직', '실업', '실직']) >= 1 :\n",
        "      seeker.append(i) # 구직자/실업자\n",
        "      tok.append('구직자/실업자')\n",
        "    if sum(i.count(x) for x in ['근로자', '종사자','직원','직장']) >= 1 :\n",
        "      worker.append(i) # 근로자/직장인\n",
        "      tok.append('근로자/직장인')\n",
        "    if '창업' in i:\n",
        "      pre_owner.append(i) # 예비창업자\n",
        "      tok.append('예비창업자')\n",
        "    if '소상' in i:         \n",
        "      s_owner.append(i) # 소상공인\n",
        "      tok.append('소상공인')\n",
        "    if ('중소' in i) or ('기업인' in i):       \n",
        "      m_owner.append(i) # 중소기업\n",
        "      tok.append('중소기업')\n",
        "    if ('프리랜서' in i):       \n",
        "      tok.append('프리랜서') # 프리랜서\n",
        "\n",
        "    # 대학생 / 대학원생 \n",
        "    if len(univ) != 0:\n",
        "      if ('대학원' in i) or (univ[-1] == '대학' and i == '원') :\n",
        "        tok_detailed.append('대학생')\n",
        "      elif ('대학생' in i) or (univ[-1] == '대학교' and '학생' in i) or (univ[-1] == '대학교' and '재학' in i): # 대학생 어떻게 거를지 고민해볼것\n",
        "        tok_detailed.append('대학원생')\n",
        "\n",
        "\n",
        "  if '무관' in tok or len(tok)==0:  # 1차적으로 태그추출 후 아무것도 없으면 무관 반환\n",
        "    return '무관', '해당사항없음'\n",
        "  else:\n",
        "    for i in tokens: \n",
        "      \n",
        "      # 구직자 / 실업자 / 실직자 / 취준생\n",
        "      if len(seeker) != 0:\n",
        "        occ_one(i, tok_detailed)\n",
        "      # 근로자\n",
        "      if len(worker) != 0:\n",
        "        occ_one(i, tok_detailed)\n",
        "      # 예비창업자\n",
        "      if len(pre_owner) != 0:\n",
        "        occ_two(i, tok_detailed)\n",
        "      # 소상공인\n",
        "      if len(s_owner) != 0:\n",
        "        occ_two(i, tok_detailed)\n",
        "      # 중소기업 \n",
        "      if len(m_owner) != 0:\n",
        "        occ_two(i, tok_detailed)\n",
        "\n",
        "    else:\n",
        "      b = list(set(tok)) # 직장\n",
        "      c = list(set(tok_detailed)) # 직장상세\n",
        "      if len(c) == 0:\n",
        "        c = '해당사항없음'\n",
        "      return b, c\n",
        "\n",
        "occ, occ_detailed = [], []\n",
        "for i in range(len(policy)):\n",
        "  occ.append(occupation(policy.iloc[i])[0])\n",
        "  occ_detailed.append(occupation(policy.iloc[i])[1])\n"
      ],
      "metadata": {
        "id": "2aFoqgymDBsv"
      },
      "execution_count": null,
      "outputs": []
    },
    {
      "cell_type": "markdown",
      "source": [
        "#### 직장 및 직장상세 맞춘비율"
      ],
      "metadata": {
        "id": "nKykaLgBDBsy"
      }
    },
    {
      "cell_type": "code",
      "source": [
        "policy_admin_occ = pd.merge(left=policy, right=admin, how='inner', on='정책ID')\n",
        "policy_admin_occ = policy_admin_occ[['정책ID', '직장','직장상세']]"
      ],
      "metadata": {
        "id": "fMJomZnBDBsy"
      },
      "execution_count": null,
      "outputs": []
    },
    {
      "cell_type": "code",
      "source": [
        "# policy_admin_occ['필터링_직장'] = occ\n",
        "# policy_admin_occ['필터링_직장상세'] = occ_detailed"
      ],
      "metadata": {
        "id": "BwQmsnf1DBsy"
      },
      "execution_count": null,
      "outputs": []
    },
    {
      "cell_type": "code",
      "source": [
        "# policy_admin_occ['필터링_직장'] = policy_admin_occ['필터링_직장'].map(lambda x: ','.join(x) if (type(x) == list) else (str(x) if ((type(x) == list) and (len(x) == 1)) else ( x if x == '해당사항없음' else x)))\n",
        "# policy_admin_occ['필터링_직장상세'] = policy_admin_occ['필터링_직장상세'].map(lambda x: ','.join(x) if (type(x) == list) else (str(x) if ((type(x) == list) and (len(x) == 1)) else ( x if x == '해당사항없음' else x)))"
      ],
      "metadata": {
        "id": "nnnLt6QLDBsz"
      },
      "execution_count": null,
      "outputs": []
    },
    {
      "cell_type": "code",
      "source": [
        "policy_admin_occ.직장.fillna('무관', inplace=True)"
      ],
      "metadata": {
        "id": "8zX6HnzpMth6"
      },
      "execution_count": null,
      "outputs": []
    },
    {
      "cell_type": "code",
      "source": [
        "# 죠\n",
        "policy_admin_occ['필터링_직장'] = work\n",
        "policy_admin_occ['필터링_직장상세'] = work_detail\n",
        "\n",
        "# 직장\n",
        "print(len(policy_admin_occ[policy_admin_occ['직장'] == policy_admin_occ['필터링_직장']]) / len(policy_admin_occ) * 100)\n",
        "\n",
        "# 직장상세\n",
        "print(len(policy_admin_occ[policy_admin_occ['직장상세'] == policy_admin_occ['필터링_직장상세']]) / len(policy_admin_occ) * 100)"
      ],
      "metadata": {
        "colab": {
          "base_uri": "https://localhost:8080/"
        },
        "id": "AYJwKcKyi7ny",
        "outputId": "e55cfa14-9d30-4d52-ec70-3b6c700acc29"
      },
      "execution_count": null,
      "outputs": [
        {
          "output_type": "stream",
          "name": "stdout",
          "text": [
            "64.1502610582465\n",
            "0.3808512081007165\n"
          ]
        }
      ]
    },
    {
      "cell_type": "markdown",
      "source": [
        "#### 필터링 pickle dump"
      ],
      "metadata": {
        "id": "hItLXvlWdQ5X"
      }
    },
    {
      "cell_type": "code",
      "source": [
        "with open('/content/drive/MyDrive/웰로/data/policy_occ.pkl', 'wb') as f:\n",
        "    pickle.dump(policy_admin_occ, f, pickle.HIGHEST_PROTOCOL)"
      ],
      "metadata": {
        "id": "meQYB7KVdQ5Y"
      },
      "execution_count": null,
      "outputs": []
    },
    {
      "cell_type": "markdown",
      "source": [
        "### 태깅 합치기 from pickle namjoons' mixed"
      ],
      "metadata": {
        "id": "PkF_3OKOd3bb"
      }
    },
    {
      "cell_type": "code",
      "source": [
        "# 소관기관유형\n",
        "org_done = pd.read_pickle('/content/drive/MyDrive/웰로/data/policy_org.pkl')\n",
        "org_done = org_done[['정책ID', '필터링_소관기관유형']]\n",
        "\n",
        "# 지원유형, 지원유형상세\n",
        "sup_done = pd.read_pickle('/content/drive/MyDrive/웰로/data/policy_support.pkl')\n",
        "sup_done = sup_done[['정책ID', '필터링_지원유형', '필터링_지원유형상세']]\n",
        "\n",
        "# 신청절차\n",
        "app_done = pd.read_pickle('/content/drive/MyDrive/웰로/data/policy_apply.pkl')\n",
        "app_done = app_done[['정책ID', '필터링_신청절차']]\n",
        "\n",
        "# 성별\n",
        "gender_done = pd.read_pickle('/content/drive/MyDrive/웰로/data/policy_gender.pkl')\n",
        "gender_done = gender_done[['정책ID', '필터링_성별']]\n",
        "\n",
        "# 결혼\n",
        "marri_done = pd.read_pickle('/content/drive/MyDrive/웰로/data/policy_marriage.pkl')\n",
        "marri_done = marri_done[['정책ID', '필터링_결혼']]\n",
        "\n",
        "# 학력\n",
        "edu_done = pd.read_pickle('/content/drive/MyDrive/웰로/data/policy_edu.pkl')\n",
        "edu_done = edu_done[['정책ID', '필터링_학력']]\n",
        "\n",
        "# 가구원\n",
        "house_done = pd.read_pickle('/content/drive/MyDrive/웰로/data/policy_house.pkl')\n",
        "house_done = house_done[['정책ID', '필터링_가구원']]\n",
        "\n",
        "# 자녀, 자녀상세\n",
        "child_done = pd.read_pickle('/content/drive/MyDrive/웰로/data/policy_child.pkl')\n",
        "child_done = child_done[['정책ID', '필터링_자녀','필터링_자녀상세']]\n",
        "\n",
        "# 직장, 직장상세\n",
        "occ_done = pd.read_pickle('/content/drive/MyDrive/웰로/data/policy_occ.pkl')\n",
        "occ_done = occ_done[['정책ID', '필터링_직장','필터링_직장상세']]\n",
        "\n",
        "\n",
        "\n",
        "\n",
        "# merge\n",
        "nam = policy.copy()['정책ID']\n",
        "for plus in [org_done, sup_done, app_done, gender_done, marri_done, edu_done, house_done, child_done, occ_done]:\n",
        "  nam = pd.merge(nam, plus, how='inner', on='정책ID')"
      ],
      "metadata": {
        "id": "zckQBYlQeGo4"
      },
      "execution_count": null,
      "outputs": []
    },
    {
      "cell_type": "code",
      "source": [
        "nam.columns"
      ],
      "metadata": {
        "colab": {
          "base_uri": "https://localhost:8080/"
        },
        "id": "LThluuyRjkIX",
        "outputId": "4c910cf0-074a-44e9-9305-a2a3402cf1dc"
      },
      "execution_count": null,
      "outputs": [
        {
          "output_type": "execute_result",
          "data": {
            "text/plain": [
              "Index(['정책ID', '필터링_소관기관유형', '필터링_지원유형', '필터링_지원유형상세', '필터링_신청절차', '필터링_성별',\n",
              "       '필터링_결혼', '필터링_학력', '필터링_가구원', '필터링_자녀', '필터링_자녀상세', '필터링_직장',\n",
              "       '필터링_직장상세'],\n",
              "      dtype='object')"
            ]
          },
          "metadata": {},
          "execution_count": 282
        }
      ]
    },
    {
      "cell_type": "code",
      "source": [
        "with open('/content/drive/MyDrive/웰로/data/nam_done0117.pkl', 'wb') as f:\n",
        "    pickle.dump(nam, f, pickle.HIGHEST_PROTOCOL)"
      ],
      "metadata": {
        "id": "fsLp12IIeGo5"
      },
      "execution_count": null,
      "outputs": []
    },
    {
      "cell_type": "markdown",
      "source": [
        "### MB15(관심정책)\n",
        "\n"
      ],
      "metadata": {
        "id": "XLV_kr6wIehf"
      }
    },
    {
      "cell_type": "markdown",
      "source": [
        "#### mb15 필터링 코드"
      ],
      "metadata": {
        "id": "epojuYADIiOz"
      }
    },
    {
      "cell_type": "code",
      "source": [
        "\n",
        "with open('/content/drive/MyDrive/웰로/data/jiho_done.pkl', 'rb') as f:\n",
        "    jiho = pickle.load(f)"
      ],
      "metadata": {
        "id": "fPPDoHUlJN8P"
      },
      "execution_count": null,
      "outputs": []
    },
    {
      "cell_type": "code",
      "source": [
        "\n"
      ],
      "metadata": {
        "id": "XpwEoE3EMgkW"
      },
      "execution_count": null,
      "outputs": []
    },
    {
      "cell_type": "code",
      "source": [
        "jiho.columns"
      ],
      "metadata": {
        "colab": {
          "base_uri": "https://localhost:8080/"
        },
        "id": "n7jwNTThPNIS",
        "outputId": "7b6ce77b-a397-4c4e-eb3f-c39c7cc6fd18"
      },
      "execution_count": null,
      "outputs": [
        {
          "output_type": "execute_result",
          "data": {
            "text/plain": [
              "Index(['정책ID', '정책서비스ID', '서비스명', '소관기관', '소관기관유형.1', '생애주기', '신청절차', '선정기준',\n",
              "       '지원유형', '서비스목적', '지원내용', '지원대상', '필터링_대상연령시작', '필터링_대상연령_끝', '필터링_시도',\n",
              "       '필터링_시군구', '필터링_중위소득', '필터링_관심상황특성', '필터링_대상특성', '필터링_대상특성상세'],\n",
              "      dtype='object')"
            ]
          },
          "metadata": {},
          "execution_count": 287
        }
      ]
    },
    {
      "cell_type": "code",
      "source": [
        "policy_admin_support.columns"
      ],
      "metadata": {
        "colab": {
          "base_uri": "https://localhost:8080/"
        },
        "id": "gqUdmeoRmSq4",
        "outputId": "0639e10f-e4b1-4cbd-c011-22f1a67d4830"
      },
      "execution_count": null,
      "outputs": [
        {
          "output_type": "execute_result",
          "data": {
            "text/plain": [
              "Index(['정책ID', '지원유형_y', '지원유형상세', '지원대상', '필터링_지원유형', '필터링_지원유형상세'], dtype='object')"
            ]
          },
          "metadata": {},
          "execution_count": 289
        }
      ]
    },
    {
      "cell_type": "code",
      "source": [
        "policy_mb15 = policy.copy()\n",
        "policy_mb15 = policy_mb15.fillna('')\n",
        "A,B,C,D = [], [], [], []\n",
        "\n",
        "for i, j, k  in zip(jiho['필터링_관심상황특성'], jiho['필터링_대상연령시작'], jiho['필터링_대상연령_끝']):\n",
        "  a= []\n",
        "  if ('개인교육지원' in i) and ((j >= 0) and (k < 8 )):               # 개인 교육 나이 별로 나눠야 함\n",
        "    a.append('보육지원(0~7세)')\n",
        "  if ('개인교육지원' in i) and ((j >= 8) and (k < 19)):  \n",
        "    a.append('교육지원(8~19세)')\n",
        "  if ('개인교육지원' in i) and (j >= 19):    \n",
        "    a.append('성인교육지원')\n",
        "  if ('개인금융지원' in i):\n",
        "    a.append('개인금융지원')\n",
        "  if ('기업금융지원' in i):\n",
        "    a.append('기업금융지원')\n",
        "  A.append(a)\n",
        "for i, j, k, l, m, n in zip(policy_admin_support['필터링_지원유형상세'], jiho['필터링_대상연령시작'], jiho['필터링_대상연령_끝'], policy_admin_support['지원대상'], policy_admin_support['필터링_지원유형'], jiho['서비스명']):\n",
        "  b = []\n",
        "  if ('현금' in i) or (sum(n.count(x) for x in ['경비', '자조금', '구매','금융', '료', '직불']) >= 1):\n",
        "    if sum(l.count(x) for x in ['기업', '법인', '단체', '선사', '공장', '운영사', '시설', '경영체', '센터' , '업체']) >= 1:\n",
        "      b.append('기업금융지원')\n",
        "    if sum(l.count(x) for x in ['개인', '아동', '업인', '업자', '가구', '생산자', '거주자', '가족', '경영인', '주민', '본인', '배우자', '사람', '친족', '피해자', '신고자', '군인', '유족']) >= 1:\n",
        "      b.append('개인금융지원')\n",
        "    else:\n",
        "      b.append('개인금융지원')    \n",
        "  if (('교육' in i) and ((j >= 0) and (k < 8 ))) or ('돌봄' in i) or ('영유아' in n )or ('유아' in n ) or('어린이' in n):   # 기타(교육) 또는 서비스(돌봄)         \n",
        "    b.append('보육지원(0~7세)')\n",
        "  if (('교육' in i) and ((j >= 8) and (k < 19))) or ('청소년' in n):  \n",
        "    b.append('교육지원(8~19세)')\n",
        "  if ('교육' in i) and (j >= 19):   \n",
        "    b.append('성인교육지원')\n",
        "  if ('문화' in m ):          \n",
        "    b.append('문화생활 지원')\n",
        "  if ('의료' in m) or ('피해' in n) or ('심리' in n) or ('치료' in n) or ('인권' in n) or ('상담' in n):\n",
        "    b.append('의료 지원')\n",
        "  if ('주택' in i) or ('주택' in l) or ('부동산' in l) :\n",
        "    b.append('주택-부동산 지원')\n",
        "  if ('일자리' in i) or ('준비생' in l ) or ('구직' in l) or ('취업' in l):\n",
        "    b.append('취업지원')\n",
        "  B.append(b)\n",
        "for i in policy_admin_occ['필터링_직장']:\n",
        "  c= [] \n",
        "  if ('대학'in i):\n",
        "    c.append('취업 지원')\n",
        "  if ('창업' in i) or ('창업' in n):\n",
        "    c.append('창업 지원')\n",
        "  if ('근로자' in i) or (sum(n.count(x) for x in ['관리','운영']) >= 1):\n",
        "    c.append('근로자 지원')\n",
        "  C.append(c)\n",
        "\n",
        "\n",
        "\n",
        "\n",
        "jiho['A'] = A\n",
        "jiho['B'] = B\n",
        "jiho['C'] = C\n",
        "jiho['MB_15'] = jiho['A'] +jiho['B'] +jiho['C']\n",
        "jiho.drop(columns= ['A','B','C'], inplace = True)"
      ],
      "metadata": {
        "id": "CWYYlecMelTP"
      },
      "execution_count": null,
      "outputs": []
    },
    {
      "cell_type": "code",
      "source": [
        "jiho['MB_15'] = jiho['MB_15'].map(lambda x: ','.join(x) if type(x) == list else x)"
      ],
      "metadata": {
        "id": "ftthY2oWelTP"
      },
      "execution_count": null,
      "outputs": []
    },
    {
      "cell_type": "code",
      "source": [
        "jiho"
      ],
      "metadata": {
        "colab": {
          "base_uri": "https://localhost:8080/",
          "height": 1000
        },
        "id": "OgSVr1yQQ1RT",
        "outputId": "4dee2789-fdd5-45d2-ea17-11996c6c5cf4"
      },
      "execution_count": null,
      "outputs": [
        {
          "output_type": "execute_result",
          "data": {
            "text/html": [
              "\n",
              "  <div id=\"df-cff51340-a009-4b9c-a63b-474a4c5c74cb\">\n",
              "    <div class=\"colab-df-container\">\n",
              "      <div>\n",
              "<style scoped>\n",
              "    .dataframe tbody tr th:only-of-type {\n",
              "        vertical-align: middle;\n",
              "    }\n",
              "\n",
              "    .dataframe tbody tr th {\n",
              "        vertical-align: top;\n",
              "    }\n",
              "\n",
              "    .dataframe thead th {\n",
              "        text-align: right;\n",
              "    }\n",
              "</style>\n",
              "<table border=\"1\" class=\"dataframe\">\n",
              "  <thead>\n",
              "    <tr style=\"text-align: right;\">\n",
              "      <th></th>\n",
              "      <th>정책ID</th>\n",
              "      <th>정책서비스ID</th>\n",
              "      <th>서비스명</th>\n",
              "      <th>소관기관</th>\n",
              "      <th>소관기관유형.1</th>\n",
              "      <th>생애주기</th>\n",
              "      <th>신청절차</th>\n",
              "      <th>선정기준</th>\n",
              "      <th>지원유형</th>\n",
              "      <th>서비스목적</th>\n",
              "      <th>지원내용</th>\n",
              "      <th>지원대상</th>\n",
              "      <th>필터링_대상연령시작</th>\n",
              "      <th>필터링_대상연령_끝</th>\n",
              "      <th>필터링_시도</th>\n",
              "      <th>필터링_시군구</th>\n",
              "      <th>필터링_중위소득</th>\n",
              "      <th>필터링_관심상황특성</th>\n",
              "      <th>필터링_대상특성</th>\n",
              "      <th>필터링_대상특성상세</th>\n",
              "      <th>MB_15</th>\n",
              "    </tr>\n",
              "  </thead>\n",
              "  <tbody>\n",
              "    <tr>\n",
              "      <th>0</th>\n",
              "      <td>1</td>\n",
              "      <td>000000465790</td>\n",
              "      <td>만 3~5세 유치원 유아 학비 지원(3~5세 누리과정 운영)</td>\n",
              "      <td>교육부</td>\n",
              "      <td>중앙정부</td>\n",
              "      <td>영·유아||아동·청소년||청년||중장년||노년기</td>\n",
              "      <td>신청ㆍ접수(읍면동사무소) - 보장 결정(시군구 사업팀)</td>\n",
              "      <td>1) 지원대상 : 어린이집을 이용하는 만 3~5세 아동\\n2) 신청인 : 아동의 보...</td>\n",
              "      <td>현금</td>\n",
              "      <td>누리과정이란 만 3~5세를 대상으로 하는 어린이집 표준보육과정과 유치원 교육과정을 ...</td>\n",
              "      <td>만 3~5세 누리과정 운영에 필요한 비용 지원 \\n - 보육료, 담당교사 처우 개선...</td>\n",
              "      <td>지원대상 : 어린이집을 이용하는 만 3~5세 아동\\n- 취학유예 : 만 6세아 초등...</td>\n",
              "      <td>3</td>\n",
              "      <td>5</td>\n",
              "      <td>전국</td>\n",
              "      <td>None</td>\n",
              "      <td>None</td>\n",
              "      <td>개인교육지원</td>\n",
              "      <td>해당사항없음</td>\n",
              "      <td></td>\n",
              "      <td>보육지원(0~7세),개인금융지원,보육지원(0~7세)</td>\n",
              "    </tr>\n",
              "    <tr>\n",
              "      <th>1</th>\n",
              "      <td>2</td>\n",
              "      <td>105100000001</td>\n",
              "      <td>근로·자녀장려금</td>\n",
              "      <td>국세청</td>\n",
              "      <td>중앙정부</td>\n",
              "      <td>None</td>\n",
              "      <td>○ 개벌 신청 안내받은 경우에는 ARS, 모바일 국세청 홈택스 앱, 인터넷 홈택스 ...</td>\n",
              "      <td>○ 근로소득, 종교인소득 또는 종교인소득이 있고 아래 요건을 모두 충족하는 자\\n\\...</td>\n",
              "      <td>현금</td>\n",
              "      <td>○ 근로자녀장려세제\\n - 저소득계층의 빈곤 탈출을 지원하고 사회안전망을 확충하기 ...</td>\n",
              "      <td>○ 전년도 연간 부부합산 총 급여액 등(사업소득과 근로소득의 합계)에 따라\\n - ...</td>\n",
              "      <td>○ 전년도에 정해진 범위의 근로소득, 사업소득 또는 종교인소득이 있고 근로장려금과 ...</td>\n",
              "      <td>0</td>\n",
              "      <td>99</td>\n",
              "      <td>전국</td>\n",
              "      <td>None</td>\n",
              "      <td>None</td>\n",
              "      <td></td>\n",
              "      <td>해당사항없음</td>\n",
              "      <td></td>\n",
              "      <td>개인금융지원,창업 지원</td>\n",
              "    </tr>\n",
              "    <tr>\n",
              "      <th>2</th>\n",
              "      <td>3</td>\n",
              "      <td>116010000001</td>\n",
              "      <td>월세 자금보증</td>\n",
              "      <td>금융위원회</td>\n",
              "      <td>중앙정부</td>\n",
              "      <td>None</td>\n",
              "      <td>신청 방식 : 은행 방문\\n신청 절차\\n1. 은행 방문 및 상담 신청\\n2. 보증,...</td>\n",
              "      <td>○ (주택도시기금 주거안정 월세대출 대상자 요건) 무주택 세대주(세대원 전원 포함)...</td>\n",
              "      <td>상담/법률지원||현금(융자)</td>\n",
              "      <td>저소득층 등에게 월세자금보증을 하여 저소득층의 주거 안정성 제고</td>\n",
              "      <td>○ 주택도시기금 주거안정 월세대출 요건을 충족하는 대상자에 대해 월세자금보증 지원\\...</td>\n",
              "      <td>○ 보증금 1억 원 이하 및 월세금 60만 원 이하인 월세 계약을 체결한 주택도시 ...</td>\n",
              "      <td>0</td>\n",
              "      <td>99</td>\n",
              "      <td>전국</td>\n",
              "      <td>None</td>\n",
              "      <td>None</td>\n",
              "      <td></td>\n",
              "      <td>해당사항없음</td>\n",
              "      <td></td>\n",
              "      <td>개인금융지원,주택-부동산 지원</td>\n",
              "    </tr>\n",
              "    <tr>\n",
              "      <th>3</th>\n",
              "      <td>4</td>\n",
              "      <td>116010000027</td>\n",
              "      <td>‘힘내라 대한민국’특별운영자금 (산업은행)</td>\n",
              "      <td>금융위원회</td>\n",
              "      <td>중앙정부</td>\n",
              "      <td>None</td>\n",
              "      <td>○ 3.26일부터 기업의 신청접수ㆍ지원 중\\n\\n ➡ 산업은행 전국 영업점을 방문하...</td>\n",
              "      <td>○ 산업은행 심사기준 충족 업체</td>\n",
              "      <td>현금(융자)</td>\n",
              "      <td>코로나19로 피해를 입은 중소ㆍ중견기업 지원 프로그램</td>\n",
              "      <td>○ 자금용도 : 운영자금\\n\\n○ 한도 : 기존 대출한도 外 일정범위내 특별한도 부...</td>\n",
              "      <td>○ 지원대상 : 코로나19 등 질병, 자연재해 등 국가 재난 발생으로 피해를 입은 ...</td>\n",
              "      <td>0</td>\n",
              "      <td>99</td>\n",
              "      <td>전국</td>\n",
              "      <td>None</td>\n",
              "      <td>None</td>\n",
              "      <td></td>\n",
              "      <td>해당사항없음</td>\n",
              "      <td></td>\n",
              "      <td>기업금융지원,개인금융지원</td>\n",
              "    </tr>\n",
              "    <tr>\n",
              "      <th>4</th>\n",
              "      <td>5</td>\n",
              "      <td>119200000001</td>\n",
              "      <td>친환경 에너지 절감 장비 보급</td>\n",
              "      <td>해양수산부</td>\n",
              "      <td>중앙정부</td>\n",
              "      <td>None</td>\n",
              "      <td>해당 지자체(시군구청)에 방문하여 신청</td>\n",
              "      <td>○ 기관ㆍ장비ㆍ설비사업의 사업자 선정은 다음의 순위로 하되, 동일 순위자의 세부 우...</td>\n",
              "      <td>현금</td>\n",
              "      <td>연근해 어업인을 대상으로 노후기관ㆍ장비ㆍ설비 대체 보급으로 안정적 조업기반 조성</td>\n",
              "      <td>○  유류비 절감을 위한 유류절감장치 설치\\n○  저효율(육상기관 포함)기관 및 사...</td>\n",
              "      <td>○ 어선 노후기관, 장비를 교체하고자 하는 연근해 어업인</td>\n",
              "      <td>0</td>\n",
              "      <td>99</td>\n",
              "      <td>전국</td>\n",
              "      <td>None</td>\n",
              "      <td>None</td>\n",
              "      <td>기업금융지원</td>\n",
              "      <td>해당사항없음</td>\n",
              "      <td></td>\n",
              "      <td>기업금융지원,개인금융지원,창업 지원</td>\n",
              "    </tr>\n",
              "    <tr>\n",
              "      <th>...</th>\n",
              "      <td>...</td>\n",
              "      <td>...</td>\n",
              "      <td>...</td>\n",
              "      <td>...</td>\n",
              "      <td>...</td>\n",
              "      <td>...</td>\n",
              "      <td>...</td>\n",
              "      <td>...</td>\n",
              "      <td>...</td>\n",
              "      <td>...</td>\n",
              "      <td>...</td>\n",
              "      <td>...</td>\n",
              "      <td>...</td>\n",
              "      <td>...</td>\n",
              "      <td>...</td>\n",
              "      <td>...</td>\n",
              "      <td>...</td>\n",
              "      <td>...</td>\n",
              "      <td>...</td>\n",
              "      <td>...</td>\n",
              "      <td>...</td>\n",
              "    </tr>\n",
              "    <tr>\n",
              "      <th>88481</th>\n",
              "      <td>88482</td>\n",
              "      <td>645000000579</td>\n",
              "      <td>FTA 피해 보전 직불금 지원</td>\n",
              "      <td>전라북도</td>\n",
              "      <td>광역시도</td>\n",
              "      <td>청년||중장년||노년기</td>\n",
              "      <td>신청 방식-신청 서류를 작성하여 해당 시군구(읍면동)에 방문 또는 우편접수\\n신청 ...</td>\n",
              "      <td>○ 다음 각 요건을 모두 충족한 자\\n -농업인 등에 해당하는 자로 ｢농어업경영체 ...</td>\n",
              "      <td>현금/현물</td>\n",
              "      <td>FTA 이행으로 수입이 급증하여 가격 하락의 피해를 입은 품목의 생산자에게 가격 하...</td>\n",
              "      <td>FTA 협정 이행으로 인한 수입 증가로 가격 하락의 피해가 발생할 경우, 발생된 피...</td>\n",
              "      <td>○ FTA 피해 보전직불금 지원 대상 품목을 해당 협정의 발효일 이전부터 생산한 농...</td>\n",
              "      <td>19</td>\n",
              "      <td>99</td>\n",
              "      <td>전라북도</td>\n",
              "      <td>전체</td>\n",
              "      <td>None</td>\n",
              "      <td>기업금융지원</td>\n",
              "      <td>농축수산인</td>\n",
              "      <td>경관농업인</td>\n",
              "      <td>기업금융지원,기업금융지원,개인금융지원,의료 지원,창업 지원</td>\n",
              "    </tr>\n",
              "    <tr>\n",
              "      <th>88482</th>\n",
              "      <td>88483</td>\n",
              "      <td>650000000822</td>\n",
              "      <td>이혼위기가족지원</td>\n",
              "      <td>제주특별자치도</td>\n",
              "      <td>광역시도</td>\n",
              "      <td>청년||중장년||노년기</td>\n",
              "      <td>건강가정 지원센터 중 사업 수행기관 방문, 전화</td>\n",
              "      <td>협의 및 재판 이혼 신청자 등 이혼을 준비 중인 부부와 아동</td>\n",
              "      <td>상담/법률지원||문화/여가지원\\n\\n교육/용역</td>\n",
              "      <td>이혼위기가족을 대상으로 가족기능 회복 및 아동 복리 증진</td>\n",
              "      <td>이혼 위기 상담, 교육, 문화서비스\\n\\n\\n\\n금융·세금·법률&gt;상담/법률구제&gt;고충...</td>\n",
              "      <td>협의 및 재판 이혼 신청자 등 이혼을 준비 중인 부부와 아동\\n\\n일반</td>\n",
              "      <td>19</td>\n",
              "      <td>99</td>\n",
              "      <td>제주특별자치도</td>\n",
              "      <td>제주시</td>\n",
              "      <td>None</td>\n",
              "      <td></td>\n",
              "      <td>해당사항없음</td>\n",
              "      <td></td>\n",
              "      <td>문화생활 지원</td>\n",
              "    </tr>\n",
              "    <tr>\n",
              "      <th>88483</th>\n",
              "      <td>88484</td>\n",
              "      <td>451000000421</td>\n",
              "      <td>여성 새로 일하기 센터 운영 지원</td>\n",
              "      <td>충청남도 보령시</td>\n",
              "      <td>시군구</td>\n",
              "      <td>청년||중장년</td>\n",
              "      <td>새일센터 취업설계사와 전화 상담 후 새일센터 방문을 통한 구직 신청</td>\n",
              "      <td>○ 경력단절 여성 등의 경제활동 촉진법 제3조\\n - 정의 : 경력단절 여성 등 이...</td>\n",
              "      <td>상담/법률지원\\n\\n정보제공</td>\n",
              "      <td>육아․가사 등으로 경력 단절된 여성을 대상으로 직업상담, 구인․구직 관리, 직업교육...</td>\n",
              "      <td>여성 새로 일하기 센터에서 구직자 1:1 상담 후 적합한 취업 지원 서비스 연계\\n...</td>\n",
              "      <td>임신, 출산, 육아와 가족 구성원의 돌봄 등을 이유로 경제활동을 중단하였거나 경제활...</td>\n",
              "      <td>19</td>\n",
              "      <td>70</td>\n",
              "      <td>충청남도</td>\n",
              "      <td>보령시</td>\n",
              "      <td>None</td>\n",
              "      <td></td>\n",
              "      <td>임신부</td>\n",
              "      <td></td>\n",
              "      <td>취업지원</td>\n",
              "    </tr>\n",
              "    <tr>\n",
              "      <th>88484</th>\n",
              "      <td>88485</td>\n",
              "      <td>440000000167</td>\n",
              "      <td>취학 전 아동 실명예방</td>\n",
              "      <td>충청북도 제천시</td>\n",
              "      <td>시군구</td>\n",
              "      <td>영·유아</td>\n",
              "      <td>방문 신청</td>\n",
              "      <td>- 국민기초생활 수급과 및 차상위 계층\\n- 저소득 가정의 어린이(최저생계비 200...</td>\n",
              "      <td>의료지원\\n\\n현금/현물</td>\n",
              "      <td>취학 전 아동기의 시력검진 및 눈 건강관리 교육을 통하여 저시력 및 안질환을 조기에...</td>\n",
              "      <td>- 안과 사전검사 및 수술비 본인 부담금 지원\\n- 실명예방재단 등과 같은 기관에 ...</td>\n",
              "      <td>만3세~6세 어린이\\n\\n저소득계층(최저생계비 200% 이내), 취학 전 아동\\n\\...</td>\n",
              "      <td>3</td>\n",
              "      <td>6</td>\n",
              "      <td>충청북도</td>\n",
              "      <td>제천시</td>\n",
              "      <td>None</td>\n",
              "      <td></td>\n",
              "      <td>해당사항없음</td>\n",
              "      <td></td>\n",
              "      <td>개인금융지원,의료 지원</td>\n",
              "    </tr>\n",
              "    <tr>\n",
              "      <th>88485</th>\n",
              "      <td>88486</td>\n",
              "      <td>B55406600002</td>\n",
              "      <td>시흥 갯골캠핑장 이용료 감면</td>\n",
              "      <td>시흥도시공사</td>\n",
              "      <td>공공기관 등</td>\n",
              "      <td>영·유아||아동·청소년||청년||중장년||노년기</td>\n",
              "      <td>관련서류 또는 증명서를 지참한 후 방문 시 제시</td>\n",
              "      <td>None</td>\n",
              "      <td>문화/여가지원\\n\\n감면/면제</td>\n",
              "      <td>시흥 갯골캠핑장 이용요금 할인혜택 정보 제공</td>\n",
              "      <td>O 전액감면대상\\n - 공무를 수행하기 위해 시설물을 사용하는 사람\\n - 시에서 ...</td>\n",
              "      <td>O 전액감면대상\\n - 공무를 수행하기 위해 시설물을 사용하는 사람\\n - 시에서 ...</td>\n",
              "      <td>65</td>\n",
              "      <td>99</td>\n",
              "      <td>경기도</td>\n",
              "      <td>시흥시</td>\n",
              "      <td>None</td>\n",
              "      <td></td>\n",
              "      <td>장애인, 다문화가족, 한부모가정/조손가정, 독거노인, 기관/시설</td>\n",
              "      <td></td>\n",
              "      <td>기업금융지원,개인금융지원,문화생활 지원</td>\n",
              "    </tr>\n",
              "  </tbody>\n",
              "</table>\n",
              "<p>88486 rows × 21 columns</p>\n",
              "</div>\n",
              "      <button class=\"colab-df-convert\" onclick=\"convertToInteractive('df-cff51340-a009-4b9c-a63b-474a4c5c74cb')\"\n",
              "              title=\"Convert this dataframe to an interactive table.\"\n",
              "              style=\"display:none;\">\n",
              "        \n",
              "  <svg xmlns=\"http://www.w3.org/2000/svg\" height=\"24px\"viewBox=\"0 0 24 24\"\n",
              "       width=\"24px\">\n",
              "    <path d=\"M0 0h24v24H0V0z\" fill=\"none\"/>\n",
              "    <path d=\"M18.56 5.44l.94 2.06.94-2.06 2.06-.94-2.06-.94-.94-2.06-.94 2.06-2.06.94zm-11 1L8.5 8.5l.94-2.06 2.06-.94-2.06-.94L8.5 2.5l-.94 2.06-2.06.94zm10 10l.94 2.06.94-2.06 2.06-.94-2.06-.94-.94-2.06-.94 2.06-2.06.94z\"/><path d=\"M17.41 7.96l-1.37-1.37c-.4-.4-.92-.59-1.43-.59-.52 0-1.04.2-1.43.59L10.3 9.45l-7.72 7.72c-.78.78-.78 2.05 0 2.83L4 21.41c.39.39.9.59 1.41.59.51 0 1.02-.2 1.41-.59l7.78-7.78 2.81-2.81c.8-.78.8-2.07 0-2.86zM5.41 20L4 18.59l7.72-7.72 1.47 1.35L5.41 20z\"/>\n",
              "  </svg>\n",
              "      </button>\n",
              "      \n",
              "  <style>\n",
              "    .colab-df-container {\n",
              "      display:flex;\n",
              "      flex-wrap:wrap;\n",
              "      gap: 12px;\n",
              "    }\n",
              "\n",
              "    .colab-df-convert {\n",
              "      background-color: #E8F0FE;\n",
              "      border: none;\n",
              "      border-radius: 50%;\n",
              "      cursor: pointer;\n",
              "      display: none;\n",
              "      fill: #1967D2;\n",
              "      height: 32px;\n",
              "      padding: 0 0 0 0;\n",
              "      width: 32px;\n",
              "    }\n",
              "\n",
              "    .colab-df-convert:hover {\n",
              "      background-color: #E2EBFA;\n",
              "      box-shadow: 0px 1px 2px rgba(60, 64, 67, 0.3), 0px 1px 3px 1px rgba(60, 64, 67, 0.15);\n",
              "      fill: #174EA6;\n",
              "    }\n",
              "\n",
              "    [theme=dark] .colab-df-convert {\n",
              "      background-color: #3B4455;\n",
              "      fill: #D2E3FC;\n",
              "    }\n",
              "\n",
              "    [theme=dark] .colab-df-convert:hover {\n",
              "      background-color: #434B5C;\n",
              "      box-shadow: 0px 1px 3px 1px rgba(0, 0, 0, 0.15);\n",
              "      filter: drop-shadow(0px 1px 2px rgba(0, 0, 0, 0.3));\n",
              "      fill: #FFFFFF;\n",
              "    }\n",
              "  </style>\n",
              "\n",
              "      <script>\n",
              "        const buttonEl =\n",
              "          document.querySelector('#df-cff51340-a009-4b9c-a63b-474a4c5c74cb button.colab-df-convert');\n",
              "        buttonEl.style.display =\n",
              "          google.colab.kernel.accessAllowed ? 'block' : 'none';\n",
              "\n",
              "        async function convertToInteractive(key) {\n",
              "          const element = document.querySelector('#df-cff51340-a009-4b9c-a63b-474a4c5c74cb');\n",
              "          const dataTable =\n",
              "            await google.colab.kernel.invokeFunction('convertToInteractive',\n",
              "                                                     [key], {});\n",
              "          if (!dataTable) return;\n",
              "\n",
              "          const docLinkHtml = 'Like what you see? Visit the ' +\n",
              "            '<a target=\"_blank\" href=https://colab.research.google.com/notebooks/data_table.ipynb>data table notebook</a>'\n",
              "            + ' to learn more about interactive tables.';\n",
              "          element.innerHTML = '';\n",
              "          dataTable['output_type'] = 'display_data';\n",
              "          await google.colab.output.renderOutput(dataTable, element);\n",
              "          const docLink = document.createElement('div');\n",
              "          docLink.innerHTML = docLinkHtml;\n",
              "          element.appendChild(docLink);\n",
              "        }\n",
              "      </script>\n",
              "    </div>\n",
              "  </div>\n",
              "  "
            ],
            "text/plain": [
              "        정책ID       정책서비스ID  ... 필터링_대상특성상세                             MB_15\n",
              "0          1  000000465790  ...                 보육지원(0~7세),개인금융지원,보육지원(0~7세)\n",
              "1          2  105100000001  ...                                 개인금융지원,창업 지원\n",
              "2          3  116010000001  ...                             개인금융지원,주택-부동산 지원\n",
              "3          4  116010000027  ...                                기업금융지원,개인금융지원\n",
              "4          5  119200000001  ...                          기업금융지원,개인금융지원,창업 지원\n",
              "...      ...           ...  ...        ...                               ...\n",
              "88481  88482  645000000579  ...      경관농업인  기업금융지원,기업금융지원,개인금융지원,의료 지원,창업 지원\n",
              "88482  88483  650000000822  ...                                      문화생활 지원\n",
              "88483  88484  451000000421  ...                                         취업지원\n",
              "88484  88485  440000000167  ...                                 개인금융지원,의료 지원\n",
              "88485  88486  B55406600002  ...                        기업금융지원,개인금융지원,문화생활 지원\n",
              "\n",
              "[88486 rows x 21 columns]"
            ]
          },
          "metadata": {},
          "execution_count": 293
        }
      ]
    },
    {
      "cell_type": "code",
      "source": [
        "ourfinal = pd.merge(jiho, nam, how='inner', on='정책ID')"
      ],
      "metadata": {
        "id": "uVRH-MlGY9YE"
      },
      "execution_count": null,
      "outputs": []
    },
    {
      "cell_type": "code",
      "source": [
        "rename_dict= {}\n",
        "for name in ourfinal.columns:\n",
        "  if '필터링' in name:\n",
        "    rename_dict[name] = name[4:]\n",
        "rename_dict\n",
        "\n",
        "ourfinal.rename(columns = rename_dict, inplace=True)"
      ],
      "metadata": {
        "id": "0_xDYc1ynKZA"
      },
      "execution_count": null,
      "outputs": []
    },
    {
      "cell_type": "code",
      "source": [
        "ourfinal.columns"
      ],
      "metadata": {
        "colab": {
          "base_uri": "https://localhost:8080/"
        },
        "id": "M5FqqsY-nhx_",
        "outputId": "debcb479-c93e-4990-8473-4f72ae373633"
      },
      "execution_count": null,
      "outputs": [
        {
          "output_type": "execute_result",
          "data": {
            "text/plain": [
              "Index(['정책ID', '정책서비스ID', '서비스명', '소관기관', '소관기관유형.1', '생애주기', '신청절차', '선정기준',\n",
              "       '지원유형', '서비스목적', '지원내용', '지원대상', '대상연령시작', '대상연령_끝', '시도', '시군구',\n",
              "       '중위소득', '관심상황특성', '대상특성', '대상특성상세', 'MB_15', '소관기관유형', '지원유형', '지원유형상세',\n",
              "       '신청절차', '성별', '결혼', '학력', '가구원', '자녀', '자녀상세', '직장', '직장상세'],\n",
              "      dtype='object')"
            ]
          },
          "metadata": {},
          "execution_count": 309
        }
      ]
    },
    {
      "cell_type": "code",
      "source": [
        "ourfinal.rename(columns = {'대상연령_끝': '대상연령끝'}, inplace=True)"
      ],
      "metadata": {
        "id": "pV6oGT3Cnkne"
      },
      "execution_count": null,
      "outputs": []
    },
    {
      "cell_type": "code",
      "source": [
        "with open('/content/drive/MyDrive/웰로/data/our_final0117.pkl', 'wb') as f:\n",
        "  pickle.dump(ourfinal, f, pickle.HIGHEST_PROTOCOL)"
      ],
      "metadata": {
        "id": "W4lxIYI3ps7J"
      },
      "execution_count": null,
      "outputs": []
    },
    {
      "cell_type": "markdown",
      "source": [
        "# 추천 모델 (유사도)"
      ],
      "metadata": {
        "id": "OHpndmK48sy4"
      }
    },
    {
      "cell_type": "code",
      "source": [
        "######### our_final0117 이 필요하다!!!!!!!!!!!!!!!!!!!!!!!!!!!!!!!!!!!!!!!!!!!!!!!!!!!!\n",
        "policy = pd.DataFrame(pd.read_pickle('/content/drive/MyDrive/웰로/data/our_final0117.pkl'))\n",
        "user = pd.DataFrame(pd.read_pickle('/content/drive/MyDrive/웰로/data/user_final0117.pkl'))"
      ],
      "metadata": {
        "id": "kxOtu-8Sosij"
      },
      "execution_count": null,
      "outputs": []
    },
    {
      "cell_type": "code",
      "source": [
        "policy.columns"
      ],
      "metadata": {
        "colab": {
          "base_uri": "https://localhost:8080/"
        },
        "id": "t4ek6dBnm1Va",
        "outputId": "5e200481-a3a8-44ea-9b65-c685d4453e75"
      },
      "execution_count": null,
      "outputs": [
        {
          "output_type": "execute_result",
          "data": {
            "text/plain": [
              "Index(['정책ID', '정책서비스ID', '서비스명', '소관기관', '소관기관유형.1', '생애주기', '신청절차', '선정기준',\n",
              "       '지원유형', '서비스목적', '지원내용', '지원대상', '대상연령시작', '대상연령끝', '시도', '시군구', '중위소득',\n",
              "       '관심상황특성', '대상특성', '대상특성상세', 'MB_15', '소관기관유형', '지원유형', '지원유형상세', '신청절차',\n",
              "       '성별', '결혼', '학력', '가구원', '자녀', '자녀상세', '직장', '직장상세'],\n",
              "      dtype='object')"
            ]
          },
          "metadata": {},
          "execution_count": 313
        }
      ]
    },
    {
      "cell_type": "code",
      "source": [
        "policy.head(1)"
      ],
      "metadata": {
        "colab": {
          "base_uri": "https://localhost:8080/",
          "height": 332
        },
        "id": "-97avs7vD0uW",
        "outputId": "62f4ac80-6d49-46bd-95c4-08d9fa8397e0"
      },
      "execution_count": null,
      "outputs": [
        {
          "output_type": "execute_result",
          "data": {
            "text/html": [
              "\n",
              "  <div id=\"df-5f74d2dd-bc12-4d94-ae2b-550cfa133ba2\">\n",
              "    <div class=\"colab-df-container\">\n",
              "      <div>\n",
              "<style scoped>\n",
              "    .dataframe tbody tr th:only-of-type {\n",
              "        vertical-align: middle;\n",
              "    }\n",
              "\n",
              "    .dataframe tbody tr th {\n",
              "        vertical-align: top;\n",
              "    }\n",
              "\n",
              "    .dataframe thead th {\n",
              "        text-align: right;\n",
              "    }\n",
              "</style>\n",
              "<table border=\"1\" class=\"dataframe\">\n",
              "  <thead>\n",
              "    <tr style=\"text-align: right;\">\n",
              "      <th></th>\n",
              "      <th>정책ID</th>\n",
              "      <th>정책서비스ID</th>\n",
              "      <th>서비스명</th>\n",
              "      <th>소관기관</th>\n",
              "      <th>소관기관유형.1</th>\n",
              "      <th>생애주기</th>\n",
              "      <th>정책의_신청절차</th>\n",
              "      <th>선정기준</th>\n",
              "      <th>정책의_지원유형</th>\n",
              "      <th>서비스목적</th>\n",
              "      <th>지원내용</th>\n",
              "      <th>대상연령시작</th>\n",
              "      <th>대상연령끝</th>\n",
              "      <th>시도</th>\n",
              "      <th>시군구</th>\n",
              "      <th>중위소득</th>\n",
              "      <th>관심상황특성</th>\n",
              "      <th>대상특성</th>\n",
              "      <th>대상특성상세</th>\n",
              "      <th>지원유형상세</th>\n",
              "      <th>신청절차</th>\n",
              "      <th>성별</th>\n",
              "      <th>결혼</th>\n",
              "      <th>학력</th>\n",
              "      <th>직장</th>\n",
              "      <th>직장상세</th>\n",
              "      <th>가구원</th>\n",
              "      <th>자녀</th>\n",
              "      <th>자녀상세</th>\n",
              "      <th>지원유형</th>\n",
              "      <th>MB_15</th>\n",
              "    </tr>\n",
              "  </thead>\n",
              "  <tbody>\n",
              "    <tr>\n",
              "      <th>0</th>\n",
              "      <td>1</td>\n",
              "      <td>000000465790</td>\n",
              "      <td>만 3~5세 유치원 유아 학비 지원(3~5세 누리과정 운영)</td>\n",
              "      <td>교육부</td>\n",
              "      <td>중앙정부</td>\n",
              "      <td>영·유아||아동·청소년||청년||중장년||노년기</td>\n",
              "      <td>신청ㆍ접수(읍면동사무소) - 보장 결정(시군구 사업팀)</td>\n",
              "      <td>1) 지원대상 : 어린이집을 이용하는 만 3~5세 아동\\n2) 신청인 : 아동의 보...</td>\n",
              "      <td>현금</td>\n",
              "      <td>누리과정이란 만 3~5세를 대상으로 하는 어린이집 표준보육과정과 유치원 교육과정을 ...</td>\n",
              "      <td>만 3~5세 누리과정 운영에 필요한 비용 지원 \\n - 보육료, 담당교사 처우 개선...</td>\n",
              "      <td>3</td>\n",
              "      <td>5</td>\n",
              "      <td>전국</td>\n",
              "      <td></td>\n",
              "      <td></td>\n",
              "      <td>개인교육지원</td>\n",
              "      <td>해당사항없음</td>\n",
              "      <td>해당사항없음</td>\n",
              "      <td>현금(전체)</td>\n",
              "      <td>오프라인</td>\n",
              "      <td>무관</td>\n",
              "      <td>무관</td>\n",
              "      <td>무관</td>\n",
              "      <td>무관</td>\n",
              "      <td></td>\n",
              "      <td>무관</td>\n",
              "      <td>없음</td>\n",
              "      <td>어린이집,유치원</td>\n",
              "      <td>현금</td>\n",
              "      <td>보육지원(0~7세),개인금융지원,보육지원(0~7세)</td>\n",
              "    </tr>\n",
              "  </tbody>\n",
              "</table>\n",
              "</div>\n",
              "      <button class=\"colab-df-convert\" onclick=\"convertToInteractive('df-5f74d2dd-bc12-4d94-ae2b-550cfa133ba2')\"\n",
              "              title=\"Convert this dataframe to an interactive table.\"\n",
              "              style=\"display:none;\">\n",
              "        \n",
              "  <svg xmlns=\"http://www.w3.org/2000/svg\" height=\"24px\"viewBox=\"0 0 24 24\"\n",
              "       width=\"24px\">\n",
              "    <path d=\"M0 0h24v24H0V0z\" fill=\"none\"/>\n",
              "    <path d=\"M18.56 5.44l.94 2.06.94-2.06 2.06-.94-2.06-.94-.94-2.06-.94 2.06-2.06.94zm-11 1L8.5 8.5l.94-2.06 2.06-.94-2.06-.94L8.5 2.5l-.94 2.06-2.06.94zm10 10l.94 2.06.94-2.06 2.06-.94-2.06-.94-.94-2.06-.94 2.06-2.06.94z\"/><path d=\"M17.41 7.96l-1.37-1.37c-.4-.4-.92-.59-1.43-.59-.52 0-1.04.2-1.43.59L10.3 9.45l-7.72 7.72c-.78.78-.78 2.05 0 2.83L4 21.41c.39.39.9.59 1.41.59.51 0 1.02-.2 1.41-.59l7.78-7.78 2.81-2.81c.8-.78.8-2.07 0-2.86zM5.41 20L4 18.59l7.72-7.72 1.47 1.35L5.41 20z\"/>\n",
              "  </svg>\n",
              "      </button>\n",
              "      \n",
              "  <style>\n",
              "    .colab-df-container {\n",
              "      display:flex;\n",
              "      flex-wrap:wrap;\n",
              "      gap: 12px;\n",
              "    }\n",
              "\n",
              "    .colab-df-convert {\n",
              "      background-color: #E8F0FE;\n",
              "      border: none;\n",
              "      border-radius: 50%;\n",
              "      cursor: pointer;\n",
              "      display: none;\n",
              "      fill: #1967D2;\n",
              "      height: 32px;\n",
              "      padding: 0 0 0 0;\n",
              "      width: 32px;\n",
              "    }\n",
              "\n",
              "    .colab-df-convert:hover {\n",
              "      background-color: #E2EBFA;\n",
              "      box-shadow: 0px 1px 2px rgba(60, 64, 67, 0.3), 0px 1px 3px 1px rgba(60, 64, 67, 0.15);\n",
              "      fill: #174EA6;\n",
              "    }\n",
              "\n",
              "    [theme=dark] .colab-df-convert {\n",
              "      background-color: #3B4455;\n",
              "      fill: #D2E3FC;\n",
              "    }\n",
              "\n",
              "    [theme=dark] .colab-df-convert:hover {\n",
              "      background-color: #434B5C;\n",
              "      box-shadow: 0px 1px 3px 1px rgba(0, 0, 0, 0.15);\n",
              "      filter: drop-shadow(0px 1px 2px rgba(0, 0, 0, 0.3));\n",
              "      fill: #FFFFFF;\n",
              "    }\n",
              "  </style>\n",
              "\n",
              "      <script>\n",
              "        const buttonEl =\n",
              "          document.querySelector('#df-5f74d2dd-bc12-4d94-ae2b-550cfa133ba2 button.colab-df-convert');\n",
              "        buttonEl.style.display =\n",
              "          google.colab.kernel.accessAllowed ? 'block' : 'none';\n",
              "\n",
              "        async function convertToInteractive(key) {\n",
              "          const element = document.querySelector('#df-5f74d2dd-bc12-4d94-ae2b-550cfa133ba2');\n",
              "          const dataTable =\n",
              "            await google.colab.kernel.invokeFunction('convertToInteractive',\n",
              "                                                     [key], {});\n",
              "          if (!dataTable) return;\n",
              "\n",
              "          const docLinkHtml = 'Like what you see? Visit the ' +\n",
              "            '<a target=\"_blank\" href=https://colab.research.google.com/notebooks/data_table.ipynb>data table notebook</a>'\n",
              "            + ' to learn more about interactive tables.';\n",
              "          element.innerHTML = '';\n",
              "          dataTable['output_type'] = 'display_data';\n",
              "          await google.colab.output.renderOutput(dataTable, element);\n",
              "          const docLink = document.createElement('div');\n",
              "          docLink.innerHTML = docLinkHtml;\n",
              "          element.appendChild(docLink);\n",
              "        }\n",
              "      </script>\n",
              "    </div>\n",
              "  </div>\n",
              "  "
            ],
            "text/plain": [
              "   정책ID       정책서비스ID  ... 지원유형                         MB_15\n",
              "0     1  000000465790  ...   현금  보육지원(0~7세),개인금융지원,보육지원(0~7세)\n",
              "\n",
              "[1 rows x 31 columns]"
            ]
          },
          "metadata": {},
          "execution_count": 5
        }
      ]
    },
    {
      "cell_type": "code",
      "source": [
        "user.head(1)"
      ],
      "metadata": {
        "colab": {
          "base_uri": "https://localhost:8080/",
          "height": 81
        },
        "id": "PkLp0Lv-U6yg",
        "outputId": "43b7c289-22cf-4b4e-f9f3-cd411dcd3391"
      },
      "execution_count": null,
      "outputs": [
        {
          "output_type": "execute_result",
          "data": {
            "text/html": [
              "\n",
              "  <div id=\"df-21eeb9ff-fa62-4c94-bf6a-83d0f931cd4c\">\n",
              "    <div class=\"colab-df-container\">\n",
              "      <div>\n",
              "<style scoped>\n",
              "    .dataframe tbody tr th:only-of-type {\n",
              "        vertical-align: middle;\n",
              "    }\n",
              "\n",
              "    .dataframe tbody tr th {\n",
              "        vertical-align: top;\n",
              "    }\n",
              "\n",
              "    .dataframe thead th {\n",
              "        text-align: right;\n",
              "    }\n",
              "</style>\n",
              "<table border=\"1\" class=\"dataframe\">\n",
              "  <thead>\n",
              "    <tr style=\"text-align: right;\">\n",
              "      <th></th>\n",
              "      <th>num</th>\n",
              "      <th>성별</th>\n",
              "      <th>나이</th>\n",
              "      <th>시도</th>\n",
              "      <th>시군구</th>\n",
              "      <th>학력</th>\n",
              "      <th>직장</th>\n",
              "      <th>가구원</th>\n",
              "      <th>결혼</th>\n",
              "      <th>자녀</th>\n",
              "      <th>자녀상세</th>\n",
              "      <th>자녀수</th>\n",
              "      <th>mb_10</th>\n",
              "      <th>mb_10+대상특성</th>\n",
              "      <th>mb_11</th>\n",
              "      <th>mb_11+관심상황특성</th>\n",
              "      <th>mb_12</th>\n",
              "      <th>mb_13</th>\n",
              "      <th>mb_14</th>\n",
              "      <th>mb_15</th>\n",
              "    </tr>\n",
              "  </thead>\n",
              "  <tbody>\n",
              "    <tr>\n",
              "      <th>0</th>\n",
              "      <td>11726</td>\n",
              "      <td>남성</td>\n",
              "      <td>121</td>\n",
              "      <td>충청북도</td>\n",
              "      <td>청주시</td>\n",
              "      <td>무관</td>\n",
              "      <td>무관</td>\n",
              "      <td>무관</td>\n",
              "      <td>미혼,기혼</td>\n",
              "      <td>있음,없음</td>\n",
              "      <td>해당사항없음</td>\n",
              "      <td>None</td>\n",
              "      <td>None</td>\n",
              "      <td>해당사항없음</td>\n",
              "      <td>None</td>\n",
              "      <td>None</td>\n",
              "      <td>None</td>\n",
              "      <td>None</td>\n",
              "      <td>None</td>\n",
              "      <td></td>\n",
              "    </tr>\n",
              "  </tbody>\n",
              "</table>\n",
              "</div>\n",
              "      <button class=\"colab-df-convert\" onclick=\"convertToInteractive('df-21eeb9ff-fa62-4c94-bf6a-83d0f931cd4c')\"\n",
              "              title=\"Convert this dataframe to an interactive table.\"\n",
              "              style=\"display:none;\">\n",
              "        \n",
              "  <svg xmlns=\"http://www.w3.org/2000/svg\" height=\"24px\"viewBox=\"0 0 24 24\"\n",
              "       width=\"24px\">\n",
              "    <path d=\"M0 0h24v24H0V0z\" fill=\"none\"/>\n",
              "    <path d=\"M18.56 5.44l.94 2.06.94-2.06 2.06-.94-2.06-.94-.94-2.06-.94 2.06-2.06.94zm-11 1L8.5 8.5l.94-2.06 2.06-.94-2.06-.94L8.5 2.5l-.94 2.06-2.06.94zm10 10l.94 2.06.94-2.06 2.06-.94-2.06-.94-.94-2.06-.94 2.06-2.06.94z\"/><path d=\"M17.41 7.96l-1.37-1.37c-.4-.4-.92-.59-1.43-.59-.52 0-1.04.2-1.43.59L10.3 9.45l-7.72 7.72c-.78.78-.78 2.05 0 2.83L4 21.41c.39.39.9.59 1.41.59.51 0 1.02-.2 1.41-.59l7.78-7.78 2.81-2.81c.8-.78.8-2.07 0-2.86zM5.41 20L4 18.59l7.72-7.72 1.47 1.35L5.41 20z\"/>\n",
              "  </svg>\n",
              "      </button>\n",
              "      \n",
              "  <style>\n",
              "    .colab-df-container {\n",
              "      display:flex;\n",
              "      flex-wrap:wrap;\n",
              "      gap: 12px;\n",
              "    }\n",
              "\n",
              "    .colab-df-convert {\n",
              "      background-color: #E8F0FE;\n",
              "      border: none;\n",
              "      border-radius: 50%;\n",
              "      cursor: pointer;\n",
              "      display: none;\n",
              "      fill: #1967D2;\n",
              "      height: 32px;\n",
              "      padding: 0 0 0 0;\n",
              "      width: 32px;\n",
              "    }\n",
              "\n",
              "    .colab-df-convert:hover {\n",
              "      background-color: #E2EBFA;\n",
              "      box-shadow: 0px 1px 2px rgba(60, 64, 67, 0.3), 0px 1px 3px 1px rgba(60, 64, 67, 0.15);\n",
              "      fill: #174EA6;\n",
              "    }\n",
              "\n",
              "    [theme=dark] .colab-df-convert {\n",
              "      background-color: #3B4455;\n",
              "      fill: #D2E3FC;\n",
              "    }\n",
              "\n",
              "    [theme=dark] .colab-df-convert:hover {\n",
              "      background-color: #434B5C;\n",
              "      box-shadow: 0px 1px 3px 1px rgba(0, 0, 0, 0.15);\n",
              "      filter: drop-shadow(0px 1px 2px rgba(0, 0, 0, 0.3));\n",
              "      fill: #FFFFFF;\n",
              "    }\n",
              "  </style>\n",
              "\n",
              "      <script>\n",
              "        const buttonEl =\n",
              "          document.querySelector('#df-21eeb9ff-fa62-4c94-bf6a-83d0f931cd4c button.colab-df-convert');\n",
              "        buttonEl.style.display =\n",
              "          google.colab.kernel.accessAllowed ? 'block' : 'none';\n",
              "\n",
              "        async function convertToInteractive(key) {\n",
              "          const element = document.querySelector('#df-21eeb9ff-fa62-4c94-bf6a-83d0f931cd4c');\n",
              "          const dataTable =\n",
              "            await google.colab.kernel.invokeFunction('convertToInteractive',\n",
              "                                                     [key], {});\n",
              "          if (!dataTable) return;\n",
              "\n",
              "          const docLinkHtml = 'Like what you see? Visit the ' +\n",
              "            '<a target=\"_blank\" href=https://colab.research.google.com/notebooks/data_table.ipynb>data table notebook</a>'\n",
              "            + ' to learn more about interactive tables.';\n",
              "          element.innerHTML = '';\n",
              "          dataTable['output_type'] = 'display_data';\n",
              "          await google.colab.output.renderOutput(dataTable, element);\n",
              "          const docLink = document.createElement('div');\n",
              "          docLink.innerHTML = docLinkHtml;\n",
              "          element.appendChild(docLink);\n",
              "        }\n",
              "      </script>\n",
              "    </div>\n",
              "  </div>\n",
              "  "
            ],
            "text/plain": [
              "     num  성별   나이    시도  시군구  학력  ... mb_11 mb_11+관심상황특성 mb_12 mb_13 mb_14 mb_15\n",
              "0  11726  남성  121  충청북도  청주시  무관  ...  None         None  None  None  None      \n",
              "\n",
              "[1 rows x 20 columns]"
            ]
          },
          "metadata": {},
          "execution_count": 6
        }
      ]
    },
    {
      "cell_type": "markdown",
      "source": [
        "## 유저 * feature matrix"
      ],
      "metadata": {
        "id": "xWHdw0SXOIRE"
      }
    },
    {
      "cell_type": "markdown",
      "source": [
        "### 유저 * feature matrix 12개 (밑 11개 + age) for 보편"
      ],
      "metadata": {
        "id": "2wse3uL8jDr4"
      }
    },
    {
      "cell_type": "code",
      "source": [
        "def age_matrix(value):\n",
        "  user_age = np.array([ [ 0 for i in range(len(policy))] for j in range(1)])\n",
        "  if value > 99:\n",
        "    value = 99\n",
        "  for start, end in zip(enumerate(policy.대상연령시작), enumerate(policy.대상연령끝)):\n",
        "    i, start = start\n",
        "    i, end = end\n",
        "    if start <= value <= end:\n",
        "      user_age[0][i] = 1\n",
        "  return user_age"
      ],
      "metadata": {
        "id": "7zUzt5inFAar"
      },
      "execution_count": null,
      "outputs": []
    },
    {
      "cell_type": "code",
      "source": [
        "def gender_matrix(value):\n",
        "  f = 2\n",
        "  u = 1\n",
        "  user_gender = np.array([ [ 0 for i in range(f)] for j in range(u)])\n",
        "  if '남성' in value:\n",
        "    user_gender[0][0] = 1\n",
        "  if '여성' in value:\n",
        "    user_gender[0][1] = 1\n",
        "  return user_gender\n",
        "\n",
        "def city_matrix(value):\n",
        "  city = ['서울특별시', '부산광역시', '대구광역시', '인천광역시', '광주광역시', '대전광역시', '울산광역시', '세종특별자치시', '경기도', '강원도', '충청북도', '충청남도', '전라북도', '전라남도', '경상북도', '경상남도', '제주특별자치도' ]\n",
        "  f = len(city)\n",
        "  u = 1\n",
        "  user_city = np.array([ [ 0 for i in range(f)] for j in range(u)])\n",
        "  if '전국' in value: #전국\n",
        "    for i in range(f):\n",
        "      user_city[0][i] = 1\n",
        "    return user_city\n",
        "  \n",
        "  for j, city_name in enumerate(city):\n",
        "    if city_name in value:\n",
        "      user_city[0][j] = 1\n",
        "  return user_city\n",
        "\n",
        "def city2_matrix(value):\n",
        "  city2 = ['종로구', '중구', '용산구', '성동구', '광진구', '동대문구', '중랑구', '성북구', '강북구', '도봉구', '노원구', '은평구', '서대문구', '마포구', '양천구', '강서구', '구로구', '금천구', '영등포구', '동작구', '관악구', '서초구', '강남구', '송파구', '강동구', '중구', '서구', '동구', '영도구', '부산진구', '동래구', '남구', '북구', '해운대구', '사하구', '금정구', '강서구', '연제구', '수영구', '사상구', '기장군', '중구', '동구', '서구', '남구', '북구', '수성구', '달서구', '달성군', '중구', '동구', '미추홀구', '연수구', '남동구', '부평구', '계양구', '서구', '강화군', '옹진군', '동구', '서구', '남구', '북구', '광산구', '동구', '중구', '서구', '유성구', '대덕구', '중구', '남구', '동구', '북구', '울주군', '세종시', '수원시', '성남시', '고양시', '용인시', '부천시', '안산시', '안양시', '남양주시', '화성시', '평택시', '의정부시', '시흥시', '파주시', '광명시', '김포시', '군포시', '광주시', '이천시', '양주시', '오산시', '구리시', '안성시', '포천시', '의왕시', '하남시', '여주시', '양평군', '동두천시', '과천시', '가평군', '연천군', '춘천시', '원주시', '강릉시', '동해시', '태백시', '속초시', '삼척시', '홍천군', '횡성군', '영월군', '평창군', '정선군', '철원군', '화천군', '양구군', '인제군', '고성군', '양양군', '청주시', '충주시', '제천시', '보은군', '옥천군', '영동군', '진천군', '괴산군', '음성군', '단양군', '증평군', '천안시', '공주시', '보령시', '아산시', '서산시', '논산시', '계룡시', '당진시', '금산군', '부여군', '서천군', '청양군', '홍성군', '예산군', '태안군', '전주시', '군산시', '익산시', '정읍시', '남원시', '김제시', '완주군', '진안군', '무주군', '장수군', '임실군', '순창군', '고창군', '부안군', '목포시', '여수시', '순천시', '나주시', '광양시', '담양군', '곡성군', '구례군', '고흥군', '보성군', '화순군', '장흥군', '강진군', '해남군', '영암군', '무안군', '함평군', '영광군', '장성군', '완도군', '진도군', '신안군', '포항시', '경주시', '김천시', '안동시', '구미시', '영주시', '영천시', '상주시', '문경시', '경산시', '군위군', '의성군', '청송군', '영양군', '영덕군', '청도군', '고령군', '성주군', '칠곡군', '예천군', '봉화군', '울진군', '울릉군', '창원시', '진주시', '통영시', '사천시', '김해시', '밀양시', '거제시', '양산시', '의령군', '함안군', '창녕군', '고성군', '남해군', '하동군', '산청군', '함양군', '거창군', '합천군', '제주시', '서귀포시']\n",
        "  f = len(city2)\n",
        "  u = 1\n",
        "  user_city2 = np.array([ [ 0 for i in range(f)] for j in range(u)])\n",
        "  if '' == value:\n",
        "    # for i in range(f):\n",
        "    #   user_city2[0][i] = 0\n",
        "    return user_city2\n",
        "\n",
        "  for j, city_name in enumerate(city2):\n",
        "    if city_name in value:\n",
        "      user_city2[0][j] = 1\n",
        "  return user_city2\n",
        "\n",
        "def edu_matrix(value):\n",
        "  f = 4\n",
        "  u = 1\n",
        "  user_edu = np.array([ [ 0 for i in range(f)] for j in range(u)])\n",
        "  if '무관' in value:\n",
        "    for i in range(f):\n",
        "      user_edu[0][i] = 1\n",
        "    return user_edu\n",
        "  if '고등학교졸업' in value:\n",
        "    user_edu[0][0] = 1\n",
        "  elif '대학(원)재학' in value:\n",
        "    user_edu[0][1] = 1\n",
        "  elif '대학(원)휴학' in value:\n",
        "    user_edu[0][2] = 1\n",
        "  elif '대학(원)졸업' in value:\n",
        "    user_edu[0][3] = 1\n",
        "  return user_edu\n",
        "\n",
        "def work_matrix(value):\n",
        "  f = 7\n",
        "  u = 1\n",
        "  user_work = np.array([ [ 0 for i in range(f)] for j in range(u)])\n",
        "  if '무관' in value:\n",
        "    for i in range(f):\n",
        "      user_work[0][i] = 1\n",
        "    return user_work\n",
        "  if '대학/대학원생' in value:\n",
        "    user_work[0][0] = 1\n",
        "  if '구직자/실업자' in value:\n",
        "    user_work[0][1] = 1\n",
        "  if '근로자/직장인' in value:\n",
        "    user_work[0][2] = 1\n",
        "  if '예비창업자' in value:\n",
        "    user_work[0][3] = 1\n",
        "  if '소상공인' in value:\n",
        "    user_work[0][4] = 1\n",
        "  if '중소기업' in value:\n",
        "    user_work[0][5] = 1\n",
        "  if '프리랜서' in value:\n",
        "    user_work[0][6] = 1\n",
        "  return user_work\n",
        "\n",
        "def house_matrix(value):\n",
        "  f = 4\n",
        "  u = 1\n",
        "  user_house = np.array([ [ 0 for i in range(f)] for j in range(u)])\n",
        "  if '무관' in value:\n",
        "    for i in range(4):\n",
        "      user_house[0][i] = 1\n",
        "    return user_house\n",
        "  if '무주택 세대주' in value:\n",
        "    user_house[0][0] = 1\n",
        "  if '무주택 세대원' in value:\n",
        "    user_house[0][1] = 1\n",
        "  if '주택 세대주' in value:\n",
        "    user_house[0][2] = 1\n",
        "  if '주택 세대원' in value:\n",
        "    user_house[0][3] = 1\n",
        "  return user_house\n",
        "\n",
        "def marry_matrix(value):\n",
        "  f = 2\n",
        "  u = 1\n",
        "  user_marry = np.array([ [ 0 for i in range(f)] for j in range(u)])\n",
        "  if '미혼' in value: #미혼\n",
        "    user_marry[0][0] = 1\n",
        "  if '기혼' in value: #기혼\n",
        "    user_marry[0][1] = 1\n",
        "  return user_marry\n",
        "\n",
        "def child_matrix(value):\n",
        "  f = 2\n",
        "  u = 1\n",
        "  user_child = np.array([ [ 0 for i in range(f)] for j in range(u)])\n",
        "  if (value== None) or (value=='있음,없음'):\n",
        "    user_child[0][0] = 1\n",
        "    user_child[0][1] = 1\n",
        "  elif value== '없음': # 없음\n",
        "    user_child[0][0] = 1\n",
        "  elif value== '있음': # A-07-01\n",
        "    user_child[0][1] = 1\n",
        "  return user_child\n",
        "\n",
        "def child_detail_matrix(value):\n",
        "  f = 5\n",
        "  u = 1\n",
        "  user_child_detail = np.array([ [ 0 for i in range(f)] for j in range(u)])\n",
        "  if (value== None) or (value == '해당사항없음'):\n",
        "    # for i in range(f):\n",
        "    #   user_child_detail[0][i] = 0\n",
        "    return user_child_detail\n",
        "  if '영유아' in value: # 영유아\n",
        "    user_child_detail[0][0] = 1\n",
        "  if '유치원' in value:\n",
        "    user_child_detail[0][1] = 1\n",
        "  if '어린이집' in value:\n",
        "    user_child_detail[0][2] = 1\n",
        "  if '초중고학생' in value:\n",
        "    user_child_detail[0][3] = 1\n",
        "  if '성인' in value:\n",
        "    user_child_detail[0][4] = 1\n",
        "  return user_child_detail\n",
        "\n",
        "def mb_15_matrix(value):\n",
        "  mb_15 = ['근로자 지원', '취업 지원', '개인금융지원', '문화생활 지원', '주택-부동산 지원', '교육지원(만8~19세)', '성인교육지원',\n",
        "         '의료 지원', '창업 지원', '기업금융지원', '보육지원(만0~7세)']\n",
        "  f = len(mb_15)\n",
        "  u = 1\n",
        "  user_mb_15 = np.array([ [ 0 for i in range(f)] for j in range(u)])\n",
        "  if '' == value:\n",
        "    for i in range(f):\n",
        "      user_mb_15[0][i] = 1\n",
        "    return user_mb_15\n",
        "  for i, text in enumerate(mb_15):\n",
        "    if text in value:\n",
        "      word_0 = mb_15.index(text)\n",
        "      user_mb_15[0][word_0] = 1\n",
        "  return user_mb_15\n",
        "\n",
        "def money_matrix(value):\n",
        "  mb_12 = ['기초생활수급자', '중위소득 40% 이하', '중위소득 40~60% 사이', '중위소득 60~80% 사이', '중위소득 80~100% 사이',  '중위소득 100% 이상']\n",
        "  f = len(mb_12)\n",
        "  u = 1\n",
        "  if value == None:\n",
        "    for i in range(f):\n",
        "      user_money = np.array([[1 for i in range(f)] for j in range(u)])\n",
        "    return user_money\n",
        "  \n",
        "  user_money = np.array([ [ 0 for i in range(f)] for j in range(u)])\n",
        "  \n",
        "  if '' == value:\n",
        "    for i in range(f):\n",
        "      user_money[0][i] = 1\n",
        "    return user_money\n",
        "  for i, text in enumerate(mb_12):\n",
        "    if text in value:\n",
        "      word_0 = mb_12.index(text)\n",
        "      user_money[0][word_0] = 1\n",
        "  return user_money"
      ],
      "metadata": {
        "id": "WbD0CPaiTvDh"
      },
      "execution_count": null,
      "outputs": []
    },
    {
      "cell_type": "markdown",
      "source": [
        "### 유저 * feature matrix 12개 (밑 11개 + age) for 특수"
      ],
      "metadata": {
        "id": "hFMqKr2FL7eU"
      }
    },
    {
      "cell_type": "code",
      "source": [
        "def age_matrix2(value):\n",
        "  user_age = np.array([ [ 0 for i in range(len(policy))] for j in range(1)])\n",
        "  if value > 99:\n",
        "    value = 99\n",
        "  for start, end in zip(enumerate(policy.대상연령시작), enumerate(policy.대상연령끝)):\n",
        "    i, start = start\n",
        "    i, end = end\n",
        "    if start <= value <= end:\n",
        "      user_age[0][i] = 1\n",
        "  return user_age"
      ],
      "metadata": {
        "id": "uHeRD3vpL7eV"
      },
      "execution_count": null,
      "outputs": []
    },
    {
      "cell_type": "code",
      "source": [
        "def gender_matrix2(value):\n",
        "  f = 2\n",
        "  u = 1\n",
        "  user_gender = np.array([ [ 0 for i in range(f)] for j in range(u)])\n",
        "  if '남성' in value:\n",
        "    user_gender[0][0] = 1\n",
        "  if '여성' in value:\n",
        "    user_gender[0][1] = 1\n",
        "  return user_gender\n",
        "\n",
        "def city_matrix2(value):\n",
        "  city = ['서울특별시', '부산광역시', '대구광역시', '인천광역시', '광주광역시', '대전광역시', '울산광역시', '세종특별자치시', '경기도', '강원도', '충청북도', '충청남도', '전라북도', '전라남도', '경상북도', '경상남도', '제주특별자치도' ]\n",
        "  f = len(city)\n",
        "  u = 1\n",
        "  user_city = np.array([ [ 0 for i in range(f)] for j in range(u)])\n",
        "  if '전국' in value: #전국\n",
        "    for i in range(f):\n",
        "      user_city[0][i] = 1\n",
        "    return user_city\n",
        "  \n",
        "  for j, city_name in enumerate(city):\n",
        "    if city_name in value:\n",
        "      user_city[0][j] = 1\n",
        "  return user_city\n",
        "\n",
        "def city2_matrix2(value):\n",
        "  city2 = ['종로구', '중구', '용산구', '성동구', '광진구', '동대문구', '중랑구', '성북구', '강북구', '도봉구', '노원구', '은평구', '서대문구', '마포구', '양천구', '강서구', '구로구', '금천구', '영등포구', '동작구', '관악구', '서초구', '강남구', '송파구', '강동구', '중구', '서구', '동구', '영도구', '부산진구', '동래구', '남구', '북구', '해운대구', '사하구', '금정구', '강서구', '연제구', '수영구', '사상구', '기장군', '중구', '동구', '서구', '남구', '북구', '수성구', '달서구', '달성군', '중구', '동구', '미추홀구', '연수구', '남동구', '부평구', '계양구', '서구', '강화군', '옹진군', '동구', '서구', '남구', '북구', '광산구', '동구', '중구', '서구', '유성구', '대덕구', '중구', '남구', '동구', '북구', '울주군', '세종시', '수원시', '성남시', '고양시', '용인시', '부천시', '안산시', '안양시', '남양주시', '화성시', '평택시', '의정부시', '시흥시', '파주시', '광명시', '김포시', '군포시', '광주시', '이천시', '양주시', '오산시', '구리시', '안성시', '포천시', '의왕시', '하남시', '여주시', '양평군', '동두천시', '과천시', '가평군', '연천군', '춘천시', '원주시', '강릉시', '동해시', '태백시', '속초시', '삼척시', '홍천군', '횡성군', '영월군', '평창군', '정선군', '철원군', '화천군', '양구군', '인제군', '고성군', '양양군', '청주시', '충주시', '제천시', '보은군', '옥천군', '영동군', '진천군', '괴산군', '음성군', '단양군', '증평군', '천안시', '공주시', '보령시', '아산시', '서산시', '논산시', '계룡시', '당진시', '금산군', '부여군', '서천군', '청양군', '홍성군', '예산군', '태안군', '전주시', '군산시', '익산시', '정읍시', '남원시', '김제시', '완주군', '진안군', '무주군', '장수군', '임실군', '순창군', '고창군', '부안군', '목포시', '여수시', '순천시', '나주시', '광양시', '담양군', '곡성군', '구례군', '고흥군', '보성군', '화순군', '장흥군', '강진군', '해남군', '영암군', '무안군', '함평군', '영광군', '장성군', '완도군', '진도군', '신안군', '포항시', '경주시', '김천시', '안동시', '구미시', '영주시', '영천시', '상주시', '문경시', '경산시', '군위군', '의성군', '청송군', '영양군', '영덕군', '청도군', '고령군', '성주군', '칠곡군', '예천군', '봉화군', '울진군', '울릉군', '창원시', '진주시', '통영시', '사천시', '김해시', '밀양시', '거제시', '양산시', '의령군', '함안군', '창녕군', '고성군', '남해군', '하동군', '산청군', '함양군', '거창군', '합천군', '제주시', '서귀포시']\n",
        "  f = len(city2)\n",
        "  u = 1\n",
        "  user_city2 = np.array([ [ 0 for i in range(f)] for j in range(u)])\n",
        "  if '' == value:\n",
        "    # for i in range(f):\n",
        "    #   user_city2[0][i] = 0\n",
        "    return user_city2\n",
        "\n",
        "  for j, city_name in enumerate(city2):\n",
        "    if city_name in value:\n",
        "      user_city2[0][j] = 1\n",
        "  return user_city2\n",
        "\n",
        "def edu_matrix2(value):\n",
        "  f = 4\n",
        "  u = 1\n",
        "  user_edu = np.array([ [ 0 for i in range(f)] for j in range(u)])\n",
        "  if '무관' in value:\n",
        "    # for i in range(f):\n",
        "    #   user_edu[0][i] = 1\n",
        "    return user_edu\n",
        "  if '고등학교졸업' in value:\n",
        "    user_edu[0][0] = 1\n",
        "  elif '대학(원)재학' in value:\n",
        "    user_edu[0][1] = 1\n",
        "  elif '대학(원)휴학' in value:\n",
        "    user_edu[0][2] = 1\n",
        "  elif '대학(원)졸업' in value:\n",
        "    user_edu[0][3] = 1\n",
        "  return user_edu\n",
        "\n",
        "def work_matrix2(value):\n",
        "  f = 7\n",
        "  u = 1\n",
        "  user_work = np.array([ [ 0 for i in range(f)] for j in range(u)])\n",
        "  if '무관' in value:\n",
        "    # for i in range(f):\n",
        "    #   user_work[0][i] = 1\n",
        "    return user_work\n",
        "  if '대학/대학원생' in value:\n",
        "    user_work[0][0] = 1\n",
        "  if '구직자/실업자' in value:\n",
        "    user_work[0][1] = 1\n",
        "  if '근로자/직장인' in value:\n",
        "    user_work[0][2] = 1\n",
        "  if '예비창업자' in value:\n",
        "    user_work[0][3] = 1\n",
        "  if '소상공인' in value:\n",
        "    user_work[0][4] = 1\n",
        "  if '중소기업' in value:\n",
        "    user_work[0][5] = 1\n",
        "  if '프리랜서' in value:\n",
        "    user_work[0][6] = 1\n",
        "  return user_work\n",
        "\n",
        "def house_matrix2(value):\n",
        "  f = 4\n",
        "  u = 1\n",
        "  user_house = np.array([ [ 0 for i in range(f)] for j in range(u)])\n",
        "  if '무관' in value:\n",
        "    # for i in range(4):\n",
        "    #   user_house[0][i] = 1\n",
        "    return user_house\n",
        "  if '무주택 세대주' in value:\n",
        "    user_house[0][0] = 1\n",
        "  if '무주택 세대원' in value:\n",
        "    user_house[0][1] = 1\n",
        "  if '주택 세대주' in value:\n",
        "    user_house[0][2] = 1\n",
        "  if '주택 세대원' in value:\n",
        "    user_house[0][3] = 1\n",
        "  return user_house\n",
        "\n",
        "def marry_matrix2(value):\n",
        "  f = 2\n",
        "  u = 1\n",
        "  user_marry = np.array([ [ 0 for i in range(f)] for j in range(u)])\n",
        "  if '미혼' in value: #미혼\n",
        "    user_marry[0][0] = 1\n",
        "  if '기혼' in value: #기혼\n",
        "    user_marry[0][1] = 1\n",
        "  return user_marry\n",
        "\n",
        "def child_matrix2(value):\n",
        "  f = 2\n",
        "  u = 1\n",
        "  user_child = np.array([ [ 0 for i in range(f)] for j in range(u)])\n",
        "  if (value== None):\n",
        "    return user_child\n",
        "  elif (value=='있음,없음'):\n",
        "    user_child[0][0] = 1\n",
        "    user_child[0][1] = 1\n",
        "  elif value== '없음': # 없음\n",
        "    user_child[0][0] = 1\n",
        "  elif value== '있음': # A-07-01\n",
        "    user_child[0][1] = 1\n",
        "  return user_child\n",
        "\n",
        "def child_detail_matrix2(value):\n",
        "  f = 5\n",
        "  u = 1\n",
        "  user_child_detail = np.array([ [ 0 for i in range(f)] for j in range(u)])\n",
        "  if (value== None) or (value == '해당사항없음'):\n",
        "    # for i in range(f):\n",
        "    #   user_child_detail[0][i] = 0\n",
        "    return user_child_detail\n",
        "  if '영유아' in value: # 영유아\n",
        "    user_child_detail[0][0] = 1\n",
        "  if '유치원' in value:\n",
        "    user_child_detail[0][1] = 1\n",
        "  if '어린이집' in value:\n",
        "    user_child_detail[0][2] = 1\n",
        "  if '초중고학생' in value:\n",
        "    user_child_detail[0][3] = 1\n",
        "  if '성인' in value:\n",
        "    user_child_detail[0][4] = 1\n",
        "  return user_child_detail\n",
        "\n",
        "def mb_15_matrix2(value):\n",
        "  mb_15 = ['근로자 지원', '취업 지원', '개인금융지원', '문화생활 지원', '주택-부동산 지원', '교육지원(만8~19세)', '성인교육지원',\n",
        "         '의료 지원', '창업 지원', '기업금융지원', '보육지원(만0~7세)']\n",
        "  f = len(mb_15)\n",
        "  u = 1\n",
        "  user_mb_15 = np.array([ [ 0 for i in range(f)] for j in range(u)])\n",
        "  if '' == value:\n",
        "    # for i in range(f):\n",
        "    #   user_mb_15[0][i] = 0\n",
        "    return user_mb_15\n",
        "  for i, text in enumerate(mb_15):\n",
        "    if text in value:\n",
        "      word_0 = mb_15.index(text)\n",
        "      user_mb_15[0][word_0] = 1\n",
        "  return user_mb_15\n",
        "\n",
        "def money_matrix2(value):\n",
        "  mb_12 = ['기초생활수급자', '중위소득 40% 이하', '중위소득 40~60%', '중위소득 60~80%', '중위소득 80~100%',  '중위소득 100% 이상']\n",
        "  f = len(mb_12)\n",
        "  u = 1\n",
        "  user_money = np.array([[0 for i in range(f)] for j in range(u)])\n",
        "  if (value == None) or ('' == value):\n",
        "    # for i in range(f):\n",
        "    #   user_money = np.array([[1 for i in range(f)] for j in range(u)])\n",
        "    return user_money\n",
        "\n",
        "  for i, text in enumerate(mb_12):\n",
        "    if text in value:\n",
        "      word_0 = mb_12.index(text)\n",
        "      user_money[0][word_0] = 1\n",
        "  return user_money"
      ],
      "metadata": {
        "id": "1aZ53NbQL7eV"
      },
      "execution_count": null,
      "outputs": []
    },
    {
      "cell_type": "markdown",
      "source": [
        "## feature * policy matrix"
      ],
      "metadata": {
        "id": "mBzgf9qoOLB5"
      }
    },
    {
      "cell_type": "markdown",
      "source": [
        "### feature * policy matrix 11개 for 보편"
      ],
      "metadata": {
        "id": "HsBYVim1jOfs"
      }
    },
    {
      "cell_type": "markdown",
      "source": [
        "#### child"
      ],
      "metadata": {
        "id": "LzSeR3Hdjf3_"
      }
    },
    {
      "cell_type": "code",
      "source": [
        "\n",
        "u = len(user)\n",
        "f = 2\n",
        "p = len(policy)"
      ],
      "metadata": {
        "id": "TGc_XXzJjaGN"
      },
      "execution_count": null,
      "outputs": []
    },
    {
      "cell_type": "code",
      "source": [
        "child_policy = np.array([ [ 0 for i in range(f) ] for j in range(p) ])\n",
        "child_policy.shape"
      ],
      "metadata": {
        "id": "eKEDo78ud6wY",
        "colab": {
          "base_uri": "https://localhost:8080/"
        },
        "outputId": "819a4d99-8fbf-47a9-8547-39e8150c8d95"
      },
      "execution_count": null,
      "outputs": [
        {
          "output_type": "execute_result",
          "data": {
            "text/plain": [
              "(88486, 2)"
            ]
          },
          "metadata": {},
          "execution_count": 319
        }
      ]
    },
    {
      "cell_type": "code",
      "source": [
        "for idx, value in enumerate(policy.자녀.to_numpy()):\n",
        "  if value== '없음': # 없음\n",
        "    child_policy[idx][0] = 1\n",
        "  if value== '있음': # 있음\n",
        "    child_policy[idx][1] = 1"
      ],
      "metadata": {
        "id": "Pd0D9Wx8eIxU"
      },
      "execution_count": null,
      "outputs": []
    },
    {
      "cell_type": "code",
      "source": [
        "# child_policy_df = pd.DataFrame(child_policy, columns=['없음', '있음'])\n",
        "child_policy = child_policy.T"
      ],
      "metadata": {
        "id": "8j6shtfFey5f"
      },
      "execution_count": null,
      "outputs": []
    },
    {
      "cell_type": "markdown",
      "source": [
        "#### child_detail"
      ],
      "metadata": {
        "id": "0m6GMoIhjhSc"
      }
    },
    {
      "cell_type": "code",
      "source": [
        "u = len(user)\n",
        "f = 5\n",
        "p = len(policy)"
      ],
      "metadata": {
        "id": "NG72J_QtjjRK"
      },
      "execution_count": null,
      "outputs": []
    },
    {
      "cell_type": "code",
      "source": [
        "child_detail_policy = np.array([ [ 0 for i in range(f) ] for j in range(p) ])\n",
        "child_detail_policy.shape"
      ],
      "metadata": {
        "colab": {
          "base_uri": "https://localhost:8080/"
        },
        "id": "dzPk7XytfJ9s",
        "outputId": "8e1bbfb8-c2f6-4838-b2c0-1989cd0ea681"
      },
      "execution_count": null,
      "outputs": [
        {
          "output_type": "execute_result",
          "data": {
            "text/plain": [
              "(88486, 5)"
            ]
          },
          "metadata": {},
          "execution_count": 323
        }
      ]
    },
    {
      "cell_type": "code",
      "source": [
        "for idx, value in enumerate(policy.자녀상세.to_numpy()):\n",
        "  if (value== '해당사항없음'):\n",
        "    # for i in range(5):\n",
        "    #   child_detail_policy[idx][i] = 0\n",
        "    continue\n",
        "  if '영유아' in value:\n",
        "    child_detail_policy[idx][0] = 1\n",
        "  if '유치원' in value:\n",
        "    child_detail_policy[idx][1] = 1\n",
        "  if '어린이집' in value:\n",
        "    child_detail_policy[idx][2] = 1\n",
        "  if '초중고학생' in value:\n",
        "    child_detail_policy[idx][3] = 1\n",
        "  if '성인' in value:\n",
        "    child_detail_policy[idx][4] = 1"
      ],
      "metadata": {
        "id": "ut84Lr1xfXpf"
      },
      "execution_count": null,
      "outputs": []
    },
    {
      "cell_type": "code",
      "source": [
        "# child_detail_policy_df = pd.DataFrame(child_detail_policy, columns = ['영유아', '유치원', '어린이집', '초중고학생', '성인'])\n",
        "child_detail_policy = child_detail_policy.T"
      ],
      "metadata": {
        "id": "9uMgtDP_feqn"
      },
      "execution_count": null,
      "outputs": []
    },
    {
      "cell_type": "markdown",
      "source": [
        "#### house"
      ],
      "metadata": {
        "id": "p1te1AQdjqU_"
      }
    },
    {
      "cell_type": "code",
      "source": [
        "u = len(user)\n",
        "f = 4\n",
        "p = len(policy)"
      ],
      "metadata": {
        "id": "hD1-wsokjtEz"
      },
      "execution_count": null,
      "outputs": []
    },
    {
      "cell_type": "code",
      "source": [
        "house_policy = np.array([ [ 0 for i in range(f) ] for j in range(p)])\n",
        "house_policy.shape"
      ],
      "metadata": {
        "colab": {
          "base_uri": "https://localhost:8080/"
        },
        "id": "qqi6UHPygTvy",
        "outputId": "6977ba79-6332-483e-d31d-4f4a79727b85"
      },
      "execution_count": null,
      "outputs": [
        {
          "output_type": "execute_result",
          "data": {
            "text/plain": [
              "(88486, 4)"
            ]
          },
          "metadata": {},
          "execution_count": 327
        }
      ]
    },
    {
      "cell_type": "code",
      "source": [
        "for idx, value in enumerate(policy.가구원.to_numpy()):\n",
        "  if '무관' in value:\n",
        "    for i in range(4):\n",
        "      house_policy[idx][i] = 1\n",
        "    continue\n",
        "  if '무주택 세대주' in value:\n",
        "    house_policy[idx][0] = 1\n",
        "  if '무주택 세대원' in value:\n",
        "    house_policy[idx][1] = 1\n",
        "  if '주택 세대주' in value:\n",
        "    house_policy[idx][2] = 1\n",
        "  if '주택 세대원' in value:\n",
        "    house_policy[idx][3] = 1"
      ],
      "metadata": {
        "id": "yErerSj9ghMR"
      },
      "execution_count": null,
      "outputs": []
    },
    {
      "cell_type": "code",
      "source": [
        "# house_policy_df = pd.DataFrame(house_policy, columns = ['무관', '무주택 세대주', '무주택 세대원', '주택 세대주', '주택 세대원'])\n",
        "house_policy = house_policy.T"
      ],
      "metadata": {
        "id": "hH2OcVIlh3Zt"
      },
      "execution_count": null,
      "outputs": []
    },
    {
      "cell_type": "markdown",
      "source": [
        "#### gender"
      ],
      "metadata": {
        "id": "aEGGE5gDjxtu"
      }
    },
    {
      "cell_type": "code",
      "source": [
        "u = len(user)\n",
        "f = 2\n",
        "p = len(policy)"
      ],
      "metadata": {
        "id": "xrgBc6j8j0rF"
      },
      "execution_count": null,
      "outputs": []
    },
    {
      "cell_type": "code",
      "source": [
        "gender_policy = np.array([ [ 0 for i in range(f) ] for j in range(p) ])\n",
        "gender_policy.shape"
      ],
      "metadata": {
        "colab": {
          "base_uri": "https://localhost:8080/"
        },
        "id": "tCq1jmRuiH6F",
        "outputId": "26550307-2e87-4b91-bfe3-07d6483d689e"
      },
      "execution_count": null,
      "outputs": [
        {
          "output_type": "execute_result",
          "data": {
            "text/plain": [
              "(88486, 2)"
            ]
          },
          "metadata": {},
          "execution_count": 331
        }
      ]
    },
    {
      "cell_type": "code",
      "source": [
        "for idx, value in enumerate(policy.성별.to_numpy()):\n",
        "  if '무관' in value:\n",
        "    gender_policy[idx][0] = 1\n",
        "    gender_policy[idx][1] = 1\n",
        "    continue\n",
        "  if '남성' in value:\n",
        "    gender_policy[idx][0] = 1\n",
        "  if '여성' in value:\n",
        "    gender_policy[idx][1] = 1"
      ],
      "metadata": {
        "id": "3BKj6Xy0iKSX"
      },
      "execution_count": null,
      "outputs": []
    },
    {
      "cell_type": "code",
      "source": [
        "# gender_policy_df = pd.DataFrame(gender_policy, columns = ['남성', '여성'])\n",
        "gender_policy = gender_policy.T"
      ],
      "metadata": {
        "id": "n3dAwIzfifaj"
      },
      "execution_count": null,
      "outputs": []
    },
    {
      "cell_type": "markdown",
      "source": [
        "#### edu\n",
        "고등학교졸업, 대학(원)재학, 대학(원)휴학, 대학(원)졸업 * policy"
      ],
      "metadata": {
        "id": "0SQv-3ZBkCUC"
      }
    },
    {
      "cell_type": "code",
      "source": [
        "u = len(user)\n",
        "f = 4\n",
        "p = len(policy)"
      ],
      "metadata": {
        "id": "FNsq_uc7kD7Z"
      },
      "execution_count": null,
      "outputs": []
    },
    {
      "cell_type": "code",
      "source": [
        "edu_policy = np.array([ [ 0 for i in range(f) ] for j in range(p) ])\n",
        "edu_policy.shape"
      ],
      "metadata": {
        "colab": {
          "base_uri": "https://localhost:8080/"
        },
        "outputId": "60cf79ba-6cc6-4d60-aaf1-ea0aabbf172f",
        "id": "O7UPXJADi5oX"
      },
      "execution_count": null,
      "outputs": [
        {
          "output_type": "execute_result",
          "data": {
            "text/plain": [
              "(88486, 4)"
            ]
          },
          "metadata": {},
          "execution_count": 335
        }
      ]
    },
    {
      "cell_type": "code",
      "source": [
        "for idx, value in enumerate(policy.학력.to_numpy()):\n",
        "  if '무관' in value:\n",
        "    for i in range(f):\n",
        "      edu_policy[idx][i] = 1\n",
        "    continue\n",
        "  if '고등학교졸업' in value:\n",
        "    edu_policy[idx][0] = 1\n",
        "  if '대학(원)재학' in value:\n",
        "    edu_policy[idx][1] = 1\n",
        "  if '대학(원)휴학' in value:\n",
        "    edu_policy[idx][2] = 1\n",
        "  if '대학(원)졸업' in value:\n",
        "    edu_policy[idx][3] = 1"
      ],
      "metadata": {
        "id": "6avEKkRji5oX"
      },
      "execution_count": null,
      "outputs": []
    },
    {
      "cell_type": "code",
      "source": [
        "# edu_policy_df = pd.DataFrame(edu_policy, columns = ['무관', '고등학교졸업', '대학(원)재학', '대학(원)휴학', '대학(원)졸업', '고등학교 졸업 미만'])\n",
        "edu_policy = edu_policy.T"
      ],
      "metadata": {
        "id": "ufdXesFLi5oY"
      },
      "execution_count": null,
      "outputs": []
    },
    {
      "cell_type": "markdown",
      "source": [
        "#### work\n",
        "대학/대학원생, 구직자/실업자, 근로자/직장인, 예비창업자, 소상공인, 중소기업, 프리랜서 * policy"
      ],
      "metadata": {
        "id": "8H21J55rkNfq"
      }
    },
    {
      "cell_type": "code",
      "source": [
        "u = len(user)\n",
        "f = 7\n",
        "p = len(policy)"
      ],
      "metadata": {
        "id": "R7Dvs9DVkXLL"
      },
      "execution_count": null,
      "outputs": []
    },
    {
      "cell_type": "code",
      "source": [
        "work_policy = np.array([ [ 0 for i in range(f) ] for j in range(p) ])\n",
        "work_policy.shape"
      ],
      "metadata": {
        "colab": {
          "base_uri": "https://localhost:8080/"
        },
        "outputId": "a2fceec9-220f-4fc8-9942-0724522c3367",
        "id": "QlJ0JJK2kFqv"
      },
      "execution_count": null,
      "outputs": [
        {
          "output_type": "execute_result",
          "data": {
            "text/plain": [
              "(88486, 7)"
            ]
          },
          "metadata": {},
          "execution_count": 339
        }
      ]
    },
    {
      "cell_type": "code",
      "source": [
        "for idx, value in enumerate(policy.직장.to_numpy()):\n",
        "  if '무관' in value:\n",
        "    for i in range(f):\n",
        "      work_policy[idx][i] = 1\n",
        "    continue\n",
        "  if '대학/대학원생' in value:\n",
        "    work_policy[idx][0] = 1\n",
        "  if '구직자/실업자' in value:\n",
        "    work_policy[idx][1] = 1\n",
        "  if '근로자/직장인' in value:\n",
        "    work_policy[idx][2] = 1\n",
        "  if '예비창업자' in value:\n",
        "    work_policy[idx][3] = 1\n",
        "  if '소상공인' in value:\n",
        "    work_policy[idx][4] = 1\n",
        "  if '중소기업' in value:\n",
        "    work_policy[idx][5] = 1\n",
        "  if '프리랜서' in value:\n",
        "    work_policy[idx][6] = 1"
      ],
      "metadata": {
        "id": "J7dVZA4ZkFqv"
      },
      "execution_count": null,
      "outputs": []
    },
    {
      "cell_type": "code",
      "source": [
        "# work_policy_df = pd.DataFrame(work_policy, columns = ['무관', '대학/대학원생', '구직자/실업자', '근로자/직장인', '예비창업자', '소상공인', '중소기업', '프리랜서'])\n",
        "work_policy = work_policy.T"
      ],
      "metadata": {
        "id": "QjNJIl2bkFqw"
      },
      "execution_count": null,
      "outputs": []
    },
    {
      "cell_type": "markdown",
      "source": [
        "#### 결혼\n",
        "미혼, 기혼 * policy"
      ],
      "metadata": {
        "id": "NhbAn2vMkcfL"
      }
    },
    {
      "cell_type": "code",
      "source": [
        "u = len(user)\n",
        "f = 2\n",
        "p = len(policy)"
      ],
      "metadata": {
        "id": "SrQFLdWNkf0N"
      },
      "execution_count": null,
      "outputs": []
    },
    {
      "cell_type": "code",
      "source": [
        "marry_policy = np.array([ [ 0 for i in range(f) ] for j in range(p) ])\n",
        "marry_policy.shape"
      ],
      "metadata": {
        "colab": {
          "base_uri": "https://localhost:8080/"
        },
        "outputId": "c13e7f29-6ab0-42d8-f0cb-249ead82e05d",
        "id": "4cZBlH-ylcwy"
      },
      "execution_count": null,
      "outputs": [
        {
          "output_type": "execute_result",
          "data": {
            "text/plain": [
              "(88486, 2)"
            ]
          },
          "metadata": {},
          "execution_count": 343
        }
      ]
    },
    {
      "cell_type": "code",
      "source": [
        "for idx, value in enumerate(policy.결혼.to_numpy()):\n",
        "  if ('무관' in value) or ('이혼' in value):\n",
        "    marry_policy[idx][0] = 1\n",
        "    marry_policy[idx][1] = 1\n",
        "    continue\n",
        "  if ('미혼' in value):\n",
        "    marry_policy[idx][0] = 1\n",
        "  if ('기혼' in value) or ('재혼' in value):\n",
        "    marry_policy[idx][1] = 1"
      ],
      "metadata": {
        "id": "wN_ZOXN9lcwy"
      },
      "execution_count": null,
      "outputs": []
    },
    {
      "cell_type": "code",
      "source": [
        "# marry_policy_df = pd.DataFrame(marry_policy, columns = ['미혼', '기혼'])\n",
        "marry_policy = marry_policy.T"
      ],
      "metadata": {
        "id": "CljTa-cYlcwy"
      },
      "execution_count": null,
      "outputs": []
    },
    {
      "cell_type": "markdown",
      "source": [
        "#### city1\n",
        "서울특별시, 부산광역시, 대구광역시, 인천광역시, 광주광역시, 대전광역시, 울산광역시, 세종특별자치시, 경기도, 강원도, 충청북도, 충청남도, 전라북도, 전라남도, 경상북도, 경상남도, 제주특별자치도 * policy"
      ],
      "metadata": {
        "id": "ySvsWJx0kj0y"
      }
    },
    {
      "cell_type": "code",
      "source": [
        "u = len(user)\n",
        "f = 17\n",
        "p = len(policy)"
      ],
      "metadata": {
        "id": "ickEVlRgknbo"
      },
      "execution_count": null,
      "outputs": []
    },
    {
      "cell_type": "code",
      "source": [
        "city_policy = np.array([ [ 0 for i in range(f) ] for j in range(p) ])\n",
        "city_policy.shape"
      ],
      "metadata": {
        "colab": {
          "base_uri": "https://localhost:8080/"
        },
        "id": "mnahzifguzDb",
        "outputId": "0bf7d80a-68ae-4f84-908e-1da1cc949a1b"
      },
      "execution_count": null,
      "outputs": [
        {
          "output_type": "execute_result",
          "data": {
            "text/plain": [
              "(88486, 17)"
            ]
          },
          "metadata": {},
          "execution_count": 347
        }
      ]
    },
    {
      "cell_type": "code",
      "source": [
        "for idx, value in enumerate(policy['시도']):\n",
        "  if '전국' in value: #전국\n",
        "    for i in range(f):\n",
        "      city_policy[idx][i] = 1\n",
        "    continue\n",
        "  \n",
        "  city = ['서울특별시', '부산광역시', '대구광역시', '인천광역시', '광주광역시', '대전광역시', '울산광역시', '세종특별자치시', '경기도', '강원도', '충청북도', '충청남도', '전라북도', '전라남도', '경상북도', '경상남도', '제주특별자치도' ]\n",
        "  for j, city_name in enumerate(city):\n",
        "    if city_name in value:\n",
        "      city_policy[idx][i] = 1"
      ],
      "metadata": {
        "id": "rs0jUN0zpVnA"
      },
      "execution_count": null,
      "outputs": []
    },
    {
      "cell_type": "code",
      "source": [
        "# city_policy_df = pd.DataFrame(city_policy, columns = ['전국', '서울특별시', '부산광역시', '대구광역시', '인천광역시', '광주광역시', '대전광역시', '울산광역시', '세종특별자치시', '경기도', '강원도', '충청북도', '충청남도', '전라북도', '전라남도', '경상북도', '경상남도', '제주특별자치도'])\n",
        "city_policy = city_policy.T"
      ],
      "metadata": {
        "id": "0ox1P41CpVnA"
      },
      "execution_count": null,
      "outputs": []
    },
    {
      "cell_type": "markdown",
      "source": [
        "#### city2\n",
        "종로구, 중구, 용산구, 성동구, 광진구, 동대문구, 중랑구, 성북구, 강북구, 도봉구, 노원구, 은평구, 서대문구, 마포구, 양천구, 강서구, 구로구, 금천구, 영등포구, 동작구, 관악구, 서초구, 강남구, 송파구, 강동구, 중구, 서구, 동구, 영도구, 부산진구, 동래구, 남구, 북구, 해운대구, 사하구, 금정구, 강서구, 연제구, 수영구, 사상구, 기장군, 중구, 동구, 서구, 남구, 북구, 수성구, 달서구, 달성군, 중구, 동구, 미추홀구, 연수구, 남동구, 부평구, 계양구, 서구, 강화군, 옹진군, 동구, 서구, 남구, 북구, 광산구, 동구, 중구, 서구, 유성구, 대덕구, 중구, 남구, 동구, 북구, 울주군, 세종시, 수원시, 성남시, 고양시, 용인시, 부천시, 안산시, 안양시, 남양주시, 화성시, 평택시, 의정부시, 시흥시, 파주시, 광명시, 김포시, 군포시, 광주시, 이천시, 양주시, 오산시, 구리시, 안성시, 포천시, 의왕시, 하남시, 여주시, 양평군, 동두천시, 과천시, 가평군, 연천군, 춘천시, 원주시, 강릉시, 동해시, 태백시, 속초시, 삼척시, 홍천군, 횡성군, 영월군, 평창군, 정선군, 철원군, 화천군, 양구군, 인제군, 고성군, 양양군, 청주시, 충주시, 제천시, 보은군, 옥천군, 영동군, 진천군, 괴산군, 음성군, 단양군, 증평군, 천안시, 공주시, 보령시, 아산시, 서산시, 논산시, 계룡시, 당진시, 금산군, 부여군, 서천군, 청양군, 홍성군, 예산군, 태안군, 전주시, 군산시, 익산시, 정읍시, 남원시, 김제시, 완주군, 진안군, 무주군, 장수군, 임실군, 순창군, 고창군, 부안군, 목포시, 여수시, 순천시, 나주시, 광양시, 담양군, 곡성군, 구례군, 고흥군, 보성군, 화순군, 장흥군, 강진군, 해남군, 영암군, 무안군, 함평군, 영광군, 장성군, 완도군, 진도군, 신안군, 포항시, 경주시, 김천시, 안동시, 구미시, 영주시, 영천시, 상주시, 문경시, 경산시, 군위군, 의성군, 청송군, 영양군, 영덕군, 청도군, 고령군, 성주군, 칠곡군, 예천군, 봉화군, 울진군, 울릉군, 창원시, 진주시, 통영시, 사천시, 김해시, 밀양시, 거제시, 양산시, 의령군, 함안군, 창녕군, 고성군, 남해군, 하동군, 산청군, 함양군, 거창군, 합천군, 제주시, 서귀포시 * policy"
      ],
      "metadata": {
        "id": "j_Q6-vs9ktDQ"
      }
    },
    {
      "cell_type": "code",
      "source": [
        "city2 = ['종로구', '중구', '용산구', '성동구', '광진구', '동대문구', '중랑구', '성북구', '강북구', '도봉구', '노원구', '은평구', '서대문구', '마포구', '양천구', '강서구', '구로구', '금천구', '영등포구', '동작구', '관악구', '서초구', '강남구', '송파구', '강동구', '중구', '서구', '동구', '영도구', '부산진구', '동래구', '남구', '북구', '해운대구', '사하구', '금정구', '강서구', '연제구', '수영구', '사상구', '기장군', '중구', '동구', '서구', '남구', '북구', '수성구', '달서구', '달성군', '중구', '동구', '미추홀구', '연수구', '남동구', '부평구', '계양구', '서구', '강화군', '옹진군', '동구', '서구', '남구', '북구', '광산구', '동구', '중구', '서구', '유성구', '대덕구', '중구', '남구', '동구', '북구', '울주군', '세종시', '수원시', '성남시', '고양시', '용인시', '부천시', '안산시', '안양시', '남양주시', '화성시', '평택시', '의정부시', '시흥시', '파주시', '광명시', '김포시', '군포시', '광주시', '이천시', '양주시', '오산시', '구리시', '안성시', '포천시', '의왕시', '하남시', '여주시', '양평군', '동두천시', '과천시', '가평군', '연천군', '춘천시', '원주시', '강릉시', '동해시', '태백시', '속초시', '삼척시', '홍천군', '횡성군', '영월군', '평창군', '정선군', '철원군', '화천군', '양구군', '인제군', '고성군', '양양군', '청주시', '충주시', '제천시', '보은군', '옥천군', '영동군', '진천군', '괴산군', '음성군', '단양군', '증평군', '천안시', '공주시', '보령시', '아산시', '서산시', '논산시', '계룡시', '당진시', '금산군', '부여군', '서천군', '청양군', '홍성군', '예산군', '태안군', '전주시', '군산시', '익산시', '정읍시', '남원시', '김제시', '완주군', '진안군', '무주군', '장수군', '임실군', '순창군', '고창군', '부안군', '목포시', '여수시', '순천시', '나주시', '광양시', '담양군', '곡성군', '구례군', '고흥군', '보성군', '화순군', '장흥군', '강진군', '해남군', '영암군', '무안군', '함평군', '영광군', '장성군', '완도군', '진도군', '신안군', '포항시', '경주시', '김천시', '안동시', '구미시', '영주시', '영천시', '상주시', '문경시', '경산시', '군위군', '의성군', '청송군', '영양군', '영덕군', '청도군', '고령군', '성주군', '칠곡군', '예천군', '봉화군', '울진군', '울릉군', '창원시', '진주시', '통영시', '사천시', '김해시', '밀양시', '거제시', '양산시', '의령군', '함안군', '창녕군', '고성군', '남해군', '하동군', '산청군', '함양군', '거창군', '합천군', '제주시', '서귀포시']\n",
        "u = len(user)\n",
        "f = len(city2)\n",
        "p = len(policy)"
      ],
      "metadata": {
        "id": "mpvli9FBkwin"
      },
      "execution_count": null,
      "outputs": []
    },
    {
      "cell_type": "code",
      "source": [
        "city2_policy = np.array([ [ 0 for i in range(f) ] for j in range(p) ])\n",
        "city2_policy.shape"
      ],
      "metadata": {
        "colab": {
          "base_uri": "https://localhost:8080/"
        },
        "outputId": "0db9baef-427f-436a-a997-ac0602fd4f41",
        "id": "sJZyFHvZvBf8"
      },
      "execution_count": null,
      "outputs": [
        {
          "output_type": "execute_result",
          "data": {
            "text/plain": [
              "(88486, 229)"
            ]
          },
          "metadata": {},
          "execution_count": 351
        }
      ]
    },
    {
      "cell_type": "code",
      "source": [
        "for idx, value in enumerate(policy['시군구']):\n",
        "  if ('' == value) or (value == None):\n",
        "    # for i in range(f):\n",
        "    #   city2_policy[idx][i] = 1\n",
        "    continue\n",
        "  \n",
        "  for j, city_name in enumerate(city2):\n",
        "    if city_name in value:\n",
        "      city2_policy[idx][i] = 1"
      ],
      "metadata": {
        "id": "p9axznyHvBf8"
      },
      "execution_count": null,
      "outputs": []
    },
    {
      "cell_type": "code",
      "source": [
        "# city2_policy_df = pd.DataFrame(city2_policy)\n",
        "city2_policy = city2_policy.T"
      ],
      "metadata": {
        "id": "TwIf8A6KvBf8"
      },
      "execution_count": null,
      "outputs": []
    },
    {
      "cell_type": "markdown",
      "source": [
        "#### money\n",
        "기초생활수급자, 중위소득 40% 이하, 중위소득 40 ~ 60% 사이, 중위소득 60 ~ 80% 사이, 중위소득 80 ~ 100% 사이, 중위소득 100% 이상 * policy"
      ],
      "metadata": {
        "id": "Q3DmPhlok9Jw"
      }
    },
    {
      "cell_type": "code",
      "source": [
        "mb_12 = ['기초생활수급자', '중위소득 40% 이하', '중위소득 40~60% 사이', '중위소득 60~80% 사이', '중위소득 80~100% 사이',  '중위소득 100% 이상']\n",
        "u = len(user)\n",
        "f = len(mb_12)\n",
        "p = len(policy)"
      ],
      "metadata": {
        "id": "glKYz0amlA3U"
      },
      "execution_count": null,
      "outputs": []
    },
    {
      "cell_type": "code",
      "source": [
        "money_policy = np.array([ [ 0 for i in range(f) ] for j in range(p) ])\n",
        "money_policy.shape"
      ],
      "metadata": {
        "colab": {
          "base_uri": "https://localhost:8080/"
        },
        "outputId": "5f9abbf4-99bf-43bf-a5c6-9aa38a356344",
        "id": "YpY20XU7e5P9"
      },
      "execution_count": null,
      "outputs": [
        {
          "output_type": "execute_result",
          "data": {
            "text/plain": [
              "(88486, 6)"
            ]
          },
          "metadata": {},
          "execution_count": 366
        }
      ]
    },
    {
      "cell_type": "code",
      "source": [
        "for idx, value in enumerate(policy.중위소득.to_numpy()):\n",
        "  if ('' == value) or (value == None):\n",
        "    for i in range(f):\n",
        "      money_policy[idx][i] = 1\n",
        "    continue\n",
        "  if '기초생활수급자' in value:\n",
        "    money_policy[idx][0] = 1\n",
        "  if '30' in value:\n",
        "    money_policy[idx][1] = 1\n",
        "  if '50' in value:\n",
        "    money_policy[idx][2] = 1\n",
        "  if '70' in value:\n",
        "    money_policy[idx][3] = 1\n",
        "  if '90' in value:\n",
        "    money_policy[idx][4] = 1\n",
        "  if '110' in value:\n",
        "    money_policy[idx][5] = 1"
      ],
      "metadata": {
        "id": "a7xxU3RVe5P9"
      },
      "execution_count": null,
      "outputs": []
    },
    {
      "cell_type": "code",
      "source": [
        "# money_policy_df = pd.DataFrame(money_policy, columns = ['무관', '대학/대학원생', '구직자/실업자', '근로자/직장인', '예비창업자', '소상공인', '중소기업', '프리랜서'])\n",
        "money_policy = money_policy.T"
      ],
      "metadata": {
        "id": "3nv2mpyDe5P-"
      },
      "execution_count": null,
      "outputs": []
    },
    {
      "cell_type": "markdown",
      "source": [
        "#### mb_15\n",
        "근로자 지원, 취업 지원, 개인금융지원, 문화생활 지원, 주택-부동산 지원, 교육지원(만8 ~ 19세), 성인교육지원, 의료 지원, 창업 지원, 기업금융지원, 보육지원(만0~7세) * policy"
      ],
      "metadata": {
        "id": "jdbbzyOblImk"
      }
    },
    {
      "cell_type": "code",
      "source": [
        "mb_15 = ['근로자 지원', '취업 지원', '개인금융지원', '문화생활 지원', '주택-부동산 지원', '교육지원(만8~19세)', '성인교육지원',\n",
        "         '의료 지원', '창업 지원', '기업금융지원', '보육지원(만0~7세)']\n",
        "\n",
        "u = len(user)\n",
        "f = len(mb_15)\n",
        "p = len(policy)"
      ],
      "metadata": {
        "id": "OxH9O7YMlN0e"
      },
      "execution_count": null,
      "outputs": []
    },
    {
      "cell_type": "code",
      "source": [
        "def mb_15_edit(text):\n",
        "  if '취업지원' in text:\n",
        "    text = text.replace('취업지원', '취업 지원')\n",
        "  return text\n",
        "\n",
        "policy.MB_15 = policy.MB_15.apply(mb_15_edit)\n"
      ],
      "metadata": {
        "id": "MXUV5uvIDGvo"
      },
      "execution_count": null,
      "outputs": []
    },
    {
      "cell_type": "code",
      "source": [
        "print(len(get_category(policy,'MB_15')))\n",
        "get_category(policy,'MB_15')"
      ],
      "metadata": {
        "colab": {
          "base_uri": "https://localhost:8080/"
        },
        "outputId": "f5a79327-dbfe-4fc1-d103-4ba9d51b090e",
        "id": "XMrpE7sY9e3V"
      },
      "execution_count": null,
      "outputs": [
        {
          "output_type": "stream",
          "name": "stdout",
          "text": [
            "12\n"
          ]
        },
        {
          "output_type": "execute_result",
          "data": {
            "text/plain": [
              "[('개인금융지원', 57540),\n",
              " ('기업금융지원', 30910),\n",
              " ('의료 지원', 21132),\n",
              " ('', 12759),\n",
              " ('문화생활 지원', 9410),\n",
              " ('창업 지원', 8200),\n",
              " ('취업 지원', 5610),\n",
              " ('보육지원(0~7세)', 4674),\n",
              " ('교육지원(8~19세)', 3298),\n",
              " ('성인교육지원', 3288),\n",
              " ('주택-부동산 지원', 3027),\n",
              " '중복 있음']"
            ]
          },
          "metadata": {},
          "execution_count": 371
        }
      ]
    },
    {
      "cell_type": "code",
      "source": [
        "mb_15_policy = np.array([ [ 0 for i in range(f) ] for j in range(p) ])\n",
        "mb_15_policy.shape"
      ],
      "metadata": {
        "colab": {
          "base_uri": "https://localhost:8080/"
        },
        "outputId": "1aeba07d-81ce-4f1b-8c04-46a435774f46",
        "id": "NM6pSo8h9e3V"
      },
      "execution_count": null,
      "outputs": [
        {
          "output_type": "execute_result",
          "data": {
            "text/plain": [
              "(88486, 11)"
            ]
          },
          "metadata": {},
          "execution_count": 372
        }
      ]
    },
    {
      "cell_type": "code",
      "source": [
        "for idx, value in enumerate(policy.MB_15.to_numpy()):\n",
        "  if '' == value:\n",
        "    for i in range(f):\n",
        "      mb_15_policy[idx][i] = 1\n",
        "    continue\n",
        "  for i, text in enumerate(mb_15):\n",
        "    if text in value:\n",
        "      word_idx = mb_15.index(text)\n",
        "      mb_15_policy[idx][word_idx] = 1"
      ],
      "metadata": {
        "id": "DNjbji1d9e3W"
      },
      "execution_count": null,
      "outputs": []
    },
    {
      "cell_type": "code",
      "source": [
        "# mb_15_policy_df = pd.DataFrame(mb_15_policy, columns = ['무관', '대학/대학원생', '구직자/실업자', '근로자/직장인', '예비창업자', '소상공인', '중소기업', '프리랜서'])\n",
        "mb_15_policy = mb_15_policy.T"
      ],
      "metadata": {
        "id": "pvPcDUSf9e3W"
      },
      "execution_count": null,
      "outputs": []
    },
    {
      "cell_type": "markdown",
      "source": [
        "### feature * policy matrix 11개 for 특수"
      ],
      "metadata": {
        "id": "bWdNyb0pH9Cf"
      }
    },
    {
      "cell_type": "markdown",
      "source": [
        "#### 카테고리별 갯수 뽑아오는 함수"
      ],
      "metadata": {
        "id": "yXDGJaRFH9Cf"
      }
    },
    {
      "cell_type": "code",
      "source": [
        "def get_category(df, columns):\n",
        "  data = df[columns]\n",
        "  category = {}\n",
        "  multi = False\n",
        "  for word in data:\n",
        "    lst = []\n",
        "    if word == None:\n",
        "      lst.append(None)\n",
        "    elif ',' in word:\n",
        "      lst = [x.strip() for x in word.split(',')]\n",
        "    else:\n",
        "      lst.append(word)\n",
        "    for i in lst:\n",
        "      if i in category:\n",
        "        category[i] += 1\n",
        "      else:\n",
        "        category[i] = 1\n",
        "    if ',' in word:\n",
        "      multi = True\n",
        "\n",
        "  category = list(sorted(category.items(), key=lambda item: item[1], reverse=True))\n",
        "  if multi == True:\n",
        "    category.append('중복 있음')\n",
        "  else:\n",
        "    category.append('중복 없음')\n",
        "  return category"
      ],
      "metadata": {
        "id": "EycakeBiH9Cf"
      },
      "execution_count": null,
      "outputs": []
    },
    {
      "cell_type": "code",
      "source": [
        ""
      ],
      "metadata": {
        "id": "UgPzQGt-H9Cf"
      },
      "execution_count": null,
      "outputs": []
    },
    {
      "cell_type": "markdown",
      "source": [
        "#### child"
      ],
      "metadata": {
        "id": "VamlGoY2H9Cg"
      }
    },
    {
      "cell_type": "code",
      "source": [
        "u = len(user)\n",
        "f = 2\n",
        "p = len(policy)"
      ],
      "metadata": {
        "id": "o2g1GFzGH9Cg"
      },
      "execution_count": null,
      "outputs": []
    },
    {
      "cell_type": "code",
      "source": [
        "child_policy2 = np.array([ [ 0 for i in range(f) ] for j in range(p) ])\n",
        "child_policy2.shape"
      ],
      "metadata": {
        "colab": {
          "base_uri": "https://localhost:8080/"
        },
        "outputId": "44ad9f05-0703-4a2f-cfaf-9eefdb8dea87",
        "id": "llAK4gQfH9Cg"
      },
      "execution_count": null,
      "outputs": [
        {
          "output_type": "execute_result",
          "data": {
            "text/plain": [
              "(88486, 2)"
            ]
          },
          "metadata": {},
          "execution_count": 377
        }
      ]
    },
    {
      "cell_type": "code",
      "source": [
        "for idx, value in enumerate(policy.자녀.to_numpy()):\n",
        "  if value== '없음': # 없음\n",
        "    child_policy2[idx][0] = 1\n",
        "  if value== '있음': # 있음\n",
        "    child_policy2[idx][1] = 1"
      ],
      "metadata": {
        "id": "lHMxOMr7H9Cg"
      },
      "execution_count": null,
      "outputs": []
    },
    {
      "cell_type": "code",
      "source": [
        "# child_policy2_df = pd.DataFrame(child_policy2, columns=['없음', '있음'])\n",
        "child_policy2 = child_policy2.T"
      ],
      "metadata": {
        "id": "C8tTDv6TH9Cg"
      },
      "execution_count": null,
      "outputs": []
    },
    {
      "cell_type": "markdown",
      "source": [
        "#### child_detail"
      ],
      "metadata": {
        "id": "WeQhJ7Z3H9Cg"
      }
    },
    {
      "cell_type": "code",
      "source": [
        "u = len(user)\n",
        "f = 5\n",
        "p = len(policy)"
      ],
      "metadata": {
        "id": "LvUaD0lIH9Cg"
      },
      "execution_count": null,
      "outputs": []
    },
    {
      "cell_type": "code",
      "source": [
        "child_detail_policy2 = np.array([ [ 0 for i in range(f) ] for j in range(p) ])\n",
        "child_detail_policy2.shape"
      ],
      "metadata": {
        "colab": {
          "base_uri": "https://localhost:8080/"
        },
        "outputId": "4e1b94c2-c5a7-4b78-ff7f-54a90f57e403",
        "id": "WjZuJwCSH9Cg"
      },
      "execution_count": null,
      "outputs": [
        {
          "output_type": "execute_result",
          "data": {
            "text/plain": [
              "(88486, 5)"
            ]
          },
          "metadata": {},
          "execution_count": 381
        }
      ]
    },
    {
      "cell_type": "code",
      "source": [
        "get_category(policy, '자녀상세')"
      ],
      "metadata": {
        "colab": {
          "base_uri": "https://localhost:8080/"
        },
        "id": "YXON6WEgIs0C",
        "outputId": "5284acc2-bfa4-4e05-85ce-0ff8862d11f9"
      },
      "execution_count": null,
      "outputs": [
        {
          "output_type": "execute_result",
          "data": {
            "text/plain": [
              "[('없음', 78623),\n",
              " ('영유아', 8189),\n",
              " ('초중고 학생', 6306),\n",
              " ('어린이집', 2718),\n",
              " ('유치원', 2659),\n",
              " ('성인', 2518),\n",
              " '중복 있음']"
            ]
          },
          "metadata": {},
          "execution_count": 382
        }
      ]
    },
    {
      "cell_type": "code",
      "source": [
        "for idx, value in enumerate(policy.자녀상세.to_numpy()):\n",
        "  if (value== '해당사항없음'):\n",
        "    # for i in range(5):\n",
        "    #   child_detail_policy2[idx][i] = 0\n",
        "    continue\n",
        "  if '영유아' in value:\n",
        "    child_detail_policy2[idx][0] = 1\n",
        "  if '유치원' in value:\n",
        "    child_detail_policy2[idx][1] = 1\n",
        "  if '어린이집' in value:\n",
        "    child_detail_policy2[idx][2] = 1\n",
        "  if '초중고학생' in value:\n",
        "    child_detail_policy2[idx][3] = 1\n",
        "  if '성인' in value:\n",
        "    child_detail_policy2[idx][4] = 1"
      ],
      "metadata": {
        "id": "hXRSlr05H9Cg"
      },
      "execution_count": null,
      "outputs": []
    },
    {
      "cell_type": "code",
      "source": [
        "# child_detail_policy2_df = pd.DataFrame(child_detail_policy2, columns = ['영유아', '유치원', '어린이집', '초중고학생', '성인'])\n",
        "child_detail_policy2 = child_detail_policy2.T"
      ],
      "metadata": {
        "id": "i8vRX87wH9Ch"
      },
      "execution_count": null,
      "outputs": []
    },
    {
      "cell_type": "markdown",
      "source": [
        "#### house"
      ],
      "metadata": {
        "id": "vFTcMBCuH9Ch"
      }
    },
    {
      "cell_type": "code",
      "source": [
        "u = len(user)\n",
        "f = 4\n",
        "p = len(policy)"
      ],
      "metadata": {
        "id": "IOB3bnqAH9Ch"
      },
      "execution_count": null,
      "outputs": []
    },
    {
      "cell_type": "code",
      "source": [
        "house_policy2 = np.array([ [ 0 for i in range(f) ] for j in range(p)])\n",
        "house_policy2.shape"
      ],
      "metadata": {
        "colab": {
          "base_uri": "https://localhost:8080/"
        },
        "outputId": "a22ea5d4-0fcc-4a30-d9b8-2c694d129577",
        "id": "RFn-qqXMH9Ch"
      },
      "execution_count": null,
      "outputs": [
        {
          "output_type": "execute_result",
          "data": {
            "text/plain": [
              "(88486, 4)"
            ]
          },
          "metadata": {},
          "execution_count": 386
        }
      ]
    },
    {
      "cell_type": "code",
      "source": [
        "for idx, value in enumerate(policy.가구원.to_numpy()):\n",
        "  if '무관' in value:\n",
        "    for i in range(4):\n",
        "      house_policy2[idx][i] = 1\n",
        "    continue\n",
        "  if '무주택 세대주' in value:\n",
        "    house_policy2[idx][0] = 1\n",
        "  if '무주택 세대원' in value:\n",
        "    house_policy2[idx][1] = 1\n",
        "  if '주택 세대주' in value:\n",
        "    house_policy2[idx][2] = 1\n",
        "  if '주택 세대원' in value:\n",
        "    house_policy2[idx][3] = 1"
      ],
      "metadata": {
        "id": "qViEfX6wH9Ch"
      },
      "execution_count": null,
      "outputs": []
    },
    {
      "cell_type": "code",
      "source": [
        "# house_policy2_df = pd.DataFrame(house_policy2, columns = ['무관', '무주택 세대주', '무주택 세대원', '주택 세대주', '주택 세대원'])\n",
        "house_policy2 = house_policy2.T"
      ],
      "metadata": {
        "id": "hRpUjahhH9Ch"
      },
      "execution_count": null,
      "outputs": []
    },
    {
      "cell_type": "markdown",
      "source": [
        "#### gender"
      ],
      "metadata": {
        "id": "OGPj6E7bH9Ch"
      }
    },
    {
      "cell_type": "code",
      "source": [
        "u = len(user)\n",
        "f = 2\n",
        "p = len(policy)"
      ],
      "metadata": {
        "id": "a1nZO89NH9Ch"
      },
      "execution_count": null,
      "outputs": []
    },
    {
      "cell_type": "code",
      "source": [
        "gender_policy2 = np.array([ [ 0 for i in range(f) ] for j in range(p) ])\n",
        "gender_policy2.shape"
      ],
      "metadata": {
        "colab": {
          "base_uri": "https://localhost:8080/"
        },
        "outputId": "8a81e35d-bb2d-4aa5-f26a-4168a4197bb7",
        "id": "Y7M7mvRrH9Ch"
      },
      "execution_count": null,
      "outputs": [
        {
          "output_type": "execute_result",
          "data": {
            "text/plain": [
              "(88486, 2)"
            ]
          },
          "metadata": {},
          "execution_count": 390
        }
      ]
    },
    {
      "cell_type": "code",
      "source": [
        "for idx, value in enumerate(policy.성별.to_numpy()):\n",
        "  if '무관' in value:\n",
        "    gender_policy2[idx][0] = 1\n",
        "    gender_policy2[idx][1] = 1\n",
        "    continue\n",
        "  if '남성' in value:\n",
        "    gender_policy2[idx][0] = 1\n",
        "  if '여성' in value:\n",
        "    gender_policy2[idx][1] = 1"
      ],
      "metadata": {
        "id": "N-UTlO2KH9Ch"
      },
      "execution_count": null,
      "outputs": []
    },
    {
      "cell_type": "code",
      "source": [
        "# gender_policy2_df = pd.DataFrame(gender_policy2, columns = ['남성', '여성'])\n",
        "gender_policy2 = gender_policy2.T"
      ],
      "metadata": {
        "id": "WY4UHDceH9Ci"
      },
      "execution_count": null,
      "outputs": []
    },
    {
      "cell_type": "markdown",
      "source": [
        "#### edu\n",
        "고등학교졸업, 대학(원)재학, 대학(원)휴학, 대학(원)졸업 * policy"
      ],
      "metadata": {
        "id": "OeqrzyKzH9Ci"
      }
    },
    {
      "cell_type": "code",
      "source": [
        "u = len(user)\n",
        "f = 4\n",
        "p = len(policy)"
      ],
      "metadata": {
        "id": "IGuxADfCH9Ci"
      },
      "execution_count": null,
      "outputs": []
    },
    {
      "cell_type": "code",
      "source": [
        "edu_policy2 = np.array([ [ 0 for i in range(f) ] for j in range(p) ])\n",
        "edu_policy2.shape"
      ],
      "metadata": {
        "colab": {
          "base_uri": "https://localhost:8080/"
        },
        "outputId": "1877583c-159d-44a6-d948-48059e42a1e0",
        "id": "wLiALNPfH9Ci"
      },
      "execution_count": null,
      "outputs": [
        {
          "output_type": "execute_result",
          "data": {
            "text/plain": [
              "(88486, 4)"
            ]
          },
          "metadata": {},
          "execution_count": 394
        }
      ]
    },
    {
      "cell_type": "code",
      "source": [
        "for idx, value in enumerate(policy.학력.to_numpy()):\n",
        "  if '무관' in value:\n",
        "    # for i in range(f):\n",
        "    #   edu_policy2[idx][i] = 1\n",
        "    continue\n",
        "  if '고등학교졸업' in value:\n",
        "    edu_policy2[idx][0] = 1\n",
        "  if '대학(원)재학' in value:\n",
        "    edu_policy2[idx][1] = 1\n",
        "  if '대학(원)휴학' in value:\n",
        "    edu_policy2[idx][2] = 1\n",
        "  if '대학(원)졸업' in value:\n",
        "    edu_policy2[idx][3] = 1"
      ],
      "metadata": {
        "id": "X0h3dFmHH9Ci"
      },
      "execution_count": null,
      "outputs": []
    },
    {
      "cell_type": "code",
      "source": [
        "# edu_policy2_df = pd.DataFrame(edu_policy2, columns = ['무관', '고등학교졸업', '대학(원)재학', '대학(원)휴학', '대학(원)졸업', '고등학교 졸업 미만'])\n",
        "edu_policy2 = edu_policy2.T"
      ],
      "metadata": {
        "id": "fOq4lS-PH9Ci"
      },
      "execution_count": null,
      "outputs": []
    },
    {
      "cell_type": "markdown",
      "source": [
        "#### work\n",
        "대학/대학원생, 구직자/실업자, 근로자/직장인, 예비창업자, 소상공인, 중소기업, 프리랜서 * policy"
      ],
      "metadata": {
        "id": "L70CSw1FH9Ci"
      }
    },
    {
      "cell_type": "code",
      "source": [
        "u = len(user)\n",
        "f = 7\n",
        "p = len(policy)"
      ],
      "metadata": {
        "id": "mEol2mDdH9Ci"
      },
      "execution_count": null,
      "outputs": []
    },
    {
      "cell_type": "code",
      "source": [
        "work_policy2 = np.array([ [ 0 for i in range(f) ] for j in range(p) ])\n",
        "work_policy2.shape"
      ],
      "metadata": {
        "colab": {
          "base_uri": "https://localhost:8080/"
        },
        "outputId": "b76b2839-f452-472b-b819-764691e8ea1c",
        "id": "n2wUCd-iH9Ci"
      },
      "execution_count": null,
      "outputs": [
        {
          "output_type": "execute_result",
          "data": {
            "text/plain": [
              "(88486, 7)"
            ]
          },
          "metadata": {},
          "execution_count": 398
        }
      ]
    },
    {
      "cell_type": "code",
      "source": [
        "for idx, value in enumerate(policy.직장.to_numpy()):\n",
        "  if '무관' in value:\n",
        "    # for i in range(f):\n",
        "    #   work_policy2[idx][i] = 1\n",
        "    continue\n",
        "  if '대학/대학원생' in value:\n",
        "    work_policy2[idx][0] = 1\n",
        "  if '구직자/실업자' in value:\n",
        "    work_policy2[idx][1] = 1\n",
        "  if '근로자/직장인' in value:\n",
        "    work_policy2[idx][2] = 1\n",
        "  if '예비창업자' in value:\n",
        "    work_policy2[idx][3] = 1\n",
        "  if '소상공인' in value:\n",
        "    work_policy2[idx][4] = 1\n",
        "  if '중소기업' in value:\n",
        "    work_policy2[idx][5] = 1\n",
        "  if '프리랜서' in value:\n",
        "    work_policy2[idx][6] = 1"
      ],
      "metadata": {
        "id": "sCacvC15H9Cj"
      },
      "execution_count": null,
      "outputs": []
    },
    {
      "cell_type": "code",
      "source": [
        "# work_policy2_df = pd.DataFrame(work_policy2, columns = ['무관', '대학/대학원생', '구직자/실업자', '근로자/직장인', '예비창업자', '소상공인', '중소기업', '프리랜서'])\n",
        "work_policy2 = work_policy2.T"
      ],
      "metadata": {
        "id": "9QLoNfmMH9Cj"
      },
      "execution_count": null,
      "outputs": []
    },
    {
      "cell_type": "markdown",
      "source": [
        "#### 결혼\n",
        "미혼, 기혼 * policy"
      ],
      "metadata": {
        "id": "WPqOqLytH9Cj"
      }
    },
    {
      "cell_type": "code",
      "source": [
        "u = len(user)\n",
        "f = 2\n",
        "p = len(policy)"
      ],
      "metadata": {
        "id": "rbmxklK9H9Cj"
      },
      "execution_count": null,
      "outputs": []
    },
    {
      "cell_type": "code",
      "source": [
        "marry_policy2 = np.array([ [ 0 for i in range(f) ] for j in range(p) ])\n",
        "marry_policy2.shape"
      ],
      "metadata": {
        "colab": {
          "base_uri": "https://localhost:8080/"
        },
        "outputId": "74edfe04-6d14-4e4f-d89b-b435567babb2",
        "id": "Tqww5KiyH9Cj"
      },
      "execution_count": null,
      "outputs": [
        {
          "output_type": "execute_result",
          "data": {
            "text/plain": [
              "(88486, 2)"
            ]
          },
          "metadata": {},
          "execution_count": 402
        }
      ]
    },
    {
      "cell_type": "code",
      "source": [
        "for idx, value in enumerate(policy.결혼.to_numpy()):\n",
        "  if ('무관' in value) or ('이혼' in value):\n",
        "    marry_policy2[idx][0] = 0\n",
        "    marry_policy2[idx][1] = 0\n",
        "    continue\n",
        "  if ('미혼' in value):\n",
        "    marry_policy2[idx][0] = 1\n",
        "  if ('기혼' in value) or ('재혼' in value):\n",
        "    marry_policy2[idx][1] = 1"
      ],
      "metadata": {
        "id": "Vxi4OJbRH9Cj"
      },
      "execution_count": null,
      "outputs": []
    },
    {
      "cell_type": "code",
      "source": [
        "# marry_policy2_df = pd.DataFrame(marry_policy2, columns = ['미혼', '기혼'])\n",
        "marry_policy2 = marry_policy2.T"
      ],
      "metadata": {
        "id": "uTNlsuYTH9Cj"
      },
      "execution_count": null,
      "outputs": []
    },
    {
      "cell_type": "markdown",
      "source": [
        "#### city1\n",
        "서울특별시, 부산광역시, 대구광역시, 인천광역시, 광주광역시, 대전광역시, 울산광역시, 세종특별자치시, 경기도, 강원도, 충청북도, 충청남도, 전라북도, 전라남도, 경상북도, 경상남도, 제주특별자치도 * policy"
      ],
      "metadata": {
        "id": "AMnjXEOKH9Cj"
      }
    },
    {
      "cell_type": "code",
      "source": [
        "u = len(user)\n",
        "f = 17\n",
        "p = len(policy)"
      ],
      "metadata": {
        "id": "xr4LRTmiH9Cj"
      },
      "execution_count": null,
      "outputs": []
    },
    {
      "cell_type": "code",
      "source": [
        "city_policy2 = np.array([ [ 0 for i in range(f) ] for j in range(p) ])\n",
        "city_policy2.shape"
      ],
      "metadata": {
        "colab": {
          "base_uri": "https://localhost:8080/"
        },
        "outputId": "30905229-33f9-450b-db0b-783d822f63d8",
        "id": "WuDkg1k-H9Ck"
      },
      "execution_count": null,
      "outputs": [
        {
          "output_type": "execute_result",
          "data": {
            "text/plain": [
              "(88486, 17)"
            ]
          },
          "metadata": {},
          "execution_count": 406
        }
      ]
    },
    {
      "cell_type": "code",
      "source": [
        "for idx, value in enumerate(policy['시도']):\n",
        "  if '전국' in value: #전국\n",
        "    for i in range(f):\n",
        "      city_policy2[idx][i] = 1\n",
        "    continue\n",
        "  \n",
        "  city = ['서울특별시', '부산광역시', '대구광역시', '인천광역시', '광주광역시', '대전광역시', '울산광역시', '세종특별자치시', '경기도', '강원도', '충청북도', '충청남도', '전라북도', '전라남도', '경상북도', '경상남도', '제주특별자치도' ]\n",
        "  for j, city_name in enumerate(city):\n",
        "    if city_name in value:\n",
        "      city_policy2[idx][i] = 1"
      ],
      "metadata": {
        "id": "G2JqX9ifH9Ck"
      },
      "execution_count": null,
      "outputs": []
    },
    {
      "cell_type": "code",
      "source": [
        "# city_policy2_df = pd.DataFrame(city_policy2, columns = ['전국', '서울특별시', '부산광역시', '대구광역시', '인천광역시', '광주광역시', '대전광역시', '울산광역시', '세종특별자치시', '경기도', '강원도', '충청북도', '충청남도', '전라북도', '전라남도', '경상북도', '경상남도', '제주특별자치도'])\n",
        "city_policy2 = city_policy2.T"
      ],
      "metadata": {
        "id": "ZL83aokaH9Ck"
      },
      "execution_count": null,
      "outputs": []
    },
    {
      "cell_type": "markdown",
      "source": [
        "#### city2\n",
        "종로구, 중구, 용산구, 성동구, 광진구, 동대문구, 중랑구, 성북구, 강북구, 도봉구, 노원구, 은평구, 서대문구, 마포구, 양천구, 강서구, 구로구, 금천구, 영등포구, 동작구, 관악구, 서초구, 강남구, 송파구, 강동구, 중구, 서구, 동구, 영도구, 부산진구, 동래구, 남구, 북구, 해운대구, 사하구, 금정구, 강서구, 연제구, 수영구, 사상구, 기장군, 중구, 동구, 서구, 남구, 북구, 수성구, 달서구, 달성군, 중구, 동구, 미추홀구, 연수구, 남동구, 부평구, 계양구, 서구, 강화군, 옹진군, 동구, 서구, 남구, 북구, 광산구, 동구, 중구, 서구, 유성구, 대덕구, 중구, 남구, 동구, 북구, 울주군, 세종시, 수원시, 성남시, 고양시, 용인시, 부천시, 안산시, 안양시, 남양주시, 화성시, 평택시, 의정부시, 시흥시, 파주시, 광명시, 김포시, 군포시, 광주시, 이천시, 양주시, 오산시, 구리시, 안성시, 포천시, 의왕시, 하남시, 여주시, 양평군, 동두천시, 과천시, 가평군, 연천군, 춘천시, 원주시, 강릉시, 동해시, 태백시, 속초시, 삼척시, 홍천군, 횡성군, 영월군, 평창군, 정선군, 철원군, 화천군, 양구군, 인제군, 고성군, 양양군, 청주시, 충주시, 제천시, 보은군, 옥천군, 영동군, 진천군, 괴산군, 음성군, 단양군, 증평군, 천안시, 공주시, 보령시, 아산시, 서산시, 논산시, 계룡시, 당진시, 금산군, 부여군, 서천군, 청양군, 홍성군, 예산군, 태안군, 전주시, 군산시, 익산시, 정읍시, 남원시, 김제시, 완주군, 진안군, 무주군, 장수군, 임실군, 순창군, 고창군, 부안군, 목포시, 여수시, 순천시, 나주시, 광양시, 담양군, 곡성군, 구례군, 고흥군, 보성군, 화순군, 장흥군, 강진군, 해남군, 영암군, 무안군, 함평군, 영광군, 장성군, 완도군, 진도군, 신안군, 포항시, 경주시, 김천시, 안동시, 구미시, 영주시, 영천시, 상주시, 문경시, 경산시, 군위군, 의성군, 청송군, 영양군, 영덕군, 청도군, 고령군, 성주군, 칠곡군, 예천군, 봉화군, 울진군, 울릉군, 창원시, 진주시, 통영시, 사천시, 김해시, 밀양시, 거제시, 양산시, 의령군, 함안군, 창녕군, 고성군, 남해군, 하동군, 산청군, 함양군, 거창군, 합천군, 제주시, 서귀포시 * policy"
      ],
      "metadata": {
        "id": "5wfW_9XgH9Ck"
      }
    },
    {
      "cell_type": "code",
      "source": [
        "city2 = ['종로구', '중구', '용산구', '성동구', '광진구', '동대문구', '중랑구', '성북구', '강북구', '도봉구', '노원구', '은평구', '서대문구', '마포구', '양천구', '강서구', '구로구', '금천구', '영등포구', '동작구', '관악구', '서초구', '강남구', '송파구', '강동구', '중구', '서구', '동구', '영도구', '부산진구', '동래구', '남구', '북구', '해운대구', '사하구', '금정구', '강서구', '연제구', '수영구', '사상구', '기장군', '중구', '동구', '서구', '남구', '북구', '수성구', '달서구', '달성군', '중구', '동구', '미추홀구', '연수구', '남동구', '부평구', '계양구', '서구', '강화군', '옹진군', '동구', '서구', '남구', '북구', '광산구', '동구', '중구', '서구', '유성구', '대덕구', '중구', '남구', '동구', '북구', '울주군', '세종시', '수원시', '성남시', '고양시', '용인시', '부천시', '안산시', '안양시', '남양주시', '화성시', '평택시', '의정부시', '시흥시', '파주시', '광명시', '김포시', '군포시', '광주시', '이천시', '양주시', '오산시', '구리시', '안성시', '포천시', '의왕시', '하남시', '여주시', '양평군', '동두천시', '과천시', '가평군', '연천군', '춘천시', '원주시', '강릉시', '동해시', '태백시', '속초시', '삼척시', '홍천군', '횡성군', '영월군', '평창군', '정선군', '철원군', '화천군', '양구군', '인제군', '고성군', '양양군', '청주시', '충주시', '제천시', '보은군', '옥천군', '영동군', '진천군', '괴산군', '음성군', '단양군', '증평군', '천안시', '공주시', '보령시', '아산시', '서산시', '논산시', '계룡시', '당진시', '금산군', '부여군', '서천군', '청양군', '홍성군', '예산군', '태안군', '전주시', '군산시', '익산시', '정읍시', '남원시', '김제시', '완주군', '진안군', '무주군', '장수군', '임실군', '순창군', '고창군', '부안군', '목포시', '여수시', '순천시', '나주시', '광양시', '담양군', '곡성군', '구례군', '고흥군', '보성군', '화순군', '장흥군', '강진군', '해남군', '영암군', '무안군', '함평군', '영광군', '장성군', '완도군', '진도군', '신안군', '포항시', '경주시', '김천시', '안동시', '구미시', '영주시', '영천시', '상주시', '문경시', '경산시', '군위군', '의성군', '청송군', '영양군', '영덕군', '청도군', '고령군', '성주군', '칠곡군', '예천군', '봉화군', '울진군', '울릉군', '창원시', '진주시', '통영시', '사천시', '김해시', '밀양시', '거제시', '양산시', '의령군', '함안군', '창녕군', '고성군', '남해군', '하동군', '산청군', '함양군', '거창군', '합천군', '제주시', '서귀포시']\n",
        "u = len(user)\n",
        "f = len(city2)\n",
        "p = len(policy)"
      ],
      "metadata": {
        "id": "KT_kaiUTH9Ck"
      },
      "execution_count": null,
      "outputs": []
    },
    {
      "cell_type": "code",
      "source": [
        "city2_policy2 = np.array([ [ 0 for i in range(f) ] for j in range(p) ])\n",
        "city2_policy2.shape"
      ],
      "metadata": {
        "colab": {
          "base_uri": "https://localhost:8080/"
        },
        "outputId": "bd5a2017-1168-4d20-a66d-15eae8fde7f9",
        "id": "CnOenH1SH9Ck"
      },
      "execution_count": null,
      "outputs": [
        {
          "output_type": "execute_result",
          "data": {
            "text/plain": [
              "(88486, 229)"
            ]
          },
          "metadata": {},
          "execution_count": 410
        }
      ]
    },
    {
      "cell_type": "code",
      "source": [
        "for idx, value in enumerate(policy['시군구']):\n",
        "  if ('' == value) or  (value == None):\n",
        "    # for i in range(f):\n",
        "    #   city2_policy2[idx][i] = 1\n",
        "    continue\n",
        "  \n",
        "  for j, city_name in enumerate(city2):\n",
        "    if city_name in value:\n",
        "      city2_policy2[idx][i] = 1"
      ],
      "metadata": {
        "id": "qERj45IzH9Cl"
      },
      "execution_count": null,
      "outputs": []
    },
    {
      "cell_type": "code",
      "source": [
        "# city2_policy2_df = pd.DataFrame(city2_policy2)\n",
        "city2_policy2 = city2_policy2.T"
      ],
      "metadata": {
        "id": "97Aiu5MrH9Cl"
      },
      "execution_count": null,
      "outputs": []
    },
    {
      "cell_type": "markdown",
      "source": [
        "#### money\n",
        "기초생활수급자, 중위소득 40% 이하, 중위소득 40 ~ 60% 사이, 중위소득 60 ~ 80% 사이, 중위소득 80 ~ 100% 사이, 중위소득 100% 이상 * policy"
      ],
      "metadata": {
        "id": "u_rq955DH9Cl"
      }
    },
    {
      "cell_type": "code",
      "source": [
        "mb_12 = ['기초생활수급자', '중위소득 40% 이하', '중위소득 40~60% 사이', '중위소득 60~80% 사이', '중위소득 80~100% 사이',  '중위소득 100% 이상']\n",
        "u = len(user)\n",
        "f = len(mb_12)\n",
        "p = len(policy)"
      ],
      "metadata": {
        "id": "fHMug11_H9Cl"
      },
      "execution_count": null,
      "outputs": []
    },
    {
      "cell_type": "code",
      "source": [
        "money_policy2 = np.array([ [ 0 for i in range(f) ] for j in range(p) ])\n",
        "money_policy2.shape"
      ],
      "metadata": {
        "colab": {
          "base_uri": "https://localhost:8080/"
        },
        "outputId": "cd9fdacd-6ab3-4e88-98fb-72026089d986",
        "id": "eACXRKbvH9Cl"
      },
      "execution_count": null,
      "outputs": [
        {
          "output_type": "execute_result",
          "data": {
            "text/plain": [
              "(88486, 6)"
            ]
          },
          "metadata": {},
          "execution_count": 415
        }
      ]
    },
    {
      "cell_type": "code",
      "source": [
        "for idx, value in enumerate(policy.중위소득.to_numpy()):\n",
        "  if ('' == value) or (value == None):\n",
        "    # for i in range(f):\n",
        "    #   money_policy2[idx][i] = 1\n",
        "    continue\n",
        "  if '기초생활수급자' in value:\n",
        "    money_policy2[idx][0] = 1\n",
        "  if '30' in value:\n",
        "    money_policy2[idx][1] = 1\n",
        "  if '50' in value:\n",
        "    money_policy2[idx][2] = 1\n",
        "  if '70' in value:\n",
        "    money_policy2[idx][3] = 1\n",
        "  if '90' in value:\n",
        "    money_policy2[idx][4] = 1\n",
        "  if '110' in value:\n",
        "    money_policy2[idx][5] = 1"
      ],
      "metadata": {
        "id": "A-4tPzUKH9Cl"
      },
      "execution_count": null,
      "outputs": []
    },
    {
      "cell_type": "code",
      "source": [
        "# money_policy2_df = pd.DataFrame(money_policy2, columns = ['무관', '대학/대학원생', '구직자/실업자', '근로자/직장인', '예비창업자', '소상공인', '중소기업', '프리랜서'])\n",
        "money_policy2 = money_policy2.T"
      ],
      "metadata": {
        "id": "ecZUXb_-H9Cl"
      },
      "execution_count": null,
      "outputs": []
    },
    {
      "cell_type": "markdown",
      "source": [
        "#### mb_15\n",
        "근로자 지원, 취업 지원, 개인금융지원, 문화생활 지원, 주택-부동산 지원, 교육지원(만8 ~ 19세), 성인교육지원, 의료 지원, 창업 지원, 기업금융지원, 보육지원(만0~7세) * policy"
      ],
      "metadata": {
        "id": "G9L7wOQJH9Cm"
      }
    },
    {
      "cell_type": "code",
      "source": [
        "mb_15 = ['근로자 지원', '취업 지원', '개인금융지원', '문화생활 지원', '주택-부동산 지원', '교육지원(만8~19세)', '성인교육지원',\n",
        "         '의료 지원', '창업 지원', '기업금융지원', '보육지원(만0~7세)']\n",
        "\n",
        "u = len(user)\n",
        "f = len(mb_15)\n",
        "p = len(policy)"
      ],
      "metadata": {
        "id": "o4hqQQd8H9Cm"
      },
      "execution_count": null,
      "outputs": []
    },
    {
      "cell_type": "code",
      "source": [
        "def mb_15_edit(text):\n",
        "  if '취업지원' in text:\n",
        "    text = text.replace('취업지원', '취업 지원')\n",
        "  return text\n",
        "\n",
        "policy.MB_15 = policy.MB_15.apply(mb_15_edit)\n"
      ],
      "metadata": {
        "id": "PCTTo4wuH9Cm"
      },
      "execution_count": null,
      "outputs": []
    },
    {
      "cell_type": "code",
      "source": [
        "print(len(get_category(policy,'MB_15')))\n",
        "get_category(policy,'MB_15')"
      ],
      "metadata": {
        "colab": {
          "base_uri": "https://localhost:8080/"
        },
        "outputId": "ff4ed1c0-6e40-48e4-fd77-22751c96a69d",
        "id": "Eoa4E-w7H9Cm"
      },
      "execution_count": null,
      "outputs": [
        {
          "output_type": "stream",
          "name": "stdout",
          "text": [
            "12\n"
          ]
        },
        {
          "output_type": "execute_result",
          "data": {
            "text/plain": [
              "[('개인금융지원', 57540),\n",
              " ('기업금융지원', 30910),\n",
              " ('의료 지원', 21132),\n",
              " ('', 12759),\n",
              " ('문화생활 지원', 9410),\n",
              " ('창업 지원', 8200),\n",
              " ('취업 지원', 5610),\n",
              " ('보육지원(0~7세)', 4674),\n",
              " ('교육지원(8~19세)', 3298),\n",
              " ('성인교육지원', 3288),\n",
              " ('주택-부동산 지원', 3027),\n",
              " '중복 있음']"
            ]
          },
          "metadata": {},
          "execution_count": 421
        }
      ]
    },
    {
      "cell_type": "code",
      "source": [
        "mb_15_policy2 = np.array([ [ 0 for i in range(f) ] for j in range(p) ])\n",
        "mb_15_policy2.shape"
      ],
      "metadata": {
        "colab": {
          "base_uri": "https://localhost:8080/"
        },
        "outputId": "28f5ba37-7691-431d-ea7f-520e6facc06a",
        "id": "UVoQZaF7H9Cm"
      },
      "execution_count": null,
      "outputs": [
        {
          "output_type": "execute_result",
          "data": {
            "text/plain": [
              "(88486, 11)"
            ]
          },
          "metadata": {},
          "execution_count": 422
        }
      ]
    },
    {
      "cell_type": "code",
      "source": [
        "for idx, value in enumerate(policy.MB_15.to_numpy()):\n",
        "  if '' == value:\n",
        "    # for i in range(f):\n",
        "    #   mb_15_policy2[idx][i] = 1\n",
        "    continue\n",
        "  for i, text in enumerate(mb_15):\n",
        "    if text in value:\n",
        "      word_idx = mb_15.index(text)\n",
        "      mb_15_policy2[idx][word_idx] = 1"
      ],
      "metadata": {
        "id": "VlQGszmeH9Cm"
      },
      "execution_count": null,
      "outputs": []
    },
    {
      "cell_type": "code",
      "source": [
        "# mb_15_policy2_df = pd.DataFrame(mb_15_policy2, columns = ['무관', '대학/대학원생', '구직자/실업자', '근로자/직장인', '예비창업자', '소상공인', '중소기업', '프리랜서'])\n",
        "mb_15_policy2 = mb_15_policy2.T"
      ],
      "metadata": {
        "id": "_TwOW_RkH9Cm"
      },
      "execution_count": null,
      "outputs": []
    },
    {
      "cell_type": "markdown",
      "source": [
        "### 유사도"
      ],
      "metadata": {
        "id": "fWaKXLzwfjNM"
      }
    },
    {
      "cell_type": "markdown",
      "source": [
        "#### 보편 모델"
      ],
      "metadata": {
        "id": "neLyuC2QLjFb"
      }
    },
    {
      "cell_type": "code",
      "source": [
        "user_feature_matrix = [gender_matrix, 'age', city_matrix, city2_matrix, edu_matrix, work_matrix, house_matrix, marry_matrix, child_matrix, child_detail_matrix, money_matrix, mb_15_matrix]"
      ],
      "metadata": {
        "id": "EWk-rL-ImswR"
      },
      "execution_count": null,
      "outputs": []
    },
    {
      "cell_type": "code",
      "source": [
        "feature_policy_matrix = [gender_policy, 'age',  city_policy, city2_policy, edu_policy, work_policy, house_policy, marry_policy, child_policy, child_detail_policy, money_policy, mb_15_policy]"
      ],
      "metadata": {
        "id": "Hig0n1Iwcp-G"
      },
      "execution_count": null,
      "outputs": []
    },
    {
      "cell_type": "code",
      "source": [
        "# array를 minmax scaler로 조정\n",
        "def minmax(array):\n",
        "  a, b = array.shape\n",
        "  change = array.reshape(-1,1)\n",
        "  minmax = MinMaxScaler()\n",
        "  change = minmax.fit_transform(change)\n",
        "  change = change.reshape(a,b)\n",
        "  return change"
      ],
      "metadata": {
        "id": "gs5XsR5wFenV"
      },
      "execution_count": null,
      "outputs": []
    },
    {
      "cell_type": "code",
      "source": [
        "# user_info에 직접 데이터를 넣으려면 성별, 나이, 시도, 시 군구, 학력, 직장, 가구원, 결혼, 자녀, 자녀상세, mb_15순서이 list 형태로 넣어야 함\n",
        "# None 대신 '' 넣기\n",
        "\n",
        "def recommendation(user_info):\n",
        "  # user 정보 보여주기\n",
        "  if type(user_info) == int:\n",
        "    print(f'===================={user_info}번째 user 정보=================')\n",
        "    for i in user.columns:\n",
        "      print(f'{i}: ', end='')\n",
        "      print(user[i][user_info])\n",
        "    print()\n",
        "    user_info = user[['성별', '나이', '시도', '시군구', '학력', '직장', '가구원', '결혼', '자녀', '자녀상세', 'mb_12', 'mb_15']].iloc[user_info]\n",
        "  elif (type(user_info) == list) or (type(user_info) == numpy.ndarray):\n",
        "    print(f'===================user 정보=================')\n",
        "    for i, column in enumerate(['성별', '나이', '시도', '시군구', '학력', '직장', '가구원', '결혼', '자녀', '자녀상세', '중위소득', '관심정책']):\n",
        "      print(f'{column}: ', end='')\n",
        "      print(user_info[i])\n",
        "    print()\n",
        "  else:\n",
        "    print('user_info에 직접 데이터를 넣으려면 [성별, 나이, 시도, 시군구, 학력, 직장, 가구원, 결혼, 자녀, 자녀상세, 중위소득, 관심정책] 순서의 리스트 형태로 넣어야 함')\n",
        "    return False\n",
        "  \n",
        "  # 유사도 매트릭스 구하기\n",
        "  ans = np.array([[0 for i in range(len(policy))] for j in range(1)])\n",
        "  for i, value in enumerate(user_info):\n",
        "    if i == 1:\n",
        "      ans += age_matrix(value)\n",
        "    elif (i == 6) or (i == 9):\n",
        "      ans = ans + minmax(np.dot(user_feature_matrix[i](value), feature_policy_matrix[i])) * 0.5\n",
        "    elif (i == 2) or (i==8) or (i==5):\n",
        "      ans = ans + minmax(np.dot(user_feature_matrix[i](value), feature_policy_matrix[i])) * 2\n",
        "    elif (i == 10) or (i == 11):\n",
        "      ans = ans + minmax(np.dot(user_feature_matrix[i](value), feature_policy_matrix[i])) * 3\n",
        "    else:\n",
        "      ans += np.dot(user_feature_matrix[i](value), feature_policy_matrix[i])\n",
        "    \n",
        "  # 추천하는 policy 정보 보여주기\n",
        "  best = max(ans[0])\n",
        "  best_idxs = [i for i, v in enumerate(ans[0]) if v == best]\n",
        "  print(f'{len(best_idxs)}개가 {best}값으로 최적의 정책임')\n",
        "\n",
        "  for best_idx in best_idxs:\n",
        "    print('=====================policy 정보=================')\n",
        "    for column in policy.columns:\n",
        "      print(f'◎{column}: ', end='')\n",
        "      print(policy[column].iloc[best_idx])\n",
        "    print()\n",
        "\n",
        "  print(f'{len(best_idxs)}개가 {best}값으로 최적의 정책임')"
      ],
      "metadata": {
        "id": "PSSJvGaTS9NC"
      },
      "execution_count": null,
      "outputs": []
    },
    {
      "cell_type": "code",
      "source": [
        "recommendation(['여성', 27, '경기도, 서울', '파주시', '대학(원)졸업', '', '', '미혼', '없음', '', '', ''])"
      ],
      "metadata": {
        "colab": {
          "base_uri": "https://localhost:8080/",
          "height": 1000
        },
        "id": "vOzSYJ-MNH2b",
        "outputId": "837ab358-b556-49cf-bf7a-ab5c19e298dc"
      },
      "execution_count": null,
      "outputs": [
        {
          "output_type": "stream",
          "name": "stdout",
          "text": [
            "===================user 정보=================\n",
            "성별: 여성\n",
            "나이: 27\n",
            "시도: 경기도, 서울\n",
            "시군구: 파주시\n",
            "학력: 대학(원)졸업\n",
            "직장: \n",
            "가구원: \n",
            "결혼: 미혼\n",
            "자녀: 없음\n",
            "자녀상세: \n",
            "중위소득: \n",
            "관심정책: \n",
            "\n",
            "1931개가 14.0값으로 최적의 정책임\n",
            "=====================policy 정보=================\n",
            "◎정책ID: 26\n",
            "◎정책서비스ID: 119200000067\n",
            "◎서비스명: 어업인안전조업교육지원\n",
            "◎소관기관: 해양수산부\n",
            "◎소관기관유형.1: 중앙정부\n",
            "◎생애주기: None\n",
            "◎신청절차: 신청절차    ○ 전국 수협중앙회 회원 조합 방문 신청\n",
            "신청절차                      오프라인\n",
            "Name: 25, dtype: object\n",
            "◎선정기준: ○ 어선의 선주, 선장, 기관장, 통신장 등\n",
            "◎지원유형: 지원유형    이용권\n",
            "지원유형    이용권\n",
            "Name: 25, dtype: object\n",
            "◎서비스목적: 어선 어업인을 대상으로 구명·소화설비 작동방법 등 안전조업 교육을 실시하여 안전의식 제고 및 사고시 긴급상황 대처 능력을 강화\n",
            "◎지원내용: ○ ‘어선안전조업법’의 법정교육으로 연 1회(4시간) 어선의 선주, 선장, 기관장, 통신장 등 직무대행자에게 실시하는 안전조업교육\n",
            "- 어업인 안전조업교육지원을 위한 민간경상보조 지원\n",
            "◎지원대상: ○ 어업인(법정의무교육으로 매년 4시간 교육 이수사항)\n",
            "◎대상연령시작: 0\n",
            "◎대상연령끝: 99\n",
            "◎시도: 전국\n",
            "◎시군구: None\n",
            "◎중위소득: None\n",
            "◎관심상황특성: 개인교육지원\n",
            "◎대상특성: 해당사항없음\n",
            "◎대상특성상세: \n",
            "◎MB_15: \n",
            "◎소관기관유형: 앙\n",
            "◎지원유형: 지원유형    이용권\n",
            "지원유형    이용권\n",
            "Name: 25, dtype: object\n",
            "◎지원유형상세: 해당사항없음\n",
            "◎신청절차: 신청절차    ○ 전국 수협중앙회 회원 조합 방문 신청\n",
            "신청절차                      오프라인\n",
            "Name: 25, dtype: object\n",
            "◎성별: 무관\n",
            "◎결혼: 무관\n",
            "◎학력: 무관\n",
            "◎가구원: 무관\n",
            "◎자녀: 없음\n",
            "◎자녀상세: 없음\n",
            "◎직장: 무관\n",
            "◎직장상세: None\n",
            "\n",
            "=====================policy 정보=================\n",
            "◎정책ID: 62\n",
            "◎정책서비스ID: 119200000153\n",
            "◎서비스명: 원양어선원 해외묘지 관리 및 국내이장 지원\n",
            "◎소관기관: 해양수산부\n",
            "◎소관기관유형.1: 중앙정부\n",
            "◎생애주기: None\n",
            "◎신청절차: 신청절차    우편접수(서울특별시 서초구 논현로 83 한국원양산업협회)\n",
            "신청절차                               오프라인\n",
            "Name: 61, dtype: object\n",
            "◎선정기준: ○ 이장대상자의 정보 확인\n",
            "◎지원유형: 지원유형    기타||민원||상담/법률지원\n",
            "지원유형      상담/법률지원,기타,민원\n",
            "Name: 61, dtype: object\n",
            "◎서비스목적: 해외에 안장되어 있는 선원묘지의 보수 및 관리로 원양 종사자의 사기·긍지 제고와 해외선원묘지 국내이장 지원을 통한 유가족 숙원사항 해소\n",
            "◎지원내용: ○ 노후 선원묘역․묘비 개보수, 국내 이장 지원, 사업신청 홍보 등\n",
            "◎지원대상: ○ 해외선원묘지\n",
            "◎대상연령시작: 0\n",
            "◎대상연령끝: 99\n",
            "◎시도: 전국\n",
            "◎시군구: None\n",
            "◎중위소득: None\n",
            "◎관심상황특성: \n",
            "◎대상특성: 해당사항없음\n",
            "◎대상특성상세: \n",
            "◎MB_15: \n",
            "◎소관기관유형: 앙\n",
            "◎지원유형: 지원유형    기타||민원||상담/법률지원\n",
            "지원유형      상담/법률지원,기타,민원\n",
            "Name: 61, dtype: object\n",
            "◎지원유형상세: 기타(상담)\n",
            "◎신청절차: 신청절차    우편접수(서울특별시 서초구 논현로 83 한국원양산업협회)\n",
            "신청절차                               오프라인\n",
            "Name: 61, dtype: object\n",
            "◎성별: 무관\n",
            "◎결혼: 무관\n",
            "◎학력: 무관\n",
            "◎가구원: 무관\n",
            "◎자녀: 없음\n",
            "◎자녀상세: 없음\n",
            "◎직장: 무관\n",
            "◎직장상세: None\n",
            "\n",
            "=====================policy 정보=================\n",
            "◎정책ID: 72\n",
            "◎정책서비스ID: 119200000168\n",
            "◎서비스명: 국제수산협상 전문관 육성 관리\n",
            "◎소관기관: 해양수산부\n",
            "◎소관기관유형.1: 중앙정부\n",
            "◎생애주기: None\n",
            "◎신청절차: 신청절차    우편(세종특별자치시 다솜2로 94 해양수산부 국제협력총괄과)\n",
            "신청절차                                 오프라인\n",
            "Name: 71, dtype: object\n",
            "◎선정기준: 지원대상과 동일\n",
            "◎지원유형: 지원유형    기타\n",
            "지원유형    기타\n",
            "Name: 71, dtype: object\n",
            "◎서비스목적: 해외수산자원 확보를 위한 국제수산기구 협상, 수산통상협상(FTA․WTO 등) 등을 지원하는 국제수산전문가 육성 사업\n",
            "◎지원내용: ○ 전문인력 육성 및 국제수산·통상 협상 대응 지원\n",
            "◎지원대상: ○ 한국원양산업협회 산하 해외수산협력센터 국제협상전문관\n",
            "◎대상연령시작: 0\n",
            "◎대상연령끝: 99\n",
            "◎시도: 전국\n",
            "◎시군구: None\n",
            "◎중위소득: None\n",
            "◎관심상황특성: \n",
            "◎대상특성: 해당사항없음\n",
            "◎대상특성상세: \n",
            "◎MB_15: \n",
            "◎소관기관유형: 앙\n",
            "◎지원유형: 지원유형    기타\n",
            "지원유형    기타\n",
            "Name: 71, dtype: object\n",
            "◎지원유형상세: 기타(상담)\n",
            "◎신청절차: 신청절차    우편(세종특별자치시 다솜2로 94 해양수산부 국제협력총괄과)\n",
            "신청절차                                 오프라인\n",
            "Name: 71, dtype: object\n",
            "◎성별: 무관\n",
            "◎결혼: 무관\n",
            "◎학력: 무관\n",
            "◎가구원: 무관\n",
            "◎자녀: 없음\n",
            "◎자녀상세: 없음\n",
            "◎직장: 무관\n",
            "◎직장상세: None\n",
            "\n",
            "=====================policy 정보=================\n",
            "◎정책ID: 83\n",
            "◎정책서비스ID: 119200000191\n",
            "◎서비스명: 조건불리지역 직접지불제\n",
            "◎소관기관: 해양수산부\n",
            "◎소관기관유형.1: 중앙정부\n",
            "◎생애주기: None\n",
            "◎신청절차: 신청절차    지급약정신청서 및 증빙서류를 구비하여 마을공동운영위원회에 제출\n",
            "신청절차                                    무관\n",
            "Name: 82, dtype: object\n",
            "◎선정기준: 조건불리지역(도서 및 접경지역)에 거주하는 어업인\n",
            "◎지원유형: 지원유형    None\n",
            "지원유형      기타\n",
            "Name: 82, dtype: object\n",
            "◎서비스목적: 도서 및 접경지역에 거주하는 어가에 어업소득 보전 및 지역경제활성화를 위해 조건불리 직불금 지급\n",
            "◎지원내용: 연간 어가당 조건불리직불금 75만원 지급\n",
            "- 80%는 어가에 지급\n",
            "- 20%는 마을공동기금으로 적립\n",
            "◎지원대상: 조건불리지역(도서 및 접경지역)에 거주하는 어업인\n",
            "◎대상연령시작: 0\n",
            "◎대상연령끝: 99\n",
            "◎시도: 전국\n",
            "◎시군구: None\n",
            "◎중위소득: None\n",
            "◎관심상황특성: \n",
            "◎대상특성: 해당사항없음\n",
            "◎대상특성상세: \n",
            "◎MB_15: \n",
            "◎소관기관유형: 앙\n",
            "◎지원유형: 지원유형    None\n",
            "지원유형      기타\n",
            "Name: 82, dtype: object\n",
            "◎지원유형상세: 해당사항없음\n",
            "◎신청절차: 신청절차    지급약정신청서 및 증빙서류를 구비하여 마을공동운영위원회에 제출\n",
            "신청절차                                    무관\n",
            "Name: 82, dtype: object\n",
            "◎성별: 무관\n",
            "◎결혼: 무관\n",
            "◎학력: 무관\n",
            "◎가구원: 무관\n",
            "◎자녀: 없음\n",
            "◎자녀상세: 없음\n",
            "◎직장: 무관\n",
            "◎직장상세: None\n",
            "\n",
            "=====================policy 정보=================\n",
            "◎정책ID: 118\n",
            "◎정책서비스ID: 132000000002\n",
            "◎서비스명: 다문화 가족 및 취약계층 대상 운전면허교실 운영 지원\n",
            "◎소관기관: 경찰청\n",
            "◎소관기관유형.1: 중앙정부\n",
            "◎생애주기: None\n",
            "◎신청절차: 신청절차    ○ 경찰서 방문 또는 다문화 가족지원센터 등 외국인 도움센터에 신고\n",
            "신청절차                                     오프라인\n",
            "Name: 117, dtype: object\n",
            "◎선정기준: ○ 국내 체류 중인 외국인이라면 누구나 선정 가능\n",
            "◎지원유형: 지원유형    기타(교육)\n",
            "지원유형        기타\n",
            "Name: 117, dtype: object\n",
            "◎서비스목적: 다문화 가정의 지속적인 증가에 따라 권익증진·사회적 약자 배려 차원의 실질적인 정착지원 활동으로 체류 외국인의 인권과 권익증진을 통해 사회갈등을 최소화하고 외국인의 범죄 예방 및 범죄 신고 등을 위한 매개체로 역할\n",
            "◎지원내용: ○ 교통사고예방, 사고 발생 시 요령 등 실생활에 필요한 내용 중심으로 운전면허 학과 교육 진행\n",
            "\n",
            "○ 운전면허교실 교재(DVD) 구매 및 운전면허시험 문제은행 책자 제작 등 운영예산 및 교재 확대 지원\n",
            "\n",
            "○ 전문적이고 체계적인 교육 실시를 위해 도로교통공단 등과 협조로 전문 강사 확보 및 언어권별 통역을 지정\n",
            "\n",
            "○ 교육 이수자 친교 모임 활성화\n",
            "\n",
            "○ 국적별, 지역별 네트워크 구축 및 정보교환 등 상호 지원 유도\n",
            "\n",
            "○ 면허 취득자를 면허교실 통역 강사로 활용, 언어불통 해소\n",
            "◎지원대상: ○ 이주여성, 외국인 근로자 중심으로 국내 체류 외국인 중 실질적인 사회 정착지원이 필요한 대상\n",
            "◎대상연령시작: 0\n",
            "◎대상연령끝: 99\n",
            "◎시도: 전국\n",
            "◎시군구: None\n",
            "◎중위소득: None\n",
            "◎관심상황특성: 개인교육지원\n",
            "◎대상특성: 외국인/재외국인\n",
            "◎대상특성상세: \n",
            "◎MB_15: \n",
            "◎소관기관유형: 앙\n",
            "◎지원유형: 지원유형    기타(교육)\n",
            "지원유형        기타\n",
            "Name: 117, dtype: object\n",
            "◎지원유형상세: 기타(교육)\n",
            "◎신청절차: 신청절차    ○ 경찰서 방문 또는 다문화 가족지원센터 등 외국인 도움센터에 신고\n",
            "신청절차                                     오프라인\n",
            "Name: 117, dtype: object\n",
            "◎성별: 무관\n",
            "◎결혼: 무관\n",
            "◎학력: 무관\n",
            "◎가구원: 무관\n",
            "◎자녀: 없음\n",
            "◎자녀상세: 없음\n",
            "◎직장: 무관\n",
            "◎직장상세: None\n",
            "\n",
            "=====================policy 정보=================\n",
            "◎정책ID: 119\n",
            "◎정책서비스ID: 132000000003\n",
            "◎서비스명: 외국인 도움센터 운영 지원\n",
            "◎소관기관: 경찰청\n",
            "◎소관기관유형.1: 중앙정부\n",
            "◎생애주기: None\n",
            "◎신청절차: 신청절차    경찰서에 방문 또는 다문화 가족지원센터 등 외국인 도움센터 방문\n",
            "신청절차                                   오프라인\n",
            "Name: 118, dtype: object\n",
            "◎선정기준: ○ 국내 체류 중인 외국인이라면 누구나 선정 가능\n",
            "◎지원유형: 지원유형    기타(상담)||상담/법률지원\n",
            "지원유형         상담/법률지원,기타\n",
            "Name: 118, dtype: object\n",
            "◎서비스목적: 경찰기관에 방문하지 않고 범죄 및 피해신고를 할 수 있도록 체류 외국인에 대한 편안한 접근 채널 마련, 외국인 범죄 피해 및 어려움을 실질적으로 해결하여 인권보호를 실현\n",
            "◎지원내용: ○ 외국인이 자유롭게 출입하는 다문화 가족지원센터, NGO 단체 등 전국 300개소 지정 운영, 법률 지원(상담) 피해 구조\n",
            "◎지원대상: ○ 국내 체류 외국\n",
            "◎대상연령시작: 0\n",
            "◎대상연령끝: 99\n",
            "◎시도: 전국\n",
            "◎시군구: None\n",
            "◎중위소득: None\n",
            "◎관심상황특성: \n",
            "◎대상특성: 외국인/재외국인\n",
            "◎대상특성상세: \n",
            "◎MB_15: \n",
            "◎소관기관유형: 앙\n",
            "◎지원유형: 지원유형    기타(상담)||상담/법률지원\n",
            "지원유형         상담/법률지원,기타\n",
            "Name: 118, dtype: object\n",
            "◎지원유형상세: 기타(상담)\n",
            "◎신청절차: 신청절차    경찰서에 방문 또는 다문화 가족지원센터 등 외국인 도움센터 방문\n",
            "신청절차                                   오프라인\n",
            "Name: 118, dtype: object\n",
            "◎성별: 무관\n",
            "◎결혼: 무관\n",
            "◎학력: 무관\n",
            "◎가구원: 무관\n",
            "◎자녀: 없음\n",
            "◎자녀상세: 없음\n",
            "◎직장: 무관\n",
            "◎직장상세: None\n",
            "\n",
            "=====================policy 정보=================\n",
            "◎정책ID: 154\n",
            "◎정책서비스ID: 135200000088\n",
            "◎서비스명: 지역자율형 사회서비스 투자사업 보수교육 지원\n",
            "◎소관기관: 보건복지부\n",
            "◎소관기관유형.1: 중앙정부\n",
            "◎생애주기: None\n",
            "◎신청절차: 신청절차    ○ 지역자율형 사회서비스 투자사업 보수교육 인터넷 홈페이지 회원가입 후 교육 신청\\...\n",
            "신청절차                                                  온라인\n",
            "Name: 153, dtype: object\n",
            "◎선정기준: 지원대상과 동일\n",
            "◎지원유형: 지원유형    이용권\n",
            "지원유형    이용권\n",
            "Name: 153, dtype: object\n",
            "◎서비스목적: 사회서비스 정책 및 사업 지원을 통한 산업 기반 조성 및 서비스 품질 제고\n",
            "◎지원내용: ○ 지역자율형 사회서비스 투자사업 종사자 역량 강화를 위한 집합교육 및 사이버교육\n",
            "◎지원대상: ○ 지역자율형 사회서비스 투자사업 제공기관장, 관리책임자 및 제공인력\n",
            "◎대상연령시작: 0\n",
            "◎대상연령끝: 99\n",
            "◎시도: 전국\n",
            "◎시군구: None\n",
            "◎중위소득: None\n",
            "◎관심상황특성: \n",
            "◎대상특성: 해당사항없음\n",
            "◎대상특성상세: \n",
            "◎MB_15: \n",
            "◎소관기관유형: 앙\n",
            "◎지원유형: 지원유형    이용권\n",
            "지원유형    이용권\n",
            "Name: 153, dtype: object\n",
            "◎지원유형상세: 해당사항없음\n",
            "◎신청절차: 신청절차    ○ 지역자율형 사회서비스 투자사업 보수교육 인터넷 홈페이지 회원가입 후 교육 신청\\...\n",
            "신청절차                                                  온라인\n",
            "Name: 153, dtype: object\n",
            "◎성별: 무관\n",
            "◎결혼: 무관\n",
            "◎학력: 무관\n",
            "◎가구원: 무관\n",
            "◎자녀: 없음\n",
            "◎자녀상세: 없음\n",
            "◎직장: 무관\n",
            "◎직장상세: None\n",
            "\n",
            "=====================policy 정보=================\n",
            "◎정책ID: 168\n",
            "◎정책서비스ID: 135200000107\n",
            "◎서비스명: 현직 보육교사 인성평가 및 교육 지원\n",
            "◎소관기관: 보건복지부\n",
            "◎소관기관유형.1: 중앙정부\n",
            "◎생애주기: None\n",
            "◎신청절차: 신청절차    홈페이지 회원가입, 로그인 후 신청\n",
            "신청절차                    온라인\n",
            "Name: 167, dtype: object\n",
            "◎선정기준: 지원대상과 동일\n",
            "◎지원유형: 지원유형    기타(교육)\n",
            "지원유형        기타\n",
            "Name: 167, dtype: object\n",
            "◎서비스목적: 현직 보육교사의 인성 자기진단을 통해 인성 수준에 대한 점검 및 보육교사의 스트레스 관리 및 인성 함양을 지원하여 보육서비스의 질적 수준 제고\n",
            "◎지원내용: ○ 보육교사 인성 자가진단 실시 및 결과 해석\n",
            " \n",
            "○ 자가진단 결과에 따른 맞춤형 인성교육 지원\n",
            "◎지원대상: ○ 현직 보육교사\n",
            "◎대상연령시작: 0\n",
            "◎대상연령끝: 99\n",
            "◎시도: 전국\n",
            "◎시군구: None\n",
            "◎중위소득: None\n",
            "◎관심상황특성: \n",
            "◎대상특성: 해당사항없음\n",
            "◎대상특성상세: \n",
            "◎MB_15: \n",
            "◎소관기관유형: 앙\n",
            "◎지원유형: 지원유형    기타(교육)\n",
            "지원유형        기타\n",
            "Name: 167, dtype: object\n",
            "◎지원유형상세: 기타(교육)\n",
            "◎신청절차: 신청절차    홈페이지 회원가입, 로그인 후 신청\n",
            "신청절차                    온라인\n",
            "Name: 167, dtype: object\n",
            "◎성별: 무관\n",
            "◎결혼: 무관\n",
            "◎학력: 무관\n",
            "◎가구원: 무관\n",
            "◎자녀: 없음\n",
            "◎자녀상세: 없음\n",
            "◎직장: 무관\n",
            "◎직장상세: None\n",
            "\n",
            "=====================policy 정보=================\n",
            "◎정책ID: 179\n",
            "◎정책서비스ID: 135200000130\n",
            "◎서비스명: 발달장애인 주간활동서비스\n",
            "◎소관기관: 보건복지부\n",
            "◎소관기관유형.1: 중앙정부\n",
            "◎생애주기: None\n",
            "◎신청절차: 신청절차    읍면동 주민센터에 방문하여 신청\n",
            "신청절차                 오프라인\n",
            "Name: 178, dtype: object\n",
            "◎선정기준: ○ (우선순위) 전체 인원의 20%는 도전적행동 등 최중증 발달장애인을 대상자로 우선 선정토록 의무화\n",
            "◎지원유형: 지원유형    이용권\n",
            "지원유형    이용권\n",
            "Name: 178, dtype: object\n",
            "◎서비스목적: 성인 발달장애인이 지역사회의 다양한 기관이나 장소를 이용 및 참여하여 동료 이용자와 함께 낮 시간을 보내는 서비스\n",
            "◎지원내용: ○ 대상자 특성에 따라 이용자 욕구에 기반 교육, 음악·미술, 영화·연극, 미술관·박물관 방문 등 낮 활동 지원\n",
            " * 기본형 월 100시간, 단축형 월 56시간, 확장형 월 132시간\n",
            "◎지원대상: ○ 만 18세~64세의 장애인복지법상 지적 및 자폐성 장애인\n",
            "◎대상연령시작: 18\n",
            "◎대상연령끝: 64\n",
            "◎시도: 전국\n",
            "◎시군구: None\n",
            "◎중위소득: None\n",
            "◎관심상황특성: \n",
            "◎대상특성: 장애인\n",
            "◎대상특성상세: \n",
            "◎MB_15: \n",
            "◎소관기관유형: 앙\n",
            "◎지원유형: 지원유형    이용권\n",
            "지원유형    이용권\n",
            "Name: 178, dtype: object\n",
            "◎지원유형상세: 해당사항없음\n",
            "◎신청절차: 신청절차    읍면동 주민센터에 방문하여 신청\n",
            "신청절차                 오프라인\n",
            "Name: 178, dtype: object\n",
            "◎성별: 무관\n",
            "◎결혼: 무관\n",
            "◎학력: 무관\n",
            "◎가구원: 무관\n",
            "◎자녀: 없음\n",
            "◎자녀상세: 없음\n",
            "◎직장: 무관\n",
            "◎직장상세: None\n",
            "\n",
            "=====================policy 정보=================\n",
            "◎정책ID: 192\n",
            "◎정책서비스ID: 137100000032\n",
            "◎서비스명: 문화 예술 교육 프로그램 지원\n",
            "◎소관기관: 문화체육관광부\n",
            "◎소관기관유형.1: 중앙정부\n",
            "◎생애주기: None\n",
            "◎신청절차: 신청절차    ○  온라인 또는 방문 접수\n",
            "신청절차                 무관\n",
            "Name: 191, dtype: object\n",
            "◎선정기준: ○ 국군병원, 도박문제 관리 센터, 보호시설, wee 스쿨 및 wee 센터 이용자 등\n",
            "◎지원유형: 지원유형    기타(교육)\n",
            "지원유형        기타\n",
            "Name: 191, dtype: object\n",
            "◎서비스목적: 학교폭력, 재난사고·범죄 피해자 등 심리적 상처를 가진 소외계층을 대상으로 예술치유 프로그램 운영을 통해 이들의 마음을 치유하고 사회통합에 기여\n",
            "◎지원내용: ○ 학교폭력 피해 학생, 위기 청소년, 부적응 병사, 재난사고·범죄 피해자 등 심리적 상처 치유가 필요한 대상에 대해 맞춤형 문화예술치유 프로그램 지원\n",
            "◎지원대상: ○ 군대 부적응 병사, 도박중독자, 학교 부적응 학생, 학교폭력, 성폭력 및 가정폭력 등 범죄 피해자 등\n",
            "◎대상연령시작: 0\n",
            "◎대상연령끝: 99\n",
            "◎시도: 전국\n",
            "◎시군구: None\n",
            "◎중위소득: None\n",
            "◎관심상황특성: 폭력/범죄/중독지원\n",
            "◎대상특성: 해당사항없음\n",
            "◎대상특성상세: \n",
            "◎MB_15: \n",
            "◎소관기관유형: 앙\n",
            "◎지원유형: 지원유형    기타(교육)\n",
            "지원유형        기타\n",
            "Name: 191, dtype: object\n",
            "◎지원유형상세: 기타(교육)\n",
            "◎신청절차: 신청절차    ○  온라인 또는 방문 접수\n",
            "신청절차                 무관\n",
            "Name: 191, dtype: object\n",
            "◎성별: 무관\n",
            "◎결혼: 무관\n",
            "◎학력: 무관\n",
            "◎가구원: 무관\n",
            "◎자녀: 없음\n",
            "◎자녀상세: 없음\n",
            "◎직장: 무관\n",
            "◎직장상세: None\n",
            "\n",
            "=====================policy 정보=================\n",
            "◎정책ID: 199\n",
            "◎정책서비스ID: 137100000216\n",
            "◎서비스명: 방송 영상아카데미 온라인 교육과정 운영 서비스\n",
            "◎소관기관: 문화체육관광부\n",
            "◎소관기관유형.1: 중앙정부\n",
            "◎생애주기: None\n",
            "◎신청절차: 신청절차    정규강좌의 경우 수강신청 필요\n",
            "신청절차                  무관\n",
            "Name: 198, dtype: object\n",
            "◎선정기준: ○ 선정기준 없이 신청한 전 국민 대상으로 사업 시행\n",
            "◎지원유형: 지원유형    기타(교육)\n",
            "지원유형        기타\n",
            "Name: 198, dtype: object\n",
            "◎서비스목적: ○ 콘텐츠 온라인 교육을 통한 방송영상 분야의 잠재인력 저변확대\n",
            "\n",
            "○ 전문 교육과정을 통한 방송영상 인력 전문역량 향상 도모\n",
            "◎지원내용: ○ 사이버방송 영상아카데미 온라인 교육과정 운영\n",
            "◎지원대상: ○ 현업 전문인력, 예비인력, 전 국민\n",
            "◎대상연령시작: 0\n",
            "◎대상연령끝: 99\n",
            "◎시도: 전국\n",
            "◎시군구: None\n",
            "◎중위소득: None\n",
            "◎관심상황특성: \n",
            "◎대상특성: 해당사항없음\n",
            "◎대상특성상세: \n",
            "◎MB_15: \n",
            "◎소관기관유형: 앙\n",
            "◎지원유형: 지원유형    기타(교육)\n",
            "지원유형        기타\n",
            "Name: 198, dtype: object\n",
            "◎지원유형상세: 기타(교육)\n",
            "◎신청절차: 신청절차    정규강좌의 경우 수강신청 필요\n",
            "신청절차                  무관\n",
            "Name: 198, dtype: object\n",
            "◎성별: 무관\n",
            "◎결혼: 무관\n",
            "◎학력: 무관\n",
            "◎가구원: 무관\n",
            "◎자녀: 없음\n",
            "◎자녀상세: 없음\n",
            "◎직장: 무관\n",
            "◎직장상세: None\n",
            "\n",
            "=====================policy 정보=================\n",
            "◎정책ID: 201\n",
            "◎정책서비스ID: 137100000231\n",
            "◎서비스명: 관광통역안내사 전시 해설 교육 제공 서비스\n",
            "◎소관기관: 문화체육관광부\n",
            "◎소관기관유형.1: 중앙정부\n",
            "◎생애주기: None\n",
            "◎신청절차: 신청절차    신청서 전자메일로 신청\n",
            "신청절차              무관\n",
            "Name: 200, dtype: object\n",
            "◎선정기준: ○ 모집공고문 확인\n",
            "◎지원유형: 지원유형    기타(교육)\n",
            "지원유형        기타\n",
            "Name: 200, dtype: object\n",
            "◎서비스목적: 관광통역안내사의 박물관 전시 및 민속문화에 대한 올바른 이해 도모\n",
            "◎지원내용: ○ 박물관 전시 연계 주제별 민속 문화 강좌, 전시실 설명 관람\n",
            "◎지원대상: ○ 관광통역안내사 및 외국인 관광 관련 종사자\n",
            "◎대상연령시작: 0\n",
            "◎대상연령끝: 99\n",
            "◎시도: 전국\n",
            "◎시군구: None\n",
            "◎중위소득: None\n",
            "◎관심상황특성: \n",
            "◎대상특성: 해당사항없음\n",
            "◎대상특성상세: \n",
            "◎MB_15: \n",
            "◎소관기관유형: 앙\n",
            "◎지원유형: 지원유형    기타(교육)\n",
            "지원유형        기타\n",
            "Name: 200, dtype: object\n",
            "◎지원유형상세: 기타(교육)\n",
            "◎신청절차: 신청절차    신청서 전자메일로 신청\n",
            "신청절차              무관\n",
            "Name: 200, dtype: object\n",
            "◎성별: 무관\n",
            "◎결혼: 무관\n",
            "◎학력: 무관\n",
            "◎가구원: 무관\n",
            "◎자녀: 없음\n",
            "◎자녀상세: 없음\n",
            "◎직장: 무관\n",
            "◎직장상세: None\n",
            "\n",
            "=====================policy 정보=================\n",
            "◎정책ID: 203\n",
            "◎정책서비스ID: 138300000009\n",
            "◎서비스명: 결혼이민예정자 현지사전교육 지원\n",
            "◎소관기관: 여성가족부\n",
            "◎소관기관유형.1: 중앙정부\n",
            "◎생애주기: None\n",
            "◎신청절차: "
          ]
        },
        {
          "output_type": "error",
          "ename": "KeyboardInterrupt",
          "evalue": "ignored",
          "traceback": [
            "\u001b[0;31m---------------------------------------------------------------------------\u001b[0m",
            "\u001b[0;31mKeyboardInterrupt\u001b[0m                         Traceback (most recent call last)",
            "\u001b[0;32m<ipython-input-463-f2c462df4720>\u001b[0m in \u001b[0;36m<module>\u001b[0;34m()\u001b[0m\n\u001b[0;32m----> 1\u001b[0;31m \u001b[0mrecommendation\u001b[0m\u001b[0;34m(\u001b[0m\u001b[0;34m[\u001b[0m\u001b[0;34m'여성'\u001b[0m\u001b[0;34m,\u001b[0m \u001b[0;36m27\u001b[0m\u001b[0;34m,\u001b[0m \u001b[0;34m'경기도, 서울'\u001b[0m\u001b[0;34m,\u001b[0m \u001b[0;34m'파주시'\u001b[0m\u001b[0;34m,\u001b[0m \u001b[0;34m'대학(원)졸업'\u001b[0m\u001b[0;34m,\u001b[0m \u001b[0;34m''\u001b[0m\u001b[0;34m,\u001b[0m \u001b[0;34m''\u001b[0m\u001b[0;34m,\u001b[0m \u001b[0;34m'미혼'\u001b[0m\u001b[0;34m,\u001b[0m \u001b[0;34m'없음'\u001b[0m\u001b[0;34m,\u001b[0m \u001b[0;34m''\u001b[0m\u001b[0;34m,\u001b[0m \u001b[0;34m''\u001b[0m\u001b[0;34m,\u001b[0m \u001b[0;34m''\u001b[0m\u001b[0;34m]\u001b[0m\u001b[0;34m)\u001b[0m\u001b[0;34m\u001b[0m\u001b[0;34m\u001b[0m\u001b[0m\n\u001b[0m",
            "\u001b[0;32m<ipython-input-462-3929583dc505>\u001b[0m in \u001b[0;36mrecommendation\u001b[0;34m(user_info)\u001b[0m\n\u001b[1;32m     44\u001b[0m     \u001b[0;32mfor\u001b[0m \u001b[0mcolumn\u001b[0m \u001b[0;32min\u001b[0m \u001b[0mpolicy\u001b[0m\u001b[0;34m.\u001b[0m\u001b[0mcolumns\u001b[0m\u001b[0;34m:\u001b[0m\u001b[0;34m\u001b[0m\u001b[0;34m\u001b[0m\u001b[0m\n\u001b[1;32m     45\u001b[0m       \u001b[0mprint\u001b[0m\u001b[0;34m(\u001b[0m\u001b[0;34mf'◎{column}: '\u001b[0m\u001b[0;34m,\u001b[0m \u001b[0mend\u001b[0m\u001b[0;34m=\u001b[0m\u001b[0;34m''\u001b[0m\u001b[0;34m)\u001b[0m\u001b[0;34m\u001b[0m\u001b[0;34m\u001b[0m\u001b[0m\n\u001b[0;32m---> 46\u001b[0;31m       \u001b[0mprint\u001b[0m\u001b[0;34m(\u001b[0m\u001b[0mpolicy\u001b[0m\u001b[0;34m[\u001b[0m\u001b[0mcolumn\u001b[0m\u001b[0;34m]\u001b[0m\u001b[0;34m.\u001b[0m\u001b[0miloc\u001b[0m\u001b[0;34m[\u001b[0m\u001b[0mbest_idx\u001b[0m\u001b[0;34m]\u001b[0m\u001b[0;34m)\u001b[0m\u001b[0;34m\u001b[0m\u001b[0;34m\u001b[0m\u001b[0m\n\u001b[0m\u001b[1;32m     47\u001b[0m     \u001b[0mprint\u001b[0m\u001b[0;34m(\u001b[0m\u001b[0;34m)\u001b[0m\u001b[0;34m\u001b[0m\u001b[0;34m\u001b[0m\u001b[0m\n\u001b[1;32m     48\u001b[0m \u001b[0;34m\u001b[0m\u001b[0m\n",
            "\u001b[0;32m/usr/local/lib/python3.7/dist-packages/pandas/core/frame.py\u001b[0m in \u001b[0;36m__getitem__\u001b[0;34m(self, key)\u001b[0m\n\u001b[1;32m   2916\u001b[0m             \u001b[0mindexer\u001b[0m \u001b[0;34m=\u001b[0m \u001b[0mnp\u001b[0m\u001b[0;34m.\u001b[0m\u001b[0mwhere\u001b[0m\u001b[0;34m(\u001b[0m\u001b[0mindexer\u001b[0m\u001b[0;34m)\u001b[0m\u001b[0;34m[\u001b[0m\u001b[0;36m0\u001b[0m\u001b[0;34m]\u001b[0m\u001b[0;34m\u001b[0m\u001b[0;34m\u001b[0m\u001b[0m\n\u001b[1;32m   2917\u001b[0m \u001b[0;34m\u001b[0m\u001b[0m\n\u001b[0;32m-> 2918\u001b[0;31m         \u001b[0mdata\u001b[0m \u001b[0;34m=\u001b[0m \u001b[0mself\u001b[0m\u001b[0;34m.\u001b[0m\u001b[0m_take_with_is_copy\u001b[0m\u001b[0;34m(\u001b[0m\u001b[0mindexer\u001b[0m\u001b[0;34m,\u001b[0m \u001b[0maxis\u001b[0m\u001b[0;34m=\u001b[0m\u001b[0;36m1\u001b[0m\u001b[0;34m)\u001b[0m\u001b[0;34m\u001b[0m\u001b[0;34m\u001b[0m\u001b[0m\n\u001b[0m\u001b[1;32m   2919\u001b[0m \u001b[0;34m\u001b[0m\u001b[0m\n\u001b[1;32m   2920\u001b[0m         \u001b[0;32mif\u001b[0m \u001b[0mis_single_key\u001b[0m\u001b[0;34m:\u001b[0m\u001b[0;34m\u001b[0m\u001b[0;34m\u001b[0m\u001b[0m\n",
            "\u001b[0;32m/usr/local/lib/python3.7/dist-packages/pandas/core/generic.py\u001b[0m in \u001b[0;36m_take_with_is_copy\u001b[0;34m(self, indices, axis)\u001b[0m\n\u001b[1;32m   3361\u001b[0m         \u001b[0mSee\u001b[0m \u001b[0mthe\u001b[0m \u001b[0mdocstring\u001b[0m \u001b[0mof\u001b[0m\u001b[0;31m \u001b[0m\u001b[0;31m`\u001b[0m\u001b[0mtake\u001b[0m\u001b[0;31m`\u001b[0m \u001b[0;32mfor\u001b[0m \u001b[0mfull\u001b[0m \u001b[0mexplanation\u001b[0m \u001b[0mof\u001b[0m \u001b[0mthe\u001b[0m \u001b[0mparameters\u001b[0m\u001b[0;34m.\u001b[0m\u001b[0;34m\u001b[0m\u001b[0;34m\u001b[0m\u001b[0m\n\u001b[1;32m   3362\u001b[0m         \"\"\"\n\u001b[0;32m-> 3363\u001b[0;31m         \u001b[0mresult\u001b[0m \u001b[0;34m=\u001b[0m \u001b[0mself\u001b[0m\u001b[0;34m.\u001b[0m\u001b[0mtake\u001b[0m\u001b[0;34m(\u001b[0m\u001b[0mindices\u001b[0m\u001b[0;34m=\u001b[0m\u001b[0mindices\u001b[0m\u001b[0;34m,\u001b[0m \u001b[0maxis\u001b[0m\u001b[0;34m=\u001b[0m\u001b[0maxis\u001b[0m\u001b[0;34m)\u001b[0m\u001b[0;34m\u001b[0m\u001b[0;34m\u001b[0m\u001b[0m\n\u001b[0m\u001b[1;32m   3364\u001b[0m         \u001b[0;31m# Maybe set copy if we didn't actually change the index.\u001b[0m\u001b[0;34m\u001b[0m\u001b[0;34m\u001b[0m\u001b[0;34m\u001b[0m\u001b[0m\n\u001b[1;32m   3365\u001b[0m         \u001b[0;32mif\u001b[0m \u001b[0;32mnot\u001b[0m \u001b[0mresult\u001b[0m\u001b[0;34m.\u001b[0m\u001b[0m_get_axis\u001b[0m\u001b[0;34m(\u001b[0m\u001b[0maxis\u001b[0m\u001b[0;34m)\u001b[0m\u001b[0;34m.\u001b[0m\u001b[0mequals\u001b[0m\u001b[0;34m(\u001b[0m\u001b[0mself\u001b[0m\u001b[0;34m.\u001b[0m\u001b[0m_get_axis\u001b[0m\u001b[0;34m(\u001b[0m\u001b[0maxis\u001b[0m\u001b[0;34m)\u001b[0m\u001b[0;34m)\u001b[0m\u001b[0;34m:\u001b[0m\u001b[0;34m\u001b[0m\u001b[0;34m\u001b[0m\u001b[0m\n",
            "\u001b[0;32m/usr/local/lib/python3.7/dist-packages/pandas/core/generic.py\u001b[0m in \u001b[0;36mtake\u001b[0;34m(self, indices, axis, is_copy, **kwargs)\u001b[0m\n\u001b[1;32m   3349\u001b[0m \u001b[0;34m\u001b[0m\u001b[0m\n\u001b[1;32m   3350\u001b[0m         new_data = self._mgr.take(\n\u001b[0;32m-> 3351\u001b[0;31m             \u001b[0mindices\u001b[0m\u001b[0;34m,\u001b[0m \u001b[0maxis\u001b[0m\u001b[0;34m=\u001b[0m\u001b[0mself\u001b[0m\u001b[0;34m.\u001b[0m\u001b[0m_get_block_manager_axis\u001b[0m\u001b[0;34m(\u001b[0m\u001b[0maxis\u001b[0m\u001b[0;34m)\u001b[0m\u001b[0;34m,\u001b[0m \u001b[0mverify\u001b[0m\u001b[0;34m=\u001b[0m\u001b[0;32mTrue\u001b[0m\u001b[0;34m\u001b[0m\u001b[0;34m\u001b[0m\u001b[0m\n\u001b[0m\u001b[1;32m   3352\u001b[0m         )\n\u001b[1;32m   3353\u001b[0m         \u001b[0;32mreturn\u001b[0m \u001b[0mself\u001b[0m\u001b[0;34m.\u001b[0m\u001b[0m_constructor\u001b[0m\u001b[0;34m(\u001b[0m\u001b[0mnew_data\u001b[0m\u001b[0;34m)\u001b[0m\u001b[0;34m.\u001b[0m\u001b[0m__finalize__\u001b[0m\u001b[0;34m(\u001b[0m\u001b[0mself\u001b[0m\u001b[0;34m,\u001b[0m \u001b[0mmethod\u001b[0m\u001b[0;34m=\u001b[0m\u001b[0;34m\"take\"\u001b[0m\u001b[0;34m)\u001b[0m\u001b[0;34m\u001b[0m\u001b[0;34m\u001b[0m\u001b[0m\n",
            "\u001b[0;32m/usr/local/lib/python3.7/dist-packages/pandas/core/internals/managers.py\u001b[0m in \u001b[0;36mtake\u001b[0;34m(self, indexer, axis, verify, convert)\u001b[0m\n\u001b[1;32m   1455\u001b[0m         \u001b[0mnew_labels\u001b[0m \u001b[0;34m=\u001b[0m \u001b[0mself\u001b[0m\u001b[0;34m.\u001b[0m\u001b[0maxes\u001b[0m\u001b[0;34m[\u001b[0m\u001b[0maxis\u001b[0m\u001b[0;34m]\u001b[0m\u001b[0;34m.\u001b[0m\u001b[0mtake\u001b[0m\u001b[0;34m(\u001b[0m\u001b[0mindexer\u001b[0m\u001b[0;34m)\u001b[0m\u001b[0;34m\u001b[0m\u001b[0;34m\u001b[0m\u001b[0m\n\u001b[1;32m   1456\u001b[0m         return self.reindex_indexer(\n\u001b[0;32m-> 1457\u001b[0;31m             \u001b[0mnew_axis\u001b[0m\u001b[0;34m=\u001b[0m\u001b[0mnew_labels\u001b[0m\u001b[0;34m,\u001b[0m \u001b[0mindexer\u001b[0m\u001b[0;34m=\u001b[0m\u001b[0mindexer\u001b[0m\u001b[0;34m,\u001b[0m \u001b[0maxis\u001b[0m\u001b[0;34m=\u001b[0m\u001b[0maxis\u001b[0m\u001b[0;34m,\u001b[0m \u001b[0mallow_dups\u001b[0m\u001b[0;34m=\u001b[0m\u001b[0;32mTrue\u001b[0m\u001b[0;34m\u001b[0m\u001b[0;34m\u001b[0m\u001b[0m\n\u001b[0m\u001b[1;32m   1458\u001b[0m         )\n\u001b[1;32m   1459\u001b[0m \u001b[0;34m\u001b[0m\u001b[0m\n",
            "\u001b[0;32m/usr/local/lib/python3.7/dist-packages/pandas/core/internals/managers.py\u001b[0m in \u001b[0;36mreindex_indexer\u001b[0;34m(self, new_axis, indexer, axis, fill_value, allow_dups, copy, consolidate)\u001b[0m\n\u001b[1;32m   1289\u001b[0m \u001b[0;34m\u001b[0m\u001b[0m\n\u001b[1;32m   1290\u001b[0m         \u001b[0;32mif\u001b[0m \u001b[0maxis\u001b[0m \u001b[0;34m==\u001b[0m \u001b[0;36m0\u001b[0m\u001b[0;34m:\u001b[0m\u001b[0;34m\u001b[0m\u001b[0;34m\u001b[0m\u001b[0m\n\u001b[0;32m-> 1291\u001b[0;31m             \u001b[0mnew_blocks\u001b[0m \u001b[0;34m=\u001b[0m \u001b[0mself\u001b[0m\u001b[0;34m.\u001b[0m\u001b[0m_slice_take_blocks_ax0\u001b[0m\u001b[0;34m(\u001b[0m\u001b[0mindexer\u001b[0m\u001b[0;34m,\u001b[0m \u001b[0mfill_value\u001b[0m\u001b[0;34m=\u001b[0m\u001b[0mfill_value\u001b[0m\u001b[0;34m)\u001b[0m\u001b[0;34m\u001b[0m\u001b[0;34m\u001b[0m\u001b[0m\n\u001b[0m\u001b[1;32m   1292\u001b[0m         \u001b[0;32melse\u001b[0m\u001b[0;34m:\u001b[0m\u001b[0;34m\u001b[0m\u001b[0;34m\u001b[0m\u001b[0m\n\u001b[1;32m   1293\u001b[0m             new_blocks = [\n",
            "\u001b[0;32m/usr/local/lib/python3.7/dist-packages/pandas/core/internals/managers.py\u001b[0m in \u001b[0;36m_slice_take_blocks_ax0\u001b[0;34m(self, slice_or_indexer, fill_value, only_slice)\u001b[0m\n\u001b[1;32m   1330\u001b[0m \u001b[0;34m\u001b[0m\u001b[0m\n\u001b[1;32m   1331\u001b[0m         sl_type, slobj, sllen = _preprocess_slice_or_indexer(\n\u001b[0;32m-> 1332\u001b[0;31m             \u001b[0mslice_or_indexer\u001b[0m\u001b[0;34m,\u001b[0m \u001b[0mself\u001b[0m\u001b[0;34m.\u001b[0m\u001b[0mshape\u001b[0m\u001b[0;34m[\u001b[0m\u001b[0;36m0\u001b[0m\u001b[0;34m]\u001b[0m\u001b[0;34m,\u001b[0m \u001b[0mallow_fill\u001b[0m\u001b[0;34m=\u001b[0m\u001b[0mallow_fill\u001b[0m\u001b[0;34m\u001b[0m\u001b[0;34m\u001b[0m\u001b[0m\n\u001b[0m\u001b[1;32m   1333\u001b[0m         )\n\u001b[1;32m   1334\u001b[0m \u001b[0;34m\u001b[0m\u001b[0m\n",
            "\u001b[0;32m/usr/local/lib/python3.7/dist-packages/pandas/core/internals/managers.py\u001b[0m in \u001b[0;36mshape\u001b[0;34m(self)\u001b[0m\n\u001b[1;32m    212\u001b[0m     \u001b[0;34m@\u001b[0m\u001b[0mproperty\u001b[0m\u001b[0;34m\u001b[0m\u001b[0;34m\u001b[0m\u001b[0m\n\u001b[1;32m    213\u001b[0m     \u001b[0;32mdef\u001b[0m \u001b[0mshape\u001b[0m\u001b[0;34m(\u001b[0m\u001b[0mself\u001b[0m\u001b[0;34m)\u001b[0m \u001b[0;34m->\u001b[0m \u001b[0mTuple\u001b[0m\u001b[0;34m[\u001b[0m\u001b[0mint\u001b[0m\u001b[0;34m,\u001b[0m \u001b[0;34m...\u001b[0m\u001b[0;34m]\u001b[0m\u001b[0;34m:\u001b[0m\u001b[0;34m\u001b[0m\u001b[0;34m\u001b[0m\u001b[0m\n\u001b[0;32m--> 214\u001b[0;31m         \u001b[0;32mreturn\u001b[0m \u001b[0mtuple\u001b[0m\u001b[0;34m(\u001b[0m\u001b[0mlen\u001b[0m\u001b[0;34m(\u001b[0m\u001b[0max\u001b[0m\u001b[0;34m)\u001b[0m \u001b[0;32mfor\u001b[0m \u001b[0max\u001b[0m \u001b[0;32min\u001b[0m \u001b[0mself\u001b[0m\u001b[0;34m.\u001b[0m\u001b[0maxes\u001b[0m\u001b[0;34m)\u001b[0m\u001b[0;34m\u001b[0m\u001b[0;34m\u001b[0m\u001b[0m\n\u001b[0m\u001b[1;32m    215\u001b[0m \u001b[0;34m\u001b[0m\u001b[0m\n\u001b[1;32m    216\u001b[0m     \u001b[0;34m@\u001b[0m\u001b[0mproperty\u001b[0m\u001b[0;34m\u001b[0m\u001b[0;34m\u001b[0m\u001b[0m\n",
            "\u001b[0;32m/usr/local/lib/python3.7/dist-packages/pandas/core/internals/managers.py\u001b[0m in \u001b[0;36m<genexpr>\u001b[0;34m(.0)\u001b[0m\n\u001b[1;32m    212\u001b[0m     \u001b[0;34m@\u001b[0m\u001b[0mproperty\u001b[0m\u001b[0;34m\u001b[0m\u001b[0;34m\u001b[0m\u001b[0m\n\u001b[1;32m    213\u001b[0m     \u001b[0;32mdef\u001b[0m \u001b[0mshape\u001b[0m\u001b[0;34m(\u001b[0m\u001b[0mself\u001b[0m\u001b[0;34m)\u001b[0m \u001b[0;34m->\u001b[0m \u001b[0mTuple\u001b[0m\u001b[0;34m[\u001b[0m\u001b[0mint\u001b[0m\u001b[0;34m,\u001b[0m \u001b[0;34m...\u001b[0m\u001b[0;34m]\u001b[0m\u001b[0;34m:\u001b[0m\u001b[0;34m\u001b[0m\u001b[0;34m\u001b[0m\u001b[0m\n\u001b[0;32m--> 214\u001b[0;31m         \u001b[0;32mreturn\u001b[0m \u001b[0mtuple\u001b[0m\u001b[0;34m(\u001b[0m\u001b[0mlen\u001b[0m\u001b[0;34m(\u001b[0m\u001b[0max\u001b[0m\u001b[0;34m)\u001b[0m \u001b[0;32mfor\u001b[0m \u001b[0max\u001b[0m \u001b[0;32min\u001b[0m \u001b[0mself\u001b[0m\u001b[0;34m.\u001b[0m\u001b[0maxes\u001b[0m\u001b[0;34m)\u001b[0m\u001b[0;34m\u001b[0m\u001b[0;34m\u001b[0m\u001b[0m\n\u001b[0m\u001b[1;32m    215\u001b[0m \u001b[0;34m\u001b[0m\u001b[0m\n\u001b[1;32m    216\u001b[0m     \u001b[0;34m@\u001b[0m\u001b[0mproperty\u001b[0m\u001b[0;34m\u001b[0m\u001b[0;34m\u001b[0m\u001b[0m\n",
            "\u001b[0;31mKeyboardInterrupt\u001b[0m: "
          ]
        }
      ]
    },
    {
      "cell_type": "code",
      "source": [
        "recommendation(['여성', 27, '경기도', '파주시', '대학(원)졸업', '구직자/실업자', '', '미혼', '없음', None, '중위소득 40% 이하, 중위소득 40 ~ 60% 사이','취업 지원'])"
      ],
      "metadata": {
        "id": "X2PVw9O2ZWNf"
      },
      "execution_count": null,
      "outputs": []
    },
    {
      "cell_type": "markdown",
      "source": [
        "#### 특수모델"
      ],
      "metadata": {
        "id": "hIb2GXYiLlF6"
      }
    },
    {
      "cell_type": "code",
      "source": [
        "user_feature_matrix2 = [gender_matrix2, 'age', city_matrix2, city2_matrix2, edu_matrix2, work_matrix2, house_matrix2, marry_matrix2, child_matrix2, child_detail_matrix2, money_matrix2, mb_15_matrix2]"
      ],
      "metadata": {
        "id": "QMW21kBMLwOT"
      },
      "execution_count": null,
      "outputs": []
    },
    {
      "cell_type": "code",
      "source": [
        "feature_policy_matrix2 = [gender_policy2, 'age',  city_policy2, city2_policy2, edu_policy2, work_policy2, house_policy2, marry_policy2, child_policy2, child_detail_policy2, money_policy2, mb_15_policy]"
      ],
      "metadata": {
        "id": "8TtG7y8sLwOT"
      },
      "execution_count": null,
      "outputs": []
    },
    {
      "cell_type": "code",
      "source": [
        "# user_info에 직접 데이터를 넣으려면 성별, 나이, 시도, 시 군구, 학력, 직장, 가구원, 결혼, 자녀, 자녀상세, mb_15순서이 list 형태로 넣어야 함\n",
        "\n",
        "def recommendation2(user_info):\n",
        "  # user 정보 보여주기\n",
        "  if type(user_info) == int:\n",
        "    print(f'===================={user_info}번째 user 정보=================')\n",
        "    for i in user.columns:\n",
        "      print(f'{i}: ', end='')\n",
        "      print(user[i][user_info])\n",
        "    print()\n",
        "    user_info = user[['성별', '나이', '시도', '시군구', '학력', '직장', '가구원', '결혼', '자녀', '자녀상세', 'mb_12', 'mb_15']].iloc[user_info]\n",
        "  elif (type(user_info) == list) or (type(user_info) == numpy.ndarray):\n",
        "    print(f'===================user 정보=================')\n",
        "    for i, column in enumerate(['성별', '나이', '시도', '시군구', '학력', '직장', '가구원', '결혼', '자녀', '자녀상세', '중위소득', '관심정책']):\n",
        "      print(f'{column}: ', end='')\n",
        "      print(user_info[i])\n",
        "    print()\n",
        "  else:\n",
        "    print('user_info에 직접 데이터를 넣으려면 [성별, 나이, 시도, 시군구, 학력, 직장, 가구원, 결혼, 자녀, 자녀상세, 중위소득, 관심정책] 순서의 리스트 형태로 넣어야 함')\n",
        "    return False\n",
        "  \n",
        "  # 유사도 매트릭스 구하기\n",
        "  ans = np.array([[0 for i in range(len(policy))] for j in range(1)])\n",
        "  for i, value in enumerate(user_info):\n",
        "    if i == 1:\n",
        "      ans += age_matrix(value)\n",
        "    elif (i == 6) or (i == 9):\n",
        "      ans = ans + minmax(np.dot(user_feature_matrix2[i](value), feature_policy_matrix2[i])) * 0.5\n",
        "    elif (i == 2) or (i==8) or (i==5):\n",
        "      ans = ans + minmax(np.dot(user_feature_matrix2[i](value), feature_policy_matrix2[i])) * 2\n",
        "    elif (i == 10) or (i == 11):\n",
        "      ans = ans + minmax(np.dot(user_feature_matrix2[i](value), feature_policy_matrix2[i])) * 3\n",
        "    else:\n",
        "      ans += np.dot(user_feature_matrix2[i](value), feature_policy_matrix2[i])\n",
        "    \n",
        "  # 추천하는 policy 정보 보여주기\n",
        "  best = max(ans[0])\n",
        "  best_idxs = [i for i, v in enumerate(ans[0]) if v == best]\n",
        "  print(f'{len(best_idxs)}개가 {best}값으로 최적의 정책임')\n",
        "\n",
        "  for best_idx in best_idxs:\n",
        "    print('=====================policy 정보=================')\n",
        "    print(best_idx)\n",
        "    for column in policy.columns:\n",
        "      print(f'◎{column}: ', end='')\n",
        "      print(policy[column].iloc[best_idx])\n",
        "    print()\n",
        "\n",
        "  print(f'{len(best_idxs)}개가 {best}값으로 최적의 정책임')"
      ],
      "metadata": {
        "id": "tpelMZQ2Nwho"
      },
      "execution_count": null,
      "outputs": []
    },
    {
      "cell_type": "code",
      "source": [
        "recommendation2(['여성', 27, '경기도', '파주시', '대학(원)졸업', '구직자/실업자', '', '미혼', '없음', None, '중위소득 40% 이하, 중위소득 40 ~ 60% 사이','취업 지원'])"
      ],
      "metadata": {
        "colab": {
          "base_uri": "https://localhost:8080/"
        },
        "id": "v0B-qjeb5HS5",
        "outputId": "9aeee8f7-f4b7-4666-dde5-6bd84dc5b243"
      },
      "execution_count": null,
      "outputs": [
        {
          "output_type": "stream",
          "name": "stdout",
          "text": [
            "===================user 정보=================\n",
            "성별: 여성\n",
            "나이: 27\n",
            "시도: 경기도\n",
            "시군구: 파주시\n",
            "학력: 대학(원)졸업\n",
            "직장: 구직자/실업자\n",
            "가구원: \n",
            "결혼: 미혼\n",
            "자녀: 없음\n",
            "자녀상세: None\n",
            "중위소득: 중위소득 40% 이하, 중위소득 40 ~ 60% 사이\n",
            "관심정책: 취업 지원\n",
            "\n",
            "7개가 14.0값으로 최적의 정책임\n",
            "=====================policy 정보=================\n",
            "389\n",
            "◎정책ID: 390\n",
            "◎정책서비스ID: 149200000037\n",
            "◎서비스명: 직업훈련생계비 대부\n",
            "◎소관기관: 고용노동부\n",
            "◎소관기관유형.1: 중앙정부\n",
            "◎생애주기: None\n",
            "◎신청절차: 신청절차    근로복지공단에 방문하거나 온라인으로 신청\n",
            "신청절차                        무관\n",
            "Name: 389, dtype: object\n",
            "◎선정기준: ○ 고용노동부가 지원하는 훈련 중 3주 이상 훈련에 참여하고 있는 비정규직 근로자 및 전직실업자, 무급휴직자, 특수형태근로종사자, 휴폐업한 자영업자 중 가구소득이 기준중위소득의 100% 이하인 자\n",
            "◎지원유형: 지원유형    현금(융자)\n",
            "지원유형        현금\n",
            "Name: 389, dtype: object\n",
            "◎서비스목적: 취약계층(비정규직근로자, 전직실업자, 무급휴직자, 특수형태근로종사자, 휴폐업한 자영업자)이 생계비에 대한 부담 없이 장기간 체계적인 훈련을 받고 더 나은 일자리로의 취업을 할 수 있도록 생계비를 융자 신청할 수 있도록 함\n",
            "◎지원내용: ○ 1인당 대부 한도액 : 2,000만 원 (특별고용지원업종 및 고용위기지역은 3,000만원)\n",
            "\n",
            "○ 월별 대부 한도액 : 200만 원(최소 50만 원) \n",
            "\n",
            "○ 상환 방법 : 1년 거치 3년, 2년 거치 4년, 3년 거치 5년 균등분할 상환 \n",
            "\n",
            "○ 융자금리 : 연 1% \n",
            "\n",
            "○ 최대 3년 거치 5년 균등 상환\n",
            "◎지원대상: ○ 3주 이상인 직업훈련*에 참여하는 비정규직 근로자, 전직실업자, 무급휴직자, 특수형태근로종사자(산재보험 가입자에 한함), 휴폐업한 자영업자 중 가구원 합산 소득이 기준 중위소득의 100% 이하인 자\n",
            " - 전직실업자인 경우 실업급여 수급중인 자는 제외\n",
            "  · 직업훈련: 고용 노동부에서 인정하는 훈련과정(실업자 및 재직자훈련, 산업재해보상보험법 및 장애인 고용 촉진 및 직업재활법에 의한 훈련 등), 지자체가 설치한 공공훈련시설에서 취업 목적으로 실시하는 훈련\n",
            "◎대상연령시작: 0\n",
            "◎대상연령끝: 99\n",
            "◎시도: 전국\n",
            "◎시군구: None\n",
            "◎중위소득: 0,10,20,30,40,50,60,70,80,90,100\n",
            "◎관심상황특성: \n",
            "◎대상특성: 해당사항없음\n",
            "◎대상특성상세: \n",
            "◎MB_15: 기업금융지원,개인금융지원,취업 지원\n",
            "◎소관기관유형: 앙\n",
            "◎지원유형: 지원유형    현금(융자)\n",
            "지원유형        현금\n",
            "Name: 389, dtype: object\n",
            "◎지원유형상세: 현금(융자)\n",
            "◎신청절차: 신청절차    근로복지공단에 방문하거나 온라인으로 신청\n",
            "신청절차                        무관\n",
            "Name: 389, dtype: object\n",
            "◎성별: 무관\n",
            "◎결혼: 무관\n",
            "◎학력: 무관\n",
            "◎가구원: 무관\n",
            "◎자녀: 없음\n",
            "◎자녀상세: 없음\n",
            "◎직장: 구직자/실업자\n",
            "◎직장상세: 경영/사무/금융/보험직,영업/판매/운전/운송직\n",
            "\n",
            "=====================policy 정보=================\n",
            "444\n",
            "◎정책ID: 445\n",
            "◎정책서비스ID: 149200005007\n",
            "◎서비스명: 국민취업지원제도\n",
            "◎소관기관: 고용노동부\n",
            "◎소관기관유형.1: 중앙정부\n",
            "◎생애주기: None\n",
            "◎신청절차: 신청절차    참여를 희망하는 본인이 직접 거주지 관할 고용센터에 방문하거나\\n온라인(www.wo...\n",
            "신청절차                                                   무관\n",
            "Name: 444, dtype: object\n",
            "◎선정기준: ∙(I유형) 중위소득 50% 이하, 재산 3억 이하이면서, 최근 2년 이내 100일 또는 800시간 이상의 취업경험이 있는 분\n",
            " * 취업경험이 없는 비경활, 청년은 예산 범위 내 선발지원(청년은 소득요건 120% 이하)\n",
            "∙(II유형) I유형에 해당하지 않는 가구단위 중위소득 100% 이하(청년은 모두 무관)\n",
            "◎지원유형: 지원유형    None\n",
            "지원유형      기타\n",
            "Name: 444, dtype: object\n",
            "◎서비스목적: 근로능력과 구직의사가 있음에도 불구하고 취업에 어려움을 겪고 있는 국민에게 통합적인 취업지원서비스를 제공하고 생계를 지원함으로써 구직활동 및 생계안정 도모\n",
            "◎지원내용: 취업취약계층(저소득층, 청년, 영세 자영업자 등)에게 취업지원서비스를 제공하고, 저소득 구직자에게는 생계안정을 위한 소득도 결합하여 지원\n",
            "◎지원대상: ∙(I유형) 중위소득 50% 이하, 재산 3억 이하이면서, 최근 2년 이내 100일 또는 800시간 이상의 취업경험이 있는 분\n",
            " * 취업경험이 없는 비경활, 청년은 예산 범위 내 선발지원(청년은 소득요건 120% 이하)\n",
            "∙(II유형) I유형에 해당하지 않는 가구단위 중위소득 100% 이하(청년은 모두 무관)\n",
            "◎대상연령시작: 0\n",
            "◎대상연령끝: 99\n",
            "◎시도: 전국\n",
            "◎시군구: None\n",
            "◎중위소득: 0,10,20,30,40,50,60,70,80,90,100\n",
            "◎관심상황특성: \n",
            "◎대상특성: 해당사항없음\n",
            "◎대상특성상세: \n",
            "◎MB_15: 취업 지원\n",
            "◎소관기관유형: 앙\n",
            "◎지원유형: 지원유형    None\n",
            "지원유형      기타\n",
            "Name: 444, dtype: object\n",
            "◎지원유형상세: 해당사항없음\n",
            "◎신청절차: 신청절차    참여를 희망하는 본인이 직접 거주지 관할 고용센터에 방문하거나\\n온라인(www.wo...\n",
            "신청절차                                                   무관\n",
            "Name: 444, dtype: object\n",
            "◎성별: 무관\n",
            "◎결혼: 무관\n",
            "◎학력: 무관\n",
            "◎가구원: 무관\n",
            "◎자녀: 없음\n",
            "◎자녀상세: 없음\n",
            "◎직장: 구직자/실업자\n",
            "◎직장상세: None\n",
            "\n",
            "=====================policy 정보=================\n",
            "650\n",
            "◎정책ID: 649\n",
            "◎정책서비스ID: 999000000003\n",
            "◎서비스명: 구직촉진수당\n",
            "◎소관기관: 고용노동부\n",
            "◎소관기관유형.1: 중앙정부\n",
            "◎생애주기: None\n",
            "◎신청절차: 신청절차    고용복지+센터 방문, 온라인, 팩스를 통해서 신청\n",
            "신청절차                             무관\n",
            "Name: 650, dtype: object\n",
            "◎선정기준: ○ 취업성공패키지 3단계 진입자\n",
            "◎지원유형: 지원유형    현금\n",
            "지원유형    현금\n",
            "Name: 650, dtype: object\n",
            "◎서비스목적: 저소득층에 대해 구직기간 중 생계비를 지원해 안정적인 구직활동을 도모하기 위해 운영\n",
            "◎지원내용: ○ 지급 금액은 최대 3개월간 매월 50만원 지원\n",
            " - 단, 만 65세 이상의 경우 기초연금을 수급받고 있는 점을 감안하여 월 20만원(최대 3개월)을 지원\n",
            "◎지원대상: ○ 취업성공패키지에 참여 중인 만 69세 이하 중위소득 60% 이하의 저소득층\n",
            "◎대상연령시작: 0\n",
            "◎대상연령끝: 69\n",
            "◎시도: 전국\n",
            "◎시군구: None\n",
            "◎중위소득: 0,10,20,30,40,50,60\n",
            "◎관심상황특성: \n",
            "◎대상특성: 해당사항없음\n",
            "◎대상특성상세: \n",
            "◎MB_15: 개인금융지원,취업 지원\n",
            "◎소관기관유형: 앙\n",
            "◎지원유형: 지원유형    현금\n",
            "지원유형    현금\n",
            "Name: 650, dtype: object\n",
            "◎지원유형상세: 현금(전체)\n",
            "◎신청절차: 신청절차    고용복지+센터 방문, 온라인, 팩스를 통해서 신청\n",
            "신청절차                             무관\n",
            "Name: 650, dtype: object\n",
            "◎성별: 무관\n",
            "◎결혼: 무관\n",
            "◎학력: 무관\n",
            "◎가구원: 무관\n",
            "◎자녀: 없음\n",
            "◎자녀상세: 없음\n",
            "◎직장: 구직자/실업자\n",
            "◎직장상세: None\n",
            "\n",
            "=====================policy 정보=================\n",
            "81454\n",
            "◎정책ID: 81455\n",
            "◎정책서비스ID: WII000001540\n",
            "◎서비스명: 국민취업지원제도\n",
            "◎소관기관: 고용노동부\n",
            "◎소관기관유형.1: 중앙행정기관\n",
            "◎생애주기: 아동·청소년||청년||중장년\n",
            "◎신청절차: 신청절차    참여를 희망하는 본인이 직접 거주지 관할 고용센터에 방문하거나\\n온라인(www.wo...\n",
            "신청절차                                                   무관\n",
            "Name: 81454, dtype: object\n",
            "◎선정기준: ∙(I유형) 중위소득 50% 이하, 재산 3억 이하이면서, 최근 2년 이내 100일 또는 800시간 이상의 취업경험이 있는 분\n",
            " * 취업경험이 없는 비경활, 청년은 예산 범위 내 선발지원(청년은 소득요건 120% 이하)\n",
            "∙(II유형) I유형에 해당하지 않는 가구단위 중위소득 100% 이하(청년은 모두 무관)\n",
            "◎지원유형: 지원유형    현금/현물\n",
            "지원유형    현금,현물\n",
            "Name: 81454, dtype: object\n",
            "◎서비스목적: 근로능력과 구직의사가 있음에도 불구하고 취업에 어려움을 겪고 있는 국민에게 통합적인 취업지원서비스를 제공하고 생계를 지원함으로써 구직활동 및 생계안정 도모\n",
            "◎지원내용: 취업취약계층(저소득층, 청년, 영세 자영업자 등)에게 취업지원서비스를 제공하고, 저소득 구직자에게는 생계안정을 위한 소득도 결합하여 지원\n",
            "\n",
            "~20191231\n",
            "\n",
            "취업·직장>취업지원>저소득층||취업·직장>취업지원>다문화/외국인||취업·직장>구인/구직활동>취업지원금||취업·직장>구인/구직활동>진로탐색/상담\n",
            "◎지원대상: ∙(I유형) 중위소득 50% 이하, 재산 3억 이하이면서, 최근 2년 이내 100일 또는 800시간 이상의 취업경험이 있는 분\n",
            " * 취업경험이 없는 비경활, 청년은 예산 범위 내 선발지원(청년은 소득요건 120% 이하)\n",
            "∙(II유형) I유형에 해당하지 않는 가구단위 중위소득 100% 이하(청년은 모두 무관)\n",
            "\n",
            "구직자||저소득층||다문화 가정||북한이탈주민\n",
            "◎대상연령시작: 6\n",
            "◎대상연령끝: 70\n",
            "◎시도: 전국\n",
            "◎시군구: None\n",
            "◎중위소득: 0,10,20,30,40,50,60,70,80,90,100\n",
            "◎관심상황특성: \n",
            "◎대상특성: 해당사항없음\n",
            "◎대상특성상세: \n",
            "◎MB_15: 개인금융지원,취업 지원\n",
            "◎소관기관유형: 앙\n",
            "◎지원유형: 지원유형    현금/현물\n",
            "지원유형    현금,현물\n",
            "Name: 81454, dtype: object\n",
            "◎지원유형상세: 현금(전체)\n",
            "◎신청절차: 신청절차    참여를 희망하는 본인이 직접 거주지 관할 고용센터에 방문하거나\\n온라인(www.wo...\n",
            "신청절차                                                   무관\n",
            "Name: 81454, dtype: object\n",
            "◎성별: 무관\n",
            "◎결혼: 무관\n",
            "◎학력: 무관\n",
            "◎가구원: 무관\n",
            "◎자녀: 없음\n",
            "◎자녀상세: 없음\n",
            "◎직장: 구직자/실업자\n",
            "◎직장상세: None\n",
            "\n",
            "=====================policy 정보=================\n",
            "84693\n",
            "◎정책ID: 84694\n",
            "◎정책서비스ID: B27000100017\n",
            "◎서비스명: 청년 미취업자 및 대학생에 대한 무료법률구조(法律救助)\n",
            "◎소관기관: 대한법률구조공단\n",
            "◎소관기관유형.1: 공공기관 등\n",
            "◎생애주기: 아동·청소년||청년\n",
            "◎신청절차: 신청절차    ○ 법률구조신청을 하기 위해서는 고객께서 본인의 주민등록등본과 법률구조 대상자임을 ...\n",
            "신청절차                                                 오프라인\n",
            "Name: 84693, dtype: object\n",
            "◎선정기준: ○ 구조 대상자 해당 여부 심사\n",
            "\n",
            "○ 승소 가능성 유무 심사\n",
            "\n",
            "○ 구조 타당성 여부 심사\n",
            "◎지원유형: 지원유형    상담/법률지원\\n\\n교육/용역\n",
            "지원유형             상담/법률지원\n",
            "Name: 84693, dtype: object\n",
            "◎서비스목적: 경제적 어려움 등으로 법의 보호를 충분히 받지 못하는 청년 미취업자 및 대학생에 대한 기본적 인권 옹호 및 법률복지 증진\n",
            "◎지원내용: ○ 민사, 가사사건 소송대리\n",
            "\n",
            "○ 행정심판 사건, 행정소송사건 소송대리\n",
            "\n",
            "○ 헌법소원 사건 소송대리\n",
            "\n",
            "○ 형사사건 변호\n",
            "\n",
            "\n",
            "\n",
            "금융·세금·법률>상담/법률구제>소송\n",
            "◎지원대상: ○ 기준 중위소득 125% 이하인 청년 미취업자 : 15세 이상 29세 이하의 청년 미취업자\n",
            "\n",
            "○ 기준 중위소득 125% 이하인 대학생 : 사이버대학을 제외한 각 대학의 재학생 및 휴학생(대학원생 제외)\n",
            "\n",
            "구직자||학생\n",
            "◎대상연령시작: 15\n",
            "◎대상연령끝: 29\n",
            "◎시도: 전국\n",
            "◎시군구: None\n",
            "◎중위소득: 0,10,20,30,40,50,60,70,80,90,100,110,120\n",
            "◎관심상황특성: \n",
            "◎대상특성: 해당사항없음\n",
            "◎대상특성상세: \n",
            "◎MB_15: 개인금융지원,취업 지원,취업 지원\n",
            "◎소관기관유형: 공\n",
            "◎지원유형: 지원유형    상담/법률지원\\n\\n교육/용역\n",
            "지원유형             상담/법률지원\n",
            "Name: 84693, dtype: object\n",
            "◎지원유형상세: 해당사항없음\n",
            "◎신청절차: 신청절차    ○ 법률구조신청을 하기 위해서는 고객께서 본인의 주민등록등본과 법률구조 대상자임을 ...\n",
            "신청절차                                                 오프라인\n",
            "Name: 84693, dtype: object\n",
            "◎성별: 무관\n",
            "◎결혼: 무관\n",
            "◎학력: 대학(원)재학,대학(원)휴학\n",
            "◎가구원: 무관\n",
            "◎자녀: 없음\n",
            "◎자녀상세: 없음\n",
            "◎직장: 대학/대학원생,구직자/실업자\n",
            "◎직장상세: 대학생,대학원생,교육/법률/사회복지/경찰/소방/군인직/공무원직\n",
            "\n",
            "=====================policy 정보=================\n",
            "88214\n",
            "◎정책ID: 88215\n",
            "◎정책서비스ID: B49000100005\n",
            "◎서비스명: (근로복지공단)직업훈련생계비 융자 신청\n",
            "◎소관기관: 근로복지공단\n",
            "◎소관기관유형.1: 공공기관 등\n",
            "◎생애주기: 청년||중장년||노년기\n",
            "◎신청절차: 신청절차    방문, 웹사이트\n",
            "신청절차        오프라인\n",
            "Name: 88214, dtype: object\n",
            "◎선정기준: ㅇ 대부신청일 기준 3주 이상의 대부대상 훈련과정에 참여하고 있는 자로 남은 훈련기간이 15일 이상인자\n",
            "   (※ 생계비 대부 신청일 이전 180일 이내에 30일 이상의 고용보험 피보험 일용근로내역이 있는 건설일용노동자가  12월부터 2월 사이에 대부대상훈련의 수강하는 경우에는 2주 이상의 훈련에 대해 대부할 수 있음)\n",
            "ㅇ 소득요건\n",
            "  - 가구원합산 전년도 연간 소득금액이 가구원별 중위소득 80% 이하인 자 \n",
            "  - 전년도 소득금액의 확인이 불가능한 경우에는 전전년도의 근로소득원천징수영수증이나 소득금액증명에 기재된 금액으로 함.\n",
            "◎지원유형: 지원유형    융자지원\n",
            "지원유형      현금\n",
            "Name: 88214, dtype: object\n",
            "◎서비스목적: 취약계층(비정규직 근로자, 전직 실업자)이 생계비에 대한 부담 없이 장기간 체계적인 훈련을 받고 더 나은 일자리로의 취업을 할 수 있도록 생계비를 융자 신청할 수 있는 서비스입니다.\n",
            "◎지원내용: ○ 직업 훈련 생계비 대부(1인당 대부 한도액 : 1,000만 원)\n",
            "○ 월별 대부 한도액 : 200만 원(최소 50만 원) \n",
            "○ 상환 방법 : 1년 거치 3년, 2년 거치 4년, 3년 거치 5년 균등분할 상환 \n",
            "○ 융자금리 : 연 1% \n",
            "○ 최대 3년 거치 5년 균등 상환\n",
            "\n",
            "\n",
            "\n",
            "취업·직장>교육/훈련>직업교육훈련/취업준비교육||금융·세금·법률>개인금융지원>대출/대부\n",
            "◎지원대상: ㅇ 대부대상자 \n",
            "  - 고용보험 피보험자격을 취득한 비정규직 노동자\n",
            "  - 고용보험 피보험자격을 상실한 전직 실업자\n",
            "ㅇ 대부대상 훈련과정 : 고용노동부장관이 인정하는 아래의 3주 이상의 훈련과정\n",
            "   (개별훈련 사이 공백 기간이 7일 이내인 훈련은 총합산 훈련 기간이 3주(인터넷 원격훈련 32시간) 이상인 경우 포함)\n",
            "  - 직업능력개발계좌제, 국가기간.전략산업직종훈련, 사업주 직업능력개발훈련, 폴리텍 기능사 과정 등 근로자직업능력개발법에 의해 지원되 \n",
            "    는 훈련과정\n",
            "  - 국가인적자원개발컨소시엄 등 고용보험법에 의해 지원되는 훈련과정\n",
            "  - 그 밖에 지방자치단체의 장이 직업능력개발훈련을 위하여 설치한 공공직업훈련시설에서 취업을 목적으로 실시하는 훈련\n",
            "  - 건설근로자공제회에서 건설일용근로자의 기능 향상을 위하여 실시하는 훈련\n",
            "  - 산업재해보상보험법 제72조 및 제92조 중 어느 하나에 해당하는 훈련\n",
            "  - 장애인 고용촉진 및 직업재활법 제11조 및 제12조 중 어느 하나에 해당하는 훈련\n",
            "ㅇ 제외대상\n",
            "  - 실업급여를 수급 중에 있는 자\n",
            "  - 이미 대부한도(1인당 1천만원)까지 대부를 받은 사람. 다만 대부금을 전액 상환한 경우에는 예외로 함\n",
            "  - 거짓이나 그 밖의 부정한 방법으로 대부를 받은 자\n",
            "  - 한국신용정보원에 연체정보 등의 신용정보가 등록된 자\n",
            "  - 외국인, 재외동포(재외국민 및 외국 국적 동포를 말함)\n",
            "\n",
            "구직자||근로자\n",
            "◎대상연령시작: 19\n",
            "◎대상연령끝: 99\n",
            "◎시도: 전국\n",
            "◎시군구: None\n",
            "◎중위소득: 0,10,20,30,40,50,60,70,80\n",
            "◎관심상황특성: \n",
            "◎대상특성: 해당사항없음\n",
            "◎대상특성상세: \n",
            "◎MB_15: 기업금융지원,개인금융지원,취업 지원\n",
            "◎소관기관유형: 공\n",
            "◎지원유형: 지원유형    융자지원\n",
            "지원유형      현금\n",
            "Name: 88214, dtype: object\n",
            "◎지원유형상세: 현금(융자)\n",
            "◎신청절차: 신청절차    방문, 웹사이트\n",
            "신청절차        오프라인\n",
            "Name: 88214, dtype: object\n",
            "◎성별: 무관\n",
            "◎결혼: 무관\n",
            "◎학력: 무관\n",
            "◎가구원: 무관\n",
            "◎자녀: 없음\n",
            "◎자녀상세: 없음\n",
            "◎직장: 구직자/실업자\n",
            "◎직장상세: 건설/채굴직,경영/사무/금융/보험직\n",
            "\n",
            "=====================policy 정보=================\n",
            "88215\n",
            "◎정책ID: 88216\n",
            "◎정책서비스ID: B49000100055\n",
            "◎서비스명: (근로복지공단)직업훈련 생계비 융자 신청정보 조회\n",
            "◎소관기관: 근로복지공단\n",
            "◎소관기관유형.1: 공공기관 등\n",
            "◎생애주기: 청년||중장년||노년기\n",
            "◎신청절차: 신청절차    ○ 로그인-신청결과 확인-주민등록번호 입력-공동인증서 비밀번호 입력-신청결과 확인(...\n",
            "신청절차                                                   무관\n",
            "Name: 88215, dtype: object\n",
            "◎선정기준: 고용노동부가 지원하는 훈련 중 3주 이상 훈련에 참여하고 있는 비정규직 근로자 및 전직 실업자(가구원 합산 전년도 연간소득 금액이 가구원별 중위소득의 80% 이하인 자)\n",
            "◎지원유형: 지원유형    융자지원\n",
            "지원유형      현금\n",
            "Name: 88215, dtype: object\n",
            "◎서비스목적: 취약계층(비정규직 근로자, 전직 실업자)이 생계비에 대한 부담 없이 장기간 체계적인 훈련을 받고 더 나은 일자리로의 취업을 할 수 있도록 생계비를 융자해 드리는 서비스입니다.\n",
            "◎지원내용: ○ 직업 훈련 생계비 대부(1인당 대부 한도액 : 1,000만 원)\n",
            "○ 월별 대부 한도액 : 200만 원(최소 50만 원) \n",
            "○ 상환 방법 : 1년 거치 3년, 2년 거치 4년, 3년 거치 5년 균등분할 상환 \n",
            "○ 융자금리 : 연 1% \n",
            "○ 최대 3년 거치 5년 균등 상환\n",
            "\n",
            "\n",
            "\n",
            "취업·직장>교육/훈련>직업교육훈련/취업준비교육||금융·세금·법률>개인금융지원>대출/대부\n",
            "◎지원대상: ○ 고용 노동부에서 인정하는 훈련과정(실업자 및 재직자훈련, 산업재해보상보험법 및 장애인 고용 촉진 및 직업재활법에 의한 훈련 등), 지자체가 설치한 공공훈련시설에서 취업 목적으로 실시하는 훈련으로 훈련 기간이 3주 이상인 훈련에 참여하는 고용보험 피보험자 또는 피보험자였던 비정규직 근로자, 실업자 중 전년도 부부합산 연간 소득금액 4인 가구 중위소득 이하인 자\n",
            " - 전직 실업자인 경우 실업급여 수급 중인 자는 제외\n",
            "\n",
            "구직자||근로자||저소득층\n",
            "◎대상연령시작: 19\n",
            "◎대상연령끝: 99\n",
            "◎시도: 전국\n",
            "◎시군구: None\n",
            "◎중위소득: 0,10,20,30,40,50,60,70,80\n",
            "◎관심상황특성: \n",
            "◎대상특성: 해당사항없음\n",
            "◎대상특성상세: \n",
            "◎MB_15: 기업금융지원,개인금융지원,취업 지원\n",
            "◎소관기관유형: 공\n",
            "◎지원유형: 지원유형    융자지원\n",
            "지원유형      현금\n",
            "Name: 88215, dtype: object\n",
            "◎지원유형상세: 현금(융자)\n",
            "◎신청절차: 신청절차    ○ 로그인-신청결과 확인-주민등록번호 입력-공동인증서 비밀번호 입력-신청결과 확인(...\n",
            "신청절차                                                   무관\n",
            "Name: 88215, dtype: object\n",
            "◎성별: 무관\n",
            "◎결혼: 무관\n",
            "◎학력: 무관\n",
            "◎가구원: 무관\n",
            "◎자녀: 없음\n",
            "◎자녀상세: 없음\n",
            "◎직장: 구직자/실업자\n",
            "◎직장상세: 경영/사무/금융/보험직\n",
            "\n",
            "7개가 14.0값으로 최적의 정책임\n"
          ]
        }
      ]
    },
    {
      "cell_type": "code",
      "source": [
        "recommendation2(['여성', 27, '경기도, 서울', '파주시', '대학(원)졸업', '', '', '미혼', '없음', '', '', ''])"
      ],
      "metadata": {
        "colab": {
          "base_uri": "https://localhost:8080/"
        },
        "id": "96mMz-owTAY3",
        "outputId": "8bcf543b-062d-4135-847e-b773a212b1b5"
      },
      "execution_count": null,
      "outputs": [
        {
          "output_type": "stream",
          "name": "stdout",
          "text": [
            "===================user 정보=================\n",
            "성별: 여성\n",
            "나이: 27\n",
            "시도: 경기도, 서울\n",
            "시군구: 파주시\n",
            "학력: 대학(원)졸업\n",
            "직장: \n",
            "가구원: \n",
            "결혼: 미혼\n",
            "자녀: 없음\n",
            "자녀상세: \n",
            "중위소득: \n",
            "관심정책: \n",
            "\n",
            "22개가 7.0값으로 최적의 정책임\n",
            "=====================policy 정보=================\n",
            "126\n",
            "◎정책ID: 127\n",
            "◎정책서비스ID: 134200000008\n",
            "◎서비스명: 글로벌 현장학습 프로그램 운영\n",
            "◎소관기관: 교육부\n",
            "◎소관기관유형.1: 중앙정부\n",
            "◎생애주기: None\n",
            "◎신청절차: 신청절차    ○ 대학/전문대학 글로벌현장학습, WEST, 파란사다리 학생 모집 공고를 확인하여 ...\n",
            "신청절차                                                   무관\n",
            "Name: 126, dtype: object\n",
            "◎선정기준: ○ 대학 글로벌 현장학습(대학 단위 모집)\n",
            " - 4학기 이상 수료자로 누계 평점이 3.0/4.5 이상인 재·휴학생으로 일정 기준 이상의 어학 능력을 갖추어 소속 대학을 통해 선정\n",
            "\n",
            "○ 전문대학 글로벌 현장학습(대학 단위 모집)\n",
            " - 전문대학 2학기 이상 수료한 재학생으로 누계 평점이 3.0/4.5 및 일정 기준 이상의 어학 능력을 갖추어 소속 대학을 통해 선정\n",
            "\n",
            "○ WEST 프로그램(개별 모집)\n",
            " - 4년제 대학 4학기(전문대학 2학기) 이상 재·휴학생 및 프로그램 시작일 기준 1년 이내 졸업생 지원. 사업 선정 절차(어학 등 서류심사, 인성 및 영어면접)에 의해 선정\n",
            "* WEST 프로그램은 기간에 따라 단기(6개월), 중기(12개월), 장기(18개월) 프로그램과  졸업생 대상 WEST 플러스(12개월)가 있으며 프로그램별 어학성적 기준이 상이함. 상세 내용은 월드잡플러스 홈페이지 참고\n",
            "\n",
            "○ 파란사다리\n",
            " - (전문)대학생 중 경제적 취약계층(소득 5분위 이하), 사회적 취약계층의 진로탐색 의지 및 계획 등을 평가\n",
            "◎지원유형: 지원유형    기타(교육)||현금\n",
            "지원유형         기타,현금\n",
            "Name: 126, dtype: object\n",
            "◎서비스목적: ○ 대학생들에게 해외 산업현장 실무 경험 등 다양한 글로벌 현장학습 기회를 제공하여 경력 및 진로설계를 돕고 글로벌 감각을 갖춘 핵심 인재로 양성\n",
            "- 내용사업 : 대학 글로벌 현장학습, 전문대학 글로벌 현장학습, 한미 대학생 연수(WEST) 프로그램, 파란사다리\n",
            "◎지원내용: ○ 파견 시 항공료, 비자 발급비, 보험료, 체재비 등 파견 국가, 소득분위 등에 따라 차등 지원\n",
            "※취업 취약계층(저소득층, 북한 이탈 주민, 장애인, 한 부모 가정 등)은 소득 분위에 따라 자비 부담 경비 추가 차등 지원\n",
            "- 사업별 참여대학 대응투자 의무(국고 대비 대학글로벌현장학습 50%, 전문대학 글로벌 현장학습 30%, 파란사다리 30%)\n",
            "\n",
            "1. 대학 및 전문대학 글로벌 현장학습 : 4~6개월 참여, 1인당 파견 지역에 따라 대학 평균 570만원 전문대학 평균 770만원 지원\n",
            "\n",
            "2. WEST : 단기(6개월), 중기(12개월), 장기(18개월) 및 졸업(예정)자 대상 WEST 플러스(12개월), 소득분위에 따라 471~ 2,660만원 지원\n",
            "\n",
            "3. 파란사다리 : 사회적, 경제적(소득 5분위 이하) 취약계층 학생 평균 350만원 지원\n",
            "\n",
            "※ 2021년 코로나19 확산 지속에 따라  해외 파견 불가 시 비대면 온라인 연수 진행 예정으로, 지원 내용 및 연수 기간 변동 가능\n",
            "◎지원대상: ○ 대학 글로벌 현장학습(대학 단위 모집)\n",
            " - 4학기 이상 수료자\n",
            "\n",
            "○ 전문대학 글로벌 현장학습(대학 단위 모집)\n",
            " - 전문대학 2학기 이상 수료자\n",
            "\n",
            "○ WEST 프로그램(개별 모집)\n",
            " - 4년제 대학 4학기(전문대학 2학기) 이상 재·휴학생(프로그램 시작일 기준 1년 이내 졸업생 가능)\n",
            "* 코로나19로 2019년 프로그램을 조기종료함에 따라, 조기 귀국자 일부(별도 확인 필요) 및 2020년 프로그램 서류 합격자는 '21년 온라인 프로그램에 재지원 가능\n",
            "\n",
            "○ 파란사다리(대학 단위 모집)\n",
            "* 주관대학별 선발 인원의 15%는 타교생 의무 선발 실시\n",
            " - 취업 취약계층 (전문)대학생\n",
            "◎대상연령시작: 0\n",
            "◎대상연령끝: 99\n",
            "◎시도: 전국\n",
            "◎시군구: None\n",
            "◎중위소득: None\n",
            "◎관심상황특성: 개인교육지원\n",
            "◎대상특성: 해당사항없음\n",
            "◎대상특성상세: \n",
            "◎MB_15: 개인금융지원,취업 지원,취업 지원\n",
            "◎소관기관유형: 앙\n",
            "◎지원유형: 지원유형    기타(교육)||현금\n",
            "지원유형         기타,현금\n",
            "Name: 126, dtype: object\n",
            "◎지원유형상세: 현금(전체),기타(교육)\n",
            "◎신청절차: 신청절차    ○ 대학/전문대학 글로벌현장학습, WEST, 파란사다리 학생 모집 공고를 확인하여 ...\n",
            "신청절차                                                   무관\n",
            "Name: 126, dtype: object\n",
            "◎성별: 무관\n",
            "◎결혼: 무관\n",
            "◎학력: 대학(원)재학,대학(원)졸업,대학(원)휴학\n",
            "◎가구원: 무관\n",
            "◎자녀: 없음\n",
            "◎자녀상세: 없음\n",
            "◎직장: 대학/대학원생\n",
            "◎직장상세: 대학생\n",
            "\n",
            "=====================policy 정보=================\n",
            "128\n",
            "◎정책ID: 129\n",
            "◎정책서비스ID: 134200000011\n",
            "◎서비스명: 인문100년장학금\n",
            "◎소관기관: 교육부\n",
            "◎소관기관유형.1: 중앙정부\n",
            "◎생애주기: None\n",
            "◎신청절차: 신청절차    한국장학재단 홈페이지(www.kosaf.go.kr)에서 온라인으로 신청\n",
            "신청절차                                        온라인\n",
            "Name: 128, dtype: object\n",
            "◎선정기준: ○ (선발전공) 전공별 선발비율(인문계열 : 사회계열 등 = 50% : 50%)을 준수하여 배정인원 내에서 선발 권고\n",
            " - 선발비율 및 인원 : 인문계열(50%, 750명 내외), 사회계열 등*(50%, 750명 내외)\n",
            "  *교육제열 전공 포함 \n",
            "\n",
            "○ (선발방법) 대학별 배정인원 범위 내에서 선발기준에 따라 대학별 자체 선발\n",
            "\n",
            "○ (선발기준) 학업성적 및 학생역량을 고려하여 대학이 자체 선발하되, 경제적 수준*이 낮을수록 가점 부여\n",
            "    * 한국장학재단 학자금 지원구간(소득구간)으로 배점을 차등 부여하되, ’21년 1학기 학자금 지원구간(소득구간) 확인 불가자는 10구간으로 간주하여 최저점 부여\n",
            " - 전공탐색유형(1학년, 4년지원): 경제적수준, 학업성적, 전공분야 우수성, 성장가능성 등을 평가할 수 있도록 자체선발기준 수립(성적 및 이수학점 기본자격 요건 없음)\n",
            " - 전공확립유형(3학년, 2년지원):학업성적(50%)+경제적수준및학생역량(50%) 비중으로 아래 선발기준에 따라 대학 자체선발기준을 수립하되, 기본자격 요건*(성적 및 이수학점 기준) 충족 필요\n",
            "   * 기본자격 요건: 직전 2년간 총 평균성적이 백분위 87점 이상 또는 평점 3.5이상/4.5만점(3.3이상/4.3만점), 취득 이수학점이 소속대학 졸업이수학점의 40% 이상\n",
            "\n",
            "○ (장학생 추천) 대학 자체선발기준에 따른 고득점자 순으로 선발유형별 배정인원 범위 내에서 선순위는Ⅰ유형, 후순위는 Ⅱ유형으로 추천·선발\n",
            "  - 심사의 공정성 확보를 위해 대학별 배정인원의 최소 2배수 이상의 학생(사전신청자 포함)을 대상으로 심사하여 선발\n",
            "    ※ 사업 참여신청 및 배정 완료 대학은 반드시 신규장학생 배정인원 선발 충족 필요\n",
            "    ※ 재단 홈페이지를 통한 사전신청 인원이 배정인원의 2배수 미만이거나 사전신청자 중 적격자가 없는 경우, 대학이 추가적으로 후보를 모집하여 심사·추천\n",
            "  - 미추천된 차순위 학생은 학생별 후보 순위를 부여하여 선발기간 내 후보자(II유형)로 관리\n",
            "    ※ 선발기간 내(대학 최종 추천 마감 전까지) 추천자 중 부적격자 발생 시 고득점자 순으로 [I유형]←[II유형]←[후보자] 간 추천 변경 가능\n",
            "◎지원유형: 지원유형    현금(장학금)\n",
            "지원유형         현금\n",
            "Name: 128, dtype: object\n",
            "◎서비스목적: 인문학 및 기초학문 분야 인재가 학업에 전념할 수 있는 환경을 조성함으로써 학문 후속세대로의 성장 도모\n",
            "◎지원내용: ○ 전공탐색유형 \n",
            " - 지원대상 : 대학교 인문사회계열 학과(부) 1학년 재학생(신입생)\n",
            " - 지원내용 : 유형별 장학금 지원 \n",
            "   · (Ⅰ유형) 등록금 전액 및 생활비(학기당 200만원, 기초생활수급자 200만원 추가 지원) \n",
            "   · (Ⅱ유형) 등록금 전액(기초생활수급자 생활비 200만원 추가 지원) \n",
            " - 지원기간 : 대학 재학 중 최대 4년(정규학기 내 최대 8학기) \n",
            "\n",
            "○ 전공확립유형 \n",
            " - 지원대상 : 대학교 인문사회계열 학과(부) 3학년 재학생\n",
            " - 지원내용 : 유형별 장학금 지원 \n",
            "   · (Ⅰ유형) 등록금 전액 및 생활비(학기당 200만원, 기초생활수급자 200만원 추가 지원) \n",
            "   · (Ⅱ유형) 등록금 전액(기초생활수급자 생활비 200만원 추가 지원) \n",
            " - 지원기간 : 대학 재학 중 최대 2년(정규학기 내 최대 4학기)\n",
            "◎지원대상: ○ 선발대상 : 대한민국 국적소지자로서 이하에 해당하는 대학*의 인문사회계열 학과(부)**에 재학 중인 1학년 신입생(전공탐색유형(4년 지원)) 또는 3학년(전공확립유형(2년 지원))\n",
            " - (지원대상 대학) 다음 대학 중 사업 신청 대학 \n",
            " •「고등교육법」제2조제1호부터 제3호에 따른 학교\n",
            " •「국립대학법인 서울대학교 설립‧운영에 관한 법률」에 따른 서울대\n",
            " •「국립대학법인 인천대학교 설립‧운영에 관한 법률」에 따른 인천대\n",
            " •「한국과학기술원법」에 따른 한국과학기술원\n",
            " •「광주과학기술원법」에 따른 광주과학기술원\n",
            " •「대구경북과학기술원법」에 따른 대구경북과학기술원\n",
            " •「울산과학기술원법」에 따른 울산과학기술원\n",
            " •「한국전통문화대학교 설치법」에 따른 한국전통문화대학교\n",
            "\n",
            "  * 전문대학, 방송통신대학 및 사이버대학, ’15년 대학구조개혁 평가 결과 및 ’18∼’20년 대학 기본역량 진단 결과에 따른 재정지원제한 유형 Ⅰ‧Ⅱ 대학의 ’21년 신‧편입생(「2021년 정부 재정지원제한 대학 지정 방안 발표」(교육부, ’20.9.1.)) 제외\n",
            "  ** 인문사회계열 학과(부) 분류는 ｢대학설립·운영규정｣ 별표1 및 ’21년도 대학별 학과계열 분류체계에 따르며, 인문학 및 기초학문 전공자 위주 선발 진행\n",
            "   ※ 교육계열 중 초등교육의 수학·과학·컴퓨터 등 이공계 분야 교육 학과(부), 중등교육의 자연과학·공학계열교육 및 예체능교육 학과(부)는 지원 대상에서 제외\n",
            "\n",
            "○ 선발 제외대상\n",
            " - ’21년도 현재 인문100년장학금 장학생 자격 유지자 또는 기존 인문100년장학생으로 선발된 후 영구탈락자 \n",
            "    ※ 단, 동 대학 자퇴 후 신입학, 타 대학에서 신·편입학 등의 경우 선발 가능(기 수혜학기 수를 제외한 잔여학기만큼 지원 가능)\n",
            " - 동일학기에 한국장학재단에서 운영 중인 타 장학금* 수혜자 또는 장학생 자격 유지자\n",
            "    * 대통령과학장학금, 국가우수장학금(이공계), 예술체육비전장학금, 전문기술인재장학금, 중소기업취업연계장학금(희망사다리Ⅰ), 고졸 후학습자 장학금(희망사다리Ⅱ)\n",
            " - 비정상적인 학사관리, 소득탈루·차명계좌 등의 방법으로 국가장학금을 부정수급한 대학 또는 학생(최대 2년 범위 내 지원 제한)\n",
            "    ※ 학자금심의위원회(대학), 국가장학금관리위원회(학생) 심의를 거쳐 제한 \n",
            "    ※「공공재정환수법」시행(‘20.1.1.)에 따라 부정청구자에게 제재부가금 부과 가능\n",
            " - 계약학과(등록금 전액/일부지원) 재학생 선발 제외\n",
            " - 아래 법령 등*에 따라 등록금 전액을 면제받는 교육지원대상자(국가유공자, 보훈대상자, 북한이탈주민 등)는 II유형 선발대상에서 제외(등록금 일부를 지원받는 경우 선발 가능하며 등록금 학생부담분에 한해 지원)\n",
            "    * ｢국가유공자 등 예우 및 지원에 관한 법률｣ 제25조, ｢보훈보상대상자 지원에 관한 법률｣ 제29조, ｢북한이탈주민의 보호 및 정착지원에 관한 법률｣제24조 등\n",
            "◎대상연령시작: 0\n",
            "◎대상연령끝: 99\n",
            "◎시도: 전국\n",
            "◎시군구: None\n",
            "◎중위소득: None\n",
            "◎관심상황특성: 개인교육지원\n",
            "◎대상특성: 북한이탈주민\n",
            "◎대상특성상세: \n",
            "◎MB_15: 기업금융지원,개인금융지원,취업 지원,취업 지원\n",
            "◎소관기관유형: 앙\n",
            "◎지원유형: 지원유형    현금(장학금)\n",
            "지원유형         현금\n",
            "Name: 128, dtype: object\n",
            "◎지원유형상세: 현금(장학금)\n",
            "◎신청절차: 신청절차    한국장학재단 홈페이지(www.kosaf.go.kr)에서 온라인으로 신청\n",
            "신청절차                                        온라인\n",
            "Name: 128, dtype: object\n",
            "◎성별: 무관\n",
            "◎결혼: 무관\n",
            "◎학력: 대학(원)재학,대학(원)졸업,고등학교졸업\n",
            "◎가구원: 무관\n",
            "◎자녀: 없음\n",
            "◎자녀상세: 없음\n",
            "◎직장: 대학/대학원생,중소기업\n",
            "◎직장상세: 대학생\n",
            "\n",
            "=====================policy 정보=================\n",
            "252\n",
            "◎정책ID: 253\n",
            "◎정책서비스ID: 140000000198\n",
            "◎서비스명: 해외산림청년인재육성\n",
            "◎소관기관: 산림청\n",
            "◎소관기관유형.1: 중앙정부\n",
            "◎생애주기: None\n",
            "◎신청절차: 신청절차    ○ 우편 및 이메일 접수 : 한국임업진흥원 해외산림협력실 해외산림청년인재 담당자\\n...\n",
            "신청절차                                                   무관\n",
            "Name: 252, dtype: object\n",
            "◎선정기준: ○ 현장체험형 : 임학․임산공학․조경관련 대학(원)‧전문대 졸업자(예정자포함), 졸업 후 미취업자, 재․휴학생(5학기 이상 수료자), 산림관련 고등학교 졸업자\n",
            "\n",
            "○ 직무연계형 : 임학․임산공학․조경관련 대학(원)‧전문대 졸업자(예정자포함), 졸업 후 미취업자, 산림관련 고등학교 졸업자\n",
            "\n",
            "○ 공통사항\n",
            " - 해외인턴 및 해외취업에 필요한 비자 발급 등 결격 사유가 없는 자\n",
            " - 파견기간 내 건강, 취업 등 신상변동에 의한 중도포기 우려가 없는 자\n",
            "  · 공무원 발령 대기자, 기업 등 입사 대기자는 지원불가\n",
            " - 정부해외인턴사업에 참여한 사실이 없는 자(중복수혜 불가)\n",
            "  · ‘일모아’ 사이트(www.ilmoa.go.kr) 가입 후 국비지원사업 수혜여부 확인\n",
            " - 해외 거주자 및 해외 대학재학생, 해외에서 직접 근무지로 파견되는 경우 및 이중 국적자 참가 불가\n",
            " - 저소득층 등 취업취약계층에 대하여 선발인원의 50%이상 우선선발\n",
            " - 파견 예정 기업에 과거 근무하며 해외파견 경험이 없는 자\n",
            "◎지원유형: 지원유형    현금\n",
            "지원유형    현금\n",
            "Name: 252, dtype: object\n",
            "◎서비스목적: 산림 분야의 해외 직장체험을 통한 글로벌 인재 양성과 기업 맞춤형 인력지원으로 해외산림자원개발 활성화 및 국제산림협력사업의 촉진\n",
            "◎지원내용: ㅇ 사업내용 : 해외산림청년인재육성(현장체험형, 직무연계형)\n",
            "  - 현장체험형(3개월) : 국제기구 근무 등 글로벌 역량강화에 중점, 학점인정 가능\n",
            "  - 직무연계형(10개월) : 기업의 채용 실수요를 고려한 취업연계 목적의 유형\n",
            "ㅇ 지원내역 : 체재비, 항공료, 파견준비비등\n",
            "ㅇ 지원대상 : 산림관련 고등학교 졸업생 및 대학(원) 졸업생(예정자)\n",
            "ㅇ 근무분야 : 해외산림자원개발기업 및 산림분야 국제기구 업무수행 및 지원\n",
            "◎지원대상: ○ 대한민국 국적을 가진 만19세 이상 만34세 이하인 자로 해외취업에 결격사유가 없는 자\n",
            "◎대상연령시작: 19\n",
            "◎대상연령끝: 34\n",
            "◎시도: 전국\n",
            "◎시군구: None\n",
            "◎중위소득: None\n",
            "◎관심상황특성: 기업금융지원\n",
            "◎대상특성: 해당사항없음\n",
            "◎대상특성상세: \n",
            "◎MB_15: 기업금융지원,개인금융지원,취업 지원,취업 지원\n",
            "◎소관기관유형: 앙\n",
            "◎지원유형: 지원유형    현금\n",
            "지원유형    현금\n",
            "Name: 252, dtype: object\n",
            "◎지원유형상세: 현금(전체)\n",
            "◎신청절차: 신청절차    ○ 우편 및 이메일 접수 : 한국임업진흥원 해외산림협력실 해외산림청년인재 담당자\\n...\n",
            "신청절차                                                   무관\n",
            "Name: 252, dtype: object\n",
            "◎성별: 무관\n",
            "◎결혼: 무관\n",
            "◎학력: 대학(원)재학,대학(원)졸업,대학(원)휴학,고등학교졸업\n",
            "◎가구원: 무관\n",
            "◎자녀: 없음\n",
            "◎자녀상세: 없음\n",
            "◎직장: 대학/대학원생,구직자/실업자,중소기업\n",
            "◎직장상세: 대학생,연구/공학기술직\n",
            "\n",
            "=====================policy 정보=================\n",
            "567\n",
            "◎정책ID: 568\n",
            "◎정책서비스ID: 154300000395\n",
            "◎서비스명: 농식품분야 해외인턴십 지원\n",
            "◎소관기관: 농림축산식품부\n",
            "◎소관기관유형.1: 중앙정부\n",
            "◎생애주기: None\n",
            "◎신청절차: 신청절차    이메일로 신청\n",
            "신청절차        온라인\n",
            "Name: 567, dtype: object\n",
            "◎선정기준: ○ 3단계 전형(서류-국내면접-기관원격면접)을 통한 우수자 선발\n",
            "◎지원유형: 지원유형    서비스(일자리)\n",
            "지원유형         서비스\n",
            "Name: 567, dtype: object\n",
            "◎서비스목적: 청년들에게 국제기구, 해외연구소 등에서 실무를 경험할 수 있는 기회 제공 및 향후 국제 진출 지원\n",
            "◎지원내용: ○ 국제기구·해외기업 등과 인턴수요를 협의, 자격요건에 맞는 우리나라 청년들을 선발·파견하고 그에 따른 체재비 등을 지원\n",
            "◎지원대상: ○ 대한민국 국적의 해외여행․취업에 결격사유가 없는 자로서 대학 2학년 이상을 이수한 자(학・석박사 재학생 포함) 및 졸업생\n",
            "◎대상연령시작: 0\n",
            "◎대상연령끝: 99\n",
            "◎시도: 전국\n",
            "◎시군구: None\n",
            "◎중위소득: None\n",
            "◎관심상황특성: \n",
            "◎대상특성: 해당사항없음\n",
            "◎대상특성상세: \n",
            "◎MB_15: 취업 지원,취업 지원\n",
            "◎소관기관유형: 앙\n",
            "◎지원유형: 지원유형    서비스(일자리)\n",
            "지원유형         서비스\n",
            "Name: 567, dtype: object\n",
            "◎지원유형상세: 서비스(일자리)\n",
            "◎신청절차: 신청절차    이메일로 신청\n",
            "신청절차        온라인\n",
            "Name: 567, dtype: object\n",
            "◎성별: 무관\n",
            "◎결혼: 무관\n",
            "◎학력: 대학(원)재학,대학(원)졸업\n",
            "◎가구원: 무관\n",
            "◎자녀: 없음\n",
            "◎자녀상세: 없음\n",
            "◎직장: 대학/대학원생\n",
            "◎직장상세: 대학생\n",
            "\n",
            "=====================policy 정보=================\n",
            "734\n",
            "◎정책ID: 733\n",
            "◎정책서비스ID: B49000700017\n",
            "◎서비스명: 해외취업정착지원금 지급\n",
            "◎소관기관: 고용노동부\n",
            "◎소관기관유형.1: 중앙정부\n",
            "◎생애주기: 청년\n",
            "◎신청절차: 신청절차    월드잡플러스 회원가입 및 구직등록 – 취업성공 – 1차 지원금 신청(증빙서류 제출)...\n",
            "신청절차                                                   무관\n",
            "Name: 734, dtype: object\n",
            "◎선정기준: 사업 취업인정기준 부합 여부 검토 후 승인\n",
            "◎지원유형: 지원유형    서비스(일자리)\n",
            "지원유형         서비스\n",
            "Name: 734, dtype: object\n",
            "◎서비스목적: 해외취업에 성공한 청년들의 현지 조기정착 지원 및 장기근속 유도\n",
            "◎지원내용: o 지원규모: 3,960명\n",
            "o 지원금액(1~3차 합산)\n",
            " -지원금 우대국가: 600만원\n",
            " -선진국 분류국가: 400만원\n",
            "\n",
            "20190102\n",
            "\n",
            "취업·직장>근로복지>근로자 지원||취업·직장>구인/구직활동>취업지원금\n",
            "◎지원대상: 1. 만 34세 이하 청년, 2. 본인 및 부모(미혼) 혹은 배우자(기혼) 소득 6분위 이하인 자, 3.월드잡플러스 사전구직등록 후 근로계약서를 작성한 자, 4. 해당국가의 취업비자 소지자 ※ 그 외 자세한 조건은 월드잡플러스 공고 참조\n",
            "\n",
            "구직자||근로자\n",
            "◎대상연령시작: 19\n",
            "◎대상연령끝: 34\n",
            "◎시도: 전국\n",
            "◎시군구: None\n",
            "◎중위소득: None\n",
            "◎관심상황특성: \n",
            "◎대상특성: 해당사항없음\n",
            "◎대상특성상세: \n",
            "◎MB_15: 취업 지원\n",
            "◎소관기관유형: 앙\n",
            "◎지원유형: 지원유형    서비스(일자리)\n",
            "지원유형         서비스\n",
            "Name: 734, dtype: object\n",
            "◎지원유형상세: 서비스(일자리)\n",
            "◎신청절차: 신청절차    월드잡플러스 회원가입 및 구직등록 – 취업성공 – 1차 지원금 신청(증빙서류 제출)...\n",
            "신청절차                                                   무관\n",
            "Name: 734, dtype: object\n",
            "◎성별: 무관\n",
            "◎결혼: 미혼\n",
            "◎학력: 무관\n",
            "◎가구원: 무관\n",
            "◎자녀: 없음\n",
            "◎자녀상세: 없음\n",
            "◎직장: 구직자/실업자\n",
            "◎직장상세: None\n",
            "\n",
            "=====================policy 정보=================\n",
            "794\n",
            "◎정책ID: 793\n",
            "◎정책서비스ID: PTR000051505\n",
            "◎서비스명: 국비유학생 선발 파견\n",
            "◎소관기관: 교육부\n",
            "◎소관기관유형.1: 중앙정부\n",
            "◎생애주기: None\n",
            "◎신청절차: 신청절차    ○ 문의처\\n - 국립국제교육원\\n - 전화 : 02-3668-1374(5), 02...\n",
            "신청절차                                                   무관\n",
            "Name: 794, dtype: object\n",
            "◎선정기준: ○ 선발 절차를 통하여 구비유학생 선정\n",
            "◎지원유형: 지원유형    현금(장학금)\n",
            "지원유형         현금\n",
            "Name: 794, dtype: object\n",
            "◎서비스목적: 국가 전략적 필요분야 인재양성을 위한 해외 석박사 유학지원 및 사회적 취약계층에 해외유학 기회 제공\n",
            "◎지원내용: ○ 선발개요\n",
            " - 전형 시기 : 매년 4월 중 공고, 5~6월 중 응시\n",
            " - 응시자격  \n",
            "     * 국내 대학 4년제 대학을 졸업한 자 중 일정 자격 이상인 사람에 한하여 해외 석, 박사과정 유학 예정인 자\n",
            "     * 특성화고, 마이스터고를 졸업하고 일정 자격 이상인 사람에 한하여 연수 예정인 자\n",
            " - 절차 : 지원 자격을 갖춘 자에 한해 지원, 1, 2차 선발 과정을 거쳐 합격자 확정 및 사전연수\n",
            "\n",
            "○ 선발방법\n",
            " - 서류전형 대학 성적, 외국어, 수학계획서 등\n",
            " - 심층 면접 국가관, 전문지식, 발전 가능성\n",
            "\n",
            "○ 장학금 지원 내용\n",
            " - 장학금(연간 지원액 미국 기준 $40,000, 저소득층/기술기능인 $50,000), 항공료 지급\n",
            "◎지원대상: ○ 국내 4년제 대학 및 이와 동등한 자격을 가진 자로서 해외 석박사 유학을 희망하는 자\n",
            "  - 꿈나래 전형(구 저소득층 특별전형)은 기초생활보장 수급자, 차상위계층 또는 한부모가족 지원 대상자\n",
            "  - 기술기능인 전형은 특성화고 또는 마이스터고 졸업자로서 중소기업 2년 이상 재직 경력이 있는 자\n",
            "◎대상연령시작: 0\n",
            "◎대상연령끝: 99\n",
            "◎시도: 전국\n",
            "◎시군구: None\n",
            "◎중위소득: None\n",
            "◎관심상황특성: \n",
            "◎대상특성: 해당사항없음\n",
            "◎대상특성상세: \n",
            "◎MB_15: 기업금융지원,개인금융지원,취업 지원\n",
            "◎소관기관유형: 앙\n",
            "◎지원유형: 지원유형    현금(장학금)\n",
            "지원유형         현금\n",
            "Name: 794, dtype: object\n",
            "◎지원유형상세: 현금(장학금)\n",
            "◎신청절차: 신청절차    ○ 문의처\\n - 국립국제교육원\\n - 전화 : 02-3668-1374(5), 02...\n",
            "신청절차                                                   무관\n",
            "Name: 794, dtype: object\n",
            "◎성별: 무관\n",
            "◎결혼: 무관\n",
            "◎학력: 대학(원)졸업\n",
            "◎가구원: 무관\n",
            "◎자녀: 없음\n",
            "◎자녀상세: 없음\n",
            "◎직장: 대학/대학원생,중소기업\n",
            "◎직장상세: 대학생\n",
            "\n",
            "=====================policy 정보=================\n",
            "1036\n",
            "◎정책ID: 1035\n",
            "◎정책서비스ID: WII000000820\n",
            "◎서비스명: 한부모가족복지시설 지원\n",
            "◎소관기관: 여성가족부\n",
            "◎소관기관유형.1: 중앙정부\n",
            "◎생애주기: None\n",
            "◎신청절차: 신청절차    시군구청에 방문하여 신청\n",
            "신청절차             오프라인\n",
            "Name: 1036, dtype: object\n",
            "◎선정기준: ○ 소득 인정액 = 소득평가액 + 재산의 소득환산액\n",
            "◎지원유형: 지원유형    이용권\n",
            "지원유형    이용권\n",
            "Name: 1036, dtype: object\n",
            "◎서비스목적: 저소득무주택 한부모가족의 경제적 부담을 덜어주고 안정적인 환경에서 자녀를 양육할 수 있도록 한부모가족복지시설 지원을 통해 사회·경제적 자립 도모\n",
            "◎지원내용: ○ 시설 기능보강 지원, 시설 아이돌봄서비스 지원, 입소자 상담치료 지원, 사회복무요원 인력경비 지원\n",
            "◎지원대상: ○ 저소득 무주택 한부모가족(부자.모자.미혼모자.조손 가족. 미혼모)\n",
            "◎대상연령시작: 0\n",
            "◎대상연령끝: 99\n",
            "◎시도: 전국\n",
            "◎시군구: None\n",
            "◎중위소득: None\n",
            "◎관심상황특성: \n",
            "◎대상특성: 한부모가정/조손가정, 기관/시설\n",
            "◎대상특성상세: \n",
            "◎MB_15: 주택-부동산 지원\n",
            "◎소관기관유형: 앙\n",
            "◎지원유형: 지원유형    이용권\n",
            "지원유형    이용권\n",
            "Name: 1036, dtype: object\n",
            "◎지원유형상세: 해당사항없음\n",
            "◎신청절차: 신청절차    시군구청에 방문하여 신청\n",
            "신청절차             오프라인\n",
            "Name: 1036, dtype: object\n",
            "◎성별: 무관\n",
            "◎결혼: 미혼\n",
            "◎학력: 무관\n",
            "◎가구원: 무주택 세대주\n",
            "◎자녀: 없음\n",
            "◎자녀상세: 없음\n",
            "◎직장: 무관\n",
            "◎직장상세: None\n",
            "\n",
            "=====================policy 정보=================\n",
            "1041\n",
            "◎정책ID: 1040\n",
            "◎정책서비스ID: WII000000900\n",
            "◎서비스명: 사회 취약계층 실내환경 진단 개선 사업\n",
            "◎소관기관: 환경부\n",
            "◎소관기관유형.1: 중앙정부\n",
            "◎생애주기: None\n",
            "◎신청절차: 신청절차    ○ 대상자 선정 요청(환경부 - 지자체) - 취약계층 대상자 수요 조사 및 선정(지...\n",
            "신청절차                                                   무관\n",
            "Name: 1041, dtype: object\n",
            "◎선정기준: ○ 사회 취약계층(독거노인 가구, 장애인 가구, 소년·소녀 가장, 저소득층 가구, 미혼모자립시설, 어르신활동공간 등)\n",
            "◎지원유형: 지원유형    현물\n",
            "지원유형    현물\n",
            "Name: 1041, dtype: object\n",
            "◎서비스목적: 사회 취약계층의 거주 공간에 대한 생활환경 유해인자 점검 및 컨설팅을 통한 환경복지 증진\n",
            "◎지원내용: ○ 생활환경 진단 및 컨설팅(약 1,750개소)\n",
            "  - (대상) 지자체 추천 취약계층 가구 및 어르신 활동공간 등 \n",
            "  - (방법)  환경보건전문인력이 오염물질* 측정, 진단 및 결과 설명, 오염물질 저감 및 개선방안 안내\n",
            "    * 곰팡이, 집먼지진드기, 총휘발성유기화합물(TVOC), 포름알데히드(HCHO), 이산화탄소(CO2), 미세먼지(PM-10), 초미세먼지(PM-2.5) 등\n",
            "\n",
            "○ 친환경 주거개선(약 550개소)\n",
            "   - (대상) 개선가구 선정평가를 통해 진단컨설팅 결과와 사업효과성 등을 검토하여 개선시급 우선후보가구 선정\n",
            "   - (방법) 후원기업에서 기부받은 친환경 자재를 활용하여 실내환경개선공사* 및 개선물품** 지원\n",
            "        * 친환경 벽지, 바닥재료 교체ㆍ환기장치 설치, 결로저감 시공 등\n",
            "      ** 미세먼지 저감장치, 친환경 보일러 등\n",
            "     ※ 실내환경 개선공사 및 개선물품 지원내용은 변경될 수 있음\n",
            "◎지원대상: ○ 실내환경 진단 및 컨설팅 : 사회 취약계층 약 1,750가구\n",
            " - 사회 취약계층 : 지자체 추천 저소득, 소년·소녀 가장, 장애인, 독거노인가구, 미혼모자립시설, 어르신활동공간 등 \n",
            "\n",
            "○ 친환경 주거개선 : 약 550가구\n",
            "  - 실내환경 진단 컨설팅 가구 중 시설개선이 시급한 우선후보가구 선정\n",
            "◎대상연령시작: 0\n",
            "◎대상연령끝: 99\n",
            "◎시도: 전국\n",
            "◎시군구: None\n",
            "◎중위소득: None\n",
            "◎관심상황특성: \n",
            "◎대상특성: 해당사항없음\n",
            "◎대상특성상세: \n",
            "◎MB_15: \n",
            "◎소관기관유형: 앙\n",
            "◎지원유형: 지원유형    현물\n",
            "지원유형    현물\n",
            "Name: 1041, dtype: object\n",
            "◎지원유형상세: 해당사항없음\n",
            "◎신청절차: 신청절차    ○ 대상자 선정 요청(환경부 - 지자체) - 취약계층 대상자 수요 조사 및 선정(지...\n",
            "신청절차                                                   무관\n",
            "Name: 1041, dtype: object\n",
            "◎성별: 무관\n",
            "◎결혼: 미혼\n",
            "◎학력: 무관\n",
            "◎가구원: 무관\n",
            "◎자녀: 없음\n",
            "◎자녀상세: 없음\n",
            "◎직장: 무관\n",
            "◎직장상세: None\n",
            "\n",
            "=====================policy 정보=================\n",
            "81798\n",
            "◎정책ID: 81799\n",
            "◎정책서비스ID: 142000000037\n",
            "◎서비스명: 신기술 창업 집적지역 지정 제도\n",
            "◎소관기관: 중소벤처기업부\n",
            "◎소관기관유형.1: 중앙행정기관\n",
            "◎생애주기: 청년||중장년||노년기\n",
            "◎신청절차: 신청절차    신기술창업 집적지역 지정 사업 계획서 작성 - 신기술창업 집적지역 지정 신청 접수(...\n",
            "신청절차                                                   무관\n",
            "Name: 81798, dtype: object\n",
            "◎선정기준: ○ 신기술창업 집적지역 지정기준\n",
            " - 대학, 연구기관 전체 부지 연면적에 대한 지정 면적 비율이 30% 이하일 것\n",
            " - 지정 면적이 3천 제곱미터(㎡) 이상일 것\n",
            " - 집적 지역개발계획이 타당할 것\n",
            "◎지원유형: 지원유형    감면/면제||정보제공\n",
            "지원유형          기타,현금\n",
            "Name: 81798, dtype: object\n",
            "◎서비스목적: 대학․연구기관 내 일정 지역을 신기술창업 집적지역으로 지정하고, 공장 설치 허용 및 각종 특례 제도 등을 통해 우수기업 유치와 신기술 창업을 촉진\n",
            "◎지원내용: ○ 신기술창업 집적지역 지정 \n",
            " - 건축제한 완화 : 녹색 지역 등 일정 지역만 제외 <벤처 기업 육성에 관한 특별 조치법 제17조의 4 제1항>\n",
            " - 도시형 공장 설치 허용 < 같은 법 제17조의 4 제2항>\n",
            " - 입주기업과 지원시설 설치·운영자에게 국·공유지 영구시설물 축조 허용 및 임대 기간 우대(20년) <같은 법 제17조의 4 제6∼7항>\n",
            " - 5개 부담금* 면제, 미술 장식 설치 의무 배제 <같은 법 제17조의 4 제8항>\n",
            " * 개발·농지보전·교통 유발 부담금, 대체산림자원조성비, 대체초지조성비 등\n",
            "\n",
            "○ 신기술창업 집적지역 취·등록 세 감면 \n",
            " - 집적 지역 조성을 위한 부동산 취득 및 건축물 신·증축 시 취득세 50% 감면, 재산세 50% 감면(지방세 특례 제한법 제58조 제1항)\n",
            " - 신기술창업 집적지역에 건축물을 신축 또는 증축하는데 취득하는 부동산에 대해 취득세 및 재산세 50% 감면(지방세 특례 제한법 제58조 제3항)\n",
            "\n",
            "\n",
            "\n",
            "창업·경영>업종별민원>교육 서비스업||창업·경영>기업운영지원>설비/시설 운영||창업·경영>기업세무>관세/기타세금||결혼·육아·교육>기술개발/학술연구>인력/기관\n",
            "◎지원대상: - 대학, 연구기관 내 일정 지역을 「신기술창업 집적지역」으로 지정하려는 대학이나 연구기관\n",
            " - 신기술창업 집적지역에 산업용 건축물이나 연구시설 및 시험생산용 건축물을 신축하거나 증축하는 자\n",
            " - 신기술창업 집적지역에 입주할 기업은 '창업기업', 'BI 졸업기업', '벤처기업'이고 총 입주면적의 30% 이내에서 그 외 기업도 입주 가능함\n",
            "\n",
            "○ 신기술창업 집적지역 지정기준\n",
            " - 대학, 연구기관 전체 부지 연면적에 대한 지정 면적 비율이 30% 이하일 것\n",
            " - 지정 면적이 3천 제곱미터(㎡) 이상일 것\n",
            " - 집적 지역개발계획이 타당할 것\n",
            "\n",
            "기관/시설\n",
            "◎대상연령시작: 19\n",
            "◎대상연령끝: 99\n",
            "◎시도: 전국\n",
            "◎시군구: None\n",
            "◎중위소득: None\n",
            "◎관심상황특성: 기업금융지원, 기업교육지원\n",
            "◎대상특성: 기관/시설\n",
            "◎대상특성상세: \n",
            "◎MB_15: 기업금융지원,기업금융지원,개인금융지원,취업 지원,창업 지원\n",
            "◎소관기관유형: 앙\n",
            "◎지원유형: 지원유형    감면/면제||정보제공\n",
            "지원유형          기타,현금\n",
            "Name: 81798, dtype: object\n",
            "◎지원유형상세: 기타(상담),현금(감면)\n",
            "◎신청절차: 신청절차    신기술창업 집적지역 지정 사업 계획서 작성 - 신기술창업 집적지역 지정 신청 접수(...\n",
            "신청절차                                                   무관\n",
            "Name: 81798, dtype: object\n",
            "◎성별: 무관\n",
            "◎결혼: 무관\n",
            "◎학력: 대학(원)졸업\n",
            "◎가구원: 무관\n",
            "◎자녀: 없음\n",
            "◎자녀상세: 없음\n",
            "◎직장: 대학/대학원생,예비창업가,중소기업\n",
            "◎직장상세: 대학생\n",
            "\n",
            "=====================policy 정보=================\n",
            "81873\n",
            "◎정책ID: 81874\n",
            "◎정책서비스ID: 147100000024\n",
            "◎서비스명: 어린이 기호식품 전담관리원 운영\n",
            "◎소관기관: 식품의약품안전처\n",
            "◎소관기관유형.1: 중앙행정기관\n",
            "◎생애주기: 청년||중장년||노년기\n",
            "◎신청절차: 신청절차    ○ 신청절차 \\n 1. 추천서 및 신청서 작성 \\n 2. 접수 \\n 3. 검토확인(...\n",
            "신청절차                                                   무관\n",
            "Name: 81873, dtype: object\n",
            "◎선정기준: ○ 어린이 기호식품 전담관리원 지정 \n",
            " - 시장·군수 또는 구청장은 소비자 식품위생감시원 가격을 갖춘 신청자 중 어린이 기호식품 전담관리원 활동에 적합한지\n",
            "   검토 후 그 결과에 따라 지정 여부를 결정\n",
            " - 시 및 구(자치구) 단위 학교 20개당 2명 이상, 군 단위 학교 10개당 2명 이상\n",
            "\n",
            "○ 어린이 기호식품 전담관리원 해촉 \n",
            " - 추천한 소비자단체에서 퇴직하거나 해임된 때\n",
            " - 직무와 관련하여 부정한 행위를 하거나 권한을 남용한 경우\n",
            " - 질병이나 부상 등의 사유로 직무수행이 어렵게 된 경우\n",
            "◎지원유형: 지원유형    봉사/기부하기\\n\\n현금/현물||정보제공\n",
            "지원유형            현물,기타,현금,봉사/기부\n",
            "Name: 81873, dtype: object\n",
            "◎서비스목적: 어린이 식품안전 보호구역에서 어린이 기호식품을 조리 또는 진열·판매하는 업소에 대하여 위생적이고 안전한 식품을 조리 또는 진열·판매하도록 계도하기 위해 법률에 따라 어린이 기호식품 전담관리원 운영\n",
            "◎지원내용: ○ 어린이 기호식품 전담관리원 활동 수당 등 지급\n",
            " - 어린이 기호식품 전담관리원이 임무를 수행한 경우 활동수당을 1일 50,000원 범위에서 지급\n",
            "   (다만, 1일 4시간 이상의 활동에 한하여 1인당 연간 100일 범위 안에서 지급)\n",
            " - 식품위생 관련 법령 및 위해 식품 등에 관한 교육에 참석한 어린이 기호식품 전담관리원에게 수당을 지급할 경우\n",
            "   그 금액을 1인당 50,000원 범위에서 지급\n",
            "\n",
            "\n",
            "\n",
            "취업·직장>일자리>공공 일자리||공익·봉사>사회봉사>봉사활동\n",
            "◎지원대상: ○ 소비자 단체 및 일반 국민(소비자 식품위생감시원의 자격을 갖춘 자)\n",
            " - 식품의약품안전처장이 정하여 고시하는 교육과정을 마친 자\n",
            " - 위생사, 식품기술사·식품 기사·식품산업기사·수산제조기술사·수산제조기사·수산제조산업기사 또는 영양사\n",
            " - 고등교육법 제2조세1호 및 제4호에 따른 대학 또는 전문대학에서 의학·한의학·약학·한약학·수의학·축산학·축산가공학·\n",
            "   수산제조학·농산 제조학·농화학·화학·화학공학·식품 가공학·식품 화학·식품 제조학·식품공학·식품 과학·식품영양학·위생학·\n",
            "   발효공학·미생물학·조리학·생물학 분야의 학과 또는 학부를 졸업한 자 또는 이와 같은 수준 이상의 자격이 있는 자\n",
            " - 외국에서 위생사 또는 식품제조기사의 면허를 받은 자나 제2호와 같은 과정을 졸업한 자로서 식품의약품안전처장이 \n",
            "   적당하다고 인정하는 자\n",
            " - 1년 이상 식품위생 행정에 관한 사무에 종사한 경험이 있는 자\n",
            "\n",
            "일반\n",
            "◎대상연령시작: 19\n",
            "◎대상연령끝: 99\n",
            "◎시도: 전국\n",
            "◎시군구: None\n",
            "◎중위소득: None\n",
            "◎관심상황특성: \n",
            "◎대상특성: 농축수산인\n",
            "◎대상특성상세: \n",
            "◎MB_15: 기업금융지원,개인금융지원,보육지원(0~7세),취업 지원\n",
            "◎소관기관유형: 앙\n",
            "◎지원유형: 지원유형    봉사/기부하기\\n\\n현금/현물||정보제공\n",
            "지원유형            현물,기타,현금,봉사/기부\n",
            "Name: 81873, dtype: object\n",
            "◎지원유형상세: 기타(상담),현금(전체)\n",
            "◎신청절차: 신청절차    ○ 신청절차 \\n 1. 추천서 및 신청서 작성 \\n 2. 접수 \\n 3. 검토확인(...\n",
            "신청절차                                                   무관\n",
            "Name: 81873, dtype: object\n",
            "◎성별: 무관\n",
            "◎결혼: 무관\n",
            "◎학력: 대학(원)졸업\n",
            "◎가구원: 무관\n",
            "◎자녀: 없음\n",
            "◎자녀상세: 없음\n",
            "◎직장: 대학/대학원생\n",
            "◎직장상세: 대학생\n",
            "\n",
            "=====================policy 정보=================\n",
            "82000\n",
            "◎정책ID: 82001\n",
            "◎정책서비스ID: PTR000051415\n",
            "◎서비스명: 정부 초청 장학생 신청\n",
            "◎소관기관: 교육부\n",
            "◎소관기관유형.1: 중앙행정기관\n",
            "◎생애주기: 청년||중장년\n",
            "◎신청절차: 신청절차    전화:02-3668-1483 / 02-3668-1384\n",
            "신청절차                               온라인\n",
            "Name: 82000, dtype: object\n",
            "◎선정기준: None\n",
            "◎지원유형: 지원유형    민원안내\\n\\n정보제공\n",
            "지원유형           기타,민원\n",
            "Name: 82000, dtype: object\n",
            "◎서비스목적: 정부 초청 장학생 신청(학부, 대학원) 서비스입니다.\n",
            "◎지원내용: ○ 지원자격 확인\n",
            "○ 코스 선택\n",
            "○ 대학 및 전공선택\n",
            "○ 입학지원서 작성\n",
            "○ 부가 서류 업로드\n",
            "○ 최종 확인\n",
            "○ 신청서 출력\n",
            "\n",
            "\n",
            "\n",
            "결혼·육아·교육>보육/교육지원>다문화/북한이탈주민/외국인\n",
            "◎지원대상: 학부 장학생\n",
            "○ 공관 추천, 지방 이공계 추천\n",
            "○ 추천 대상국 국적 소유자 (본인 및 부모)\n",
            "- 본인 및 부모 모두 한국 국적을 소유하지 않은 자이어야 함\n",
            "○ 입학 연도 3월 1일 기준, 만 25세 미만인 자\n",
            "○ 한국에서의 장기간 유학이 가능할 정도로 신체적으로 정신적으로 건강한 자\n",
            "○ 입학연도 3월 1일 현재 고등학교 졸업자\n",
            "- 학사 학위 소지자 및 한국 내 고등학교 졸업자는 지원할 수 없음\n",
            "○ 고등학교 전 학년 누계 평점 평균(C.G.P.A.) 이 80점/100점 이상이거나 성적 상위 20% 이내 인자\n",
            "- C.G.P.A.가 2.64/4.0, 2.80/4.3, 2.91/4.5, 3.23/5.0 이상이어야 함\n",
            "○ 한국에서 동일 과정의 장학금을 받은 사실이 없는 자\n",
            "○ 해외여행에 결격 사유가 없는 자\n",
            "○ 한국어 또는 영어 능력 우수자 우대\n",
            "○ 추천 대상국 국적 소유자 (본인 및 부모)\n",
            "- 본인 및 부모 모두 한국 국적을 소유하지 않은 자이어야 함\n",
            "\n",
            "대학원 장학생(석사, 박사)\n",
            "○ 공관 추천, 대학 추천\n",
            "○ 추천 대상국 국적 소유자 (본인 및 부모)\n",
            "- 본인 및 부모 모두 한국 국적을 소유하지 않은 자이어야 함\n",
            "○ 입학연도 9월 1일 현재, 만 40*세 미만인 자\n",
            "   * ODA 수원국의 현직교수는 만 45세 미만인 자\n",
            "○ 한국에서의 장기간 유학이 가능할 정도로 신체적으로 정신적으로 건강한 자\n",
            "- 위의 사항을 충족하는 장애인도 지원할 수 있음\n",
            "○ 입학연도 9월 1일 현재 대학(대학원) 졸업자\n",
            "○ 전 학년 누계 평점 평균(C.G.P.A.) 이 80점/100점 이상이거나 성적 상위 20% 이내 인자\n",
            "- C.G.P.A.가 2.64/4.0 , 2.80/4.3 , 2.91/4.5 , 3.23/5.0 이상이어야 함\n",
            "○ 학위과정 경험자나 교환학생 경험자 등 D-2 비자 경험자 지원 가능\n",
            "    (단, 국내 대학 또는 대학원을 졸업한 자는 지원 불가)\n",
            "○ 해외여행에 결격 사유가 없는 자\n",
            "○ 한국어 또는 영어 능력 우수자 우대\n",
            "\n",
            "외국인/재외국인\n",
            "◎대상연령시작: 19\n",
            "◎대상연령끝: 45\n",
            "◎시도: 전국\n",
            "◎시군구: None\n",
            "◎중위소득: None\n",
            "◎관심상황특성: \n",
            "◎대상특성: 외국인/재외국인\n",
            "◎대상특성상세: \n",
            "◎MB_15: 취업 지원\n",
            "◎소관기관유형: 앙\n",
            "◎지원유형: 지원유형    민원안내\\n\\n정보제공\n",
            "지원유형           기타,민원\n",
            "Name: 82000, dtype: object\n",
            "◎지원유형상세: 기타(상담)\n",
            "◎신청절차: 신청절차    전화:02-3668-1483 / 02-3668-1384\n",
            "신청절차                               온라인\n",
            "Name: 82000, dtype: object\n",
            "◎성별: 무관\n",
            "◎결혼: 무관\n",
            "◎학력: 대학(원)재학,대학(원)졸업,고등학교졸업\n",
            "◎가구원: 무관\n",
            "◎자녀: 없음\n",
            "◎자녀상세: 없음\n",
            "◎직장: 대학/대학원생\n",
            "◎직장상세: 대학생,대학원생\n",
            "\n",
            "=====================policy 정보=================\n",
            "82002\n",
            "◎정책ID: 82003\n",
            "◎정책서비스ID: 149200000080\n",
            "◎서비스명: 청년취업아카데미\n",
            "◎소관기관: 고용노동부\n",
            "◎소관기관유형.1: 중앙행정기관\n",
            "◎생애주기: 청년\n",
            "◎신청절차: 신청절차    http://www.hrdbank.net에서 과정 검색 후 해당 운영기관으로 유선 ...\n",
            "신청절차                                                  온라인\n",
            "Name: 82002, dtype: object\n",
            "◎선정기준: ○ (학생) 대학(원) 재학생(졸업예정자)\n",
            "\n",
            "○ (운영기관) 기업·사업주단체·대학·민간 우수훈련기관 등에 대해 공모를 거쳐 선정\n",
            "◎지원유형: 지원유형    현금/현물||교육/용역\n",
            "지원유형           현금,현물\n",
            "Name: 82002, dtype: object\n",
            "◎서비스목적: 기업․사업주단체 등 운영기관이 협력하여 산업현장에서 요구하는 맞춤형 교육과정 제공, 청년의 노동시장 조기진입 등 청년고용 창출\n",
            "◎지원내용: ○ (학생) 연수과정 무료수강,  취업연계 지원\n",
            "\n",
            "○ (운영기관) 교육비 80% 정부지원(운영기관 20% 자부담)\n",
            " - 교육비: 평균단가 7,706원\n",
            "\n",
            "\n",
            "\n",
            "창업·경영>업종별민원>교육 서비스업||결혼·육아·교육>대학/대학원>취업/창업 준비\n",
            "◎지원대상: ○ (학생) 대학(원) 재학생(졸업예정자)\n",
            "\n",
            "○ (운영기관) 기업·사업주단체·대학·민간 우수훈련기관\n",
            "\n",
            "기업인||중소기업/소상공인||학생||기관/시설\n",
            "◎대상연령시작: 19\n",
            "◎대상연령끝: 34\n",
            "◎시도: 전국\n",
            "◎시군구: None\n",
            "◎중위소득: None\n",
            "◎관심상황특성: 기업금융지원, 기업교육지원\n",
            "◎대상특성: 해당사항없음\n",
            "◎대상특성상세: \n",
            "◎MB_15: 기업금융지원,기업금융지원,개인금융지원,취업 지원\n",
            "◎소관기관유형: 앙\n",
            "◎지원유형: 지원유형    현금/현물||교육/용역\n",
            "지원유형           현금,현물\n",
            "Name: 82002, dtype: object\n",
            "◎지원유형상세: 현금(전체)\n",
            "◎신청절차: 신청절차    http://www.hrdbank.net에서 과정 검색 후 해당 운영기관으로 유선 ...\n",
            "신청절차                                                  온라인\n",
            "Name: 82002, dtype: object\n",
            "◎성별: 무관\n",
            "◎결혼: 무관\n",
            "◎학력: 대학(원)재학,대학(원)졸업\n",
            "◎가구원: 무관\n",
            "◎자녀: 없음\n",
            "◎자녀상세: 없음\n",
            "◎직장: 대학/대학원생,중소기업\n",
            "◎직장상세: 대학생\n",
            "\n",
            "=====================policy 정보=================\n",
            "82026\n",
            "◎정책ID: 82027\n",
            "◎정책서비스ID: 121000000012\n",
            "◎서비스명: (국세청) 취업 후 학자금상환 고지 내용 조회 서비스\n",
            "◎소관기관: 국세청\n",
            "◎소관기관유형.1: 중앙행정기관\n",
            "◎생애주기: 청년||중장년\n",
            "◎신청절차: 신청절차    None\n",
            "신청절차      무관\n",
            "Name: 82026, dtype: object\n",
            "◎선정기준: None\n",
            "◎지원유형: 지원유형    None\n",
            "지원유형      기타\n",
            "Name: 82026, dtype: object\n",
            "◎서비스목적: 취업 후 학자금상환 대출자가 국세청에서 고지한 의무적 상환금의 명세를 쉽게 조회할 수 있도록 하여 고지서 납부기한 경과에 따른 연체금 등의 금전적 불이익을 사전에 방지\n",
            "◎지원내용: 취업 후 학자금상환 대출자가 국세청에서 고지한 의무적 상환금의 명세를 쉽게 조회할 수 있도록 하여 고지서 납부기한 경과에 따른 연체금 등의 금전적 불이익을 사전에 방지\n",
            "\n",
            "\n",
            "\n",
            "금융·세금·법률>국세>국세 기타\n",
            "◎지원대상: 한국장학재단의 취업 후 학자금상환 대출자 중 대학 졸업 후 경제 활동 등으로 소득이 발생한 채무자\n",
            "\n",
            "근로자||일반\n",
            "◎대상연령시작: 19\n",
            "◎대상연령끝: 70\n",
            "◎시도: 전국\n",
            "◎시군구: None\n",
            "◎중위소득: None\n",
            "◎관심상황특성: \n",
            "◎대상특성: 해당사항없음\n",
            "◎대상특성상세: \n",
            "◎MB_15: 취업 지원,취업 지원\n",
            "◎소관기관유형: 앙\n",
            "◎지원유형: 지원유형    None\n",
            "지원유형      기타\n",
            "Name: 82026, dtype: object\n",
            "◎지원유형상세: 해당사항없음\n",
            "◎신청절차: 신청절차    None\n",
            "신청절차      무관\n",
            "Name: 82026, dtype: object\n",
            "◎성별: 무관\n",
            "◎결혼: 무관\n",
            "◎학력: 대학(원)졸업\n",
            "◎가구원: 무관\n",
            "◎자녀: 없음\n",
            "◎자녀상세: 없음\n",
            "◎직장: 대학/대학원생,구직자/실업자\n",
            "◎직장상세: 대학생\n",
            "\n",
            "=====================policy 정보=================\n",
            "82036\n",
            "◎정책ID: 82037\n",
            "◎정책서비스ID: PTR000050733\n",
            "◎서비스명: 한·미 대학생연수(WEST)\n",
            "◎소관기관: 교육부\n",
            "◎소관기관유형.1: 중앙행정기관\n",
            "◎생애주기: 청년\n",
            "◎신청절차: 신청절차    월드잡 플러스(www.worldjob.or.kr)에 신청 : 세부사항은 WEST 선...\n",
            "신청절차                                                   무관\n",
            "Name: 82036, dtype: object\n",
            "◎선정기준: ○ 한미 대학생 연수 취업(WEST) : 대학(전문대) 재. 휴학생 및 프로그램 시작일 기준 1년 이내 졸업생\n",
            "\n",
            "○ 어학성적 :TOEIC 850점 이상, TOEIC 스피킹 6등급(130점) 이상 동시 충족 등(세부 과정별 상이)\n",
            "\n",
            "○ 우대조건: 사회·경제적 취약계층 우대 선발 등\n",
            "◎지원유형: 지원유형    현금/현물||교육/용역\n",
            "지원유형           현금,현물\n",
            "Name: 82036, dtype: object\n",
            "◎서비스목적: 한미 정부 간 협약에 따라 대학생 또는 1년 이내 졸업생에게 미국 어학연수, 인턴십 등을 6~18개월간 지원하여 글로벌 감각을 갖춘 핵심인재를 양성하는 사업입니다.\n",
            "◎지원내용: 1. 선발 인원 : 연 200명 내외\n",
            "\n",
            "2. 파견 국가 : 미국\n",
            "\n",
            "3. 기간: 6~18개월(세부과정별 상이)\n",
            "\n",
            "4. 활동 내용\n",
            " - 현지 적응과 실무영어 습득을 겸한 어학연수 후, 다양한 분야에서 인턴활동 인턴십은 미국 기업체, 교육기관, NGO, IT, 금융, 연구소, 공공기관, 미디어 등 다양한 분야에서 실시\n",
            "\n",
            "5. 정비 재정 지원\n",
            "○ 참가자 전원(공통사항)\n",
            " - 왕복 항공료(200만 원)\n",
            " - 미국 기업(기관) 인턴 근무 시 최장 16주간 생활비 일부 지원\n",
            " - 어학연수비 대출 가능(한국장학재단, 단, 졸업자 제외)\n",
            "\n",
            "○ 저소득층 참가자\n",
            " - 소득 분위에 따라 참가비(어학연수비 + 스폰서비, 장기 기준 최대 $9,450), 생활비($950/4주지원) 차등 지원\n",
            "\n",
            "* 2021년 코로나19 상황에 따라 프로그램 내용 및 지원 내역이 변경될 수 있음\n",
            "\n",
            "\n",
            "\n",
            "취업·직장>일자리>민간기업 일자리||결혼·육아·교육>대학/대학원>취업/창업 준비\n",
            "◎지원대상: 4년제 대학 4학기 이상 이수한(전문대학 2학기 이상) 재·휴학생 및 최근 1년 이내 졸업생\n",
            "코로나19로 21년 참가 대상 부분 확대(세부사항 사업 기본계획 참고)\n",
            "\n",
            "학생\n",
            "◎대상연령시작: 19\n",
            "◎대상연령끝: 34\n",
            "◎시도: 전국\n",
            "◎시군구: None\n",
            "◎중위소득: None\n",
            "◎관심상황특성: 개인교육지원, 기업금융지원\n",
            "◎대상특성: 해당사항없음\n",
            "◎대상특성상세: \n",
            "◎MB_15: 성인교육지원,기업금융지원,개인금융지원,취업 지원\n",
            "◎소관기관유형: 앙\n",
            "◎지원유형: 지원유형    현금/현물||교육/용역\n",
            "지원유형           현금,현물\n",
            "Name: 82036, dtype: object\n",
            "◎지원유형상세: 현금(전체)\n",
            "◎신청절차: 신청절차    월드잡 플러스(www.worldjob.or.kr)에 신청 : 세부사항은 WEST 선...\n",
            "신청절차                                                   무관\n",
            "Name: 82036, dtype: object\n",
            "◎성별: 무관\n",
            "◎결혼: 무관\n",
            "◎학력: 대학(원)재학,대학(원)졸업,대학(원)휴학\n",
            "◎가구원: 무관\n",
            "◎자녀: 없음\n",
            "◎자녀상세: 없음\n",
            "◎직장: 대학/대학원생\n",
            "◎직장상세: 대학생\n",
            "\n",
            "=====================policy 정보=================\n",
            "82073\n",
            "◎정책ID: 82074\n",
            "◎정책서비스ID: PTR000050731\n",
            "◎서비스명: 대학생 글로벌 현장학습 프로그램\n",
            "◎소관기관: 교육부\n",
            "◎소관기관유형.1: 중앙행정기관\n",
            "◎생애주기: 청년\n",
            "◎신청절차: 신청절차    ○ 정부 해외인턴 포털(www.ggi.go.kr)을 활용, 해당 프로그램별 모집, ...\n",
            "신청절차                                                   무관\n",
            "Name: 82073, dtype: object\n",
            "◎선정기준: ㅇ 일정 학점, 공인어학 성적 등 : 사업별 상이(소속 대학에서의 세부적인 기준이 상이할 수 있음)\n",
            " - 저소득층(기초생활보장 수급자, 소득 1~3분위) 지원자는 우대 선발 및 참가경비 추가 지원\n",
            "◎지원유형: 지원유형    교육/용역\n",
            "지원유형       기타\n",
            "Name: 82073, dtype: object\n",
            "◎서비스목적: 대학생들에게 해외 산업현장 실무 경험 등 다양한 글로벌 현장학습 기회를 제공하여 경력 및 진로 설계를 돕고, 이를 통해 글로벌 감각을 갖춘 핵심인재 양성을 위한 제도\n",
            "◎지원내용: ○ 대학 글로벌 현장학습\n",
            " - 대학 단위 프로그램으로 전 세계 대상의 연간 100명 내외의 4개월 전공 관련 역량 신장을 위한 프로그램\n",
            "\n",
            "○ 전문대학 글로벌 현장학습\n",
            " - 전문대학 단위 프로그램으로 연간 450명 내외로 4개월 기간의 어학교육 및 전공 연계된 현장실습을 통한 글로벌 전문 직업인 인재 양성 프로그램\n",
            "\n",
            "○ 한·미 대학생 연수 취업(WEST)\n",
            " - 한·미 정상 간 교류 합의로 시작되어 연 300명 내외 대상으로 미국 어학연수, 인턴 취업, 여행으로 구성된 최장 18개월 인재 양성 프로그램\n",
            "\n",
            "○ 파란사다리\n",
            " - 취업 취약계층 대학생 대상 4주간의 해외 연수 지원\n",
            "\n",
            "* 2021년 코로나19 상황에 따라 프로그램 내용 및 지원 내역이 변경될 수 있음\n",
            "\n",
            "(기타:사업별 수행기관 홈페이지 참고)\n",
            "\n",
            "취업·직장>일자리>민간기업 일자리||결혼·육아·교육>대학/대학원>취업/창업 준비\n",
            "◎지원대상: ㅇ 대학 글로벌 현장학습(대학 단위 모집)\n",
            " - 4학기 이상 수료자\n",
            "\n",
            "ㅇ 전문대학 글로벌 현장학습(대학 단위 모집)\n",
            " - 전문대학 2학기 이상 수료자\n",
            "\n",
            "ㅇ WEST 프로그램(개별 모집)\n",
            " - 4년제 대학 4학기(전문대학 2학기) 이상 재·휴학생(프로그램 시작일 기준 1년 이내 졸업생 가능)\n",
            "\n",
            "ㅇ 파란사다리(권역별 주관대학 단위 모집, 주관대학별 타교생 모집 진행)\n",
            " - 취업 취약계층 (전문)대학생\n",
            "\n",
            "학생\n",
            "◎대상연령시작: 19\n",
            "◎대상연령끝: 34\n",
            "◎시도: 전국\n",
            "◎시군구: None\n",
            "◎중위소득: None\n",
            "◎관심상황특성: \n",
            "◎대상특성: 해당사항없음\n",
            "◎대상특성상세: \n",
            "◎MB_15: 취업 지원,취업 지원\n",
            "◎소관기관유형: 앙\n",
            "◎지원유형: 지원유형    교육/용역\n",
            "지원유형       기타\n",
            "Name: 82073, dtype: object\n",
            "◎지원유형상세: 해당사항없음\n",
            "◎신청절차: 신청절차    ○ 정부 해외인턴 포털(www.ggi.go.kr)을 활용, 해당 프로그램별 모집, ...\n",
            "신청절차                                                   무관\n",
            "Name: 82073, dtype: object\n",
            "◎성별: 무관\n",
            "◎결혼: 무관\n",
            "◎학력: 대학(원)재학,대학(원)졸업,대학(원)휴학\n",
            "◎가구원: 무관\n",
            "◎자녀: 없음\n",
            "◎자녀상세: 없음\n",
            "◎직장: 대학/대학원생\n",
            "◎직장상세: 대학생\n",
            "\n",
            "=====================policy 정보=================\n",
            "84034\n",
            "◎정책ID: 84035\n",
            "◎정책서비스ID: B55265300020\n",
            "◎서비스명: 산모 신생아 건강관리 모의계산\n",
            "◎소관기관: 한국사회보장정보원\n",
            "◎소관기관유형.1: 공공기관 등\n",
            "◎생애주기: 청년||중장년\n",
            "◎신청절차: 신청절차    None\n",
            "신청절차      무관\n",
            "Name: 84034, dtype: object\n",
            "◎선정기준: ○ 산모 및 배우자의 건강보험료 본인부담금 합산액이 전국 가구 기준 중위소득 120% 이하이며, 출산(예정)일 전 40일 또는 출산 후 30일 이내에 서비스를 신청한 산모를 지원합니다. \n",
            " - 소득 기준을 초과하더라도 특수가정에 대해서는 지방자치단체별 예외지원* 가능(지방자치단체별 지원 여부에 대한 자세한 사항은 관할 보건소 문의)\n",
            "* 희귀난치성 질환·장애인·새터민·결혼이민·미혼모, 분만취약지 산모, 쌍생아·셋째아 이상 출산 가정, 기타 소득 기준 완화 등\n",
            "◎지원유형: 지원유형    정보제공\n",
            "지원유형      기타\n",
            "Name: 84034, dtype: object\n",
            "◎서비스목적: 산모신생아 건강관리 대상 선정 여부를 예측하기 위한 모의계산 서비스 제공\n",
            "◎지원내용: 산모신생아 건강관리 모의계산을 통해 서비스 수혜 가능성 확인\n",
            "\n",
            "\n",
            "\n",
            "결혼·육아·교육>임신/출생>임산부지원\n",
            "◎지원대상: ○ 산모 및 배우자의 건강보험료 본인부담금 합산액이 전국 가구 기준 중위소득 120% 이하이며, 출산(예정)일 전 40일 또는 출산 후 30일 이내에 있는 산모\n",
            "\n",
            "여성\n",
            "◎대상연령시작: 19\n",
            "◎대상연령끝: 70\n",
            "◎시도: 전국\n",
            "◎시군구: None\n",
            "◎중위소득: 0,10,20,30,40,50,60,70,80,90,100,110,120\n",
            "◎관심상황특성: \n",
            "◎대상특성: 임신부, 출산후\n",
            "◎대상특성상세: \n",
            "◎MB_15: \n",
            "◎소관기관유형: 공\n",
            "◎지원유형: 지원유형    정보제공\n",
            "지원유형      기타\n",
            "Name: 84034, dtype: object\n",
            "◎지원유형상세: 기타(상담)\n",
            "◎신청절차: 신청절차    None\n",
            "신청절차      무관\n",
            "Name: 84034, dtype: object\n",
            "◎성별: 여성\n",
            "◎결혼: 미혼\n",
            "◎학력: 무관\n",
            "◎가구원: 무관\n",
            "◎자녀: 없음\n",
            "◎자녀상세: 없음\n",
            "◎직장: 무관\n",
            "◎직장상세: None\n",
            "\n",
            "=====================policy 정보=================\n",
            "84344\n",
            "◎정책ID: 84345\n",
            "◎정책서비스ID: PTR000052033\n",
            "◎서비스명: 한국콘텐츠아카데미\n",
            "◎소관기관: 한국콘텐츠진흥원\n",
            "◎소관기관유형.1: 공공기관 등\n",
            "◎생애주기: 청년||중장년||노년기\n",
            "◎신청절차: 신청절차    None\n",
            "신청절차      무관\n",
            "Name: 84344, dtype: object\n",
            "◎선정기준: None\n",
            "◎지원유형: 지원유형    교육/용역\n",
            "지원유형       기타\n",
            "Name: 84344, dtype: object\n",
            "◎서비스목적: 콘텐츠 분야 글로벌 인재 양성을 위해 산업 현장에서 필요로 하는 융합형 창작 인재를 양성하기 위해 노력하고 있습니다.\n",
            "◎지원내용: ○ 콘텐츠 창의인재 인프라 구축 지원\n",
            " - 청소년 대상 콘텐츠 창작 공모전 개최\n",
            "  · 콘텐츠 분야를 중심으로 한 청소년 대상 전국 규모의 공모전 실시\n",
            " - 콘텐츠 창의체험스쿨 운영 지원\n",
            "  · 청소년들의 콘텐츠 분야에 대한 관심 해소와 진로체험 및 재능 발굴을 위해 콘텐츠 창의체험스쿨 지역거점센터 운영 지원(3개소)\n",
            " - 콘텐츠 특성화고 산학연계 프로젝트형 교육 운영 지원\n",
            "  · 콘텐츠 창의인재 조기 육성을 위한 콘텐츠 특성화 고교 산학협력 프로그램 운영 지원(4개교)\n",
            "\n",
            "○ 국내 대학 융합형 교육 지원\n",
            " - 콘텐츠 분야의 글로벌 교육 환경을 구축하고 융합형 창의인재 양성을 위한 예술-인문-기술의 다학제·산학·해외 연계 교육과정\n",
            " 운영 지원\n",
            "  · 단 연도, 다년도(2년) 구분하여 지정/자유공모를 통해 창의적 커리큘럼 기획, 융합형 교육 과정 운영이 가능한 대학에 1억 원 지원\n",
            "\n",
            "○ 해외 석사과정 지원\n",
            " - 융합형 프로젝트 중심의 콘텐츠 관련 해외 석사 장학사업으로 카네기멜론대학교(CMU) 석사과정 ETC(엔터테인먼트 기술)/HCII(인간-컴퓨터 인터랙션) 과정을 지원 \n",
            "  · CMU 등록금(tuition) 50% 지원(학기당 약 $10,000)\n",
            "   ※ 개인부담 : 등록금 차액, 현지 체재비 등\n",
            "  · 국비장학생 선발 후 전체 학생 대상 오리엔테이션 프로그램 실시\n",
            "\n",
            "○ 콘텐츠 창의인재 동반사업\n",
            " - 콘텐츠 창조 분야에 특화된 장기간의 멘토링 숙련 과정을 지속 운영하여 창의인재의 장기적 육성과 청년 일자리 창출을 지원 \n",
            "  · 미래 가능성 있는 창작자 양성을 위해 플랫폼 기관의 네트워킹과 콘텐츠 분야의 최고 전문가에 의한 프로젝트 중심의 현장 밀착형 멘토링 지원\n",
            "  · 창의교육생(멘티)은 플랫폼 기관과 근로계약을 체결하고, 멘토와 플랫폼 기관이 진행하는 다양한 프로젝트에 참여(매월 약 116만 원 지급, 4대 보험 포함)\n",
            "  · 플랫폼 기관과 멘토를 통해 창의교육생의 프로젝트 개발 및 창업, 진로상담, 취업지원, 등 다양한 경력경로 코칭 \n",
            "\n",
            "○ 콘텐츠 융합 아카데미 교육과정\n",
            " - 빅 킬러 콘텐츠를 개발할 수 있는 기술 간, 콘텐츠 간 융합교육을 위해 필수 기술교육, 맞춤 멘토링, 시제품 개발을 위한 프로젝트형 교육과정을 통해 기술 기반 창업인재 양성을 지원\n",
            "  · 다양한 프로젝트를 수행할 수 있는 필수 기술교육 + 멘토링(프로젝트 맞춤형 기술 및 비즈니스 전략 등) + 프로젝트(시제품 개발 지원)\n",
            "\n",
            "○ 현업인 직무 재교육\n",
            " - 콘텐츠 분야 현업인 대상 전문가 특강, 직무 집중과정, 해외연수 등을 통한 업무역량 강화와 전문성 향상을 도모하는 교육과정 \n",
            "  · 콘텐츠 창의 마스터 클래스\n",
            "  · 콘텐츠 인사이트 \n",
            "\n",
            "○ 온라인 평생교육\n",
            " - 콘텐츠산업 예비인력과 현업 종사자 대상의 열린 교육\n",
            " - 게임, 방송영상, 만화 애니캐릭터, 음악공연 등 콘텐츠 분야 기능과 산업을 고려한 다중 분류체계 구성\n",
            " - 전 교육과정 무료 운영, 분야별 전문 튜터의 튜터링 서비스 제공\n",
            "\n",
            "\n",
            "\n",
            "취업·직장>교육/훈련>직업교육훈련/취업준비교육||결혼·육아·교육>학력인정/평생학습>평생학습\n",
            "◎지원대상: ○ 콘텐츠 창의인재 인프라 구축 지원\n",
            " - 청소년 대상 콘텐츠 창작 공모전 : 전국 중·고등학교 재학생 \n",
            " - 콘텐츠 창의체험스쿨 운영 지원 : 청소년들에게 콘텐츠 분야 다양한 창작교육과 직무 체험을 경험할 수 있는 프로그램 운영 기관\n",
            " - 콘텐츠 특성화고 산학연계 프로젝트형 교육 운영 지원 : 전국 콘텐츠 관련 특성화 고교\n",
            "\n",
            "○ 국내 대학 융합형 교육 지원 : 콘텐츠 분야 융합형 교육 프로그램 개발 및 관련 학과 운영이 가능한 고등교육법에 의한 국내 대학(교) (대학원 포함)\n",
            "\n",
            "○ 해외 석사과정 지원 : 한국 국적자로서 콘텐츠 관련 전공 대학 졸업자(졸업예정자) 또는 이와 동등한 학력을 겸비한 자로 해당과정 이수 가능자\n",
            " ※ 졸업 후 콘텐츠 분야 국내 기업 취업 또는 창업·창직 의무화 실천 가능자\n",
            "\n",
            "○ 콘텐츠 창의인재 동반사업\n",
            " - 플랫폼 기관 : 콘텐츠 창조 분야의 도제식 멘토링, 훈련이 가능한 설립 3년 이상의 법인\n",
            " - 멘토 : 해당분야 10년 내외의 경력을 쌓은 전문가(플랫폼 기관에서 위촉)\n",
            " - 창의교육생(멘티) : 창작의 소질과 소양을 갖춘 예비 취업자(만 18세～35세로 창작 분야 종사 희망자를 서류, 면접을 통해 선발)\n",
            "\n",
            "○ 콘텐츠 융합 아카데미 교육과정 : 웨어러블, IOT, 가상환경, 아트테크, 로보틱스 등 새롭게 등장한 분야의 융합 콘텐츠 창작에 관심이 많고 기업가 정신을 갖춘 청년 70명 내외 \n",
            "\n",
            "○ 현업인 직무 재교육 : 콘텐츠산업 현업인 대상 \n",
            "\n",
            "○ 온라인 평생교육 : 콘텐츠산업 예비인력과 현업 종사자 대상\n",
            "\n",
            "구직자||근로자||일반\n",
            "◎대상연령시작: 19\n",
            "◎대상연령끝: 99\n",
            "◎시도: 전국\n",
            "◎시군구: None\n",
            "◎중위소득: None\n",
            "◎관심상황특성: \n",
            "◎대상특성: 해당사항없음\n",
            "◎대상특성상세: \n",
            "◎MB_15: 취업 지원,취업 지원\n",
            "◎소관기관유형: 공\n",
            "◎지원유형: 지원유형    교육/용역\n",
            "지원유형       기타\n",
            "Name: 84344, dtype: object\n",
            "◎지원유형상세: 해당사항없음\n",
            "◎신청절차: 신청절차    None\n",
            "신청절차      무관\n",
            "Name: 84344, dtype: object\n",
            "◎성별: 무관\n",
            "◎결혼: 무관\n",
            "◎학력: 대학(원)졸업,고등학교졸업\n",
            "◎가구원: 무관\n",
            "◎자녀: 없음\n",
            "◎자녀상세: 없음\n",
            "◎직장: 대학/대학원생,구직자/실업자,중소기업\n",
            "◎직장상세: 대학생,대학원생,교육/법률/사회복지/경찰/소방/군인직/공무원직\n",
            "\n",
            "=====================policy 정보=================\n",
            "84787\n",
            "◎정책ID: 84788\n",
            "◎정책서비스ID: B27000100018\n",
            "◎서비스명: 미혼부에 대한 무료법률구조(法律救助)\n",
            "◎소관기관: 대한법률구조공단\n",
            "◎소관기관유형.1: 공공기관 등\n",
            "◎생애주기: 청년||중장년||노년기\n",
            "◎신청절차: 신청절차    ○ 법률구조신청을 하기 위해서는 고객께서 본인의 주민등록등본과 법률구조 대상자임을 ...\n",
            "신청절차                                                 오프라인\n",
            "Name: 84787, dtype: object\n",
            "◎선정기준: ○ 구조대상자 해당 여부 심사\n",
            "\n",
            "○ 승소 가능성 유무 심사\n",
            "\n",
            "○ 구조 타당성 여부 심사\n",
            "◎지원유형: 지원유형    상담/법률지원\n",
            "지원유형    상담/법률지원\n",
            "Name: 84787, dtype: object\n",
            "◎서비스목적: 경제적 어려움 등으로 법의 보호를 충분히 받지 못하는 자에 대한 기본적 인권 옹호 및 법률복지 증진\n",
            "◎지원내용: 「가족관계의 등록 등에 관한 법률 」제57조에 따른 친생자 출생신고를 위한 확인 신청 대리\n",
            "\n",
            "\n",
            "\n",
            "금융·세금·법률>상담/법률구제>소송||생활·병역>생활지원>한부모/조손가정\n",
            "◎지원대상: 「가족관계의 등록 등에 관한 법률 」제57조에 따른 친생자 출생신고를 위한 확인 신청이 필요한 미혼부\n",
            "\n",
            "한부모/조손 가정||일반\n",
            "◎대상연령시작: 19\n",
            "◎대상연령끝: 99\n",
            "◎시도: 전국\n",
            "◎시군구: None\n",
            "◎중위소득: None\n",
            "◎관심상황특성: \n",
            "◎대상특성: 한부모가정/조손가정\n",
            "◎대상특성상세: \n",
            "◎MB_15: 개인금융지원\n",
            "◎소관기관유형: 공\n",
            "◎지원유형: 지원유형    상담/법률지원\n",
            "지원유형    상담/법률지원\n",
            "Name: 84787, dtype: object\n",
            "◎지원유형상세: 해당사항없음\n",
            "◎신청절차: 신청절차    ○ 법률구조신청을 하기 위해서는 고객께서 본인의 주민등록등본과 법률구조 대상자임을 ...\n",
            "신청절차                                                 오프라인\n",
            "Name: 84787, dtype: object\n",
            "◎성별: 무관\n",
            "◎결혼: 미혼\n",
            "◎학력: 무관\n",
            "◎가구원: 무관\n",
            "◎자녀: 없음\n",
            "◎자녀상세: 없음\n",
            "◎직장: 무관\n",
            "◎직장상세: None\n",
            "\n",
            "=====================policy 정보=================\n",
            "85977\n",
            "◎정책ID: 85978\n",
            "◎정책서비스ID: B55301400021\n",
            "◎서비스명: 개도국 지원 국제 기상전문인력 양성\n",
            "◎소관기관: 한국기상산업기술원\n",
            "◎소관기관유형.1: 공공기관 등\n",
            "◎생애주기: 청년||중장년\n",
            "◎신청절차: 신청절차    ○ 신청방법 : 상기 조건 충족자 중 지원서 제출\\n\\n○ 시기 및 방법\\n   -...\n",
            "신청절차                                                   무관\n",
            "Name: 85977, dtype: object\n",
            "◎선정기준: ○ 지원 대상 조건을 모두 충족하여야 하며, 서류 전형 및 면접 전형을 통하여 심사 선발(매년 약30명)\n",
            "\n",
            "○ 국내 교육 후, 국제기구 인턴 지원 및 선발자(상·하반기 각 8~9명) 각 6개월 이내 국제기구 인턴파견 지원\n",
            "◎지원유형: 지원유형    현금/현물||교육/용역\n",
            "지원유형           현금,현물\n",
            "Name: 85977, dtype: object\n",
            "◎서비스목적: 급증하는 기상기후분야 국제협력 수요에 적극 대응하여 국제기구, 개도국 등에서 활동할 미래 국제 기상전문인력 양성\n",
            "◎지원내용: ○ 약 1개월 국내 교육 및 훈련 과정 제공(교육비 무료)\n",
            "\n",
            "○ 국제기구 인턴 파견 및 지원(상·하반기 각 8~9명, 6개월 이내)\n",
            "  - 체재비, 항공료(실비), 보험료, VISA 준비금 등 지원\n",
            "\n",
            "\n",
            "\n",
            "취업·직장>교육/훈련>직업교육훈련/취업준비교육||결혼·육아·교육>대학/대학원>대외활동\n",
            "◎지원대상: ○ 대한민국 국적 소지자로 대학재학 이상(대학·대학원 재학생 및 졸업자)의 대기과학(기상·기후) 및 관련분야 전공자\n",
            "\n",
            "○ 어학요건 충족자\n",
            "    - TOEFL 530점(CBT197점, iBT71점), 서울대·한국외대·부산외대 어학검정 60점, 영국문화원 IELTS 5.5점, G-Telp (LevelⅡ) 70점,\n",
            "      TOEIC 675점, TEPS 600점 이상\n",
            "    - 기타 동등한 어학 성적으로 인정되는 경우도 지원 가능\n",
            "\n",
            "※ 장애인, 저소득층 등 사회적 보호대상자(지원기간 마감일 현재 유효하게 등록된 자) 우대\n",
            "\n",
            "구직자||학생\n",
            "◎대상연령시작: 19\n",
            "◎대상연령끝: 70\n",
            "◎시도: 전국\n",
            "◎시군구: None\n",
            "◎중위소득: None\n",
            "◎관심상황특성: 개인교육지원\n",
            "◎대상특성: 해당사항없음\n",
            "◎대상특성상세: \n",
            "◎MB_15: 성인교육지원,개인금융지원,취업 지원,취업 지원\n",
            "◎소관기관유형: 공\n",
            "◎지원유형: 지원유형    현금/현물||교육/용역\n",
            "지원유형           현금,현물\n",
            "Name: 85977, dtype: object\n",
            "◎지원유형상세: 현금(전체)\n",
            "◎신청절차: 신청절차    ○ 신청방법 : 상기 조건 충족자 중 지원서 제출\\n\\n○ 시기 및 방법\\n   -...\n",
            "신청절차                                                   무관\n",
            "Name: 85977, dtype: object\n",
            "◎성별: 무관\n",
            "◎결혼: 무관\n",
            "◎학력: 대학(원)재학,대학(원)졸업\n",
            "◎가구원: 무관\n",
            "◎자녀: 없음\n",
            "◎자녀상세: 없음\n",
            "◎직장: 대학/대학원생\n",
            "◎직장상세: 대학생,대학원생\n",
            "\n",
            "=====================policy 정보=================\n",
            "87284\n",
            "◎정책ID: 87285\n",
            "◎정책서비스ID: SD0000003373\n",
            "◎서비스명: 양육비이행지원을 위한 한부모 가족 무료법률구조(法律救助)\n",
            "◎소관기관: 대한법률구조공단\n",
            "◎소관기관유형.1: 공공기관 등\n",
            "◎생애주기: 청년||중장년||노년기\n",
            "◎신청절차: 신청절차    ○ 법률구조신청을 하기 위해서는 고객께서 본인의 주민등록등본과 법률구조 대상자임을 ...\n",
            "신청절차                                                 오프라인\n",
            "Name: 87284, dtype: object\n",
            "◎선정기준: ○ 구조 대상자 해당 여부 심사\n",
            "○ 승소 가능성 유무 심사\n",
            "○ 구조 타당성 여부 심사\n",
            "◎지원유형: 지원유형    상담/법률지원\\n\\n교육/용역\n",
            "지원유형             상담/법률지원\n",
            "Name: 87284, dtype: object\n",
            "◎서비스목적: 경제적 어려움 등으로 법의 보호를 충분히 받지 못하는 자에 대한 기본적 인권 옹호 및 법률복지 증진(한부모가족의 양육비이행 법률지원서비스)\n",
            "◎지원내용: 양육비이행을 위한 양육비청구, 인지 청구 사건 소송대리\n",
            "\n",
            "\n",
            "\n",
            "금융·세금·법률>상담/법률구제>소송||생활·병역>생활지원>한부모/조손가정\n",
            "◎지원대상: 기준 중위소득 125% 이하인 한부모가족, 미혼모·부 가족, 기타 한 부모 가족(재혼가족 포함), 조부모 가족\n",
            "\n",
            "한부모/조손 가정\n",
            "◎대상연령시작: 19\n",
            "◎대상연령끝: 99\n",
            "◎시도: 전국\n",
            "◎시군구: None\n",
            "◎중위소득: 0,10,20,30,40,50,60,70,80,90,100,110,120\n",
            "◎관심상황특성: \n",
            "◎대상특성: 한부모가정/조손가정\n",
            "◎대상특성상세: \n",
            "◎MB_15: 개인금융지원\n",
            "◎소관기관유형: 공\n",
            "◎지원유형: 지원유형    상담/법률지원\\n\\n교육/용역\n",
            "지원유형             상담/법률지원\n",
            "Name: 87284, dtype: object\n",
            "◎지원유형상세: 해당사항없음\n",
            "◎신청절차: 신청절차    ○ 법률구조신청을 하기 위해서는 고객께서 본인의 주민등록등본과 법률구조 대상자임을 ...\n",
            "신청절차                                                 오프라인\n",
            "Name: 87284, dtype: object\n",
            "◎성별: 무관\n",
            "◎결혼: 미혼,재혼\n",
            "◎학력: 무관\n",
            "◎가구원: 무관\n",
            "◎자녀: 없음\n",
            "◎자녀상세: 없음\n",
            "◎직장: 무관\n",
            "◎직장상세: None\n",
            "\n",
            "=====================policy 정보=================\n",
            "87632\n",
            "◎정책ID: 87633\n",
            "◎정책서비스ID: PTR000051765\n",
            "◎서비스명: 장애인 직업능력개발 지원\n",
            "◎소관기관: 한국장애인고용공단\n",
            "◎소관기관유형.1: 공공기관 등\n",
            "◎생애주기: 청년||중장년||노년기\n",
            "◎신청절차: 신청절차    ○ 훈련비 및 훈련수당 신청 기한\\n - 공공훈련기관: 매월 훈련종료 후 10일 이...\n",
            "신청절차                                                   무관\n",
            "Name: 87632, dtype: object\n",
            "◎선정기준: None\n",
            "◎지원유형: 지원유형    교육/용역\n",
            "지원유형       기타\n",
            "Name: 87632, dtype: object\n",
            "◎서비스목적: 장애인의 직업훈련서비스 접근성 향상\n",
            "○공공훈련기관 지원: 장애인이 비장애인과 통합 훈련을 받도록 지원하여 직업훈련 효과성 향상과 사회적응력 향상 및 취업률 제고\n",
            "\n",
            "○민간훈련기관 지원: 장애인이 거주지 인근의 민간훈련기관에서 훈련을 받도록 지원하여, 직업훈련 서비스의 접근성 제공\n",
            "◎지원내용: ○ 훈련수당: 1개월 단위 출석률이 80% 이상인 경우에만 지급\n",
            " - 훈련참여수당\n",
            "  1) 장애인취업성공패키지 참여: 월 최대 284,000원(일할계산)\n",
            "  2) 장애인취업성공패키지 미참여: 200,000원(정액 지급)\n",
            "※ 민간직업훈련기관 훈련생은 장애인취업성공패키지 1단계 수료자에 한해 훈련참여수당 지급\n",
            " \n",
            " - 훈련장려금(훈련기관의 기숙사를 이용하는 경우 지급하지 않음)\n",
            "  1) 교통비: 월 최대 50,000원(일할계산, 통학생에 한함)\n",
            "  2) 식비: 월 최대 66,000원(일할계산, 식사를 받는 경우 제외)\n",
            " \n",
            "\n",
            "○ 공공훈련기관 교사수당 지원:  폴리텍대학 2년제 과정 장애인 재학생을 지도하는 교수 대상 1인당 2만원, 최대 월 10만 원 한도 지원\n",
            "\n",
            "○ 민간훈련기관 훈련비: <사업주 직업능력개발훈련 지원규정> 별표2의 훈련 직종별 단가에 따라 훈련기관에 지원\n",
            "\n",
            "\n",
            "\n",
            "취업·직장>교육/훈련>직업교육훈련/취업준비교육||취업·직장>취업지원>장애인\n",
            "◎지원대상: ○15세 이상의 장애인으로 직업훈련을 희망하는 구직 장애인\n",
            " - 공공훈련기관: 전국 35개 폴리텍대학의 2년제 교육과정에 재학 중인 장애인 학생\n",
            " - 민간훈련기관: 공단이 지정한 전국 44개 훈련기관의 직업훈련 과정에 참여 중인 장애인 훈련생\n",
            "\n",
            "\n",
            "○ 다음 각 호의 어느 하나에 해당하는 자는 서비스 대상에서 제외\n",
            " - 다른 법령에 의하여 훈련비용을 지원받고 있는 자\n",
            "  - 고등학교 또는 대학 이상의 학교에 재·휴학 중인 자\n",
            "    (단, 대학(원)생의 훈련 개시일 현재 졸업예정자 및 야간 대학(원), 사이버대학에 재학 중인 자(방송통신대 포함) 및\n",
            "     고등학생은 3학년에 재학생으로서 학교장의 승인이 있는 경우 훈련 참여 가능)\n",
            " - 공단에서 지원하는 직업훈련과정을 수료하고 1년이 지나지 아니한 자\n",
            "   (다만, 동일직종의 경우 수료한 후 3년이 경과해야 입학할 수 있으며 상위 기능습득을 위하여 편입 및 입학하는 경우는 제외)\n",
            " - 공단에서 지원하는 직업훈련 과정을 정당한 사유 없이 중도탈락한 후 1년이 지나지 아니한 자\n",
            " - 공단에서 지원하는 직업훈련 과정을 정당한 사유 없이 2회 이상 중도탈락한 경우\n",
            "\n",
            "장애인\n",
            "◎대상연령시작: 15\n",
            "◎대상연령끝: 99\n",
            "◎시도: 전국\n",
            "◎시군구: None\n",
            "◎중위소득: None\n",
            "◎관심상황특성: \n",
            "◎대상특성: 장애인\n",
            "◎대상특성상세: \n",
            "◎MB_15: 취업 지원,취업 지원\n",
            "◎소관기관유형: 공\n",
            "◎지원유형: 지원유형    교육/용역\n",
            "지원유형       기타\n",
            "Name: 87632, dtype: object\n",
            "◎지원유형상세: 해당사항없음\n",
            "◎신청절차: 신청절차    ○ 훈련비 및 훈련수당 신청 기한\\n - 공공훈련기관: 매월 훈련종료 후 10일 이...\n",
            "신청절차                                                   무관\n",
            "Name: 87632, dtype: object\n",
            "◎성별: 무관\n",
            "◎결혼: 무관\n",
            "◎학력: 대학(원)재학,대학(원)졸업,대학(원)휴학,고등학교졸업\n",
            "◎가구원: 무관\n",
            "◎자녀: 없음\n",
            "◎자녀상세: 없음\n",
            "◎직장: 대학/대학원생\n",
            "◎직장상세: 대학생\n",
            "\n",
            "=====================policy 정보=================\n",
            "87966\n",
            "◎정책ID: 87967\n",
            "◎정책서비스ID: B55151000046\n",
            "◎서비스명: 전문무용수 직업전환 교육비 및 상해치료비 지원\n",
            "◎소관기관: 한국문화예술위원회\n",
            "◎소관기관유형.1: 공공기관 등\n",
            "◎생애주기: 청년||중장년\n",
            "◎신청절차: 신청절차    ○ 전문무용수지원센터 홈페이지를 통한 온라인 신청\\n - 온라인 신청 후 전문무용수...\n",
            "신청절차                                                  온라인\n",
            "Name: 87966, dtype: object\n",
            "◎선정기준: None\n",
            "◎지원유형: 지원유형    의료지원\\n\\n현금/현물||교육/용역\n",
            "지원유형              의료지원,현금,현물\n",
            "Name: 87966, dtype: object\n",
            "◎서비스목적: ○ 국‧공‧시‧도립 및 민간단체 소속, 독립무용수의 창작활동, 복지, 직업창출 및 취업에 관한 직·간접 지원\n",
            "◎지원내용: ○ 무용예술인 직업개발 및 직업전환\n",
            " - 직업개발 : 무용 재활 트레이너, 공연기획자, 공연기술자, 무용평론가 등 직종에 진출할 수 있도록 직업 개발 및 교육비 지원\n",
            " - 직업전환 : 직업분야와 교육과정 제한 없이 교육비 지원(지원자 교육계획 심사 후 지원)\n",
            "○ 댄서스 잡마켓 : 무용단체와 구직(출연) 희망하는 무용수 연계하여 출연이 성사된 무용수에게 출연료 일부 지원\n",
            "○ 무용예술인 복지지원\n",
            " - 상해재활 지원 : 무용공연 또는 연습 중 상해를 입은 무용수에게 의료기관 또는 재활치료기관에서 치료를 받을 수 있도록 진료와 치료비 지원\n",
            " - 상해예방 지원 : 무용수의 부상예방을 위해 재활트레이너 파견 및 운동처치실 운영\n",
            "\n",
            "\n",
            "\n",
            "취업·직장>근로복지>근로자 지원||취업·직장>교육/훈련>직업교육훈련/취업준비교육||창업·경영>업종별민원>협회/단체/기타서비스업\n",
            "◎지원대상: ○ 무용수 : 국공시도립 무용단체 및 민간 무용단체 소속 무용수, 프리랜서(독립 무용수) 및 안무가, 대학 무용전공 졸업생\n",
            "○ 무용단체 : 국공시도립 무용단체 및 민간무용단체, 순수 무용예술 공연단체\n",
            "\n",
            "근로자||기업인||중소기업/소상공인||기관/시설||일반\n",
            "◎대상연령시작: 19\n",
            "◎대상연령끝: 70\n",
            "◎시도: 전국\n",
            "◎시군구: None\n",
            "◎중위소득: None\n",
            "◎관심상황특성: \n",
            "◎대상특성: 해당사항없음\n",
            "◎대상특성상세: \n",
            "◎MB_15: 기업금융지원,개인금융지원,의료 지원,취업 지원\n",
            "◎소관기관유형: 공\n",
            "◎지원유형: 지원유형    의료지원\\n\\n현금/현물||교육/용역\n",
            "지원유형              의료지원,현금,현물\n",
            "Name: 87966, dtype: object\n",
            "◎지원유형상세: 현금(전체)\n",
            "◎신청절차: 신청절차    ○ 전문무용수지원센터 홈페이지를 통한 온라인 신청\\n - 온라인 신청 후 전문무용수...\n",
            "신청절차                                                  온라인\n",
            "Name: 87966, dtype: object\n",
            "◎성별: 무관\n",
            "◎결혼: 무관\n",
            "◎학력: 대학(원)졸업\n",
            "◎가구원: 무관\n",
            "◎자녀: 없음\n",
            "◎자녀상세: 없음\n",
            "◎직장: 대학/대학원생,중소기업,프리랜서\n",
            "◎직장상세: 대학생\n",
            "\n",
            "22개가 7.0값으로 최적의 정책임\n"
          ]
        }
      ]
    },
    {
      "cell_type": "code",
      "source": [
        "recommendation2(['여성', 27, '경기도', '파주시', '대학(원)졸업', '근로자/직장인', '', '미혼', '없음', None, '중위소득 40% 이하, 중위소득 40 ~ 60% 사이','근로자 지원, 개인금융지원, 문화생활 지원, 주택-부동산 지원, 의료 지원'])"
      ],
      "metadata": {
        "colab": {
          "base_uri": "https://localhost:8080/"
        },
        "id": "ld-uOkfkoImH",
        "outputId": "9ca40014-71c7-4f53-a7ab-b88a8071a89b"
      },
      "execution_count": null,
      "outputs": [
        {
          "output_type": "stream",
          "name": "stdout",
          "text": [
            "===================user 정보=================\n",
            "성별: 여성\n",
            "나이: 27\n",
            "시도: 경기도\n",
            "시군구: 파주시\n",
            "학력: 대학(원)졸업\n",
            "직장: 근로자/직장인\n",
            "가구원: \n",
            "결혼: 미혼\n",
            "자녀: 없음\n",
            "자녀상세: None\n",
            "중위소득: 중위소득 40% 이하, 중위소득 40 ~ 60% 사이\n",
            "관심정책: 근로자 지원, 개인금융지원, 문화생활 지원, 주택-부동산 지원, 의료 지원\n",
            "\n",
            "23개가 16.0값으로 최적의 정책임\n",
            "=====================policy 정보=================\n",
            "◎정책ID: 740\n",
            "◎정책서비스ID: B55353000001\n",
            "◎서비스명: 에너지바우처 사업\n",
            "◎소관기관: 산업통상자원부\n",
            "◎소관기관유형.1: 중앙정부\n",
            "◎생애주기: 영·유아||아동·청소년||청년||중장년||노년기\n",
            "◎정책의_신청절차: ㅇ 방문신청 : 주민등록상 거주지 읍·면·동 행정복지센터를 방문하여 수급자 본인 또는 대리인 신청\n",
            "ㅇ 직권신청 : 담당 공무원이 전화 등을 통해 대상자의 동의를 얻어 직권신청 가능\n",
            "ㅇ 온라인 신청 : 복지로 온라인 신청(online.bokjiro.go.kr)에서 신청 가능\n",
            "◎선정기준: \n",
            "◎정책의_지원유형: 이용권\n",
            "◎서비스목적: 에너지 취약계층의 시원한 여름과 따뜻한 겨울을 지원하고자 전기, 도시가스, 지역난방, 등유, LPG, 연탄을 구입할 수 있는 바우처(이용권) 지급\n",
            "◎지원내용: ㅇ 가구원 수를 고려하여 가구당 금액을 차등 지급\n",
            "\n",
            " - 1인 가구 : 96,500원 (여름 7,000원 + 겨울 89,500원)\n",
            " - 2인 가구 : 136,500원 (여름 10,000원 + 겨울 126,500원)\n",
            " - 3인 이상 가구 : 170,500원 (여름 15,000원  + 겨울 155,500원)\n",
            " - 4인 이상 가구 :  191,000원 (여름 15,000원 + 겨울 176,000원)\n",
            "\n",
            "20210521~20211231\n",
            "\n",
            "생활·병역>생활지원>장애인||생활·병역>생활지원>저소득층||생활·병역>생활지원>한부모/조손가정||생활·병역>생활지원>소년소녀가정||건강·의료·사망>의료지원>저소득층\n",
            "◎대상연령시작: 0\n",
            "◎대상연령끝: 99\n",
            "◎시도: 전국\n",
            "◎시군구: \n",
            "◎중위소득: \n",
            "◎관심상황특성: \n",
            "◎대상특성: 장애인, 질병/부상/질환자, 한부모가정/조손가정\n",
            "◎대상특성상세: 중증·난치·희귀질환자\n",
            "◎지원유형상세: \n",
            "◎신청절차: 무관\n",
            "◎성별: 여성\n",
            "◎결혼: 무관\n",
            "◎학력: 무관\n",
            "◎직장: 무관\n",
            "◎직장상세: \n",
            "◎가구원: 무관\n",
            "◎자녀: 없음\n",
            "◎자녀상세: 영유아\n",
            "◎지원유형: 이용권\n",
            "◎MB_15: \n",
            "\n",
            "=====================policy 정보=================\n",
            "◎정책ID: 750\n",
            "◎정책서비스ID: GES000000150\n",
            "◎서비스명: 방과후학교 자유수강권\n",
            "◎소관기관: 교육부\n",
            "◎소관기관유형.1: 중앙정부\n",
            "◎생애주기: \n",
            "◎정책의_신청절차: ○ 방문 신청 : 학생 또는 보호자가 읍면동 주민센터 방문\n",
            "\n",
            "○ 온라인 신청 : 학부모만 가능\n",
            "\n",
            "○ 행복 e 음(사회복지통합관리망)을 통해 소득·재산 조사 결과를 학교(NEIS)에 통보, 학교가 지원 대상자 선정\n",
            "◎선정기준: ○ 우선지원 대상자, 소득에 따른 지원, 학교장의 추천을 받은 자, 기타의 순으로 지원\n",
            "◎정책의_지원유형: 이용권\n",
            "◎서비스목적: 저소득층 자녀의 자기 계발 촉진 및 학업성취도 개선을 도모하여 교육의 공공성 제고 및 계층 간 교육격차를 완화하기 위함\n",
            "◎지원내용: ○ 학생 1인당 연간 60만 원 내외에서 방과후학교 수강료(강사료,도서구입비,재료구입비,수용비 포함) 지원\n",
            "◎대상연령시작: 0\n",
            "◎대상연령끝: 99\n",
            "◎시도: 전국\n",
            "◎시군구: \n",
            "◎중위소득: 0,10,20,30,40,50,60\n",
            "◎관심상황특성: 개인교육지원\n",
            "◎대상특성: 해당사항없음\n",
            "◎대상특성상세: 해당사항없음\n",
            "◎지원유형상세: \n",
            "◎신청절차: 무관\n",
            "◎성별: 무관\n",
            "◎결혼: 무관\n",
            "◎학력: 무관\n",
            "◎직장: 무관\n",
            "◎직장상세: \n",
            "◎가구원: 무관\n",
            "◎자녀: 없음\n",
            "◎자녀상세: 해당사항없음\n",
            "◎지원유형: 이용권\n",
            "◎MB_15: \n",
            "\n",
            "=====================policy 정보=================\n",
            "◎정책ID: 877\n",
            "◎정책서비스ID: SD0000005394\n",
            "◎서비스명: 양육비 이행지원 서비스 제공\n",
            "◎소관기관: 여성가족부\n",
            "◎소관기관유형.1: 중앙정부\n",
            "◎생애주기: \n",
            "◎정책의_신청절차: ○ 방문, 전화, 온라인 신청\n",
            " - 양육비 관련 상담\n",
            " - 전 배우자 등에 대한 소득, 재산조사\n",
            " - 양육비 청구 소송 등 법률 지원\n",
            " - 양육비 이행 강제\n",
            " - 제재 조치 및 지속적 모니터링\n",
            "◎선정기준: ○ 아동을 양육하고 있는 이혼가족, 미혼모·부 가족 등 한 부모가족 및 조손가족\n",
            "◎정책의_지원유형: 기타||상담/법률지원\n",
            "◎서비스목적: 미성년 자녀의 양육비 청구와 이행확보 지원을 통해 한부모 가정 자녀의 안정적 성장 환경 조성\n",
            "◎지원내용: ○ 양육비 관련, 상담에서 협의, 소송 및 추심, 양육비 이행 및 모니터링, 자녀 인지 청구 소송 등\n",
            "◎대상연령시작: 0\n",
            "◎대상연령끝: 99\n",
            "◎시도: 전국\n",
            "◎시군구: \n",
            "◎중위소득: \n",
            "◎관심상황특성: \n",
            "◎대상특성: 한부모가정/조손가정\n",
            "◎대상특성상세: 해당사항없음\n",
            "◎지원유형상세: 기타(상담)\n",
            "◎신청절차: 무관\n",
            "◎성별: 여성\n",
            "◎결혼: 이혼,미혼\n",
            "◎학력: 무관\n",
            "◎직장: 무관\n",
            "◎직장상세: \n",
            "◎가구원: 무관\n",
            "◎자녀: 없음\n",
            "◎자녀상세: 해당사항없음\n",
            "◎지원유형: 상담/법률지원,기타\n",
            "◎MB_15: \n",
            "\n",
            "=====================policy 정보=================\n",
            "◎정책ID: 948\n",
            "◎정책서비스ID: SD0000016138\n",
            "◎서비스명: 지역사회서비스\n",
            "◎소관기관: 보건복지부\n",
            "◎소관기관유형.1: 중앙정부\n",
            "◎생애주기: \n",
            "◎정책의_신청절차: 주민등록 거주지 읍면동 행복복지센터에 방문신청\n",
            "◎선정기준: ○ 지원 대상 : 기준 중위소득 120% 이하\n",
            " - 소득 예외기준 : 일부 노인 장애인의 경우 기준 중위소득 140% 이하 이거나 기초연금 수급자 및 소득기준 없음\n",
            "\n",
            " ※ 기준중위소득 120%\n",
            "   2인가구 : 3,706천원\n",
            "   3인가수 : 4,781천원 \n",
            "   4인가구 : 5,852천원\n",
            "   5인가구 : 6,909천원\n",
            "   6인가구 : 7,954천원\n",
            "\n",
            "○ 연령 기준 : 서비스별 상이\n",
            "◎정책의_지원유형: 이용권\n",
            "◎서비스목적: 전자바우처 서비스를 통해 사회서비스 이용을 활성화하고 이용자의 욕구에 맞는 사회서비스 선택권을 보장하도록 하여 국민의 복지증진\n",
            "◎지원내용: ○ 지원내용 : 서비스별 정부지원금 차등 지원\n",
            "\n",
            "○ 지원방법 : 매월 말일 바우처 지원금액 생성되어 서비스 제공 후 결제\n",
            "\n",
            "※ 지자체별 서비스 운영이 상이함으로 반드시 지자체(읍면동 및 시청, 구청, 군청) 문의 바랍니다.\n",
            "◎대상연령시작: 0\n",
            "◎대상연령끝: 99\n",
            "◎시도: 전국\n",
            "◎시군구: \n",
            "◎중위소득: 0,10,20,30,40,50,60,70,80,90,100,110,120,130,140,150,160\n",
            "◎관심상황특성: \n",
            "◎대상특성: 해당사항없음\n",
            "◎대상특성상세: 해당사항없음\n",
            "◎지원유형상세: \n",
            "◎신청절차: 오프라인\n",
            "◎성별: 무관\n",
            "◎결혼: 무관\n",
            "◎학력: 무관\n",
            "◎직장: 무관\n",
            "◎직장상세: \n",
            "◎가구원: 무관\n",
            "◎자녀: 없음\n",
            "◎자녀상세: 해당사항없음\n",
            "◎지원유형: 이용권\n",
            "◎MB_15: \n",
            "\n",
            "=====================policy 정보=================\n",
            "◎정책ID: 81214\n",
            "◎정책서비스ID: PTR000050740\n",
            "◎서비스명: 장애발생 예방교육\n",
            "◎소관기관: 보건복지부\n",
            "◎소관기관유형.1: 중앙행정기관\n",
            "◎생애주기: 아동·청소년||청년||중장년||노년기\n",
            "◎정책의_신청절차: ○ 교육신청방법 \n",
            " -장애 발생 예방교육 담당자와 전화로 가접수 한 다음 교육 인원, 대상, 일자, 소속 등을 기록한 공문 또는 신청서를 E-mail 또는 FAX 송부 \n",
            "\n",
            "○ 교육신청 문의 \n",
            " - 담당 : 이임규(TEL : 02-901-1585, FAX : 02-901-1655) \n",
            " - E-mail : lik1155@korea.kr \n",
            "\n",
            "※ 교육을 실시하기 위해선 반드시 장애 발생 예방교육 담당자와 전화 상담이 필요함\n",
            "◎선정기준: \n",
            "◎정책의_지원유형: 교육/용역\n",
            "◎서비스목적: 후천적 장애발생 예방에 필요한 지식 습득으로 사고에 의한 장애 발생 예방 및 장애인 인식개선 도모를 위한 서비스입니다.\n",
            "◎지원내용: ○ 교육내용\n",
            " - 장애인 강사 사고 사례 소개\n",
            " - 장애 발생 예방을 위한 올바른 태도와 습관 형성\n",
            " - 장애 발생 예방 5계명, 생활주변 사고 발생 예방법 교육\n",
            " - 장애의 올바른 이해와 신체의 중요성 인식\n",
            " - 장애 인식개선 교육\n",
            "\n",
            "○ 교육비\n",
            " - 1회당 10만원(교육신청기관 부담 50%, 국립재활원 지원 50%)\n",
            " - 국립재활원 지원 예산 소진 시 교육신청기관 부담 100%\n",
            "\n",
            "\n",
            "\n",
            "결혼·육아·교육>중학교/고등학교>교외활동||결혼·육아·교육>유치원/초등학교>교외활동||환경·재난>예방/대비>재해예방\n",
            "◎대상연령시작: 6\n",
            "◎대상연령끝: 99\n",
            "◎시도: 전국\n",
            "◎시군구: \n",
            "◎중위소득: \n",
            "◎관심상황특성: \n",
            "◎대상특성: 장애인\n",
            "◎대상특성상세: 해당사항없음\n",
            "◎지원유형상세: \n",
            "◎신청절차: 온라인\n",
            "◎성별: 무관\n",
            "◎결혼: 무관\n",
            "◎학력: 무관\n",
            "◎직장: 무관\n",
            "◎직장상세: \n",
            "◎가구원: 무관\n",
            "◎자녀: 없음\n",
            "◎자녀상세: 초중고 학생,어린이집,유치원\n",
            "◎지원유형: 기타\n",
            "◎MB_15: \n",
            "\n",
            "=====================policy 정보=================\n",
            "◎정책ID: 81626\n",
            "◎정책서비스ID: 132000000007\n",
            "◎서비스명: 범인검거 등 공로자 보상금 지급\n",
            "◎소관기관: 경찰청\n",
            "◎소관기관유형.1: 중앙행정기관\n",
            "◎생애주기: 아동·청소년||청년||중장년||노년기\n",
            "◎정책의_신청절차: \n",
            "◎선정기준: \n",
            "◎정책의_지원유형: 민원안내\n",
            "◎서비스목적: 범인검거 등 공로자 보상금 지급\n",
            "◎지원내용: ① 경찰청, 지방경찰청 및 경찰서 주무부서장은 보상 사유가 발생한 때에는 직권 또는 범인검거공로자, 테러범죄예방공로자의 신청에 의하여 위원회에 그 사항을 회부하여 심의·결정하도록 하여야 한다.  <개정 2014.12.1>\n",
            "\n",
            "② 위원회가 보상금액을 산정할 때에는 범죄의 경중, 테러범죄 예방의 기여도, 범죄피해의 정도, 범죄신고의 난이도, 기타 범인검거와 관련한 모든 사정을 고려하여 별표 1에서 별표 4까지의 각 기준에 따라 산정하되, 제5조 제10호에 규정된 범죄와 관련된 보상금액을 산정할 때에는 선거사범 신고보상금 지급지침에 따라 산정한다. 다만, 경찰청장 또는 경찰청장의 승인을 받은 지방경찰청장이 미리 보상금액을 정하여 수배할 경우에는 별표 1에서 별표 4까지의 지급기준에도 불구하고 예산의 범위내에서 금액을 결정할 수 있다.  <개정 2014.12.1>\n",
            "\n",
            "③ 위원회는 보상금의 지급을 심의하기 위하여 필요한 사항에 관해서 관계인 등을 조사할 수 있다.\n",
            "\n",
            "④ 위원회의 결정은 전체 위원의 과반수 이상의 찬성으로 정한다.\n",
            "\n",
            "\n",
            "\n",
            "폭력·범죄·중독>범죄>범죄\n",
            "◎대상연령시작: 6\n",
            "◎대상연령끝: 99\n",
            "◎시도: 전국\n",
            "◎시군구: \n",
            "◎중위소득: \n",
            "◎관심상황특성: \n",
            "◎대상특성: 해당사항없음\n",
            "◎대상특성상세: 해당사항없음\n",
            "◎지원유형상세: \n",
            "◎신청절차: 무관\n",
            "◎성별: 무관\n",
            "◎결혼: 무관\n",
            "◎학력: 무관\n",
            "◎직장: 무관\n",
            "◎직장상세: \n",
            "◎가구원: 무관\n",
            "◎자녀: 없음\n",
            "◎자녀상세: 해당사항없음\n",
            "◎지원유형: 민원\n",
            "◎MB_15: \n",
            "\n",
            "=====================policy 정보=================\n",
            "◎정책ID: 81992\n",
            "◎정책서비스ID: PTR000051904\n",
            "◎서비스명: 필수예방접종 사전 알림 안내\n",
            "◎소관기관: 질병관리청\n",
            "◎소관기관유형.1: 중앙행정기관\n",
            "◎생애주기: 청년||중장년\n",
            "◎정책의_신청절차: ○ 방문 : 가까운 보건소 예방접종실 또는 질병관리본부 예방접종관리과\n",
            "\n",
            "○ 휴대폰 문자 전송에 의한 필수예방접종 사전 알림 서비스 이용 절차\n",
            " - 필수예방접종을 위해 보건소나 의료기관을 방문하여 <예방접종 예진표> 작성 시 예방접종 확인 및 다음 접종 사전 알림 수신에 동의합니다.\n",
            " - 필수예방접종 사전 알림을 받을 휴대폰 번호를 예방접종 예진표에 정확히 기록합니다.\n",
            " - 휴대전화 번호가 변경된 경우 접종 받았던 의료기관, 가까운 보건소 예방접종실 또는 질병관리본부 예방접종관리과(043-719-8397~8399)에 변경된 번호로 수정 요청합니다.\n",
            "◎선정기준: \n",
            "◎정책의_지원유형: 정보제공\n",
            "◎서비스목적: 필수예방접종 대상 아동 부모가 아이의 예방접종을 지연하거나 누락하지 않고 접종할 수 있도록 다음 필수예방접종 접종시기를 사전에 알리는 서비스입니다.\n",
            "◎지원내용: ○ 필수예방접종 지원 대상 백신(17종) : BCG(피내용), B형간염, DTaP(디프테리아,파상풍,백일해), IPV(폴리오), Td(파상풍,디프테리아), Tdap(파상풍,디프테리아,백일해), DTaP-IPV(디프테리아,파상풍,백일해,폴리오), DTaP-IPV/Hib(디프테리아,파상풍,백일해,폴리오,b형헤모필루스인플루엔자),  Hib(b형헤모필루스인플루엔자), PCV(폐렴구균), MMR(홍역,유행성이하선염,풍진), 수두, A형간염, 일본뇌염 불활성화 백신, 일본뇌염 약독화 생백신, HPV(사람유두종바이러스감염증), Flu(인플루엔자)\n",
            "\n",
            "○ 사전 알림 주체 : 특별자치도지사 또는 시장, 군수, 구청장\n",
            "\n",
            "○ 사전 알림 방법\n",
            " - 휴대폰에 의한 문자 전송 : 예방접종을 위해 보건소나 의료기관을 방문하여 <예방접종 예진표> 작성 시 예방접종 확인 및 다음 접종 사전 알림 수신에 동의한 경우 서비스를 제공받을 수 있습니다.\n",
            " - 전자메일, 전화, 우편 등\n",
            " - 해당 지방자치단체의 인터넷 홈페이지에 공고\n",
            "\n",
            "\n",
            "\n",
            "건강·의료·사망>예방/검사>예방접종||결혼·육아·교육>보육/교육지원>건강검진/예방접종\n",
            "◎대상연령시작: 19\n",
            "◎대상연령끝: 70\n",
            "◎시도: 전국\n",
            "◎시군구: \n",
            "◎중위소득: \n",
            "◎관심상황특성: \n",
            "◎대상특성: 해당사항없음\n",
            "◎대상특성상세: 해당사항없음\n",
            "◎지원유형상세: 기타(상담)\n",
            "◎신청절차: 무관\n",
            "◎성별: 무관\n",
            "◎결혼: 무관\n",
            "◎학력: 무관\n",
            "◎직장: 무관\n",
            "◎직장상세: \n",
            "◎가구원: 무관\n",
            "◎자녀: 없음\n",
            "◎자녀상세: 해당사항없음\n",
            "◎지원유형: 기타\n",
            "◎MB_15: \n",
            "\n",
            "=====================policy 정보=================\n",
            "◎정책ID: 82018\n",
            "◎정책서비스ID: PTR000051470\n",
            "◎서비스명: 성범죄자 취업제한 제도\n",
            "◎소관기관: 여성가족부\n",
            "◎소관기관유형.1: 중앙행정기관\n",
            "◎생애주기: 아동·청소년||청년||중장년||노년기\n",
            "◎정책의_신청절차: \n",
            "◎선정기준: \n",
            "◎정책의_지원유형: 정보제공\n",
            "◎서비스목적: 아동. 청소년 또는 성인 대상 성범죄자가 아동. 청소년 관련 기관 등에 취업(운영 및 사실상 노무 제공 포함) 할 수 없도록 제한하여 아동. 청소년을 성범죄로부터 예방합니다.\n",
            "◎지원내용: 1. 성범죄자 취업제한 제도란?\n",
            "\n",
            "아동·청소년대상 성범죄* 또는 성인대상 성범죄**로 형이나 치료감호를 선고받아 확정된 자는 징역형(또는 치료감호)이 종료되거나 집행이 유예된 날, 벌금형이 확정된 날부터 일정기간 동안 아동·청소년 관련기관 등을 운영하거나 아동·청소년 관련기관 등에 취업(노무제공 포함)을 할 수 없습니다.\n",
            "(「아동·청소년의 성보호에 관한 법률」 제56조)\n",
            "* 아동·청소년 대상 성범죄자 : ’06.6.30 이후 아동·청소년대상 성범죄를 범하여 형이 확정된 자\n",
            "** 성인 대상 성범죄자 : ’10.4.15. 이후 성인대상 성범죄를 범하여 형이 확정된 자\n",
            "\n",
            "2. 아동·청소년 및 성인 대상 성범죄\n",
            "\n",
            "아동·청소년 및 성인을 대상으로 하는 강간·추행 관련 범죄, 디지털 성범죄, 성매매 범죄 등을 말합니다.\n",
            "\n",
            "○ 강간, 강제추행, 미성년자 간음·추행, 업무상위력에 의한 간음·추행 등 강간·추행 관련 범죄\n",
            "○ 아동·청소년이용 음란물 제작·배포·소지, 카메라 등 이용 촬영, 통신매체이용 음란, 음화반포·제조 등 디지털 성범죄\n",
            "○ 아동·청소년 성매수, 인신매매, 성매매 유인·권유·강요·알선 등 성매매 범죄\n",
            "○ 13세 이상 16세 미만 아동·청소년에 대한 간음 등((「아동·청소년의 성보호에 관한 법률」제 8조의 2)\n",
            "○ 기타 공연음란, 성적목적공공장소침입죄 등\n",
            "(「아동·청소년의 성보호에 관한 법률」 제2조)\n",
            "\n",
            "3. 취업제한 대상자/기간\n",
            "\n",
            "○ 법원에서 성범죄 판결과 동시에 취업제한 명령을 선고받은 자 (최대 10년간 취업제한)\n",
            "○ ’18.7.17. 이전에 성범죄로 형이 확정된 자 (형량에 따라 취업제한 기간 5·3·1년 차등 적용)\n",
            "\n",
            "4. 취업제한 대상기관 (법 제56조 제1항 참조)\n",
            "○ 유치원, 초. 중, 고등학교, 학원, 교습소, 개인과외교습자\n",
            "○ 어린이집, 아동복지시설, 체육시설\n",
            "○ 청소년 보호. 재활센터, 청소년활동시설, 청소년쉼터, 청소년 상담복지센터\n",
            "○ 성매매 피해 상담소, 청소년지원시설, 공동주택관리사무소(경비업무 종사자만 해당)\n",
            "○ 의료기관(의료인 : 의사, 치과의사, 한의사, 간호사, 조산사), 가정방문 등 학습교사 사업장(아동청소년에게 직접 교육서비스를 제공하는 사람에 한함), 경비업 법인(경비업무 종사자만 해당), 인터넷컴퓨터게임시설 제공업소(일반 PC방), 복합유통게임 제공업소(멀티방). 청소년 게임 제공업소(일반 오락실), 청소년실을 갖춘 노래방 업소, 청소년활동 기획 업소, 대중문화예술기획 업소\n",
            "○ 대안교육 위탁교육기관\n",
            "○ 대학, 시·도교육청·교육지원청이 「초·중등교육법」 제28조에 따라 직접 설치·운영하거나 위탁하여 운영하는 학생상담 지원시설 또는 위탁교육시설, 「아동복지법」 제37조의 통합서비스 수행기관, 「장애인등에 대한 특수교육법」 제11조의 특수교육지원센터, 제28조의 관련서비스를 제공하는 기관·단체('18.7.17.부터 시행)\n",
            "○ 「지방교육자치법」제32조에 따른 아동청소년 대상기관(유아교육진흥원, 어린이회관, 과학교육원 등)('18.9.14.부터 시행)\n",
            "○ 「지방자치법」144조  공공시설중 아동청소년이용시설, 「지방교육자치법」32조  교육기관중 아동청소년대상기관('18.9.14.부터 시행)\n",
            "○ 학교밖청소년지원센터, 어린이급식관리지원센터, 제주국제학교('20.5.27. 부터 시행)\n",
            "\n",
            "4. 취업제한 대상기관의 의무사항\n",
            "○ 성범죄 경력 조회 확인 의무\n",
            "- 아동·청소년 관련 기관 등의 장은 그 기관에 취업 중이거나 사실상 노무를 제공 중인 자 또는 취업하려 하거나 사실상 노무를 제공하려는 자에 대하여 반드시 성범죄 경력 조회를 경찰서에 신청하고 성범죄 경력 조회 회신서를 받아 성범죄 경력 유무를 확인하여야 합니다.\n",
            "\n",
            "\n",
            "\n",
            "폭력·범죄·중독>폭력>성폭력\n",
            "◎대상연령시작: 6\n",
            "◎대상연령끝: 99\n",
            "◎시도: 전국\n",
            "◎시군구: \n",
            "◎중위소득: \n",
            "◎관심상황특성: \n",
            "◎대상특성: 기관/시설\n",
            "◎대상특성상세: 해당사항없음\n",
            "◎지원유형상세: 기타(상담)\n",
            "◎신청절차: 무관\n",
            "◎성별: 무관\n",
            "◎결혼: 무관\n",
            "◎학력: 무관\n",
            "◎직장: 무관\n",
            "◎직장상세: \n",
            "◎가구원: 무관\n",
            "◎자녀: 없음\n",
            "◎자녀상세: 해당사항없음\n",
            "◎지원유형: 기타\n",
            "◎MB_15: \n",
            "\n",
            "=====================policy 정보=================\n",
            "◎정책ID: 82113\n",
            "◎정책서비스ID: GEF000000060\n",
            "◎서비스명: 다문화 가족 지원\n",
            "◎소관기관: 여성가족부\n",
            "◎소관기관유형.1: 중앙행정기관\n",
            "◎생애주기: 아동·청소년||청년||중장년||노년기\n",
            "◎정책의_신청절차: 방문하여 구비서류 제출\n",
            "◎선정기준: 결혼이민자, 배우자, 자녀 등 다문화 가족\n",
            "◎정책의_지원유형: 상담/법률지원\n",
            "\n",
            "교육/용역||정보제공\n",
            "◎서비스목적: 다문화 가족의 안정적인 정착과 가족생활을 지원하기 위해 가족교육, 상담, 한국어 문화 프로그램, 자녀 지원, 직업교육 등 서비스 제공을 통해 결혼이민자의 한국 사회 조기 적응 및 다문화 가족의 안정적인 가족생활 지원\n",
            "◎지원내용: ○ 한국어 교육(집합/방문) : 생활언어를 익히고 문화를 이해할 수 있도록 체계적 단계별 한국어교육 실시\n",
            "\n",
            "○ 다문화 가족 통합교육(집합/방문)\n",
            " - 다문화 가족 구성원 간 가족 내 역할 및 가족문화에 대한 이해 향상 교육 \n",
            " - 가족, 배우자, 부부, 자녀 등 대상을 세분화하여 적합한 가족관계 증진 교육 제공\n",
            " - 언어문화 차이 등으로 자녀 양육에 어려움을 겪고 있는 결혼이민자에게 부모교육 서비스 제공\n",
            " - 학업성취가 낮고 자아, 정서, 사회성 발달에서 어려움을 겪고 있는 다문화 가족 자녀에게 자녀생활서비스 제공\n",
            "\n",
            "○ 상담 : 다문화 가족 부부, 부모, 자녀 관계 개선 및 가족갈등 등 관련 상담을 통해 다문화 가족의 내부 스트레스 완화 및 가족의 건강성 증진\n",
            "\n",
            "○ 다문화가족 사례관리 서비스 :  다문화가족의 복잡하고 다양한 문제해결 및 욕구 해소를 위한 심리, 정서적 안정 및 자립역량 강화 지원 등 맞춤형 종합서비스 제공\n",
            "\n",
            "○ 다문화 가족 취업연계 및 교육지원 : 다문화 가족의 경제활동 참여를 위해 지역특성 및 결혼이민자의 수요 등을 고려하여 취업연계 준비 프로그램 운영\n",
            "\n",
            "○ 문화 사업 : 다문화 가족 나눔 봉사단, 다문화 가족 자조모임\n",
            "\n",
            "○ 자녀 언어발달지원 사업 : 다문화 가족 자녀의 성장단계별 언어발달 정도를 진단/평가하고 언어 향상을 위해 교육 프로그램을 제공하는 서비스\n",
            "\n",
            "○ 통/번역 서비스 사업 : 결혼이민자 및 그 가족의 초기 생활 적응에 필요한 의사소통을 지원하기 위해 제공하는 통역 및 번역 서비스\n",
            "\n",
            "\n",
            "○ 지역 사회 네트워크 강화 : 지역사회 내 다문화 가족지원 사업이 통합적, 체계적, 효율적으로 추진될 수 있도록 서비스 전달 체계 구축 및 서비스 제공 기관 연계\n",
            "\n",
            "\n",
            "\n",
            "취업·직장>취업지원>다문화/외국인||생활·병역>생활지원>정착지원||결혼·육아·교육>보육/교육지원>다문화/북한이탈주민/외국인\n",
            "◎대상연령시작: 6\n",
            "◎대상연령끝: 99\n",
            "◎시도: 전국\n",
            "◎시군구: \n",
            "◎중위소득: \n",
            "◎관심상황특성: 개인교육지원\n",
            "◎대상특성: 다문화가족, 외국인/재외국인\n",
            "◎대상특성상세: 해당사항없음\n",
            "◎지원유형상세: 기타(상담)\n",
            "◎신청절차: 오프라인\n",
            "◎성별: 무관\n",
            "◎결혼: 무관\n",
            "◎학력: 무관\n",
            "◎직장: 무관\n",
            "◎직장상세: \n",
            "◎가구원: 무관\n",
            "◎자녀: 없음\n",
            "◎자녀상세: 해당사항없음\n",
            "◎지원유형: 상담/법률지원,기타\n",
            "◎MB_15: \n",
            "\n",
            "=====================policy 정보=================\n",
            "◎정책ID: 82173\n",
            "◎정책서비스ID: PTR000051430\n",
            "◎서비스명: 대한민국 자동출입국심사 서비스\n",
            "◎소관기관: 법무부\n",
            "◎소관기관유형.1: 중앙행정기관\n",
            "◎생애주기: 아동·청소년||청년||중장년||노년기\n",
            "◎정책의_신청절차: ○ 자동출입국심사대가 설치․운용되고 있는 공항만(인천국제공항, 김포국제공항, 김해국제공항, 제주국제공항, 청주국제공항, 대구국제공항, 부산·인천항 국제여객터미널)에서 이용 가능합니다.\n",
            "\n",
            "○  사전등록 없이 이용 가능한 사람은 별도 등록 없이 바로 이용이 가능합니다. \n",
            " \n",
            "○  등록기관 및 장소\n",
            " - 인천공항․서울․부산․인천․수원․제주 출입국‧외국인청․서울남부․김해공항․대구․대전․광주․청주․김포공항출입국‧외국인사무소, 인천공항출입국‧외국인청 서울역․도심공항출장소 등 지정된 장소\n",
            "\n",
            "○  신청 준비물\n",
            " - 복수여권(공통), 외국인등록증(등록외국인), 국내거소신고증(외국국적동포), 승무원 등록 요청 공문 등 대상별 요건 증빙서류\n",
            "\n",
            "○  생체정보 등록\n",
            " - 지문등록은 원칙적으로 양손 집게손가락 지문을 사용\n",
            " - 단, 지문 훼손 등으로 곤란한 경우 엄지손가락, 가운뎃손가락, 약손가락, 새끼손가락의 순으로 등록\n",
            " - 얼굴정보는 정보화기기에 부착된 카메라를 이용하여 상반신 정면 얼굴을 촬영하는 방법으로 등록\n",
            "◎선정기준: ○  사전등록 없이 이용 가능자\n",
            " - 주민등록증을 발급받은 만 17세 이상 국민 중 자동출입국심사대 이용에 지장이 없는 사람 \n",
            " - 만 17세 이상 등록(거소) 외국인\n",
            " - 입국 시 지문 및 얼굴정보를 제공한 17세 이상 외국인 관광객으로 지정된 공‧항만(인천국제공항, 김포국제공항, 김해국제공항, 제주국제공항, 대구국제공항, 부산항)로 출국하는 자   \n",
            "\n",
            "○ 주민등록을 한 대한민국 국민으로서 자동출입국심사 이용을 위해 사전등록이 필요한 사람\n",
            " - 만 7세 이상 14세 미만의 아동으로서 법정대리인의 동의가 있는 사람\n",
            " - 만14세 이상 17세 미만인 사람 \n",
            " - 만 17세 이상으로 경찰청 지문정보가 전산화되지 않거나 경찰청 보유지문이 없는 사람\n",
            " - 이름‧생년월일 등 인적사항 정보가 변경되는 등 경찰청 연계정보와 여권정보가 일치하지 않는 사람\n",
            " - 주민등록증 발급 후 30년이 지난 사람(사전등록 권고)\n",
            "\n",
            "○ 17세 이상 외국인으로 자동출입국심사 이용을 위해 사전등록이 필요한 사람\n",
            " - 대한민국과 양해각서ㆍ협정 등을 체결하거나 그 밖의 방법으로 상호 간에 정보화기기를 이용한 출입국심사를 할 수 있도록 합의한 국가의 국민\n",
            " - 한국방문우대카드 소지자\n",
            " - 대한민국에 정기적으로 운항하는 항공기의 외국인 승무원\n",
            " - 사전등록 없이 이용 가능자 중 등록된 지문 또는 안면정보가 좋지 않은 등 사전등록이 필요한 자\n",
            "◎정책의_지원유형: 민원안내\n",
            "◎서비스목적: 사전에 여권 정보와 바이오 정보(지문, 안면)를 등록한 후 SMART ENTRY SERVICE 게이트에서 이를 활용하여 출입국 심사를 진행하는 첨단 출입국 심사시스템입니다.\n",
            "◎지원내용: 2초 이내에 출입국 심사를 마치는 편리한 제도로, 홍콩의 e-Gate, 네덜란드의 Privium, 미국의 Global Entry, 호주의 Smart Gate 등 약 40여 개국에서 자동출입국 심사대를 이용한 출입국심사를 실시하고 있습니다.\n",
            "\n",
            "○ Smart Entry Service 이용은 자발적으로 희망하는 사람을 대상으로 합니다.\n",
            "\n",
            "○ 이용 희망자는 여권 및 바이오정보(지문, 안면)을 사전에 등록해야 하며, 등록된 개인 정보 활용에 동의해야 합니다.\n",
            "\n",
            "○ Smart Entry Service 가입 희망자는\n",
            " - 17세 이상이어야 합니다.\n",
            " - 여권 자동 판독이 가능한 복수여권을 소지하고 있어야 합니다.\n",
            " - 지문 취득 및 얼굴 사진 촬영이 가능하고 취득한 바이오 정보로 본인확인이 가능해야 합니다.\n",
            " - 바이오 정보의 제공 및 활용에 동의하여야 합니다.\n",
            "\n",
            "○ 가입 부적격자\n",
            " - 지문의 상태가 좋지 않아 본인확인이 어려운 경우\n",
            " - 출입국관리법 제4조 제1항, 제29조 제1항, 제11조의 사유로 출입국이 규제된 경우\n",
            " - 최근 3년 이내 출입국관리법 위반으로 500만 원 이상의 범칙금 처분을 받은 외국인\n",
            " - 복수국적자로서 외국 여권으로 가입하고자 하는 국민\n",
            " - 등록 외국인 기록표, 재외국민 국내거소신고 표에 기재된 성명, 생년월일, 여권번호 등이 제시한 여권의 기재 내용과 다른 경우\n",
            "\n",
            "○ 가입해지\n",
            " - Smart Entry Service 이용자는 본인이 직접 등록센터를 방문하여 등록 해지 신청서를 제출하면 가입을 해지할 수 있습니다. 다음의 경우 이용이 중단될 수 있습니다\n",
            "  · 허위로 Smart Entry Service에 가입하여 부정 이용한 경우\n",
            "  · 가입 완료 이후에 부적격 사유가 발생한 경우\n",
            "  · 기타 사무소장, 출장소장이 이용이 부적당하다고 판단한 경우\n",
            "\n",
            "○ SES Auto-gate 이용 방법\n",
            " - 유아를 동반하여 이용하실 수 없습니다.\n",
            " - 사전 등록 대상 국민의 경우 등록 직후부터 여권 유효기간까지 Smart Entry Service 이용이 가능합니다.\n",
            "  · 단, 국민인 복수국적자는 여권 유효기간과 국적 선택 기간 중 짧은 기간까지 이용이 가능합니다\n",
            " - 등록을 마친 사람은 출입국시 Smart Entry Service 또는 일반 심사대에서 심사를 받을 수 있습니다.\n",
            " - Smart Entry Service를 이용하면 출입국심사인 날인 및 입국심사증 발급은 생략됩니다.  필요한 경우에는 출입국관리 공무원에게 요청하여 받을 수 있습니다.\n",
            "\n",
            "\n",
            "\n",
            "여가·문화·출입국>입국/출국>출입국 심사/등록||여가·문화·출입국>입국/출국>출입국증명\n",
            "◎대상연령시작: 7\n",
            "◎대상연령끝: 99\n",
            "◎시도: 전국\n",
            "◎시군구: \n",
            "◎중위소득: \n",
            "◎관심상황특성: \n",
            "◎대상특성: 외국인/재외국인\n",
            "◎대상특성상세: 해당사항없음\n",
            "◎지원유형상세: \n",
            "◎신청절차: 오프라인\n",
            "◎성별: 무관\n",
            "◎결혼: 무관\n",
            "◎학력: 무관\n",
            "◎직장: 무관\n",
            "◎직장상세: \n",
            "◎가구원: 무관\n",
            "◎자녀: 없음\n",
            "◎자녀상세: 영유아,어린이집,초중고 학생\n",
            "◎지원유형: 민원\n",
            "◎MB_15: \n",
            "\n",
            "=====================policy 정보=================\n",
            "◎정책ID: 82193\n",
            "◎정책서비스ID: 138300000024\n",
            "◎서비스명: 공동육아나눔터 운영\n",
            "◎소관기관: 여성가족부\n",
            "◎소관기관유형.1: 중앙행정기관\n",
            "◎생애주기: 영·유아||아동·청소년||청년||중장년||노년기\n",
            "◎정책의_신청절차: \n",
            "◎선정기준: \n",
            "◎정책의_지원유형: 시설이용\n",
            "◎서비스목적: 육아 공간 및 돌봄 프로그램 제공, 이웃 간 자녀 돌봄품앗이 활동 지원을 통해 \n",
            "양육 부담 경감 및 지역 사회 중심의 돌봄친화적 분위기 조성\n",
            "◎지원내용: ㅇ(공간 제공) 자녀 돌봄을 위한 안전한 공간 제공\n",
            "ㅇ(프로그램 운영) 부모와 자녀가 함께하는 부모참여형 프로그램 운영\n",
            "ㅇ(공동육아 지원) 지역사회 주민이 함께하는 품앗이 돌봄 공동체를 구성 운영하며 이를 촉진하기 위한 다양한 활동을 수행\n",
            "ㅇ(놀이활동 지원) 아이들의 성장과 발달 단계에 맞는 다양한 놀이 프로그램을 개발하고 놀이 활동을 촉진할 수 있는 교구 등을 지원\n",
            "\n",
            "\n",
            "\n",
            "결혼·육아·교육>보육/교육지원>아이돌봄지원\n",
            "◎대상연령시작: 0\n",
            "◎대상연령끝: 99\n",
            "◎시도: 전국\n",
            "◎시군구: \n",
            "◎중위소득: \n",
            "◎관심상황특성: \n",
            "◎대상특성: 해당사항없음\n",
            "◎대상특성상세: 해당사항없음\n",
            "◎지원유형상세: \n",
            "◎신청절차: 무관\n",
            "◎성별: 무관\n",
            "◎결혼: 무관\n",
            "◎학력: 무관\n",
            "◎직장: 무관\n",
            "◎직장상세: \n",
            "◎가구원: 무관\n",
            "◎자녀: 없음\n",
            "◎자녀상세: 해당사항없음\n",
            "◎지원유형: 이용권\n",
            "◎MB_15: \n",
            "\n",
            "=====================policy 정보=================\n",
            "◎정책ID: 83308\n",
            "◎정책서비스ID: PTR000050182\n",
            "◎서비스명: 대입정보포털\n",
            "◎소관기관: 한국대학교육협의회\n",
            "◎소관기관유형.1: 공공기관 등\n",
            "◎생애주기: 아동·청소년||청년||중장년\n",
            "◎정책의_신청절차: \n",
            "◎선정기준: \n",
            "◎정책의_지원유형: 상담/법률지원\n",
            "\n",
            "정보제공\n",
            "◎서비스목적: - 진로 및 대입정보(대학별/학과별/전형별)를 제공하는 대국민 서비스입니다.\n",
            "\n",
            "- 학생부성적, 수능/모의고사 성적분석 및 관리가 가능합니다.\n",
            "\n",
            "- 올해 내 점수 계산 결과와 전년도 대학발표 입시 결과를 활용하여 진로진학상담의 기초정보를 제공합니다.\n",
            "\n",
            "- 관심 대학 및 목표대학 관리가 가능합니다.\n",
            "\n",
            "- 온라인상담 게시판 및 전화 상담 안내가 가능합니다.\n",
            "◎지원내용: ○ 대입제도안내\n",
            "- 일반대학, 전문대학, 입시용어사전, 관련 사이트 안내\n",
            "\n",
            "○ 대학입학정보\n",
            "- 대학입시 주요 일정, 대학정보, 학과정보, 전형정보, 진로정보, 대입전략, 대입자료실, 대입뉴스, 대입정보매거진, 대학캐스트\n",
            "\n",
            "○ 학습진단\n",
            "- 성적관리, 성적분석, 목표대학관리\n",
            "\n",
            "○ 대입설명회\n",
            "- 대학입학정보박람회, 설명회 일정표\n",
            "\n",
            "○ 대입상담\n",
            "- 온라인대입상담, 온라인전공상담, 전화 상담 안내, 대입상담사례, 진로진학센터안내, 진로적성검사\n",
            "\n",
            "\n",
            "\n",
            "결혼·육아·교육>중학교/고등학교>진로와 입시||결혼·육아·교육>중학교/고등학교>상담/선도\n",
            "◎대상연령시작: 6\n",
            "◎대상연령끝: 70\n",
            "◎시도: 전국\n",
            "◎시군구: \n",
            "◎중위소득: \n",
            "◎관심상황특성: \n",
            "◎대상특성: 해당사항없음\n",
            "◎대상특성상세: 해당사항없음\n",
            "◎지원유형상세: 기타(상담)\n",
            "◎신청절차: 무관\n",
            "◎성별: 무관\n",
            "◎결혼: 무관\n",
            "◎학력: 무관\n",
            "◎직장: 무관\n",
            "◎직장상세: \n",
            "◎가구원: 무관\n",
            "◎자녀: 없음\n",
            "◎자녀상세: 해당사항없음\n",
            "◎지원유형: 상담/법률지원,기타\n",
            "◎MB_15: \n",
            "\n",
            "=====================policy 정보=================\n",
            "◎정책ID: 83503\n",
            "◎정책서비스ID: PTR000050640\n",
            "◎서비스명: 장애 아동 및 발달장애인 복지 지원 정보의 통합적 제공\n",
            "◎소관기관: 한국장애인개발원\n",
            "◎소관기관유형.1: 공공기관 등\n",
            "◎생애주기: 영·유아||아동·청소년||청년||중장년||노년기\n",
            "◎정책의_신청절차: ○ 맞춤형 정보의 통합적 제공\n",
            " - 장애 아동, 발달장애인과 관련된 복지 지원 정보의 통합적 제공\n",
            " - 분야별 지원 정보, 지역 맞춤 검색, 시설 정보, 백문 백답, 자료실 등\n",
            "\n",
            "○ 온라인 전문 소식지 제공(*매체면 : 채널 비로소)\n",
            " - 장애 아동, 발달장애인 가족을 위한 콘텐츠(뉴스, 정보, 지식 등) 제작 및 주간 메일링 서비스 제공\n",
            "\n",
            "○ 전문가 상담 제공\n",
            " - 분야별 전문 상담위원을 통한 신뢰도 높은 온라인 상담 제공\n",
            "◎선정기준: \n",
            "◎정책의_지원유형: 정보제공\n",
            "◎서비스목적: 장애 아동과 발달장애인 관련 정보제공을 통해 장애인 당사자와 가족의 합리적 의사결정을 지원\n",
            "◎지원내용: ○ 장애 아동과 발달장애인을 위한 모든 복지 서비스 한 번에 한 곳에서 편하게 안내받으실 수 있습니다\n",
            "\n",
            "○ 원스톱 복지 지원체계 구축\n",
            " - 장애 아동, 발달장애인을 위한 통합정보시스템 운영\n",
            " - 지역사회 복지자원 발굴, 관련 DB 구축\n",
            " - 유관기관 네트워크 연계 강화\n",
            " - 개인별 지원계획 통한 맞춤형 서비스 제공\n",
            "\n",
            "○ 선진적인 복지 서비스 개발 선도\n",
            " - 이용자 중심 복지 지원 연구 및 조사\n",
            " - 장애 아동, 발달장애인을 위한 신규 프로그램 개발, 보급\n",
            " - 서비스 모니터링 및 품질 관리\n",
            " - 서비스의 전문성 강화\n",
            "\n",
            "○ 권익 옹호 및 역량 강화 지원\n",
            " - 장애 아동, 발달장애인 가족을 위한 사회참여 기반 확충\n",
            " - 인권 신장 차별 구제 지원\n",
            " - 전문 자문위원회 운영 및 상담 제공\n",
            " - 전문 정보 매체 보급\n",
            "\n",
            "\n",
            "\n",
            "생활·병역>생활지원>장애인||결혼·육아·교육>보육/교육지원>장애인||결혼·육아·교육>보육/교육지원>보육지원\n",
            "◎대상연령시작: 0\n",
            "◎대상연령끝: 99\n",
            "◎시도: 전국\n",
            "◎시군구: \n",
            "◎중위소득: \n",
            "◎관심상황특성: \n",
            "◎대상특성: 장애인\n",
            "◎대상특성상세: 해당사항없음\n",
            "◎지원유형상세: 기타(상담)\n",
            "◎신청절차: 온라인\n",
            "◎성별: 무관\n",
            "◎결혼: 무관\n",
            "◎학력: 무관\n",
            "◎직장: 무관\n",
            "◎직장상세: \n",
            "◎가구원: 무관\n",
            "◎자녀: 없음\n",
            "◎자녀상세: 해당사항없음\n",
            "◎지원유형: 기타\n",
            "◎MB_15: \n",
            "\n",
            "=====================policy 정보=================\n",
            "◎정책ID: 83855\n",
            "◎정책서비스ID: B55252000016\n",
            "◎서비스명: 선택적 에너지 복지바우처 사업\n",
            "◎소관기관: 한국남부발전(주)\n",
            "◎소관기관유형.1: 공공기관 등\n",
            "◎생애주기: 청년||중장년||노년기\n",
            "◎정책의_신청절차: ○ 신청방법 : 읍/면사무소, 사회복지단체 주거환경개선 신청(전화 또는 방문)\n",
            "◎선정기준: ○ 발전소 주변 지역 (영월 군내) 생활환경 저소득층 거주자\n",
            "○ 저소득층 아동 가정 중심\n",
            "◎정책의_지원유형: 서비스이용권\n",
            "◎서비스목적: 발전소 인근 거주 에너지 빈곤층의 생활환경 개선으로 복리 증진 및 지역사회 공생발전에 기여\n",
            "◎지원내용: ○복지 사각지대 에너지 빈곤층의 노후 주거환경 개선 \n",
            " - 에너지 설비개선(보일러, 전기 설비)\n",
            " - 주거환경 개선(도배, 장판)\n",
            " - 주거생활 지원(책상,가구 등)\n",
            "\n",
            "\n",
            "\n",
            "생활·병역>생활지원>저소득층\n",
            "◎대상연령시작: 19\n",
            "◎대상연령끝: 99\n",
            "◎시도: 전국\n",
            "◎시군구: \n",
            "◎중위소득: \n",
            "◎관심상황특성: \n",
            "◎대상특성: 해당사항없음\n",
            "◎대상특성상세: 해당사항없음\n",
            "◎지원유형상세: \n",
            "◎신청절차: 무관\n",
            "◎성별: 무관\n",
            "◎결혼: 무관\n",
            "◎학력: 무관\n",
            "◎직장: 무관\n",
            "◎직장상세: \n",
            "◎가구원: 무관\n",
            "◎자녀: 없음\n",
            "◎자녀상세: 해당사항없음\n",
            "◎지원유형: 이용권\n",
            "◎MB_15: \n",
            "\n",
            "=====================policy 정보=================\n",
            "◎정책ID: 84030\n",
            "◎정책서비스ID: B55265300015\n",
            "◎서비스명: 국민기초생활보장 모의계산\n",
            "◎소관기관: 한국사회보장정보원\n",
            "◎소관기관유형.1: 공공기관 등\n",
            "◎생애주기: 아동·청소년||청년||중장년||노년기\n",
            "◎정책의_신청절차: \n",
            "◎선정기준: ○ 소득인정액(소득평가액+재산의 소득환산액) 기준\n",
            " - 생계급여 : 기준 중위소득 30% 이하\n",
            " - 의료급여 : 기준 중위소득 40% 이하\n",
            " - 주거급여 : 기준 중위소득 45% 이하\n",
            " - 교육급여 : 기준 중위소득 50% 이하\n",
            "◎정책의_지원유형: 정보제공\n",
            "◎서비스목적: 생계급여, 의료급여, 주거급여, 교육급여 대상 선정 여부 예측을 위한 모의계산 서비스 제공\n",
            "◎지원내용: 생계급여·의료급여·주거급여·교육급여 수급자 대상자 선정 가능성 확인\n",
            "\n",
            "\n",
            "\n",
            "생활·병역>생활지원>가계(생활)자금지원||건강·의료·사망>의료지원>저소득층||결혼·육아·교육>보육/교육지원>저소득층||주택·부동산>주택자금지원>주택자금 지원\n",
            "◎대상연령시작: 6\n",
            "◎대상연령끝: 99\n",
            "◎시도: 전국\n",
            "◎시군구: \n",
            "◎중위소득: 0,10,20,30,40,50\n",
            "◎관심상황특성: 개인교육지원\n",
            "◎대상특성: 해당사항없음\n",
            "◎대상특성상세: 해당사항없음\n",
            "◎지원유형상세: 기타(상담)\n",
            "◎신청절차: 무관\n",
            "◎성별: 무관\n",
            "◎결혼: 무관\n",
            "◎학력: 무관\n",
            "◎직장: 무관\n",
            "◎직장상세: \n",
            "◎가구원: 무관\n",
            "◎자녀: 없음\n",
            "◎자녀상세: 성인,영유아\n",
            "◎지원유형: 기타\n",
            "◎MB_15: \n",
            "\n",
            "=====================policy 정보=================\n",
            "◎정책ID: 84032\n",
            "◎정책서비스ID: B55265300017\n",
            "◎서비스명: 장애(아동) 수당 모의계산\n",
            "◎소관기관: 한국사회보장정보원\n",
            "◎소관기관유형.1: 공공기관 등\n",
            "◎생애주기: 아동·청소년||청년||중장년||노년기\n",
            "◎정책의_신청절차: \n",
            "◎선정기준: \n",
            "◎정책의_지원유형: 정보제공\n",
            "◎서비스목적: 장애(아동) 수당 대상 선정 여부의 예측을 위한 모의계산 서비스 제공\n",
            "◎지원내용: 장애(아동) 수당 모의계산을 통해 서비스 수혜 가능성 확인\n",
            "\n",
            "\n",
            "\n",
            "생활·병역>생활지원>장애인\n",
            "◎대상연령시작: 6\n",
            "◎대상연령끝: 99\n",
            "◎시도: 전국\n",
            "◎시군구: \n",
            "◎중위소득: 0,10,20,30,40,50\n",
            "◎관심상황특성: \n",
            "◎대상특성: 장애인\n",
            "◎대상특성상세: 해당사항없음\n",
            "◎지원유형상세: 기타(상담)\n",
            "◎신청절차: 무관\n",
            "◎성별: 무관\n",
            "◎결혼: 무관\n",
            "◎학력: 무관\n",
            "◎직장: 무관\n",
            "◎직장상세: \n",
            "◎가구원: 무관\n",
            "◎자녀: 없음\n",
            "◎자녀상세: 영유아,초중고 학생\n",
            "◎지원유형: 기타\n",
            "◎MB_15: \n",
            "\n",
            "=====================policy 정보=================\n",
            "◎정책ID: 84750\n",
            "◎정책서비스ID: PTR000050383\n",
            "◎서비스명: 아이행복카드 신청 및 발급\n",
            "◎소관기관: 한국사회보장정보원\n",
            "◎소관기관유형.1: 공공기관 등\n",
            "◎생애주기: 청년||중장년||노년기\n",
            "◎정책의_신청절차: ○ 온라인 \n",
            " - 보조금 신청 : 정부 보조금을 신청하면 어린이집 보육료와 유치원 유아학비 인증이 가능합니다.\n",
            " - 보조금 신청서 : 복지로 홈페이지(www.bokjiro.go.kr)\n",
            " - 카드 발급 : 7개 카드사(KB 국민, 우리, 하나, NH농협, 비씨, 롯데) 중 원하시는 카드사를 선택해서 발급/연회비 무료\n",
            " - 카드 발급처 : 7개 카드사 홈페이지, 복지로 홈페이지(www.bokjiro.go.kr), 임신육아종합포털 아이사랑(www.childcare.go.kr)\n",
            "\n",
            "○ 오프라인\n",
            " - 보조금 신청 : 정부 보조금을 신청하면 어린이집 보육료와 유치원 유아학비 인증이 가능합니다.\n",
            " - 보조금 신청서 : 읍면동 주민센터\n",
            " - 카드 발급 : 7개 카드사(KB 국민, 우리, 하나, NH농협, 비씨, 롯데) 중 원하시는 카드사를 선택해서 발급/연회비 무료\n",
            " - 카드 발급처 : 7개 카드사 및 은행 지점 방문\n",
            "\n",
            "○ 정부보육료 미지원 아동의 아이행복카드 신청\n",
            " - 정부보육료 미지원아동이 아이행복카드발급을 원할 경우 자율적으로 신청 및 발급 가능\n",
            "◎선정기준: \n",
            "◎정책의_지원유형: 민원안내\n",
            "\n",
            "정보제공\n",
            "◎서비스목적: 소득, 연령 등 일정한 조건을 갖춘 부모에게 서비스 이용권을 전자카드(아이행복카드)에 담아 보육서비스를 이용할 수 있도록 지원\n",
            "◎지원내용: ○ 보육 정책의 체감도를 높이고 수요자 중심 보육정책을 실현하기 위하여, 보육료를 어린이집에 지급하는 대신에 전자카드 형태로 부모에게 직접 지급하여 어린이집을 이용하면서 결제하도록 하는 아이사랑 카드 제도를 도입(09. 9월~)\n",
            "\n",
            "○ 2015년 1월부터는 보육료ㆍ유아학비 지원 카드 통합 사업 실시로 KB 국민, 우리, 하나, NH농협, 신한, 비씨, 롯데카드로 아이행복카드 사업자가 확대됨 \n",
            "\n",
            "○ 보육료를 지원받고자 하는 영유아의 부모는 KB 국민, 우리, 하나, NH농협, 신한, 비씨, 롯데카드 중 선호하는 금융기관을 선택하여 아이행복카드의 발급이 가능함\n",
            "\n",
            "○ 카드 발급 유형\n",
            " - 아이행복카드는 신용, 체크, 전용 카드 3가지 형태로 신용도에 따라 신용 또는 체크카드 중 선택 가능하며, 전용 카드는 아동 단독세대, 복지시설 입소아동, 보호시설 입소 동반 아동, 신용불량자에 한하여 읍면동 주민센터 또는 금융사 영업점에서 신청 가능함\n",
            "  1) 아이행복 신용카드\n",
            "   - 발급기관 : KB 국민, 우리, 하나, 신한, NH농협, 롯데, BC(IBK 기업은행, 스탠다드차타드은행, 대구은행, 부산은행, 경남은행, 전북은행, 수협은행, 광주은행, 제주은행)\n",
            "   - 대상 : 주민등록상 세대를 같이 하는 신용도가 양호한 보호자\n",
            "  2) 아이행복 체크카드\n",
            "   - 발급기관 : KB 국민, 우리, 하나, 신한, NH농협, 롯데, BC(IBK 기업은행, 스탠다드차타드은행, 대구은행, 부산은행, 경남은행, 전북은행, 수협은행, 우체국, 광주은행, 제주은행, 신협, 현대증권)\n",
            "   - 대상 : 주민등록상 세대를 같이 하는 보호자(본인 선택 또는 신용카드를 신청하였으나 신용 미달로 신용카드 발급이 불가능한 경우)\n",
            "  3) 아이행복 전용 카드\n",
            "   - 아동 단독세대, 복지시설 입소아동, 보호시설 입소 동반 아동, 신용불량자에 한하여 읍면동 주민센터에서 신청 가능하며, 법원에서 계좌 압류 결정문을 받은 경우 등은 금융사 영업점을 통해서도 전용 카드 발급이 가능함\n",
            "\n",
            "※ 단, 보육료는 반드시 읍면동 주민센터에서 신청해야 함\n",
            "\n",
            "○ 다자녀일 경우\n",
            " - 다자녀일 경우 1개의 아이행복카드로 가구 내 모든 아동에 대해 개별 결제 가능\n",
            "\n",
            "○ 기존 아이사랑카드 소지자\n",
            " - 기존 아이사랑카드는 카드 교체 없이 어린이집에서 계속 사용 가능\n",
            "\n",
            "○ 카드발급 거부자\n",
            " - 정부보육료를 아이행복카드에 담아 지원하므로 카드발급 거부 시 영유아보육법시행규칙 제35조의3에 의해 정부보육료지원에 제한이 있음\n",
            "\n",
            "\n",
            "\n",
            "결혼·육아·교육>보육/교육지원>보육지원\n",
            "◎대상연령시작: 19\n",
            "◎대상연령끝: 99\n",
            "◎시도: 전국\n",
            "◎시군구: \n",
            "◎중위소득: \n",
            "◎관심상황특성: \n",
            "◎대상특성: 다자녀가정, 기관/시설\n",
            "◎대상특성상세: 해당사항없음\n",
            "◎지원유형상세: 기타(상담)\n",
            "◎신청절차: 무관\n",
            "◎성별: 무관\n",
            "◎결혼: 무관\n",
            "◎학력: 무관\n",
            "◎직장: 무관\n",
            "◎직장상세: \n",
            "◎가구원: 무관\n",
            "◎자녀: 없음\n",
            "◎자녀상세: 어린이집\n",
            "◎지원유형: 민원,기타\n",
            "◎MB_15: \n",
            "\n",
            "=====================policy 정보=================\n",
            "◎정책ID: 85081\n",
            "◎정책서비스ID: B50000100042\n",
            "◎서비스명: K-water 사회 공헌 서비스(행복 가득水)\n",
            "◎소관기관: 한국수자원공사\n",
            "◎소관기관유형.1: 공공기관 등\n",
            "◎생애주기: 청년||중장년||노년기\n",
            "◎정책의_신청절차: 우편\n",
            "◎선정기준: 시공 내용의 적절성 등 자체 평가 기준에 따라 현장실사 후 운영위원회에서 선정\n",
            "◎정책의_지원유형: 교육/용역\n",
            "◎서비스목적: 취약계층의 노후주택 및 복지시설에 대한 물 사용 환경 개선으로 건강한 물 공급 실현 및 실질적인 삶의 질 향상 도모\n",
            "◎지원내용: ○ 전국의 복지시설 등 취약계층의 노후화된 물 사용 시설 개선 지원\n",
            "\n",
            "○ 사회복지공동모금회 파트너십을 통해 사업 위탁 실시\n",
            "\n",
            "○ 사업내용 : 수도배관 교체 및 세관 공사 등, 노후화 수도시설 개선, 옥외 수도 시설 내부 이전, 단열·도배, 창호 등 부대 환경개선 공사\n",
            "\n",
            "\n",
            "\n",
            "생활·병역>생활지원>센터/시설이용지원||주택·부동산>거주/시설지원>기타거주/시설지원\n",
            "◎대상연령시작: 19\n",
            "◎대상연령끝: 99\n",
            "◎시도: 전국\n",
            "◎시군구: \n",
            "◎중위소득: \n",
            "◎관심상황특성: \n",
            "◎대상특성: 기관/시설\n",
            "◎대상특성상세: 해당사항없음\n",
            "◎지원유형상세: \n",
            "◎신청절차: 오프라인\n",
            "◎성별: 무관\n",
            "◎결혼: 무관\n",
            "◎학력: 무관\n",
            "◎직장: 무관\n",
            "◎직장상세: \n",
            "◎가구원: 무관\n",
            "◎자녀: 없음\n",
            "◎자녀상세: 해당사항없음\n",
            "◎지원유형: 기타\n",
            "◎MB_15: \n",
            "\n",
            "=====================policy 정보=================\n",
            "◎정책ID: 85881\n",
            "◎정책서비스ID: B55264000020\n",
            "◎서비스명: 유족연금수급권 이전 대상 및 신청 방법 안내 서비스\n",
            "◎소관기관: 공무원연금공단\n",
            "◎소관기관유형.1: 공공기관 등\n",
            "◎생애주기: 아동·청소년||청년||중장년||노년기\n",
            "◎정책의_신청절차: 공단 홈페이지(www.geps.or.kr)→민원․제안→각종 서식→ 연금수급자용 서식에서 퇴직유족연금수급권 이전신청서를 작성하여 주소지 관할 지부로 우편 또는 방문신청\n",
            "◎선정기준: 공무원연금법 제3조에 의한 유족(동 순위 또는 차순위)\n",
            "1. 유족연금을 받을 유족의 순위 자녀> 손자녀> 부모> 조부모순이고 배우자는 우선순위와 동 순위\n",
            "2. 동 순위자 유족수급권 상실시 같은 순위에 이전\n",
            "3. 동 순위자가 모두 수급권 상실시 차순위자에게 이전\n",
            "◎정책의_지원유형: 정보제공\n",
            "◎서비스목적: 공무원연금법에 의한 유족연금수급자 사망 시 동 순위 및 차순위 수급권 이전 신청방법을 안내하여 연금수급권 상실 예방\n",
            "◎지원내용: 퇴직유족연금수급권 이전 신청대상 및 신청방법\n",
            "\n",
            "\n",
            "\n",
            "금융·세금·법률>연금>연금 기타||건강·의료·사망>사망/장례지원>유언/상속처리\n",
            "◎대상연령시작: 6\n",
            "◎대상연령끝: 99\n",
            "◎시도: 전국\n",
            "◎시군구: \n",
            "◎중위소득: \n",
            "◎관심상황특성: \n",
            "◎대상특성: 해당사항없음\n",
            "◎대상특성상세: 해당사항없음\n",
            "◎지원유형상세: 기타(상담)\n",
            "◎신청절차: 무관\n",
            "◎성별: 무관\n",
            "◎결혼: 무관\n",
            "◎학력: 무관\n",
            "◎직장: 무관\n",
            "◎직장상세: \n",
            "◎가구원: 무관\n",
            "◎자녀: 없음\n",
            "◎자녀상세: 해당사항없음\n",
            "◎지원유형: 기타\n",
            "◎MB_15: \n",
            "\n",
            "=====================policy 정보=================\n",
            "◎정책ID: 87295\n",
            "◎정책서비스ID: SD0000003339\n",
            "◎서비스명: 다문화 가족 및 북한이탈주민에 대한 법 문화 교육사업\n",
            "◎소관기관: 대한법률구조공단\n",
            "◎소관기관유형.1: 공공기관 등\n",
            "◎생애주기: 청년||중장년||노년기\n",
            "◎정책의_신청절차: 교육이 필요한 다문화 가족지원센터, 지역적응센터에서 온라인으로 신청\n",
            "◎선정기준: 다문화 가족(결혼이주여성, 배우자, 친족, 자녀), 북한이탈주민\n",
            "◎정책의_지원유형: 상담/법률지원\n",
            "\n",
            "교육/용역\n",
            "◎서비스목적: 다문화 가족 및 북한이탈주민에 대하여 대한민국 기본법질서를 비롯한 일상생활에서 지켜야 할 기초질서, 경제활동에 이르기까지 맞춤형 법 문화 교육을 실시해 국내 조기 정착 지원\n",
            "◎지원내용: 국내 조기 정착 지원을 위한 무료 법 문화 교육 실시\n",
            "\n",
            "\n",
            "\n",
            "금융·세금·법률>상담/법률구제>고충상담\n",
            "◎대상연령시작: 19\n",
            "◎대상연령끝: 99\n",
            "◎시도: 전국\n",
            "◎시군구: \n",
            "◎중위소득: \n",
            "◎관심상황특성: \n",
            "◎대상특성: 다문화가족, 북한이탈주민\n",
            "◎대상특성상세: 해당사항없음\n",
            "◎지원유형상세: \n",
            "◎신청절차: 온라인\n",
            "◎성별: 여성\n",
            "◎결혼: 무관\n",
            "◎학력: 무관\n",
            "◎직장: 무관\n",
            "◎직장상세: \n",
            "◎가구원: 무관\n",
            "◎자녀: 없음\n",
            "◎자녀상세: 해당사항없음\n",
            "◎지원유형: 상담/법률지원\n",
            "◎MB_15: \n",
            "\n",
            "=====================policy 정보=================\n",
            "◎정책ID: 87624\n",
            "◎정책서비스ID: B55264000019\n",
            "◎서비스명: 퇴직유족연금 승계 대상 및  신청 방법 안내 서비스\n",
            "◎소관기관: 공무원연금공단\n",
            "◎소관기관유형.1: 공공기관 등\n",
            "◎생애주기: 아동·청소년||청년||중장년||노년기\n",
            "◎정책의_신청절차: 공단 홈페이지(www.geps.or.kr)→민원․제안→각종 서식→연금수급자용 서식에서 퇴직유족연금 승계 신청서를 주소지 관할 지부 우편 또는 방문신청\n",
            "◎선정기준: 1. 유족의 범위 (공무원연금법 제3조)\n",
            "   - 배우자, 부모, 19세 미만의 자녀․손자녀, 19세 이상 장해(장해 등급 제1급~제7급 해당자) 자녀․손자녀\n",
            "2. 유족 순위 : 민법 제1000조에 따른 상속순위 \n",
            "   - 자녀 > 손자녀 > 부모 > 조부모 순 (배우자는 1순위와 동 순위) 3. 동 순위자가 2명 이상인 경우에는 대표자를 선정하거나 각각 청구\n",
            "◎정책의_지원유형: 정보제공\n",
            "◎서비스목적: 「공무원연금법」에 의한 퇴직(장해)연금수급자 사망 시 그 유족의 안정된 노후생활과 수혜상실 예방을 위해, 퇴직유족연금 대상 및 승계신청방법 안내\n",
            "◎지원내용: 퇴직유족연금 승계대상 및 신청방법\n",
            "\n",
            "\n",
            "\n",
            "금융·세금·법률>연금>연금 기타||건강·의료·사망>사망/장례지원>유언/상속처리\n",
            "◎대상연령시작: 6\n",
            "◎대상연령끝: 99\n",
            "◎시도: 전국\n",
            "◎시군구: \n",
            "◎중위소득: \n",
            "◎관심상황특성: \n",
            "◎대상특성: 해당사항없음\n",
            "◎대상특성상세: 해당사항없음\n",
            "◎지원유형상세: 기타(상담)\n",
            "◎신청절차: 무관\n",
            "◎성별: 무관\n",
            "◎결혼: 무관\n",
            "◎학력: 무관\n",
            "◎직장: 무관\n",
            "◎직장상세: \n",
            "◎가구원: 무관\n",
            "◎자녀: 없음\n",
            "◎자녀상세: 성인,영유아\n",
            "◎지원유형: 기타\n",
            "◎MB_15: \n",
            "\n",
            "=====================policy 정보=================\n",
            "◎정책ID: 87937\n",
            "◎정책서비스ID: B55264800014\n",
            "◎서비스명: 미디어교육 시설·단체 지원\n",
            "◎소관기관: 한국언론진흥재단\n",
            "◎소관기관유형.1: 공공기관 등\n",
            "◎생애주기: 청년||중장년||노년기\n",
            "◎정책의_신청절차: 공문 및 이메일을 통한 접수 : 전자공문 제출 불가한 경우 공문을 이메일에 첨부하여 제출\n",
            "◎선정기준: \n",
            "◎정책의_지원유형: 교육/용역\n",
            "◎서비스목적: 소외계층 및 취약계층 대상 NIE 지원으로 미디어 정보복지 증진 및 평등성 구현\n",
            "학부모와 자녀가 함께 할 수 있는 가정 내 NIE 저변 확대 (계속사업)\n",
            "◎지원내용: ○ 취약계층 및 소외계층 청소년들의 교육복지 및 정보복지 증진\n",
            "\n",
            "○ 복지시설, 지역교육청 학부모 지원센터, 공공 도서관 등에 미디어교육 강사를 파견하여 아동·청소년·중장년·노년층 대상 미디어교육 및 가정에서 부모와 자녀가 함께할 수 있는 미디어교육 운영\n",
            " - 1處당 1,500만원 이내\n",
            "\n",
            "\n",
            "\n",
            "창업·경영>업종별민원>공공/행정/국방/방위산업||창업·경영>업종별민원>보건업/사회복지사업||생활·병역>생활지원>센터/시설이용지원||주택·부동산>거주/시설지원>기타거주/시설지원\n",
            "◎대상연령시작: 19\n",
            "◎대상연령끝: 99\n",
            "◎시도: 전국\n",
            "◎시군구: \n",
            "◎중위소득: \n",
            "◎관심상황특성: \n",
            "◎대상특성: 기관/시설\n",
            "◎대상특성상세: 해당사항없음\n",
            "◎지원유형상세: \n",
            "◎신청절차: 온라인\n",
            "◎성별: 무관\n",
            "◎결혼: 무관\n",
            "◎학력: 무관\n",
            "◎직장: 무관\n",
            "◎직장상세: \n",
            "◎가구원: 무관\n",
            "◎자녀: 없음\n",
            "◎자녀상세: 해당사항없음\n",
            "◎지원유형: 기타\n",
            "◎MB_15: \n",
            "\n",
            "=====================policy 정보=================\n",
            "◎정책ID: 87960\n",
            "◎정책서비스ID: PTR000050794\n",
            "◎서비스명: 학교 알리미\n",
            "◎소관기관: 한국교육학술정보원\n",
            "◎소관기관유형.1: 공공기관 등\n",
            "◎생애주기: 아동·청소년||청년||중장년||노년기\n",
            "◎정책의_신청절차: \n",
            "◎선정기준: \n",
            "◎정책의_지원유형: 정보제공\n",
            "◎서비스목적: 학교 알리미는 국민과 학부모님이 궁금해하는 학교 전반의 주요 정보를 객관적이고 투명하게 공개하는 학교정보공시 웹사이트로, 국민의 알 권리를 보장하고 학교 교육 실태를 정확하게 파악하여 학교 교육의 질을 높이고자 합니다.\n",
            "◎지원내용: ○ 학교 알리미 제공 정보\n",
            "\n",
            "1. 학생 현황 : 학생 재학 현황, 전, 출입 및 학업중단 학생 수, 입학생 현황, 졸업생 진로 및 장학금 수혜 현황, 학생의 체력 증진에 관한 사항\n",
            "\n",
            "2. 교원 현황 : 직위별 교원 현황, 자격 종별 교원 현황\n",
            "\n",
            "3. 교육활동 : 각종 규정, 교육계획 편성 운영, 학교 운영위원회, 동아리 활동 및 방과 후 활동 등\n",
            "\n",
            "4. 교육여건 : 학교 시설 및 개방 현황, 학교급식에 관한 사항, 학교폭력대책 및 학생 학부모 상담실적, 학교보건 및 환경위생 현황, 학교 도서관, \n",
            "\n",
            "5. 예·결산 현황 : 학교회계 예, 결산서, 학교발전기금, 교복 구매 유형 및 단가\n",
            "\n",
            "6. 학업성취도 : 학년별 교과별 성적 사항, 국가수준 학업성취도 평가 응시 현황\n",
            "\n",
            "※위 항목은 「교육 관련 기관의 정보공개에 관한 특례법 시행령」 제3조에 따라 최종 고시일부터 3년간 공시됩니다.\n",
            "\n",
            "\n",
            "\n",
            "결혼·육아·교육>공공지식>행정기관정보||결혼·육아·교육>중학교/고등학교>진로와 입시||결혼·육아·교육>유치원/초등학교>취학\n",
            "◎대상연령시작: 6\n",
            "◎대상연령끝: 99\n",
            "◎시도: 전국\n",
            "◎시군구: \n",
            "◎중위소득: \n",
            "◎관심상황특성: \n",
            "◎대상특성: 해당사항없음\n",
            "◎대상특성상세: 해당사항없음\n",
            "◎지원유형상세: 기타(상담)\n",
            "◎신청절차: 무관\n",
            "◎성별: 무관\n",
            "◎결혼: 무관\n",
            "◎학력: 무관\n",
            "◎직장: 무관\n",
            "◎직장상세: \n",
            "◎가구원: 무관\n",
            "◎자녀: 없음\n",
            "◎자녀상세: 해당사항없음\n",
            "◎지원유형: 기타\n",
            "◎MB_15: \n",
            "\n",
            "23개가 16.0값으로 최적의 정책임\n"
          ]
        }
      ]
    }
  ]
}